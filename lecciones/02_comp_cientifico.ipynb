{
 "cells": [
  {
   "cell_type": "markdown",
   "id": "9b48b2ca-21cf-4ad7-b4cd-6a8c459ba7a5",
   "metadata": {},
   "source": [
    "# Pensamiento Computacional con Python.\n",
    "\n",
    "<p xmlns:cc=\"http://creativecommons.org/ns#\" xmlns:dct=\"http://purl.org/dc/terms/\"><a property=\"dct:title\" rel=\"cc:attributionURL\" href=\"https://github.com/repomacti/pensamiento_computacional\">Pensamiento Computacional a Python</a> by <a rel=\"cc:attributionURL dct:creator\" property=\"cc:attributionName\" href=\"https://gmc.geofisica.unam.mx/luiggi\">Luis Miguel de la Cruz Salas</a> is licensed under <a href=\"https://creativecommons.org/licenses/by-sa/4.0/?ref=chooser-v1\" target=\"_blank\" rel=\"license noopener noreferrer\" style=\"display:inline-block;\">CC BY-SA 4.0<img style=\"height:22px!important;margin-left:3px;vertical-align:text-bottom;\" src=\"https://mirrors.creativecommons.org/presskit/icons/cc.svg?ref=chooser-v1\" alt=\"\"><img style=\"height:22px!important;margin-left:3px;vertical-align:text-bottom;\" src=\"https://mirrors.creativecommons.org/presskit/icons/by.svg?ref=chooser-v1\" alt=\"\"><img style=\"height:22px!important;margin-left:3px;vertical-align:text-bottom;\" src=\"https://mirrors.creativecommons.org/presskit/icons/sa.svg?ref=chooser-v1\" alt=\"\"></a></p> "
   ]
  },
  {
   "cell_type": "markdown",
   "id": "b9be881e-09bf-4932-93fc-ca8dcdec52d1",
   "metadata": {},
   "source": [
    "# Numpy.\n",
    "\n",
    "Es una biblioteca de Python que permite crear y gestionar arreglos multidimensionales, junto con una gran colección de funciones matemáticas de alto nivel que operan sobre estos arreglos. [Numpy](https://numpy.org/) es una biblioteca que es la base para muchos desarrollos científicos. \n",
    "\n",
    "Para usar todas las herramientas de numpy debemos importar la biblioteca como sigue:"
   ]
  },
  {
   "cell_type": "code",
   "execution_count": null,
   "id": "172065a1-9023-419b-9010-f89019f47c1e",
   "metadata": {},
   "outputs": [],
   "source": [
    "import numpy as np\n",
    "np.version.version"
   ]
  },
  {
   "cell_type": "markdown",
   "id": "86dcb7f7-7061-4362-8aa4-8e09fc212ffe",
   "metadata": {},
   "source": [
    "## Creación de arreglos simples\n",
    "\n",
    "Los arreglos en numpy se pueden crear a partir de un escalar o secuencias simples de Python, particularmente usando listas o tuplas. Los arreglos resultarán en:\n",
    "\n",
    "1. Arreglos de dimensión $0$, cuando se usa un escalar.\n",
    "2. Arreglos de dimensión $1$, cuando se usa una lista o tupla simple.\n",
    "3. Arreglos de dimensión $2$, cuando se usa una lista de listas (o tuplas).\n",
    "4. Arreglos de dimensión mayor a $2$, con listas anidadas. En este caso se conocen como `ndarray`, aunque en todos los casos anteriors los arreglos son de este tipo."
   ]
  },
  {
   "cell_type": "markdown",
   "id": "fb58e289-f99e-4ef1-945e-47140e8b14d2",
   "metadata": {},
   "source": [
    "### Ejemplo 1. `dim = 0`\n",
    "\n",
    "Un arreglo de dimensión $0$ se crea de la siguiente manera:"
   ]
  },
  {
   "cell_type": "code",
   "execution_count": null,
   "id": "dfd61acf-aaef-4914-af72-417c13408589",
   "metadata": {
    "tags": []
   },
   "outputs": [],
   "source": [
    "x = np.array(5)"
   ]
  },
  {
   "cell_type": "markdown",
   "id": "f82d553b-7bb8-4e6b-a189-f55a269ca25c",
   "metadata": {
    "tags": []
   },
   "source": [
    "Los arreglos tienen varios atributos que se pueden consultar como sigue:"
   ]
  },
  {
   "cell_type": "code",
   "execution_count": null,
   "id": "f157b5f7-52cf-4be3-859e-d9a5d3d28cb7",
   "metadata": {
    "tags": []
   },
   "outputs": [],
   "source": [
    "print(x)\n",
    "print(type(x))    # tipo de x\n",
    "print(x.dtype)    # tipo de cada elemento de x\n",
    "print(x.ndim)     # dimensión del arreglo\n",
    "print(x.shape)    # forma del arreglo\n",
    "print(x.itemsize) # tamaño de cada elemento de x\n",
    "print(x.size)     # total de elementos de x"
   ]
  },
  {
   "cell_type": "markdown",
   "id": "2417c991-dea3-4389-a319-64ba5ea2b8bf",
   "metadata": {},
   "source": [
    "Para obtener la información del arreglo de una manera más fácil, definimos la siguiente función que extrae dichos atributos y los imprime en pantalla:"
   ]
  },
  {
   "cell_type": "code",
   "execution_count": null,
   "id": "f9e14f64-9714-4c4d-9c48-97129e67d9e1",
   "metadata": {
    "tags": []
   },
   "outputs": [],
   "source": [
    "# Función para obtener los atributos de arreglos\n",
    "info_array = lambda x: print(f' tipo  : {type(x)} \\n dtype : {x.dtype} \\n dim   : {x.ndim} \\n shape : {x.shape} \\n size(bytes) : {x.itemsize} \\n size(elements) : {x.size}')"
   ]
  },
  {
   "cell_type": "code",
   "execution_count": null,
   "id": "5c48ecee-43da-4307-9569-43bcb2afae1f",
   "metadata": {
    "tags": []
   },
   "outputs": [],
   "source": [
    "info_array(x)"
   ]
  },
  {
   "cell_type": "markdown",
   "id": "a66f5d55-4dd5-462c-a119-15a69303544c",
   "metadata": {},
   "source": [
    "Un arreglo de dimensión $0$ se puede usar básicamente como un escalar."
   ]
  },
  {
   "cell_type": "markdown",
   "id": "c17ba648-14be-4a56-a239-928423f99d7b",
   "metadata": {},
   "source": [
    "### Ejemplo 2. `dim = 1`\n",
    "\n",
    "Crear un arreglo de dimensión $1$ que contenga los números del 1 al 10 usando las siguientes funciones:\n",
    "* `np.array`\n",
    "* `np.arange`\n",
    "* `np.linspace`\n",
    "* `np.zeros` \n",
    "* `np.ones`"
   ]
  },
  {
   "cell_type": "markdown",
   "id": "0e7d79ef-1599-416c-8a29-651cf42915a2",
   "metadata": {},
   "source": [
    "#### `np.array()`"
   ]
  },
  {
   "cell_type": "code",
   "execution_count": null,
   "id": "a1df9b5c-a637-459f-9191-3288ae8659ea",
   "metadata": {
    "tags": []
   },
   "outputs": [],
   "source": [
    "x = np.array([1,2,3,4,5,6,7,8,9,10])\n",
    "x"
   ]
  },
  {
   "cell_type": "code",
   "execution_count": null,
   "id": "ece86883-4e16-47e0-8643-59e966b8e2c5",
   "metadata": {
    "tags": []
   },
   "outputs": [],
   "source": [
    "info_array(x)"
   ]
  },
  {
   "cell_type": "markdown",
   "id": "d9746a30-d32e-4a07-9733-fb2c5a94b400",
   "metadata": {},
   "source": [
    "Explicando un poco más la información que se obtiene del arreglo tenemos que: el arreglo es de tipo `numpy.ndarray`; el tipo de los elementos del arreglo es `int32`; su dimensión es `1`; su forma es `(10,)` lo que significa que tiene $10$ elementos en la primera dimensión, que en este caso solo es una; el tamaño en bytes de cada elemento es de `4`; y finalmente el tamaño total de elementos del arreglo es `10`."
   ]
  },
  {
   "cell_type": "markdown",
   "id": "6fcedc90-38e0-444e-b4a9-ba7a9733e26a",
   "metadata": {},
   "source": [
    "#### `np.arange()`"
   ]
  },
  {
   "cell_type": "code",
   "execution_count": null,
   "id": "e47c6e30-e7f1-4a59-9b47-99432f411b6e",
   "metadata": {
    "tags": []
   },
   "outputs": [],
   "source": [
    "# Funciona similar a range()\n",
    "x = np.arange(10)\n",
    "x"
   ]
  },
  {
   "cell_type": "code",
   "execution_count": null,
   "id": "48baf95f-64b1-4e4a-9ed4-1b6a318bc56b",
   "metadata": {
    "tags": []
   },
   "outputs": [],
   "source": [
    "# Podemos usar (start, stop, step)\n",
    "x = np.arange(1,11,1)\n",
    "x"
   ]
  },
  {
   "cell_type": "code",
   "execution_count": null,
   "id": "c6549bc3-4517-482b-81b9-e482f61db2a7",
   "metadata": {
    "tags": []
   },
   "outputs": [],
   "source": [
    "info_array(x)"
   ]
  },
  {
   "cell_type": "markdown",
   "id": "9f650b51-16bc-4568-9ec4-e4bf487200cf",
   "metadata": {},
   "source": [
    "La función `np.arange()` acepta parámetros flotantes:"
   ]
  },
  {
   "cell_type": "code",
   "execution_count": null,
   "id": "e6d6cf9b-7ad7-4d9d-8543-e7b0d0111ff5",
   "metadata": {
    "tags": []
   },
   "outputs": [],
   "source": [
    "xf = np.arange(1, 11, 1.0)\n",
    "xf"
   ]
  },
  {
   "cell_type": "code",
   "execution_count": null,
   "id": "da6f8454-39d7-461a-8bd2-c96d92646e21",
   "metadata": {
    "tags": []
   },
   "outputs": [],
   "source": [
    "info_array(xf)"
   ]
  },
  {
   "cell_type": "code",
   "execution_count": null,
   "id": "0d958fc9-eb71-4933-aa61-2c54633202d5",
   "metadata": {
    "tags": []
   },
   "outputs": [],
   "source": [
    "xf = np.arange(0.3, 0.7, 0.12)\n",
    "xf"
   ]
  },
  {
   "cell_type": "markdown",
   "id": "bd75f298-0a42-4a27-ae76-ad5619080010",
   "metadata": {},
   "source": [
    "#### `np.linspace()`"
   ]
  },
  {
   "cell_type": "code",
   "execution_count": null,
   "id": "45b9dd42-475d-4209-af4f-7a61f2ebd1d2",
   "metadata": {
    "tags": []
   },
   "outputs": [],
   "source": [
    "# Los argumentos son (start, stop, num), de esta manera \n",
    "# se genera un número exacto de elementos\n",
    "x = np.linspace(1,10,10)\n",
    "x"
   ]
  },
  {
   "cell_type": "code",
   "execution_count": null,
   "id": "39d4b189-b973-4a34-854b-097978553468",
   "metadata": {
    "tags": []
   },
   "outputs": [],
   "source": [
    "info_array(x)"
   ]
  },
  {
   "cell_type": "markdown",
   "id": "35c2cce9-d245-461d-abe3-659b7fcae23b",
   "metadata": {},
   "source": [
    "Con `np.linspace` es posible generar un número exacto de elementos, por ejemplo:"
   ]
  },
  {
   "cell_type": "code",
   "execution_count": null,
   "id": "6eb4612d-6fed-4dad-bfaa-bd6349c32ac5",
   "metadata": {
    "tags": []
   },
   "outputs": [],
   "source": [
    "xf = np.linspace(0.3, 0.7, 6)\n",
    "xf"
   ]
  },
  {
   "cell_type": "markdown",
   "id": "f4d5baee-d8ae-4423-9c65-44ec22c774d8",
   "metadata": {},
   "source": [
    "#### `np.zeros()`\n",
    "\n",
    "Construye un arreglo con elementos de tipo `float` todos igual cero."
   ]
  },
  {
   "cell_type": "code",
   "execution_count": null,
   "id": "d5870baa-c8e1-4901-a0a1-9b3c08fe44b6",
   "metadata": {
    "tags": []
   },
   "outputs": [],
   "source": [
    "x = np.zeros(10)\n",
    "x"
   ]
  },
  {
   "cell_type": "code",
   "execution_count": null,
   "id": "223edb5d-3249-41ac-a931-8c6fc01a8841",
   "metadata": {
    "tags": []
   },
   "outputs": [],
   "source": [
    "info_array(x)"
   ]
  },
  {
   "cell_type": "markdown",
   "id": "2eb67234-333e-41b0-87e2-c3f34abf6035",
   "metadata": {},
   "source": [
    "Después de crear un arreglo de ceros, mediante el uso de un ciclo generamos los valores de 1 a 10:"
   ]
  },
  {
   "cell_type": "code",
   "execution_count": null,
   "id": "adb75703-c49d-4b99-aba1-6076133bb500",
   "metadata": {
    "tags": []
   },
   "outputs": [],
   "source": [
    "for i,val in enumerate(x):\n",
    "    x[i] = i+1 \n",
    "x"
   ]
  },
  {
   "cell_type": "code",
   "execution_count": null,
   "id": "970a8827-71bb-4527-b1d3-476380713f1e",
   "metadata": {
    "tags": []
   },
   "outputs": [],
   "source": [
    "info_array(x)"
   ]
  },
  {
   "cell_type": "markdown",
   "id": "2d36849f-0a2c-4f5e-bdb3-04fb827e1d22",
   "metadata": {},
   "source": [
    "#### `np.ones()`\n",
    "Construye un arreglo con elementos de tipo `float` todos igual uno."
   ]
  },
  {
   "cell_type": "code",
   "execution_count": null,
   "id": "f6739f9e-911d-49e2-af18-d9268148eb4c",
   "metadata": {
    "tags": []
   },
   "outputs": [],
   "source": [
    "x = np.ones(10)\n",
    "x"
   ]
  },
  {
   "cell_type": "code",
   "execution_count": null,
   "id": "70df6400-3c1b-4cc0-9bb3-62a41537731a",
   "metadata": {
    "tags": []
   },
   "outputs": [],
   "source": [
    "info_array(x)"
   ]
  },
  {
   "cell_type": "code",
   "execution_count": null,
   "id": "43a4a5a2-999d-4a13-9a22-ea6b7931dcc6",
   "metadata": {
    "tags": []
   },
   "outputs": [],
   "source": [
    "for i,val in enumerate(x):\n",
    "    x[i] = i+val \n",
    "x"
   ]
  },
  {
   "cell_type": "markdown",
   "id": "610ceaed-6d6c-4460-8da6-da73d2f4af3d",
   "metadata": {},
   "source": [
    "## Arreglos con números pseudo-aleatorios"
   ]
  },
  {
   "cell_type": "code",
   "execution_count": null,
   "id": "80d918a8-a04f-44f3-867e-37cab94be743",
   "metadata": {
    "tags": []
   },
   "outputs": [],
   "source": [
    "# Se crea un arreglo de 10 números de tipo float pseudo-aleatorios.\n",
    "x = np.random.rand(10)\n",
    "x"
   ]
  },
  {
   "cell_type": "code",
   "execution_count": null,
   "id": "bf111d08-6ef6-4e56-b6cd-839e72d0677f",
   "metadata": {
    "tags": []
   },
   "outputs": [],
   "source": [
    "info_array(x)"
   ]
  },
  {
   "cell_type": "markdown",
   "id": "32eebbb0-3f3d-4cf0-a2ce-931966e040a4",
   "metadata": {},
   "source": [
    "No es posible generar números aleatorios con base en un algoritmo, solo se pueden\n",
    "obtener números **pseudoaleatorios** (para obtener números aleatorios es necesario muestrear algún parámetro físico cuyo valor sea realmente aleatorio).\n",
    "\n",
    "Las series de números aleatorios que se pueden generar en una computadora son secuencias deterministas a partir de un valor inicial, al que se llama semilla. Al fijar la semilla se fija completamente los valores de toda la serie.\n",
    "\n",
    "En los siguiente ejemplos usamos diferentes semillas para generar un conjunto de números pseudo-aleatorios diferente:"
   ]
  },
  {
   "cell_type": "code",
   "execution_count": null,
   "id": "2cd7f584-b5cf-414f-b29e-2546bdb7f26c",
   "metadata": {
    "tags": []
   },
   "outputs": [],
   "source": [
    "np.random.seed(0)\n",
    "print(\"Serie 1:\", np.random.rand(3))\n",
    "np.random.seed(3)\n",
    "print(\"Serie 2:\", np.random.rand(3))\n",
    "np.random.seed(5)\n",
    "print(\"Serie 3:\", np.random.rand(3))"
   ]
  },
  {
   "cell_type": "markdown",
   "id": "3b2b567b-d452-48ea-b753-f54e31abfdc4",
   "metadata": {},
   "source": [
    "Se puede generar una serie de números aleatorios usando una semilla aleatoria. Por ejemplo:"
   ]
  },
  {
   "cell_type": "code",
   "execution_count": null,
   "id": "aca2c494-05c4-4a58-8593-5c8823a096ee",
   "metadata": {
    "tags": []
   },
   "outputs": [],
   "source": [
    "#Usamos como semilla el tiempo del reloj de la computadora\n",
    "import time\n",
    "np.random.seed(int(time.time()))\n",
    "np.random.rand(3)"
   ]
  },
  {
   "cell_type": "markdown",
   "id": "c0876a8d-9dfe-47c1-96a4-f94c5b3d985a",
   "metadata": {},
   "source": [
    "## Modificar el tipo de dato de los elementos del arreglo"
   ]
  },
  {
   "cell_type": "code",
   "execution_count": null,
   "id": "9e856c2e-674f-42e0-a822-45fac825b711",
   "metadata": {
    "tags": []
   },
   "outputs": [],
   "source": [
    "x = np.linspace(1,10,10)\n",
    "\n",
    "y = x.astype(int)"
   ]
  },
  {
   "cell_type": "code",
   "execution_count": null,
   "id": "ebc425d2-d75d-4438-a814-9437fc43ef2f",
   "metadata": {
    "tags": []
   },
   "outputs": [],
   "source": [
    "print(x)\n",
    "print(y)"
   ]
  },
  {
   "cell_type": "markdown",
   "id": "fa96c669-b883-4b25-ad4e-5d9480ee5f57",
   "metadata": {},
   "source": [
    "Observa que la modificación afecta al arreglo `y` pero no al arreglo `x` (no es inplace)"
   ]
  },
  {
   "cell_type": "code",
   "execution_count": null,
   "id": "a6fad4c7-3187-4c8c-9f4a-24410d8933b7",
   "metadata": {
    "tags": []
   },
   "outputs": [],
   "source": [
    "info_array(x)"
   ]
  },
  {
   "cell_type": "code",
   "execution_count": null,
   "id": "59647606-3f8b-4b63-969c-54bd6407ac42",
   "metadata": {
    "tags": []
   },
   "outputs": [],
   "source": [
    "info_array(y)"
   ]
  },
  {
   "cell_type": "code",
   "execution_count": null,
   "id": "c720e46c-1a4f-4936-baee-75d4e0c0a7f7",
   "metadata": {
    "tags": []
   },
   "outputs": [],
   "source": [
    "print(id(x), id(y))"
   ]
  },
  {
   "cell_type": "markdown",
   "id": "87f503dd-0433-441a-9bb6-5a4c87816d1d",
   "metadata": {},
   "source": [
    "## Arreglos multidimensionales"
   ]
  },
  {
   "cell_type": "code",
   "execution_count": null,
   "id": "353fce97-3178-4c40-adb2-6554f0f05eeb",
   "metadata": {
    "tags": []
   },
   "outputs": [],
   "source": [
    "x = np.array([[1,2.0],[0,0],(1+1j,3.)])\n",
    "x"
   ]
  },
  {
   "cell_type": "code",
   "execution_count": null,
   "id": "332cbe98-0f3c-4aa7-9d14-8551ab728945",
   "metadata": {
    "tags": []
   },
   "outputs": [],
   "source": [
    "info_array(x)"
   ]
  },
  {
   "cell_type": "code",
   "execution_count": null,
   "id": "85ee4267-9c85-4257-8ea0-c338c068f167",
   "metadata": {
    "tags": []
   },
   "outputs": [],
   "source": [
    "x = np.array( [ [1,2], [3,4] ], dtype=complex )\n",
    "x"
   ]
  },
  {
   "cell_type": "code",
   "execution_count": null,
   "id": "d05b5e16-e096-491f-a5e0-875367555f1a",
   "metadata": {
    "tags": []
   },
   "outputs": [],
   "source": [
    "info_array(x)"
   ]
  },
  {
   "cell_type": "code",
   "execution_count": null,
   "id": "e6f105bf-ce3a-48ee-8aae-7cbef8022dfd",
   "metadata": {
    "tags": []
   },
   "outputs": [],
   "source": [
    "x = np.array( [ [[1,2], [3,4]], [[5,6], [7,8]] ])\n",
    "x"
   ]
  },
  {
   "cell_type": "code",
   "execution_count": null,
   "id": "ff8ed75b-9da8-43bf-9e9b-0ab5ba404809",
   "metadata": {
    "tags": []
   },
   "outputs": [],
   "source": [
    "info_array(x)"
   ]
  },
  {
   "cell_type": "code",
   "execution_count": null,
   "id": "7a1ad8ea-1fe6-4700-9c01-cb81c202766a",
   "metadata": {
    "tags": []
   },
   "outputs": [],
   "source": [
    "x = np.zeros((10,10))\n",
    "x"
   ]
  },
  {
   "cell_type": "code",
   "execution_count": null,
   "id": "e884e917-baf1-4e2c-9d21-693fdf51b143",
   "metadata": {
    "tags": []
   },
   "outputs": [],
   "source": [
    "info_array(x)"
   ]
  },
  {
   "cell_type": "code",
   "execution_count": null,
   "id": "736c6645-3f44-45c2-be9e-eee826b9e1cc",
   "metadata": {
    "tags": []
   },
   "outputs": [],
   "source": [
    "x = np.ones((4,3,2))\n",
    "x"
   ]
  },
  {
   "cell_type": "code",
   "execution_count": null,
   "id": "1eb8557e-009a-4958-a2f0-abba43ead900",
   "metadata": {
    "tags": []
   },
   "outputs": [],
   "source": [
    "info_array(x)"
   ]
  },
  {
   "cell_type": "code",
   "execution_count": null,
   "id": "ec266d62-faf2-41d2-a0eb-c0fbc25b5b92",
   "metadata": {
    "tags": []
   },
   "outputs": [],
   "source": [
    "x = np.empty((2,3,4))\n",
    "x"
   ]
  },
  {
   "cell_type": "code",
   "execution_count": null,
   "id": "01aee8e9-aabe-4281-9bd5-50273159c3f4",
   "metadata": {
    "tags": []
   },
   "outputs": [],
   "source": [
    "info_array(x)"
   ]
  },
  {
   "cell_type": "code",
   "execution_count": null,
   "id": "e3c9f93e-9cca-49dd-9581-7fa06d929513",
   "metadata": {
    "tags": []
   },
   "outputs": [],
   "source": [
    "x = np.random.rand(2,5)\n",
    "x"
   ]
  },
  {
   "cell_type": "code",
   "execution_count": null,
   "id": "e0811962-62da-4950-acf8-cbc45054945b",
   "metadata": {
    "tags": []
   },
   "outputs": [],
   "source": [
    "info_array(x)"
   ]
  },
  {
   "cell_type": "markdown",
   "id": "b2f319a4-2268-4804-8481-e8a669423461",
   "metadata": {},
   "source": [
    "## Cambiando el `shape` de los arreglos\n",
    "### Función `reshape`"
   ]
  },
  {
   "cell_type": "code",
   "execution_count": null,
   "id": "cc622d87-e751-4c9b-8d06-65fad23de9a2",
   "metadata": {
    "tags": []
   },
   "outputs": [],
   "source": [
    "x = np.array([ [[ 1, 2, 3, 4],\n",
    "                [ 5, 6, 7, 8],\n",
    "                [ 9,10,11,12]],\n",
    "               [[13,14,15,16],\n",
    "                [17,16,19,20],\n",
    "                [21,22,23,24]] ])\n",
    "print(f'x = \\n {x}')"
   ]
  },
  {
   "cell_type": "code",
   "execution_count": null,
   "id": "a9ecd5c3-56e4-4f83-9622-3f868f84d772",
   "metadata": {
    "tags": []
   },
   "outputs": [],
   "source": [
    "info_array(x)"
   ]
  },
  {
   "cell_type": "code",
   "execution_count": null,
   "id": "a621bebf-d906-4b09-8ccf-fbab99727ec1",
   "metadata": {
    "tags": []
   },
   "outputs": [],
   "source": [
    "y = x.reshape(6,4)\n",
    "print(f'y = \\n {y}')"
   ]
  },
  {
   "cell_type": "code",
   "execution_count": null,
   "id": "d77fff48-9575-461b-8723-e366ea1c2f76",
   "metadata": {
    "tags": []
   },
   "outputs": [],
   "source": [
    "info_array(y)"
   ]
  },
  {
   "cell_type": "code",
   "execution_count": null,
   "id": "1a9dc5d3-6e20-4356-8356-d5750f141d4c",
   "metadata": {
    "tags": []
   },
   "outputs": [],
   "source": [
    "info_array(x)"
   ]
  },
  {
   "cell_type": "code",
   "execution_count": null,
   "id": "ed6f4bed-1b94-4562-9549-da681a2e6180",
   "metadata": {
    "tags": []
   },
   "outputs": [],
   "source": [
    "y = x.reshape(24)\n",
    "print(f'y = \\n {y}')"
   ]
  },
  {
   "cell_type": "code",
   "execution_count": null,
   "id": "72df9925-6034-4a27-80da-28bff53795d8",
   "metadata": {
    "tags": []
   },
   "outputs": [],
   "source": [
    "info_array(y)"
   ]
  },
  {
   "cell_type": "code",
   "execution_count": null,
   "id": "27a5d854-3190-481e-be25-f5c57c62278e",
   "metadata": {
    "tags": []
   },
   "outputs": [],
   "source": [
    "y = x.reshape(2,3,4)\n",
    "print(f'y = \\n {y}')\n",
    "print(f'x = \\n {x}')"
   ]
  },
  {
   "cell_type": "code",
   "execution_count": null,
   "id": "02fd013d-23b6-46e2-ae52-35e830e23d9e",
   "metadata": {
    "tags": []
   },
   "outputs": [],
   "source": [
    "info_array(y)"
   ]
  },
  {
   "cell_type": "code",
   "execution_count": null,
   "id": "be289f07-9443-4700-91c5-fc76a96a9fe3",
   "metadata": {
    "tags": []
   },
   "outputs": [],
   "source": [
    "# Otra manera\n",
    "y = np.reshape(x, (6,4))\n",
    "print(f'y = \\n {y}')"
   ]
  },
  {
   "cell_type": "code",
   "execution_count": null,
   "id": "0603a49b-569e-4f0d-bce0-c1ef8b8ff5dd",
   "metadata": {
    "tags": []
   },
   "outputs": [],
   "source": [
    "info_array(y)"
   ]
  },
  {
   "cell_type": "code",
   "execution_count": null,
   "id": "1779f21c-bac1-49c5-b2f0-f3b6a48438de",
   "metadata": {
    "tags": []
   },
   "outputs": [],
   "source": [
    "x"
   ]
  },
  {
   "cell_type": "markdown",
   "id": "629fbd3c-888e-49c8-8c0e-fa8b84a55a4d",
   "metadata": {},
   "source": [
    "### Atributo `shape` (inplace)"
   ]
  },
  {
   "cell_type": "code",
   "execution_count": null,
   "id": "8cd4e0d0-896e-40f2-aaa9-f610b2353ace",
   "metadata": {
    "tags": []
   },
   "outputs": [],
   "source": [
    "y.shape"
   ]
  },
  {
   "cell_type": "code",
   "execution_count": null,
   "id": "a6a29f94-fc1e-4397-9de0-76446b69d0c7",
   "metadata": {
    "tags": []
   },
   "outputs": [],
   "source": [
    "print(f'y = \\n {y}')"
   ]
  },
  {
   "cell_type": "code",
   "execution_count": null,
   "id": "f7e95ee6-079f-4ced-8adc-0660507146d2",
   "metadata": {
    "tags": []
   },
   "outputs": [],
   "source": [
    "y.shape = (2, 3, 4)"
   ]
  },
  {
   "cell_type": "code",
   "execution_count": null,
   "id": "339e4f5d-af70-4fe8-af22-4fd620a4b253",
   "metadata": {
    "tags": []
   },
   "outputs": [],
   "source": [
    "print(f'y = \\n {y}')"
   ]
  },
  {
   "cell_type": "code",
   "execution_count": null,
   "id": "d8bea6e5-3881-409d-920e-cacaa82f7b8e",
   "metadata": {
    "tags": []
   },
   "outputs": [],
   "source": [
    "info_array(y)"
   ]
  },
  {
   "cell_type": "markdown",
   "id": "ec2d1028-ffff-46d3-9464-3ffaa5dda25a",
   "metadata": {},
   "source": [
    "### Creando un arreglo y modificando su `shape` al vuelo"
   ]
  },
  {
   "cell_type": "code",
   "execution_count": null,
   "id": "ef6f1970-84ce-4706-859c-f99bcc85e25b",
   "metadata": {
    "tags": []
   },
   "outputs": [],
   "source": [
    "x = np.arange(24).reshape(2,3,4)\n",
    "x"
   ]
  },
  {
   "cell_type": "code",
   "execution_count": null,
   "id": "47e2ed4d-3c39-48f3-bd31-f773ff821c68",
   "metadata": {
    "tags": []
   },
   "outputs": [],
   "source": [
    "info_array(x)"
   ]
  },
  {
   "cell_type": "code",
   "execution_count": null,
   "id": "14f8bfdc-1772-4298-b8df-2eddc753ef59",
   "metadata": {
    "tags": []
   },
   "outputs": [],
   "source": [
    "x = np.arange(1,25,1).reshape(2,3,4)\n",
    "x"
   ]
  },
  {
   "cell_type": "code",
   "execution_count": null,
   "id": "f8f0f781-68c3-4577-b47a-b496ddd104bb",
   "metadata": {
    "tags": []
   },
   "outputs": [],
   "source": [
    "info_array(x)"
   ]
  },
  {
   "cell_type": "markdown",
   "id": "dc6c7f94-4a90-41e6-bb58-501c1668ef78",
   "metadata": {},
   "source": [
    "## Copias y vistas de arreglos"
   ]
  },
  {
   "cell_type": "code",
   "execution_count": null,
   "id": "a5a8c2c5-753a-4a69-9987-faffe9d9a1ee",
   "metadata": {
    "tags": []
   },
   "outputs": [],
   "source": [
    "x = np.array([1,2,3,4])\n",
    "z = x  # z es un sinónimo de x, no se crea una copia!\n",
    "\n",
    "print(id(z), id(x))\n",
    "print(z is x)\n",
    "print(x is z)"
   ]
  },
  {
   "cell_type": "markdown",
   "id": "fb3b152a-8240-4bdf-b589-9e5a11201904",
   "metadata": {},
   "source": [
    "## Copia superficial o vista de un arreglo"
   ]
  },
  {
   "cell_type": "code",
   "execution_count": null,
   "id": "3f7d2f01-2a5d-4b23-9967-dc8070f22a6a",
   "metadata": {
    "tags": []
   },
   "outputs": [],
   "source": [
    "z = x.view()\n",
    "print(id(z), id(x))\n",
    "print(z is x)\n",
    "print(x is z)\n",
    "print(z.base is x) # Comparten la memoria \n",
    "print(z.flags.owndata) # Propiedades de la memoria\n",
    "print(x.flags.owndata) # Propiedades de la memoria"
   ]
  },
  {
   "cell_type": "code",
   "execution_count": null,
   "id": "40439a01-fe7c-402f-b39e-af183cb84498",
   "metadata": {
    "tags": []
   },
   "outputs": [],
   "source": [
    "print(z.flags)"
   ]
  },
  {
   "cell_type": "code",
   "execution_count": null,
   "id": "419e4659-0d35-40f8-8d2a-12a84f864ab1",
   "metadata": {
    "tags": []
   },
   "outputs": [],
   "source": [
    "z.shape =(2,2)\n",
    "print(z.shape, z, sep = '\\n')\n",
    "print(x.shape, x, sep = '\\n')"
   ]
  },
  {
   "cell_type": "code",
   "execution_count": null,
   "id": "acb35ec6-44c3-4564-ac6a-f704815fbc08",
   "metadata": {
    "tags": []
   },
   "outputs": [],
   "source": [
    "z[1,1] = 1000\n",
    "print(z.shape, z, sep = '\\n')\n",
    "print(x.shape, x, sep = '\\n')"
   ]
  },
  {
   "cell_type": "markdown",
   "id": "4e7f5cb1-68e0-4a64-9cf0-52de58f15e25",
   "metadata": {},
   "source": [
    "## Copia completa de arreglos"
   ]
  },
  {
   "cell_type": "code",
   "execution_count": null,
   "id": "05fbaaae-efc8-4621-8389-302ca7cf6362",
   "metadata": {
    "tags": []
   },
   "outputs": [],
   "source": [
    "z = x.copy()\n",
    "print(id(z), id(x))\n",
    "print(z is x)\n",
    "print(x is z)\n",
    "print(z.base is x) # Comparten la memoria \n",
    "print(z.flags.owndata) # Propiedades de la memoria\n",
    "print(x.flags.owndata) # Propiedades de la memoria"
   ]
  },
  {
   "cell_type": "code",
   "execution_count": null,
   "id": "621ef35c-55ec-49de-b5e1-4c1c62b08bce",
   "metadata": {
    "tags": []
   },
   "outputs": [],
   "source": [
    "print('z = ', z)\n",
    "print('x = ', x)"
   ]
  },
  {
   "cell_type": "code",
   "execution_count": null,
   "id": "a6d94d54-dc76-43e6-b13e-fcfa015d69dd",
   "metadata": {
    "tags": []
   },
   "outputs": [],
   "source": [
    "z[3] = 4\n",
    "print('z = ', z)\n",
    "print('x = ', x)"
   ]
  },
  {
   "cell_type": "markdown",
   "id": "1994a764-3e04-4898-8bcd-de2df13c04d7",
   "metadata": {},
   "source": [
    "## Las rebanadas son vistas de arreglos\n",
    "Las vistas de arreglos pueden ser útiles en ciertos casos, por ejemplo si tenemos un arreglo muy grande y solo deseamos mantener unos cuantos elementos del mismo, debemos hacer lo siguiente:"
   ]
  },
  {
   "cell_type": "code",
   "execution_count": null,
   "id": "cacb63d1-e05e-4e4e-ba7f-216fe977a80f",
   "metadata": {
    "tags": []
   },
   "outputs": [],
   "source": [
    "a = np.arange(int(1e5)) # Arreglo de 100000 elementos\n",
    "b = a[:200].copy()      # Copia completa de 200 elementos de 'a'\n",
    "del a                   # Eliminar la memoria que usa 'a'\n",
    "b"
   ]
  },
  {
   "cell_type": "markdown",
   "id": "52ac9428-ccfe-444c-adf6-304237e3ca0f",
   "metadata": {},
   "source": [
    "**Pero si usamos rebanadas, el comportamiento es distinto**:"
   ]
  },
  {
   "cell_type": "code",
   "execution_count": null,
   "id": "4b49c33f-5f33-4678-967a-1c31d3c38086",
   "metadata": {
    "tags": []
   },
   "outputs": [],
   "source": [
    "a = np.arange(int(1e5)) # Arreglo de 100000 elementos\n",
    "b = a[:200]             # Vista de 200 elementos de 'a'\n",
    "b[0] = 1000\n",
    "print('b = ', b)\n",
    "print('a = ', a)"
   ]
  },
  {
   "cell_type": "markdown",
   "id": "8ff322d9-3dbc-4434-af80-3a19f29ef198",
   "metadata": {},
   "source": [
    "## Rebanadas (slicing)"
   ]
  },
  {
   "cell_type": "code",
   "execution_count": null,
   "id": "00bb0bd9-efd6-40d5-ab99-a8c501c171b2",
   "metadata": {
    "tags": []
   },
   "outputs": [],
   "source": [
    "x = np.arange(0,10,1.)\n",
    "x"
   ]
  },
  {
   "cell_type": "code",
   "execution_count": null,
   "id": "f95c244f-1496-4756-a47a-53743761926b",
   "metadata": {
    "tags": []
   },
   "outputs": [],
   "source": [
    "x[:] # El arreglo completo"
   ]
  },
  {
   "cell_type": "code",
   "execution_count": null,
   "id": "3699eebf-ce63-43f3-b206-c71279e819bb",
   "metadata": {
    "tags": []
   },
   "outputs": [],
   "source": [
    "x[3:6] # Una sección del arreglo, de 3 a 5"
   ]
  },
  {
   "cell_type": "code",
   "execution_count": null,
   "id": "e609f37d-3bad-481e-8bea-b30927fd734b",
   "metadata": {
    "tags": []
   },
   "outputs": [],
   "source": [
    "x[2:9:2] # de 2 a 8, dando saltos de 2 en 2"
   ]
  },
  {
   "cell_type": "code",
   "execution_count": null,
   "id": "2433ad85-7b67-498b-b0d0-892c42962712",
   "metadata": {
    "tags": []
   },
   "outputs": [],
   "source": [
    "x[1:7:2] = 100 # modificando algunos elementos del arreglo\n",
    "x"
   ]
  },
  {
   "cell_type": "code",
   "execution_count": null,
   "id": "86cc4b82-d2b7-42c0-9b9f-8361215a2727",
   "metadata": {
    "tags": []
   },
   "outputs": [],
   "source": [
    "y = np.arange(36).reshape(6,6)\n",
    "y"
   ]
  },
  {
   "cell_type": "code",
   "execution_count": null,
   "id": "708518ee-1aba-42fb-b035-bfc06a82578e",
   "metadata": {
    "tags": []
   },
   "outputs": [],
   "source": [
    "y[1:4,:] # renglones de 1 a 3"
   ]
  },
  {
   "cell_type": "code",
   "execution_count": null,
   "id": "3bee6ea9-f7e8-49ce-bf3b-eec622a799a4",
   "metadata": {
    "tags": []
   },
   "outputs": [],
   "source": [
    "y[:,1:5] # columnas de 1 a 4"
   ]
  },
  {
   "cell_type": "code",
   "execution_count": null,
   "id": "06b32930-a6fd-451d-96f9-53aa527c408e",
   "metadata": {
    "tags": []
   },
   "outputs": [],
   "source": [
    "y[2:4,2:5] # seccion del arreglo"
   ]
  },
  {
   "cell_type": "code",
   "execution_count": null,
   "id": "dedeb028-ecc6-4033-a536-cc1406fbe972",
   "metadata": {
    "tags": []
   },
   "outputs": [],
   "source": [
    "y[1:5:2,1:5:2] # sección del arreglo \n",
    "               # con saltos de 2"
   ]
  },
  {
   "cell_type": "code",
   "execution_count": null,
   "id": "39648cc6-b0ed-48e1-86df-147fef93f4d0",
   "metadata": {
    "tags": []
   },
   "outputs": [],
   "source": [
    "y[1:5:2,1:5:2] = 0 # Modificación de \n",
    "y                  # algunos elementos"
   ]
  },
  {
   "cell_type": "markdown",
   "id": "2fd4f220-14aa-47aa-9322-d47b36f318f1",
   "metadata": {},
   "source": [
    "También es posible seleccionar elementos que cumplan cierto criterio."
   ]
  },
  {
   "cell_type": "code",
   "execution_count": null,
   "id": "66375cf7-9bc0-4727-8915-fb7dc466745e",
   "metadata": {
    "tags": []
   },
   "outputs": [],
   "source": [
    "y[y<25] # Selecciona los elementos del arreglo que son menores que 25"
   ]
  },
  {
   "cell_type": "code",
   "execution_count": null,
   "id": "b1d2968f-e656-4867-af99-08ede0899eed",
   "metadata": {
    "tags": []
   },
   "outputs": [],
   "source": [
    "y[y%2==0] # Selecciona todos los elementos pares"
   ]
  },
  {
   "cell_type": "code",
   "execution_count": null,
   "id": "b22341f7-f91c-4927-bb4f-98cb60e1e8e4",
   "metadata": {
    "tags": []
   },
   "outputs": [],
   "source": [
    "y[(y>8) & (y<20)] # Selecciona todos los elementos mayores que 8 y menores que 20"
   ]
  },
  {
   "cell_type": "code",
   "execution_count": null,
   "id": "7aa11473-50c8-4d0a-8576-2b35ec9db29c",
   "metadata": {
    "tags": []
   },
   "outputs": [],
   "source": [
    "y[(y>8) & (y<20)] = 666\n",
    "y"
   ]
  },
  {
   "cell_type": "code",
   "execution_count": null,
   "id": "73341031-b10d-4034-b5cc-19fa5ff08e27",
   "metadata": {
    "tags": []
   },
   "outputs": [],
   "source": [
    "z = np.nonzero(y == 666) # Determina los renglones y las columnas \n",
    "z                        # donde se cumple la condición."
   ]
  },
  {
   "cell_type": "code",
   "execution_count": null,
   "id": "5ed5a42a-d594-4e5d-bca5-cf1bdb7dc8f0",
   "metadata": {
    "tags": []
   },
   "outputs": [],
   "source": [
    "z[0]"
   ]
  },
  {
   "cell_type": "code",
   "execution_count": null,
   "id": "d969d1d2-7a69-4138-a2c0-a8f4ac68218d",
   "metadata": {
    "tags": []
   },
   "outputs": [],
   "source": [
    "z[1]"
   ]
  },
  {
   "cell_type": "code",
   "execution_count": null,
   "id": "252cab81-4a8c-4f3b-87f8-18a1724fb829",
   "metadata": {
    "tags": []
   },
   "outputs": [],
   "source": [
    "indices = list(zip(z[0], z[1])) # Genera una lista de coordenadas donde se cumple la condición.\n",
    "indices"
   ]
  },
  {
   "cell_type": "code",
   "execution_count": null,
   "id": "0ecf8f01-3c2b-45ba-9802-e53846f3b738",
   "metadata": {
    "tags": []
   },
   "outputs": [],
   "source": [
    "print(y[z]) # Imprime los elementos del arreglo 'y' usando las coordenadas de 'z'"
   ]
  },
  {
   "cell_type": "markdown",
   "id": "7f40e420-3222-458e-8c9e-13216b40f0e8",
   "metadata": {},
   "source": [
    "## Operaciones básicas entre arreglos"
   ]
  },
  {
   "cell_type": "code",
   "execution_count": null,
   "id": "2f0a0760-c651-421e-b10c-074b38c0825c",
   "metadata": {
    "tags": []
   },
   "outputs": [],
   "source": [
    "v1 = np.array([2.3,3.1,9.6])\n",
    "v2 = np.array([3.4,5.6,7.8])"
   ]
  },
  {
   "cell_type": "code",
   "execution_count": null,
   "id": "c6848e0a-bdcd-4393-a05f-39973750b92b",
   "metadata": {
    "tags": []
   },
   "outputs": [],
   "source": [
    "(1/3)*v1 # Escalar por arreglo"
   ]
  },
  {
   "cell_type": "code",
   "execution_count": null,
   "id": "dcdad4f2-56b5-441e-b46a-5b0e9db51be4",
   "metadata": {
    "tags": []
   },
   "outputs": [],
   "source": [
    "v1+v2 # Suma de arreglos"
   ]
  },
  {
   "cell_type": "code",
   "execution_count": null,
   "id": "4e40e24f-36fa-4a80-8fc6-2c55acc56c92",
   "metadata": {
    "tags": []
   },
   "outputs": [],
   "source": [
    "v1-v2 # Resta de arreglos"
   ]
  },
  {
   "cell_type": "code",
   "execution_count": null,
   "id": "3810ad11-da8b-44f4-b209-c0eb56551afb",
   "metadata": {
    "tags": []
   },
   "outputs": [],
   "source": [
    "v1*v2 # Multiplicación elemento a elemento"
   ]
  },
  {
   "cell_type": "code",
   "execution_count": null,
   "id": "eca4e9f8-dad7-4149-8dd7-af6178dd3488",
   "metadata": {
    "tags": []
   },
   "outputs": [],
   "source": [
    "v1/v2 # División elemento a elemento"
   ]
  },
  {
   "cell_type": "code",
   "execution_count": null,
   "id": "2d103b12-dc33-417f-802e-add7d5764dc4",
   "metadata": {
    "tags": []
   },
   "outputs": [],
   "source": [
    "v1 ** 2 # Potencia de un arreglo"
   ]
  },
  {
   "cell_type": "code",
   "execution_count": null,
   "id": "f932c86c-f5a7-4ed3-9de9-de72984c5443",
   "metadata": {
    "tags": []
   },
   "outputs": [],
   "source": [
    "v1 % 2  # Modulo de un arreglo"
   ]
  },
  {
   "cell_type": "code",
   "execution_count": null,
   "id": "bc761400-19f8-438f-a94d-b7226a9b2466",
   "metadata": {
    "tags": []
   },
   "outputs": [],
   "source": [
    "10 * np.sin(v1) # Aplicación de una función matemática a cada elemento del arreglo"
   ]
  },
  {
   "cell_type": "code",
   "execution_count": null,
   "id": "273e3280-9d1b-4fca-9220-f0ee59cf583a",
   "metadata": {
    "tags": []
   },
   "outputs": [],
   "source": [
    "v1 > 3 # Operación de comparación, devuelve un arreglo Booleano"
   ]
  },
  {
   "cell_type": "markdown",
   "id": "fca2e46a-b6e0-4753-b521-c4b8e2b39877",
   "metadata": {},
   "source": [
    "## Operaciones entre arreglos Booleanos"
   ]
  },
  {
   "cell_type": "code",
   "execution_count": null,
   "id": "138a7a93-5a17-4de7-884a-5660fd50c0c4",
   "metadata": {
    "tags": []
   },
   "outputs": [],
   "source": [
    "f = np.array([True, False, False, True])\n",
    "r = np.array([False, True, False, True])"
   ]
  },
  {
   "cell_type": "code",
   "execution_count": null,
   "id": "d362da33-9666-4aec-94b8-44441c5abe5c",
   "metadata": {
    "tags": []
   },
   "outputs": [],
   "source": [
    "f & r"
   ]
  },
  {
   "cell_type": "code",
   "execution_count": null,
   "id": "6fa9d527-d16c-402f-87d7-382a5bb65bd2",
   "metadata": {
    "tags": []
   },
   "outputs": [],
   "source": [
    "f | r"
   ]
  },
  {
   "cell_type": "code",
   "execution_count": null,
   "id": "c20ba3ba-8cc7-4242-a6c1-498769e3f60c",
   "metadata": {
    "tags": []
   },
   "outputs": [],
   "source": [
    "~f"
   ]
  },
  {
   "cell_type": "code",
   "execution_count": null,
   "id": "cf1d8ba3-be8a-45c9-9574-96891bbe121a",
   "metadata": {
    "tags": []
   },
   "outputs": [],
   "source": [
    "b = np.arange(4)\n",
    "b"
   ]
  },
  {
   "cell_type": "code",
   "execution_count": null,
   "id": "d48531d7-a4a9-41ec-b6b0-a689b071ae29",
   "metadata": {
    "tags": []
   },
   "outputs": [],
   "source": [
    "b[f]"
   ]
  },
  {
   "cell_type": "code",
   "execution_count": null,
   "id": "699c18a2-193a-46f9-a0c9-84d8a7ddf78b",
   "metadata": {
    "tags": []
   },
   "outputs": [],
   "source": [
    "b[f] = 100\n",
    "b"
   ]
  },
  {
   "cell_type": "markdown",
   "id": "ba949c60-3376-4907-973d-6b98349729d6",
   "metadata": {},
   "source": [
    "## Métodos de los arreglos\n",
    "Existe una larga lista de métodos definidas para los arreglos, vea más información <a href=\"https://numpy.org/doc/stable/reference/arrays.ndarray.html#array-ndarray-methods\">aquí</a>."
   ]
  },
  {
   "cell_type": "code",
   "execution_count": null,
   "id": "a53d9b74-4624-4c64-8e3b-f3dfda7e68b4",
   "metadata": {
    "tags": []
   },
   "outputs": [],
   "source": [
    "x = np.random.random(100) # arreglo de 100 números pseudo-aleatorios entre 1 y 0\n",
    "x"
   ]
  },
  {
   "cell_type": "code",
   "execution_count": null,
   "id": "b9d67421-97a7-4551-9cfa-a31df378bad8",
   "metadata": {
    "tags": []
   },
   "outputs": [],
   "source": [
    "x.max()"
   ]
  },
  {
   "cell_type": "code",
   "execution_count": null,
   "id": "0bb5016f-3a83-47d2-a5d6-17bb58177c1b",
   "metadata": {
    "tags": []
   },
   "outputs": [],
   "source": [
    "x.sum()"
   ]
  },
  {
   "cell_type": "code",
   "execution_count": null,
   "id": "c73acead-d6a7-470c-8e8d-68365db4adb9",
   "metadata": {
    "tags": []
   },
   "outputs": [],
   "source": [
    "x = np.arange(10).reshape(2,5)\n",
    "x"
   ]
  },
  {
   "cell_type": "code",
   "execution_count": null,
   "id": "2ae3c189-a4c7-4ad5-b638-b0f186dae02a",
   "metadata": {
    "tags": []
   },
   "outputs": [],
   "source": [
    "x.T"
   ]
  },
  {
   "cell_type": "code",
   "execution_count": null,
   "id": "c440ab8c-d16f-42ed-97ab-11818ef3b99b",
   "metadata": {
    "tags": []
   },
   "outputs": [],
   "source": [
    "x.transpose()"
   ]
  },
  {
   "cell_type": "code",
   "execution_count": null,
   "id": "91903096-b04c-422b-af2a-d6ac57d3eaef",
   "metadata": {
    "tags": []
   },
   "outputs": [],
   "source": [
    "np.transpose(x)"
   ]
  },
  {
   "cell_type": "code",
   "execution_count": null,
   "id": "07f96878-7ee0-4890-98f2-2915b65d73f3",
   "metadata": {
    "tags": []
   },
   "outputs": [],
   "source": [
    "np.flip(x) # Cambiar el orden de los elementos del arreglo"
   ]
  },
  {
   "cell_type": "code",
   "execution_count": null,
   "id": "b66fb6bb-5fcb-47d1-bf16-80008198b9f7",
   "metadata": {
    "tags": []
   },
   "outputs": [],
   "source": [
    "np.flip(x, axis=0)"
   ]
  },
  {
   "cell_type": "code",
   "execution_count": null,
   "id": "35fb094b-9aa1-40af-95a4-9035f93af069",
   "metadata": {
    "tags": []
   },
   "outputs": [],
   "source": [
    "f1 = x.flatten() # Aplanar un arreglo\n",
    "f1[0] = 1000\n",
    "print(x)\n",
    "print(f1)"
   ]
  },
  {
   "cell_type": "code",
   "execution_count": null,
   "id": "09730ae4-47b3-43c1-9e49-9ab5dfff1ea7",
   "metadata": {
    "tags": []
   },
   "outputs": [],
   "source": [
    "print(x)"
   ]
  },
  {
   "cell_type": "code",
   "execution_count": null,
   "id": "4660ad6b-e446-4f43-b123-156b836ae631",
   "metadata": {
    "tags": []
   },
   "outputs": [],
   "source": [
    "f2 = x.ravel() # Aplanar un arreglo\n",
    "f2[0] = 1000\n",
    "print(x)\n",
    "print(f1)"
   ]
  },
  {
   "cell_type": "markdown",
   "id": "1ef6fe23-8aad-4b17-82e0-067674c294c8",
   "metadata": {},
   "source": [
    "**Los arreglos deben ser compatibles para poder realizar las operaciones anteriores:**"
   ]
  },
  {
   "cell_type": "code",
   "execution_count": null,
   "id": "059fb89d-fcbd-4ce6-99f4-aa38c7d16a74",
   "metadata": {
    "tags": []
   },
   "outputs": [],
   "source": [
    "a = np.arange(24).reshape(2,3,4)\n",
    "b = np.arange(24).reshape(2,3,4)\n",
    "a + b"
   ]
  },
  {
   "cell_type": "code",
   "execution_count": null,
   "id": "2311b6cb-ac08-4a41-a93a-86e162e54ad1",
   "metadata": {
    "tags": []
   },
   "outputs": [],
   "source": [
    "c = np.arange(24).reshape(6,4)\n",
    "a + c"
   ]
  },
  {
   "cell_type": "markdown",
   "id": "5a68ac74-563a-4011-9e75-e309efee6ee9",
   "metadata": {},
   "source": [
    "## Apilación, concatenación y separación de arreglos"
   ]
  },
  {
   "cell_type": "code",
   "execution_count": null,
   "id": "9186ea32-3db2-4793-a6c9-f91d6163279f",
   "metadata": {
    "tags": []
   },
   "outputs": [],
   "source": [
    "a = np.arange(4).reshape(2,2)\n",
    "b = np.arange(4,8,1).reshape(2,2)\n",
    "print(a)\n",
    "print(b)"
   ]
  },
  {
   "cell_type": "code",
   "execution_count": null,
   "id": "d6c820f0-47ea-4feb-902a-d0d6618eeb98",
   "metadata": {
    "tags": []
   },
   "outputs": [],
   "source": [
    "np.vstack( (a, b) ) # Apilación vertical "
   ]
  },
  {
   "cell_type": "code",
   "execution_count": null,
   "id": "e6000818-411a-47b4-b622-84356821a0f4",
   "metadata": {
    "tags": []
   },
   "outputs": [],
   "source": [
    "np.hstack( (a, b) ) # Apilación horizontal "
   ]
  },
  {
   "cell_type": "code",
   "execution_count": null,
   "id": "d57c6786-3911-4acb-a9b8-1da3635992b4",
   "metadata": {
    "tags": []
   },
   "outputs": [],
   "source": [
    "x = np.arange(1,25,1).reshape(6,4)\n",
    "x"
   ]
  },
  {
   "cell_type": "code",
   "execution_count": null,
   "id": "9f0f42a3-49c8-4260-b388-d73236f7ab77",
   "metadata": {
    "tags": []
   },
   "outputs": [],
   "source": [
    "np.hsplit(x, 2) # División vertical en dos arreglos"
   ]
  },
  {
   "cell_type": "code",
   "execution_count": null,
   "id": "de020ef1-9336-4864-9880-e8e603b02a99",
   "metadata": {
    "tags": []
   },
   "outputs": [],
   "source": [
    "np.vsplit(x, 2) #  División horizontal en dos arreglos"
   ]
  },
  {
   "cell_type": "markdown",
   "id": "73c2a671-be86-4d6c-aefe-6d417f9a8e76",
   "metadata": {},
   "source": [
    "**Se recomienda revisar la función <a href=\"https://numpy.org/doc/stable/reference/generated/numpy.concatenate.html#numpy.concatenate\">`np.concatenate` </a> para ver más opciones**"
   ]
  },
  {
   "cell_type": "markdown",
   "id": "90655ed8-f4d7-4538-ac71-97d90b2f1827",
   "metadata": {},
   "source": [
    "## Agregando dimensiones al arreglo"
   ]
  },
  {
   "cell_type": "code",
   "execution_count": null,
   "id": "f0c30b22-6c12-4fc4-8e3d-cfcd50ff8cc7",
   "metadata": {
    "tags": []
   },
   "outputs": [],
   "source": [
    "x = np.arange(1,11,1.)\n",
    "info_array(x)\n",
    "x"
   ]
  },
  {
   "cell_type": "code",
   "execution_count": null,
   "id": "28865d22-c719-4ea4-957c-efb9e0e1bea6",
   "metadata": {
    "tags": []
   },
   "outputs": [],
   "source": [
    "x.T"
   ]
  },
  {
   "cell_type": "code",
   "execution_count": null,
   "id": "23c55296-8507-4fbf-b56a-531ce7a331cb",
   "metadata": {
    "tags": []
   },
   "outputs": [],
   "source": [
    "x_row = x[np.newaxis, :]\n",
    "info_array(x_row)\n",
    "x_row"
   ]
  },
  {
   "cell_type": "code",
   "execution_count": null,
   "id": "31aade8d-9ee0-4c5a-898c-4aa4b34763a0",
   "metadata": {
    "tags": []
   },
   "outputs": [],
   "source": [
    "x_row.T"
   ]
  },
  {
   "cell_type": "code",
   "execution_count": null,
   "id": "a239d442-19c8-4e8f-819f-3661007354a4",
   "metadata": {
    "tags": []
   },
   "outputs": [],
   "source": [
    "x_col = x[:, np.newaxis]\n",
    "info_array(x_col)\n",
    "x_col"
   ]
  },
  {
   "cell_type": "code",
   "execution_count": null,
   "id": "e22d327d-002f-499f-9193-8affb5031173",
   "metadata": {
    "tags": []
   },
   "outputs": [],
   "source": [
    "# Otra manera\n",
    "x_row = np.expand_dims(x, axis=0)\n",
    "x_col = np.expand_dims(x, axis=1)\n",
    "print(x_row)\n",
    "print(x_col)"
   ]
  },
  {
   "cell_type": "code",
   "execution_count": null,
   "id": "833c214a-d75e-461e-8041-a41ff7843541",
   "metadata": {
    "tags": []
   },
   "outputs": [],
   "source": [
    "xrow = x.reshape(1,-1)\n",
    "print(xrow)"
   ]
  },
  {
   "cell_type": "code",
   "execution_count": null,
   "id": "3c3a3f69-7782-49c2-b47c-3c6d624d2c7a",
   "metadata": {
    "tags": []
   },
   "outputs": [],
   "source": [
    "xcol = x.reshape(-1,1)\n",
    "print(xcol)"
   ]
  },
  {
   "cell_type": "markdown",
   "id": "e4697a3a-d8b6-4e1f-a5e4-305a28070d4b",
   "metadata": {},
   "source": [
    "## Constantes"
   ]
  },
  {
   "cell_type": "code",
   "execution_count": null,
   "id": "1d121e52-2bdf-4356-a990-00e28a80fc75",
   "metadata": {
    "tags": []
   },
   "outputs": [],
   "source": [
    "np.e"
   ]
  },
  {
   "cell_type": "code",
   "execution_count": null,
   "id": "e1028835-cf62-4cb2-a032-6e55648994fe",
   "metadata": {
    "tags": []
   },
   "outputs": [],
   "source": [
    "np.euler_gamma # Euler–Mascheroni constant"
   ]
  },
  {
   "cell_type": "code",
   "execution_count": null,
   "id": "b9a32fe5-f478-4237-a2ff-9bcb13d6c278",
   "metadata": {
    "tags": []
   },
   "outputs": [],
   "source": [
    "np.pi"
   ]
  },
  {
   "cell_type": "code",
   "execution_count": null,
   "id": "eadd3146-d472-48d1-9152-3e5db555f4af",
   "metadata": {
    "tags": []
   },
   "outputs": [],
   "source": [
    "np.inf # Infinito"
   ]
  },
  {
   "cell_type": "code",
   "execution_count": null,
   "id": "7417d704-3f8f-4ea7-9a8e-becd159b2544",
   "metadata": {
    "tags": []
   },
   "outputs": [],
   "source": [
    "#Por ejemplo\n",
    "np.array([1]) / 0."
   ]
  },
  {
   "cell_type": "code",
   "execution_count": null,
   "id": "d72d6ab8-799b-4488-b2db-7f0a3317b40b",
   "metadata": {
    "tags": []
   },
   "outputs": [],
   "source": [
    "np.nan # Not a Number: Valor no definido o no representable"
   ]
  },
  {
   "cell_type": "code",
   "execution_count": null,
   "id": "91056454-05b1-47ca-881d-67a7d61480aa",
   "metadata": {
    "tags": []
   },
   "outputs": [],
   "source": [
    "# Por ejemplo\n",
    "np.sqrt(-1)"
   ]
  },
  {
   "cell_type": "code",
   "execution_count": null,
   "id": "5204bb86-eeab-4f34-8767-e8c82adc194c",
   "metadata": {
    "tags": []
   },
   "outputs": [],
   "source": [
    "np.log([-1, 1, 2])"
   ]
  },
  {
   "cell_type": "code",
   "execution_count": null,
   "id": "4bd818c1-722b-43f7-bada-1dec5c8388d6",
   "metadata": {
    "tags": []
   },
   "outputs": [],
   "source": [
    "-np.inf  # Infinito negativo"
   ]
  },
  {
   "cell_type": "code",
   "execution_count": null,
   "id": "6e82b8e9-7113-4b73-a407-4b65a029a575",
   "metadata": {
    "tags": []
   },
   "outputs": [],
   "source": [
    "# Por ejemplo\n",
    "np.array([-1]) / 0."
   ]
  },
  {
   "cell_type": "markdown",
   "id": "4556c355-9a3a-47e8-bd8b-d4d80d708013",
   "metadata": {},
   "source": [
    "## Exportando e importando arreglos a archivos"
   ]
  },
  {
   "cell_type": "code",
   "execution_count": null,
   "id": "2c7288f3-c620-4ead-8b4b-f129996e1ac7",
   "metadata": {
    "tags": []
   },
   "outputs": [],
   "source": [
    "# Salvando la información en un archivo.\n",
    "\n",
    "x = np.arange(1,25,1.0).reshape(6,4)\n",
    "print(x)\n",
    "np.savetxt('arreglo.csv', x, fmt='%.2f', delimiter=',', header='1,  2,  3,  4')"
   ]
  },
  {
   "cell_type": "code",
   "execution_count": null,
   "id": "dbbd52f5-2a9d-4143-9b5c-df91be388e1a",
   "metadata": {
    "tags": []
   },
   "outputs": [],
   "source": [
    "# Leyendo la información de un archivo\n",
    "\n",
    "xf = np.loadtxt('arreglo.csv', delimiter=',')\n",
    "xf"
   ]
  },
  {
   "cell_type": "code",
   "execution_count": null,
   "id": "0a38755b-b8af-4c2f-9dae-26118860a945",
   "metadata": {
    "tags": []
   },
   "outputs": [],
   "source": [
    "#Usando la biblioteca Pandas\n",
    "import pandas as pd\n",
    "df = pd.DataFrame(x)\n",
    "df"
   ]
  },
  {
   "cell_type": "code",
   "execution_count": null,
   "id": "412d862a-59ca-458c-8d6d-d761bc0785b9",
   "metadata": {
    "tags": []
   },
   "outputs": [],
   "source": [
    "# Guardando la información en un archivo.\n",
    "df.to_csv('arreglo_PD.csv')"
   ]
  },
  {
   "cell_type": "code",
   "execution_count": null,
   "id": "e56db619-aeed-4651-b108-d3e818e23325",
   "metadata": {
    "tags": []
   },
   "outputs": [],
   "source": [
    "y = pd.read_csv('arreglo_PD.csv')\n",
    "y"
   ]
  },
  {
   "cell_type": "markdown",
   "id": "b4bf9aa1-8812-4ce4-8afd-35fb54c191a6",
   "metadata": {},
   "source": [
    "## Universal Functions (*ufunc*)"
   ]
  },
  {
   "cell_type": "markdown",
   "id": "13fbafb5-5a6a-404d-bf4d-f74f38c92a5b",
   "metadata": {},
   "source": [
    "Una función universal (*ufunc*) es aquella que opera sobre arreglos de numpy (`ndarrays`) elemento por elemento, soportando *broadcasting* y *casting*, entre otras características estándares. \n",
    "\n",
    "- Se dice que una *ufunc* es un envoltorio (*wrapper*) vectorizado para una función que toma un número fijo de entradas específicas y produce un número de salidas específicas.\n",
    "\n",
    "- En numpy, las funciones universales son objetos de la clase `numpy.ufunc`. \n",
    "\n",
    "- Muchas de estas funciones están implementadas y compiladas en lenguaje C. \n",
    "\n",
    "- Las *ufunc* básicas operan sobre escalares, pero existe también un tipo generalizado para el cual los elementos básicos son subarreglos (vectores, matrices, etc.) y se realiza un *broadcasting* sobre las otras dimensiones. "
   ]
  },
  {
   "cell_type": "markdown",
   "id": "69747571-df6f-4899-83cd-129a5968fbd4",
   "metadata": {},
   "source": [
    "## Ufunc disponibles en Numpy\n",
    "Para una lista completa de todas las funciones universales disponibles en Numpy refierase al siguiente sitio:\n",
    "https://numpy.org/doc/stable/reference/ufuncs.html#available-ufuncs ."
   ]
  },
  {
   "cell_type": "markdown",
   "id": "aec70a02-db3c-4d20-9f79-c7c90b52fdcf",
   "metadata": {},
   "source": [
    "### Ejemplo 4."
   ]
  },
  {
   "cell_type": "code",
   "execution_count": null,
   "id": "6516fa01-53d9-4ac1-a57d-46628dd990ac",
   "metadata": {
    "tags": []
   },
   "outputs": [],
   "source": [
    "import matplotlib.pyplot as plt\n",
    "x = np.arange(0, 2*np.pi, 0.1)\n",
    "y = np.sin(x)\n",
    "plt.plot(x,y)"
   ]
  },
  {
   "cell_type": "markdown",
   "id": "099bc528-a696-43b3-b61d-1282903b15c5",
   "metadata": {},
   "source": [
    "### Ejemplo 5."
   ]
  },
  {
   "cell_type": "code",
   "execution_count": null,
   "id": "d4c953c6-d144-4b5a-8ec1-195cd1b486ac",
   "metadata": {
    "tags": []
   },
   "outputs": [],
   "source": [
    "x = np.linspace(0, 10, 100)                # Vector renglón\n",
    "y = np.linspace(0, 10, 100)#[:, np.newaxis] # Vector columna\n",
    "z = x * y\n",
    "print(f' x.shape = {x.shape} \\n y.shape = {y.shape} \\n z.shape = {z.shape}')"
   ]
  },
  {
   "cell_type": "code",
   "execution_count": null,
   "id": "8ba2b43c-8402-4553-a8a2-8dc229919d1f",
   "metadata": {
    "tags": []
   },
   "outputs": [],
   "source": [
    "print(z)"
   ]
  },
  {
   "cell_type": "code",
   "execution_count": null,
   "id": "5f2782d6-9210-4730-8dfa-69a26d51ad3f",
   "metadata": {
    "tags": []
   },
   "outputs": [],
   "source": [
    "plt.plot(z)"
   ]
  },
  {
   "cell_type": "code",
   "execution_count": null,
   "id": "121d9379-0ee1-4487-8186-a2433afd7f5b",
   "metadata": {
    "tags": []
   },
   "outputs": [],
   "source": [
    "i = plt.imshow(z.reshape((10,10)))\n",
    "plt.colorbar(i)"
   ]
  },
  {
   "cell_type": "code",
   "execution_count": null,
   "id": "58482907-e592-46fe-8e0d-4a4ab9f65d6b",
   "metadata": {
    "tags": []
   },
   "outputs": [],
   "source": [
    "z = np.sin(x) ** 10 + np.cos(10 + y * x) * np.cos(x)\n",
    "print(f' x.shape = {x.shape} \\n y.shape = {y.shape} \\n z.shape = {z.shape}')\n",
    "\n",
    "plt.plot(z)\n",
    "i = plt.imshow(z.reshape((10,10)))\n",
    "plt.colorbar(i)"
   ]
  },
  {
   "cell_type": "markdown",
   "id": "877060fd-e00b-4d96-bdc0-239e21d2bc49",
   "metadata": {},
   "source": [
    "## Álgebra lineal"
   ]
  },
  {
   "cell_type": "code",
   "execution_count": null,
   "id": "4ddcaa84-1085-486c-b549-9dce2102a49f",
   "metadata": {
    "tags": []
   },
   "outputs": [],
   "source": [
    "A = np.linspace(1,9,9).reshape(3,3)\n",
    "B = np.linspace(1,9,9).reshape(3,3)\n",
    "a = np.linspace(1,3,3)\n",
    "b = np.linspace(1,3,3)\n",
    "print(A)\n",
    "print(B)\n",
    "print(a)\n",
    "print(b)"
   ]
  },
  {
   "cell_type": "code",
   "execution_count": null,
   "id": "ce478bc4-26c4-4bb9-a529-92798f29b340",
   "metadata": {
    "tags": []
   },
   "outputs": [],
   "source": [
    "A.T # Transpuesta de la matriz"
   ]
  },
  {
   "cell_type": "code",
   "execution_count": null,
   "id": "672d7551-eafa-497e-89e0-7f370eb87073",
   "metadata": {
    "tags": []
   },
   "outputs": [],
   "source": [
    "a * b # Producto de dos vectores elemento por elemento"
   ]
  },
  {
   "cell_type": "code",
   "execution_count": null,
   "id": "25fa48df-741b-464b-92c0-931c7f24eb3e",
   "metadata": {
    "tags": []
   },
   "outputs": [],
   "source": [
    "A * B # Producto de dos matrices elemento por elemento"
   ]
  },
  {
   "cell_type": "code",
   "execution_count": null,
   "id": "a3c03d5f-aa5e-4169-a0f4-698d4c287692",
   "metadata": {
    "tags": []
   },
   "outputs": [],
   "source": [
    "np.dot(a,b) # Producto punto de dos vectores"
   ]
  },
  {
   "cell_type": "code",
   "execution_count": null,
   "id": "5159db13-a504-4f74-a073-d23b5a1cd078",
   "metadata": {
    "tags": []
   },
   "outputs": [],
   "source": [
    "a @ b # Producto punto de dos vectores"
   ]
  },
  {
   "cell_type": "code",
   "execution_count": null,
   "id": "45ff7d8b-97de-409c-8032-efe6ea381d6e",
   "metadata": {
    "tags": []
   },
   "outputs": [],
   "source": [
    "np.dot(A,b) # Producto matriz - vector"
   ]
  },
  {
   "cell_type": "code",
   "execution_count": null,
   "id": "8e292e4c-257a-4a46-878c-3e779253912b",
   "metadata": {
    "tags": []
   },
   "outputs": [],
   "source": [
    "A @ b # Producto matriz - vector"
   ]
  },
  {
   "cell_type": "code",
   "execution_count": null,
   "id": "08c4a79f-5c98-40b6-93b2-ab2f99d40727",
   "metadata": {
    "tags": []
   },
   "outputs": [],
   "source": [
    "np.dot(A,B) # Producto matriz - matriz"
   ]
  },
  {
   "cell_type": "code",
   "execution_count": null,
   "id": "f61187c9-11eb-4ebe-90dd-05dd89481806",
   "metadata": {
    "tags": []
   },
   "outputs": [],
   "source": [
    "A @ B  # Producto matriz - matriz"
   ]
  },
  {
   "cell_type": "code",
   "execution_count": null,
   "id": "6b6c2770-2aa5-427c-b30c-bc414b013939",
   "metadata": {
    "tags": []
   },
   "outputs": [],
   "source": [
    "c = b[:,np.newaxis] # Agregamos una dimension al vector (vector columna)\n",
    "print(c.shape)\n",
    "print(c)"
   ]
  },
  {
   "cell_type": "code",
   "execution_count": null,
   "id": "abb3d865-d6c6-478d-9755-1cd634d1b845",
   "metadata": {
    "tags": []
   },
   "outputs": [],
   "source": [
    "print(a)"
   ]
  },
  {
   "cell_type": "code",
   "execution_count": null,
   "id": "e5f0b387-964e-4861-9bfa-f206f8e886cb",
   "metadata": {
    "tags": []
   },
   "outputs": [],
   "source": [
    "c * a # Producto externo: vector columna por vector renglón"
   ]
  },
  {
   "cell_type": "markdown",
   "id": "70c5bb73-f22f-4d6e-a02a-10a81c5c5250",
   "metadata": {
    "tags": []
   },
   "source": [
    "# Matplotlib.\n",
    "\n",
    "**Matplotlib** es una biblioteca de Python multiplataforma para generar gráficos (plots) en dos dimensiones con las siguientes características: \n",
    "\n",
    "* Se puede usar en una variedad de ámbitos:\n",
    "    - Scripts de Python, Shells de IPython, Notebooks de Jupyter, Aplicaciones para Web e Interfaces Gráficas de Usuario (GUI). \n",
    "* Se puede usar para desarrollar aplicaciones profesionales.\n",
    "* Puede generar varios tipos de formatos de figuras y videos:\n",
    "    - png, jpg, svg, pdf, mp4, ...\n",
    "* Tiene un soporte limitado para realizar figuras en 3D.\n",
    "* Puede combinarse con otras bibliotecas y aplicaciones para extender su funcionalidad.\n",
    "\n",
    "**Arquitectura** de tres capas:\n",
    "* **Scripting**: API para crear gráficas.\n",
    "    - Provee de una interfaz simple para crear gráficas.\n",
    "    - Está orientada a usuarios sin mucha experiencia en la programación.\n",
    "    - Es lo que se conoce como el API de pyplot.\n",
    "* **Artist**: Hace el trabajo interno de creación de los elementos de la gráfica.\n",
    "   - Los Artist (¿artesanos?) dibujan los elementos de la gráfica.\n",
    "   - Cada elemento que se ve en la gráfica es un Artist.\n",
    "   - Provee de un API orientado a objetos muy flexible.\n",
    "   - Está orientado a programadores expertos para crear aplicaciones complejas.\n",
    "* **Backend**: El lugar donde se despliega la gráfica. Las gráficas se envían a un dispositivo de salida. Puede ser cualquier interfaz que soporta Matplotlib:\n",
    "   - User interface backends (interactive backends): pygtk, wxpython, tkinter, qt4, macosx, … \n",
    "   - Hard-copy backends (non-interactive backends): .png, .svg, .pdf, .ps"
   ]
  },
  {
   "cell_type": "markdown",
   "id": "00f1eb59-2dd7-4045-bfef-9c78b7f3662d",
   "metadata": {
    "tags": []
   },
   "source": [
    "## Anatomía de una figura.\n",
    "\n",
    "[https://matplotlib.org/stable/_images/anatomy.png]\n",
    "<img src=\"https://matplotlib.org/stable/_images/anatomy.png\" width=500>"
   ]
  },
  {
   "cell_type": "code",
   "execution_count": null,
   "id": "e317211d-8428-4957-9f76-764a6f5619a1",
   "metadata": {
    "tags": []
   },
   "outputs": [],
   "source": [
    "import numpy as np\n",
    "import matplotlib.pyplot as plt"
   ]
  },
  {
   "cell_type": "markdown",
   "id": "038aa310-dca5-4a00-bffb-6811d731ef03",
   "metadata": {},
   "source": [
    "## Figure\n",
    "- Representa a la figura completa. \n",
    "- Le da seguimiento a todos sus ejes hijos (*Axes*), un puñado de artistas especiales (*titles*, *figure legends*, etc.) y el lienzo (*canvas*).\n",
    "- Una figura puede tener cualquier número de ejes (*Axes*), y siempre debe haber al menos uno.\n",
    "- La forma más fácil de crear una figura es con `pyplot`."
   ]
  },
  {
   "cell_type": "code",
   "execution_count": null,
   "id": "72068d75-8ab6-4094-8a46-96f54028b3fa",
   "metadata": {
    "tags": []
   },
   "outputs": [],
   "source": [
    "# Creación de una figura (pyplot)\n",
    "fig = plt.figure()"
   ]
  },
  {
   "cell_type": "code",
   "execution_count": null,
   "id": "0b9a0c51-4d3c-4c92-8cb4-738974b4fba1",
   "metadata": {
    "tags": []
   },
   "outputs": [],
   "source": [
    "print(fig, type(fig), id(fig))"
   ]
  },
  {
   "cell_type": "markdown",
   "id": "288c19b4-6d2f-426e-a82f-10b640eb8264",
   "metadata": {},
   "source": [
    "## Axes\n",
    "- Es la región de la imagen con el espacio para graficar los datos.\n",
    "- Una figura puede contener muchos objetos de tipo *Axes*, pero un objeto *Axes* solo puede estar en una figura.\n",
    "- Los objetos *Axes* contienen dos objetos *Axis* (tres en 3D) los cuales se encargan de los límites de los datos.\n",
    "- Cada objeto *Axes* tiene un título (`set_title())`, un *x-label* (`set_xlabel()`) y un *y-label* (`set_ylabel()`).\n",
    "- La clase `Axes` y sus funciones miembro son el primer punto de entrada para trabajar con la interface Orientada a Objetos."
   ]
  },
  {
   "cell_type": "code",
   "execution_count": null,
   "id": "f83f063e-7e62-467d-86bf-c28c88b05d08",
   "metadata": {
    "tags": []
   },
   "outputs": [],
   "source": [
    "# Obtiene los ejes (Axes) de la figura actual (get current axes)\n",
    "ax = plt.gca() \n",
    "\n",
    "# Obtiene la figura actual\n",
    "fig = plt.gcf()\n",
    "\n",
    "print(fig, type(fig), id(fig))\n",
    "print(ax, type(ax), id(ax))"
   ]
  },
  {
   "cell_type": "markdown",
   "id": "61ecb354-a089-44c2-8315-3af1fe835c71",
   "metadata": {},
   "source": [
    "## Subgráficas en una figura."
   ]
  },
  {
   "cell_type": "code",
   "execution_count": null,
   "id": "5ca8b3ff-70d1-44c8-8c06-9100f4003001",
   "metadata": {
    "tags": []
   },
   "outputs": [],
   "source": [
    "# Genera una subgráfica\n",
    "fig, ax = plt.subplots(1)\n",
    "\n",
    "print(fig, type(fig), id(fig))\n",
    "print(ax, type(ax), id(ax))"
   ]
  },
  {
   "cell_type": "code",
   "execution_count": null,
   "id": "dceea7fb-e0a8-41a7-a043-46b15740c3fc",
   "metadata": {
    "tags": []
   },
   "outputs": [],
   "source": [
    "# Genera 6 subgráficas, arreglo de 2 renglones por tres columnas\n",
    "fig, axes = plt.subplots(2,3)\n",
    "\n",
    "# Se puede usar cada conjunto de ejes por separado\n",
    "axes[0,0].set_title('Ejes 0,0')\n",
    "axes[1,1].set_title('Ejes 1,1')"
   ]
  },
  {
   "cell_type": "code",
   "execution_count": null,
   "id": "12909bfc-1584-49d2-bee1-c190aebdcb2e",
   "metadata": {
    "tags": []
   },
   "outputs": [],
   "source": [
    "print(axes[0,1], type(axes[0,1]), id(axes[0,1]))"
   ]
  },
  {
   "cell_type": "markdown",
   "id": "bc7eae2c-f79b-47f8-808c-d12173bc7d13",
   "metadata": {},
   "source": [
    "## Axis\n",
    "- Estos son objetos del tipo línea numerada. \n",
    "- Se encargan de configurar los límites de la gráfica y de generar las marcas sobre los ejes (*ticks*) y las etiquetas sobre esas marcas (*ticklabels*).\n",
    "- El lugar donde se ponen esas marcas se determina por un objeto `Locator` y las cadenas de las etiquetas son formateadas por un objeto `Formatter`.\n",
    "- La combinación de los objetos `Locator` y `Formatter` adecuados dan un control muy fino sobre el lugar de los *ticks* y sus *ticklabels*.\n"
   ]
  },
  {
   "cell_type": "code",
   "execution_count": null,
   "id": "8ee57878-f7f7-406a-9006-20eb2d28d170",
   "metadata": {
    "tags": []
   },
   "outputs": [],
   "source": [
    "# Generación de las etiquetas de los ejes, los ticks y los tickslabels.\n",
    "fig = plt.figure(figsize=(10,5))\n",
    "plt.xlabel('x')\n",
    "plt.ylabel('y')\n",
    "plt.xticks(ticks=np.linspace(0,1,5), labels=['a', 'b', 'c', 'd', 'e'])\n",
    "plt.yticks(ticks=np.linspace(0,1,2), labels=['A', 'B'])\n",
    "#plt.show()"
   ]
  },
  {
   "cell_type": "markdown",
   "id": "4d41a521-1706-49c3-a256-18712bae3b79",
   "metadata": {},
   "source": [
    "## Artist\n",
    "- Todo lo que se puede ver en la figura es un *Artist*: `Figure`, `Axes` y `Axis`, `Text`, `Line2D`, `collection`, `Patch`, etc.\n",
    "- Cuando una figura es producida/generada, todos los *Artist* son dibujados sobre el canvas.\n",
    "- La mayoría de los *Artist* están ligados a objetos de tipo `Axes`, esos *Artist* no se pueden compartir con múltiples `Axes`, ni se pueden mover a otros `Axes`.\n"
   ]
  },
  {
   "cell_type": "markdown",
   "id": "6f5ba184-ab86-447c-bf12-dc1033793e92",
   "metadata": {},
   "source": [
    "### Ejemplo 0. Varios `Artist` en una figura."
   ]
  },
  {
   "cell_type": "code",
   "execution_count": null,
   "id": "3788454a-dfb6-44df-b358-5e287b6f463c",
   "metadata": {
    "tags": []
   },
   "outputs": [],
   "source": [
    "# Figura con una gráfica y varios Artist\n",
    "\n",
    "# Datos a graficar\n",
    "x = np.linspace(0,2*np.pi,100)\n",
    "y = np.sin(4*x)*np.exp(-x)\n",
    "\n",
    "# La siguiente instrucción crea la figura, aunque no es\n",
    "# necesario hacer explícita esta creación pues la figura \n",
    "# se crea automáticamente con el uso de algunas funciones \n",
    "# de matplotlib. Es útil para definir características de\n",
    "# la figura al inicio, por ejemplo figsize=(,)\n",
    "plt.figure()\n",
    "\n",
    "# Graficamos los datos con una línea y le ponemos una etiqueta\n",
    "plt.plot(x,y, label='$\\sin(4 \\pi x) e^{-x}$')\n",
    "\n",
    "# Lo que sigue es la decoración de la figura y de los ejes\n",
    "plt.suptitle('FIGURA') # título de la figura\n",
    "plt.title('Onda amortiguada') # título de los ejes\n",
    "plt.xlabel('$x$')\n",
    "plt.ylabel('$y$')\n",
    "plt.grid()\n",
    "plt.legend()\n",
    "\n",
    "# Despliegue de la gráfica y generación de un archivo\n",
    "plt.savefig('onda_amortiguada.pdf')\n",
    "plt.show()"
   ]
  },
  {
   "cell_type": "markdown",
   "id": "03f1bdfa-3bcc-4e48-8ab2-0dad084ca326",
   "metadata": {
    "tags": []
   },
   "source": [
    "### Ejemplo 1. `plot()` y `scatter()`\n",
    "Dibujar las funciones $\\sin(x)$ , $\\cos(x)$ y puntos aleatorios en una sola gráfica en el dominio $(x,y) \\in [0,2\\pi] \\times [-1,1]$."
   ]
  },
  {
   "cell_type": "code",
   "execution_count": null,
   "id": "fbfbea86-496c-4b98-aec7-a67a2c570b19",
   "metadata": {
    "tags": []
   },
   "outputs": [],
   "source": [
    "# Definimos el dominio para x\n",
    "x = np.linspace(0,2*np.pi,100)\n",
    "\n",
    "# Generamos un conjunto de datos aleatorios\n",
    "r = np.random.rand(2,50)\n",
    "\n",
    "# Transformamos los datos al dominio de (x,y)\n",
    "r[0] *= 2*np.pi      # de 0 a 2 * pi\n",
    "r[1] =  r[1] * 2 - 1 # de -1  a 1\n",
    "\n",
    "# Lo anterior se puede hacer también con la siguiente operación entre arreglos\n",
    "# r = np.random.rand(2,50) * np.array([2*np.pi, 2]).reshape(2,1) - np.array([0,1]).reshape(2,1)\n",
    "\n",
    "# Evaluamos las funciones sin(x) y cos(x)\n",
    "y1 = np.sin(x)\n",
    "y2 = np.cos(x)\n",
    "\n",
    "# Graficamos\n",
    "plt.plot(x, y1, x, y2)  # Dibuja líneas por omisión\n",
    "plt.scatter(r[0], r[1], c='C2') # Dibuja marcadores\n",
    "\n",
    "plt.show()"
   ]
  },
  {
   "cell_type": "markdown",
   "id": "a6964070-02f4-4f3a-9022-5ae47ff486c6",
   "metadata": {},
   "source": [
    "La gráfica anterior se puede decorar un poco mejor usando las opciones de los *artist* involucrados."
   ]
  },
  {
   "cell_type": "code",
   "execution_count": null,
   "id": "23ff9849-1ee4-4499-b9b9-0400f906a9d3",
   "metadata": {
    "tags": []
   },
   "outputs": [],
   "source": [
    "# Para la gráfica de sin(x), cambiamos el ancho de la línea (lw=3), \n",
    "# el color (c='C7') y la etiqueta (label='sin')\n",
    "plt.plot(x, y1, lw = 3, c='C7', label='sin')\n",
    "\n",
    "# Para la gráfica de cos(x) solo agregamos la etiqueta (label='cos')\n",
    "plt.plot(x, y2, label='cos')\n",
    "\n",
    "# Para los puntos aleatorios calculamos un 'area' para cada marcador.\n",
    "# Esta área se cálcula de manera pseudo-aleatoria.\n",
    "area = np.random.rand(50) * 100\n",
    "\n",
    "# Usamos el área para cambiar el tamaño de cada marcador (s=area),\n",
    "# cambiamos el mapa de color (cmap='cool'), el color del borde de los\n",
    "# marcadores lo hacemos de color negro (edgecolor='k'), y le damos una\n",
    "# transparencia al marcador (alpha=0.5).\n",
    "plt.scatter(r[0], r[1], s=area, c=area, cmap='cool', edgecolor='k', alpha=0.5)\n",
    "\n",
    "# Ponemos nombre a los ejes\n",
    "plt.xlabel('x')\n",
    "plt.ylabel('y')\n",
    "# Dibujamos la leyenda\n",
    "plt.legend()\n",
    "\n",
    "plt.show()"
   ]
  },
  {
   "cell_type": "markdown",
   "id": "a1f57bab-6e73-4a05-9007-bf0eeb70a367",
   "metadata": {
    "tags": []
   },
   "source": [
    "### Ejemplo 2. `imshow()` y `colorbar()`\n",
    "Visualizar una imagen. Vamos a usar la biblioteca [*Python Image Library* (PIL)](https://pillow.readthedocs.io/en/stable/) para leer una imagen en formato jpg. "
   ]
  },
  {
   "cell_type": "code",
   "execution_count": null,
   "id": "870a3e55-f2f8-46f4-9813-5b4eb690948c",
   "metadata": {
    "tags": []
   },
   "outputs": [],
   "source": [
    "from PIL import Image\n",
    "\n",
    "fjpg = Image.open('../figuras/chapulin.jpg')\n",
    "print(type(fjpg))"
   ]
  },
  {
   "cell_type": "code",
   "execution_count": null,
   "id": "eec9fe94-dced-4171-89cd-577e088bb6d5",
   "metadata": {
    "tags": []
   },
   "outputs": [],
   "source": [
    "# El contenido de la imagen se puede transformar en un arreglo de numpy.\n",
    "chapulin = np.asarray(fjpg)\n",
    "print(type(chapulin))\n",
    "print(chapulin.shape)\n",
    "print(repr(chapulin)) "
   ]
  },
  {
   "cell_type": "code",
   "execution_count": null,
   "id": "1809b1dd-34c0-4104-a898-e4322f310e41",
   "metadata": {
    "tags": []
   },
   "outputs": [],
   "source": [
    "# Graficamos al chapulin\n",
    "plt.imshow(chapulin)\n",
    "plt.show()"
   ]
  },
  {
   "cell_type": "markdown",
   "id": "9cab5799-cda0-4585-8c0a-45c12459e5c3",
   "metadata": {},
   "source": [
    "Como el objeto `chapulin` es un objeto de tipo `ndarray`, podemos usar las funciones de numpy sobre él."
   ]
  },
  {
   "cell_type": "code",
   "execution_count": null,
   "id": "4c07a90b-c0fa-49b2-a984-b9c630a43b59",
   "metadata": {
    "tags": []
   },
   "outputs": [],
   "source": [
    "# Obtenmos uno de los canales de la imagen\n",
    "canal1_chapulin = chapulin[:,:,2]"
   ]
  },
  {
   "cell_type": "code",
   "execution_count": null,
   "id": "4f98b80e-60b9-4049-9b4e-a31d9f1b8ba3",
   "metadata": {
    "tags": []
   },
   "outputs": [],
   "source": [
    "plt.imshow(canal1_chapulin)\n",
    "plt.show()"
   ]
  },
  {
   "cell_type": "code",
   "execution_count": null,
   "id": "b5a614a0-db38-46c2-99e2-3e27335264c5",
   "metadata": {
    "tags": []
   },
   "outputs": [],
   "source": [
    "# Podemos usar el parámetro cmap para cambiar el mapa de color\n",
    "plt.imshow(canal1_chapulin, cmap='hot')\n",
    "plt.show()"
   ]
  },
  {
   "cell_type": "code",
   "execution_count": null,
   "id": "52b44152-a759-4306-aec9-5b78346cde5f",
   "metadata": {
    "tags": []
   },
   "outputs": [],
   "source": [
    "# Podemos agregar una barra de colores\n",
    "nueva = plt.imshow(canal1_chapulin, cmap='seismic')\n",
    "plt.colorbar(nueva)\n",
    "plt.show()"
   ]
  },
  {
   "cell_type": "markdown",
   "id": "dc86cfd4-67bb-4a0c-8478-13d69fa7abef",
   "metadata": {
    "tags": []
   },
   "source": [
    "### Ejemplo 3. Ajuste del `colorbar`\n",
    "\n",
    "Algunas veces la barra de color no se ajusta automáticamente a la figura que representa. Por ejemplo:"
   ]
  },
  {
   "cell_type": "code",
   "execution_count": null,
   "id": "dce98c72-5a3f-4107-9483-f635aee0e733",
   "metadata": {
    "tags": []
   },
   "outputs": [],
   "source": [
    "fig = plt.figure(figsize=(5, 5))\n",
    "im = plt.imshow(chapulin, interpolation=\"hermite\")\n",
    "plt.colorbar(im)\n",
    "plt.tight_layout()"
   ]
  },
  {
   "cell_type": "markdown",
   "id": "599bcb4c-128d-4799-b6c2-069fecbe9637",
   "metadata": {},
   "source": [
    "Para ajustar el colorbar en esos casos se puede hacer uso de la función `make_axes_locatable` (parte del módulo `axes_divider`). Esta función toma unos ejes existentes, crea un divisor para estos ejes y regresa un objeto de la clase `AxesLocator`. El método `append_axes` de este `AxesLocator` se puede usar para crear unos ejes nuevos en uno de los lados (\"top\", \"right\", \"bottom\", or \"left\") de los ejes originales"
   ]
  },
  {
   "cell_type": "code",
   "execution_count": null,
   "id": "39cfea50-e4a9-4def-a443-19b6413cd1b2",
   "metadata": {
    "tags": []
   },
   "outputs": [],
   "source": [
    "from mpl_toolkits.axes_grid1 import make_axes_locatable\n",
    "\n",
    "fig = plt.figure(figsize=(5, 5))\n",
    "im = plt.imshow(chapulin, interpolation=\"none\")\n",
    "\n",
    "divider = make_axes_locatable(plt.gca())\n",
    "cax = divider.append_axes(\"right\", \"5%\", pad=\"3%\")\n",
    "plt.colorbar(im, cax=cax)\n",
    "plt.tight_layout()"
   ]
  },
  {
   "cell_type": "markdown",
   "id": "9caff0be-2536-4b40-88c2-1f8f49cd3f04",
   "metadata": {},
   "source": [
    "Cuando se pone el colorbar en la parte superior de la figura, es necesario ajustar la orientación y los ticks:"
   ]
  },
  {
   "cell_type": "code",
   "execution_count": null,
   "id": "589bcc4c-0d37-4719-a92f-42e8ae17730f",
   "metadata": {
    "tags": []
   },
   "outputs": [],
   "source": [
    "fig = plt.figure(figsize=(5, 5))\n",
    "im = plt.imshow(chapulin, interpolation=\"none\")\n",
    "\n",
    "divider = make_axes_locatable(plt.gca())\n",
    "cax = divider.append_axes(\"top\", \"5%\", pad=\"3%\")\n",
    "plt.colorbar(im, cax=cax, orientation='horizontal')\n",
    "cax.xaxis.set_ticks_position(\"top\") # Posición de los ticks\n",
    "plt.tight_layout()"
   ]
  },
  {
   "cell_type": "markdown",
   "id": "21fc5180-f1d3-4143-9fd6-d16356551a89",
   "metadata": {},
   "source": [
    "### Ejemplo 4. `hist()`\n",
    "\n",
    "Crear un histograma con los valores del objeto `canal1_chapulin`."
   ]
  },
  {
   "cell_type": "markdown",
   "id": "755f19c4-9121-4acc-a03b-72097795bf83",
   "metadata": {},
   "source": [
    "Para hacer el histograma necesitamos un arreglo 1D, entonces primero debemos cambiar el `shape` del objeto `canal1_chapulin`:"
   ]
  },
  {
   "cell_type": "code",
   "execution_count": null,
   "id": "55f12099-6247-46aa-96ef-cc38fb78d8d4",
   "metadata": {
    "tags": []
   },
   "outputs": [],
   "source": [
    "print(canal1_chapulin.shape)"
   ]
  },
  {
   "cell_type": "code",
   "execution_count": null,
   "id": "577667a5-db3a-4da3-afc3-a8c907e2ff9b",
   "metadata": {
    "tags": []
   },
   "outputs": [],
   "source": [
    "canal1_chapulin_flat = canal1_chapulin.flatten()\n",
    "print(canal1_chapulin_flat.shape)\n",
    "print(canal1_chapulin_flat)"
   ]
  },
  {
   "cell_type": "code",
   "execution_count": null,
   "id": "5ab0aa32-fbbe-4a46-ad82-1888ad6a02c3",
   "metadata": {
    "tags": []
   },
   "outputs": [],
   "source": [
    "# Usamos la función hist() para generar el histogramos, \n",
    "# debemos definir cuantas barras queremos (bins=5).\n",
    "plt.hist(canal1_chapulin_flat, bins=5)\n",
    "plt.show()"
   ]
  },
  {
   "cell_type": "markdown",
   "id": "66357ddd-5b83-49d1-b2ee-5d1091da24e5",
   "metadata": {},
   "source": [
    "Vamos ahora a mejorar un poco la gráfica:"
   ]
  },
  {
   "cell_type": "code",
   "execution_count": null,
   "id": "aeb9017a-b80a-48e9-abb2-f1e0e64cad9d",
   "metadata": {
    "tags": []
   },
   "outputs": [],
   "source": [
    "# Los parámetros que usamos son los siguientes:\n",
    "# facecolor = 'C3', color de las barras (es equivalente a fc='C3)\n",
    "# ec = 'gray', color del contorno (es equivalente a edgecolor='gray')\n",
    "# alpha = 0.5, transparencia\n",
    "plt.hist(canal1_chapulin_flat, bins=15, facecolor='C3', ec = 'gray', alpha=0.5)\n",
    "plt.show()"
   ]
  },
  {
   "cell_type": "markdown",
   "id": "3cf9ef59-e358-49eb-a0c5-81cfb12cc28a",
   "metadata": {},
   "source": [
    "### Ejemplo 5. Múltiples gráficas `add_subplot()`\n",
    "\n",
    "Varias subgráficas"
   ]
  },
  {
   "cell_type": "code",
   "execution_count": null,
   "id": "9e2b938d-9d38-46e2-b7ef-1627a23b0d6b",
   "metadata": {
    "tags": []
   },
   "outputs": [],
   "source": [
    "fig = plt.figure()\n",
    "\n",
    "ax = fig.add_subplot(1, 2, 1)\n",
    "imgplot = plt.imshow(chapulin)\n",
    "ax.set_title('Original')\n",
    "plt.colorbar(ticks=[0,100,200], orientation='horizontal')\n",
    "\n",
    "ax = fig.add_subplot(1, 2, 2)\n",
    "imgplot = plt.imshow(canal1_chapulin, cmap='hot')\n",
    "ax.set_title('Canal 2')\n",
    "plt.colorbar(ticks=[0,100,200], orientation='horizontal')\n",
    "\n",
    "plt.tight_layout()\n",
    "plt.show()"
   ]
  },
  {
   "cell_type": "code",
   "execution_count": null,
   "id": "cdd81d4c-787f-4a04-9a4c-f8622c375b83",
   "metadata": {
    "tags": []
   },
   "outputs": [],
   "source": [
    "fig = plt.figure()\n",
    "\n",
    "ax1 = fig.add_subplot(311)\n",
    "plt.hist(chapulin[:,:,0].flatten(), bins=15, facecolor='C1', ec = 'gray', alpha=0.5)\n",
    "ax1.set_title('Canal 0')\n",
    "ax1.set_xticks(np.arange(0,300,25))\n",
    "ax1.set_yticks(np.arange(0,500000,100000))\n",
    "ax1.set_ylim(0,475000)\n",
    "\n",
    "ax2 = fig.add_subplot(312, sharex = ax1, sharey = ax1)\n",
    "plt.hist(chapulin[:,:,1].flatten(), bins=15, facecolor='C2', ec = 'gray', alpha=0.5)\n",
    "ax2.set_title('Canal 1')\n",
    "\n",
    "ax3 = fig.add_subplot(313, sharex = ax1, sharey = ax1)\n",
    "plt.hist(canal1_chapulin_flat, bins=15, facecolor='C3', ec = 'gray', alpha=0.5)\n",
    "ax3.set_title('Canal 2')\n",
    "\n",
    "plt.tight_layout()\n",
    "plt.show()"
   ]
  },
  {
   "cell_type": "markdown",
   "id": "82cd1d8b-43ea-47f8-b7b6-1d2f104546b0",
   "metadata": {},
   "source": [
    "### Ejemplo 6. Efecto de `tight_layout`\n",
    "\n",
    "Algunas veces los títulos, las etiquetas de los ejes o los ticklabels pueden quedar fuera de la gráfica. La función `tight_layout` ayuda a mejorar la posición de estos elementos."
   ]
  },
  {
   "cell_type": "code",
   "execution_count": null,
   "id": "98eac92a-532c-4c01-881d-c855a4b81160",
   "metadata": {
    "tags": []
   },
   "outputs": [],
   "source": [
    "# Definimos una función para realizar algunas gráficas\n",
    "\n",
    "def grafica(ax, fontsize=12):\n",
    "    ax.scatter(r[0], r[1], s=area, c=area, zorder = 2,\n",
    "               cmap='cool', edgecolor='k', alpha=0.5)\n",
    "    ax.plot(x, y1, lw = 3, c='C7', label='sin')\n",
    "    ax.plot(x, y2, label='cos')\n",
    "\n",
    "    ax.set_xlabel('x-label', fontsize=fontsize)\n",
    "    ax.set_ylabel('y-label', fontsize=fontsize)\n",
    "    ax.set_title('Title', fontsize=fontsize)"
   ]
  },
  {
   "cell_type": "code",
   "execution_count": null,
   "id": "e0953208-445d-4808-9b27-c1c16d75c458",
   "metadata": {
    "tags": []
   },
   "outputs": [],
   "source": [
    "fig, ax = plt.subplots()\n",
    "grafica(ax, fontsize=16)\n",
    "#plt.tight_layout()    # Ajusta la gráfica automáticamente\n",
    "plt.savefig('figura_tight.pdf')"
   ]
  },
  {
   "cell_type": "code",
   "execution_count": null,
   "id": "062325a4-d347-47ce-b9cb-29f96655dedb",
   "metadata": {
    "tags": []
   },
   "outputs": [],
   "source": [
    "fig, ((ax1, ax2), (ax3, ax4)) = plt.subplots(nrows=2, ncols=2)\n",
    "grafica(ax1)\n",
    "grafica(ax2)\n",
    "grafica(ax3)\n",
    "grafica(ax4)\n",
    "\n",
    "#plt.tight_layout() # Ajusta la gráfica automáticamente\n",
    "#plt.tight_layout(pad=0.4, w_pad=0.5, h_pad=2.0, rect=[0,0,0.5,1])\n",
    "\n",
    "plt.savefig('figura_2x2.pdf')"
   ]
  },
  {
   "cell_type": "code",
   "execution_count": null,
   "id": "4ff1b91e-194f-4e3d-aca3-2c6a835292b8",
   "metadata": {
    "tags": []
   },
   "outputs": [],
   "source": [
    "ax1 = plt.subplot(221)\n",
    "ax2 = plt.subplot(223)\n",
    "ax3 = plt.subplot(122)\n",
    "\n",
    "grafica(ax1)\n",
    "grafica(ax2)\n",
    "grafica(ax3)\n",
    "\n",
    "#plt.tight_layout() # Ajusta la gráfica automáticamente\n"
   ]
  },
  {
   "cell_type": "markdown",
   "id": "54507985-a4fd-49e0-9cb4-f615e5f21f65",
   "metadata": {},
   "source": [
    "### Ejemplo 7. Múltiples gráficas con `subplot2grid`"
   ]
  },
  {
   "cell_type": "code",
   "execution_count": null,
   "id": "30667fce-2ba8-48fd-8b88-5e328cd71800",
   "metadata": {
    "tags": []
   },
   "outputs": [],
   "source": [
    "# (0,0) (0,1) (0,2)\n",
    "# (1,0) (1,1) (1,2)\n",
    "# (2,0) (2,1) (2,2)\n",
    "\n",
    "ax1 = plt.subplot2grid((3, 3), (0, 0))\n",
    "ax2 = plt.subplot2grid((3, 3), (0, 1), colspan=2)\n",
    "ax3 = plt.subplot2grid((3, 3), (1, 0), colspan=2, rowspan=2)\n",
    "ax4 = plt.subplot2grid((3, 3), (1, 2), rowspan=2)\n",
    "\n",
    "grafica(ax1)\n",
    "grafica(ax2)\n",
    "grafica(ax3)\n",
    "grafica(ax4)\n",
    "\n",
    "#plt.tight_layout()"
   ]
  },
  {
   "cell_type": "markdown",
   "id": "814b0ea7-fc00-49da-9a34-ad7faf30e96d",
   "metadata": {},
   "source": [
    "# Pandas\n",
    "\n",
    "- Pandas es \"Python Data Analysis Library\". El nombre proviene del término *Panel Data* que es un término econométrico para manejar conjuntos de datos multidimensionales.\n",
    "\n",
    "- Pandas es una biblioteca que provee de herramientas de alto desempeño, fáciles de usar, para manejar estructuras de datos y para su análisis. \n",
    "\n",
    "- Pandas es un módulo que reúne las capacidades de Numpy, Scipy y Matplotlib.\n",
    "\n",
    "- Véase https://pandas.pydata.org/ para más información.\n"
   ]
  },
  {
   "cell_type": "code",
   "execution_count": null,
   "id": "e3b2c676-a78e-4b97-857e-57766f948ef9",
   "metadata": {
    "tags": []
   },
   "outputs": [],
   "source": [
    "import numpy as np\n",
    "import pandas as pd"
   ]
  },
  {
   "cell_type": "markdown",
   "id": "ac9767ee-e30e-4595-8cc9-a983a28a3d92",
   "metadata": {
    "tags": []
   },
   "source": [
    "## DataFrames\n",
    "\n",
    "- La idea principal de los DaraFrames se basa en las hojas de cálculo.\n",
    "- La estructura de un DataFrame es una tabla, similar a las hojas de cálculo.\n",
    "- Contiene una colección ordenada de columnas.\n",
    "- Cada columna consiste de un tipo de dato único.\n",
    "- Pero, diferentes columnas pueden tener diferens tipos: la primera columna podría contener cadenas, la segunda flotantes, la tercera Boleanos, etc.\n",
    "- También tiene una columna de índice: es como un diccionario de Series con un índice común.\n"
   ]
  },
  {
   "cell_type": "code",
   "execution_count": null,
   "id": "b73a9ab8-8f8f-4d11-89a1-949112abb223",
   "metadata": {
    "tags": []
   },
   "outputs": [],
   "source": [
    "np.arange(12).reshape(4,3)  # Un arreglo de 4 x 3"
   ]
  },
  {
   "cell_type": "code",
   "execution_count": null,
   "id": "9d5fba57-f961-4120-afa3-b46c7554c959",
   "metadata": {
    "tags": []
   },
   "outputs": [],
   "source": [
    "# Mi primer DataFrame\n",
    "dframe = pd.DataFrame(np.arange(12).reshape(4,3))"
   ]
  },
  {
   "cell_type": "code",
   "execution_count": null,
   "id": "ba34c389-2509-4900-a99a-91d7a65ad588",
   "metadata": {
    "tags": []
   },
   "outputs": [],
   "source": [
    "dframe"
   ]
  },
  {
   "cell_type": "markdown",
   "id": "44267ad6-473e-4b59-9a41-ba1e361c4226",
   "metadata": {},
   "source": [
    "En este ejemplo `dframe` se construye convirtiendo un arreglo multidimensional de **numpy** con la forma 4 renglones X 3 columnas, en un objeto de tipo DataFrame, pre-llenado con los valores del 0 al 11. Los índices por omisión de los renglones van de 0 a 3 y los de las columnas de 0 a 2.  "
   ]
  },
  {
   "cell_type": "code",
   "execution_count": null,
   "id": "5e895b5b-7f4b-4feb-a14f-fa25d4c13f45",
   "metadata": {
    "tags": []
   },
   "outputs": [],
   "source": [
    "type(dframe)"
   ]
  },
  {
   "cell_type": "markdown",
   "id": "a85e9782-8106-49fc-9917-b97afa0a3f1a",
   "metadata": {},
   "source": [
    "## Construir un DataFrame a partir de un diccionario"
   ]
  },
  {
   "cell_type": "code",
   "execution_count": null,
   "id": "c8cd7cf6-f081-4f68-a5e9-4e969604ff31",
   "metadata": {
    "tags": []
   },
   "outputs": [],
   "source": [
    "datos = {'Delegación':['Coyoacán','Tlalpan','Xochimilco'],\n",
    "         'Población':[837000,3880000,8400000]}\n",
    "delegaciones = pd.DataFrame(datos)\n",
    "delegaciones"
   ]
  },
  {
   "cell_type": "markdown",
   "id": "130b1db0-c25e-413d-b990-d1596f204527",
   "metadata": {},
   "source": [
    "Observa que se construyen dos columnas, una para `Delegación` y otra para `Población`, las cuales son las *Keys* del diccionario.\n",
    "\n",
    "Otra manera de construir el DataFrame es usando los nombres de la delegaciones como índices de cada renglón:"
   ]
  },
  {
   "cell_type": "code",
   "execution_count": null,
   "id": "c6e99c37-92a9-4323-8787-17063454ad31",
   "metadata": {
    "tags": []
   },
   "outputs": [],
   "source": [
    "delegaciones = pd.DataFrame(datos['Población'], index = datos['Delegación'])\n",
    "delegaciones"
   ]
  },
  {
   "cell_type": "markdown",
   "id": "1fe108a7-4830-4bfb-a541-341df1efb465",
   "metadata": {},
   "source": [
    "También es posible poner un nombre a cada columna de manera explícita para una mejor identificación:"
   ]
  },
  {
   "cell_type": "code",
   "execution_count": null,
   "id": "09c5e71c-12a2-45eb-945b-465a41119ca4",
   "metadata": {
    "tags": []
   },
   "outputs": [],
   "source": [
    "delegaciones = pd.DataFrame(datos['Población'], columns = ['Población'], index = datos['Delegación'])\n",
    "delegaciones"
   ]
  },
  {
   "cell_type": "markdown",
   "id": "e5cf73d0-a834-4eda-9936-0a2fbe4ea0da",
   "metadata": {},
   "source": [
    "## Agregar una Serie a un DataFrame\n",
    "\n",
    "Supongamos que tenemos los datos del **Índice Metropolitano de Calidad del Aire** ([IMECAS](https://es.wikipedia.org/wiki/%C3%8Dndice_metropolitano_de_la_calidad_del_aire), para cada delegación. Es posible agregar esta información al DataFrame existente:"
   ]
  },
  {
   "cell_type": "code",
   "execution_count": null,
   "id": "c46c03d3-dc4c-4389-8c01-87420bc5a2b7",
   "metadata": {
    "tags": []
   },
   "outputs": [],
   "source": [
    "# Primero creamos una serie\n",
    "IMECAS = pd.Series([90,100,120], index = datos['Delegación'])\n",
    "print(type(IMECAS))\n",
    "print(IMECAS)"
   ]
  },
  {
   "cell_type": "code",
   "execution_count": null,
   "id": "ab2c3e5a-e542-4265-8f7c-0dbe3b55eb5b",
   "metadata": {
    "tags": []
   },
   "outputs": [],
   "source": [
    "# Agregamos una nueva columna al DataFrame\n",
    "delegaciones['Cal. Aire'] = IMECAS\n",
    "delegaciones"
   ]
  },
  {
   "cell_type": "markdown",
   "id": "e0c4623e-458d-4ced-9e0e-93892a004f48",
   "metadata": {},
   "source": [
    "Observa que la nueva columna, en este caso almacenada originalmente en una serie, debe tener los mismos índices que el DataFrame donde se va a agregar.\n",
    "\n",
    "Se puede agregar directemente desde una lista (la longitud de la lista debe ser igual al número de renglones):"
   ]
  },
  {
   "cell_type": "code",
   "execution_count": null,
   "id": "65c51120-430e-4ba6-9575-7e4a3d1f1c35",
   "metadata": {
    "tags": []
   },
   "outputs": [],
   "source": [
    "delegaciones['Autos'] = [10000,20000,15000]"
   ]
  },
  {
   "cell_type": "code",
   "execution_count": null,
   "id": "340ba1d9-4ed3-47bb-9b0d-7825cfdbb20c",
   "metadata": {
    "tags": []
   },
   "outputs": [],
   "source": [
    "delegaciones"
   ]
  },
  {
   "cell_type": "markdown",
   "id": "7058f27b-a214-4d09-90a8-d6f1de4a5734",
   "metadata": {},
   "source": [
    "## Leyendo información de archivos *txt*"
   ]
  },
  {
   "cell_type": "code",
   "execution_count": null,
   "id": "71152f0f-93cb-48ca-bb09-a7565cf04d63",
   "metadata": {
    "tags": []
   },
   "outputs": [],
   "source": [
    "df_pets = pd.read_table('../datos/pets.txt',sep=' ')\n",
    "df_pets"
   ]
  },
  {
   "cell_type": "markdown",
   "id": "3e4b5b20-6d50-44e1-a521-178ba352a77e",
   "metadata": {},
   "source": [
    "## Leyendo archivos *csv*"
   ]
  },
  {
   "cell_type": "code",
   "execution_count": null,
   "id": "f68264d7-17aa-4b64-a30a-7e77e0368c60",
   "metadata": {
    "tags": []
   },
   "outputs": [],
   "source": [
    "# Lectura de CSV, ojo, en este caso la separación de los datos es con ;\n",
    "red_wine = pd.read_csv('../datos/winequality-red.csv',sep=';') \n",
    "red_wine"
   ]
  },
  {
   "cell_type": "markdown",
   "id": "6b848e5c-b413-4ed3-add5-288abb19b188",
   "metadata": {},
   "source": [
    "## Formatos de archivos, para lectura y escritura.\n",
    "\n",
    "Pandas ofrece una multitud de herramientas para leer y guardar información en diferentes formatos: txt, csv, xlsx, json, hdf5, etc.\n",
    "La información completa de estas herramientas la puedes encontrar en el siguiente enlace: [IO tools](https://pandas.pydata.org/docs/user_guide/io.html).\n",
    "\n",
    "Por ejemplo, guardar la información del DataFrame `red_wine` en un archivo tipo MS Excel se hace de la siguiente manera:"
   ]
  },
  {
   "cell_type": "code",
   "execution_count": null,
   "id": "e8cad039-94d5-4b11-bbcb-16093b538f6e",
   "metadata": {
    "tags": []
   },
   "outputs": [],
   "source": [
    "red_wine.to_excel('../datos/winequality-red.xlsx')"
   ]
  },
  {
   "cell_type": "markdown",
   "id": "a9b868ce-8429-436c-9e5d-12bd1ab8d37b",
   "metadata": {},
   "source": [
    "Y para leer la información del archio tipo MS Excel hacemos lo siguiente:"
   ]
  },
  {
   "cell_type": "code",
   "execution_count": null,
   "id": "feea0d49-374f-48d5-ba89-0ad2c13861f9",
   "metadata": {
    "tags": []
   },
   "outputs": [],
   "source": [
    "red_wine_excel = pd.read_excel('../datos/winequality-red.xlsx')\n",
    "red_wine_excel"
   ]
  },
  {
   "cell_type": "markdown",
   "id": "f3d6962d-7f0e-4e7d-a84f-ec6e35761415",
   "metadata": {},
   "source": [
    "<div class=\"alert alert-danger\">\n",
    "<b>Observación.</b>\n",
    "Algunos de estos formatos requieren de la instalación de bibliotecas adicionales.\n",
    "</div>\n",
    "\n"
   ]
  },
  {
   "cell_type": "markdown",
   "id": "9ee3ce4a-b4b3-4b01-9605-92c476fd8e2f",
   "metadata": {},
   "source": [
    "## Un primer vistazo a la información: `head`, `tail`, `columns`, `index`, `loc`, `iloc`"
   ]
  },
  {
   "cell_type": "code",
   "execution_count": null,
   "id": "d26095c6-84f6-4b31-8749-414c613de468",
   "metadata": {
    "tags": []
   },
   "outputs": [],
   "source": [
    "red_wine.head() # Revisar los primeros 5 renglones del DataFrame"
   ]
  },
  {
   "cell_type": "code",
   "execution_count": null,
   "id": "e6ac9bc3-8e01-4d3b-8951-fdc3a2654f8a",
   "metadata": {
    "tags": []
   },
   "outputs": [],
   "source": [
    "red_wine.head(10) # Revisar los primeros 10 renlgones del DataFrame"
   ]
  },
  {
   "cell_type": "code",
   "execution_count": null,
   "id": "33359c3d-0435-4a1c-9153-c10116deee25",
   "metadata": {
    "tags": []
   },
   "outputs": [],
   "source": [
    "red_wine.tail() # Revisar los últimos 5 renglones del DataFrame"
   ]
  },
  {
   "cell_type": "code",
   "execution_count": null,
   "id": "75f80184-64d1-434a-93dd-ba9da016724d",
   "metadata": {
    "tags": []
   },
   "outputs": [],
   "source": [
    "red_wine.tail(10) # Revisar los últimos 10 renglones del DataFrame"
   ]
  },
  {
   "cell_type": "code",
   "execution_count": null,
   "id": "1e202e10-98d1-48b7-bf1a-30a128893dc0",
   "metadata": {
    "tags": []
   },
   "outputs": [],
   "source": [
    "red_wine.columns # Conocer las columnas"
   ]
  },
  {
   "cell_type": "code",
   "execution_count": null,
   "id": "3a6c7810-13b5-4f36-800e-37e1e878c7df",
   "metadata": {
    "tags": []
   },
   "outputs": [],
   "source": [
    "red_wine.index # Conocer los índices"
   ]
  },
  {
   "cell_type": "code",
   "execution_count": null,
   "id": "38cf6b72-51cc-462d-b590-74f3d8a20f76",
   "metadata": {
    "tags": []
   },
   "outputs": [],
   "source": [
    "#list(red_wine.index) # En forma de lista"
   ]
  },
  {
   "cell_type": "code",
   "execution_count": null,
   "id": "3ee16bcf-be3e-4d18-b84c-7948609f2dc6",
   "metadata": {
    "tags": []
   },
   "outputs": [],
   "source": [
    "red_wine['alcohol'] # Acceder a los datos de una columna"
   ]
  },
  {
   "cell_type": "code",
   "execution_count": null,
   "id": "72adb7dc-991f-41ab-978c-471fc96d7423",
   "metadata": {
    "tags": []
   },
   "outputs": [],
   "source": [
    "red_wine.alcohol # Otra manera de acceder a los datos de una columna"
   ]
  },
  {
   "cell_type": "code",
   "execution_count": null,
   "id": "6f54998e-b834-4431-8026-4a3dee1fd968",
   "metadata": {
    "tags": []
   },
   "outputs": [],
   "source": [
    "red_wine.iloc[3]  # Renglón con índice 3"
   ]
  },
  {
   "cell_type": "code",
   "execution_count": null,
   "id": "8db762e2-f857-4a3f-ab94-8ef9416a7a56",
   "metadata": {
    "tags": []
   },
   "outputs": [],
   "source": [
    "red_wine.iloc[[3, 6]] # Extrae parte del DataFrame: renglones 3 y 6"
   ]
  },
  {
   "cell_type": "code",
   "execution_count": null,
   "id": "a44f2b19-3b8c-4197-af07-515ffbe16950",
   "metadata": {
    "tags": []
   },
   "outputs": [],
   "source": [
    "type(red_wine.iloc[[3, 6]]) # Esto es un DataFrame"
   ]
  },
  {
   "cell_type": "code",
   "execution_count": null,
   "id": "3740544a-6aa8-4b1a-982a-2e491b626234",
   "metadata": {
    "tags": []
   },
   "outputs": [],
   "source": [
    "red_wine.iloc[3:8] # Slicing"
   ]
  },
  {
   "cell_type": "code",
   "execution_count": null,
   "id": "7fb749ee-ee86-4563-baa9-9c043df03563",
   "metadata": {
    "tags": []
   },
   "outputs": [],
   "source": [
    "# Se obtienen 6 renglones, de 3 a 9, luego solo se muestran los que tienen True\n",
    "red_wine.iloc[3:10].iloc[ [True, True, False, False, True, False, True] ]"
   ]
  },
  {
   "cell_type": "code",
   "execution_count": null,
   "id": "715511e8-3e27-490f-a298-0111bef45e1d",
   "metadata": {
    "tags": []
   },
   "outputs": [],
   "source": [
    "# Se puede usar una función anónima para obtener ciertos renglones\n",
    "red_wine.iloc[lambda x: x.index % 5 == 0] # Solo aquellos múltiplos de 5"
   ]
  },
  {
   "cell_type": "code",
   "execution_count": null,
   "id": "80e42d2e-3341-4562-ac3a-9486230d1f45",
   "metadata": {
    "tags": []
   },
   "outputs": [],
   "source": [
    "# Se muestran solo aquellos renglones cuya calidad es mayor a 6\n",
    "# Observa que se usa la función loc().\n",
    "red_wine.loc[lambda x: x.quality > 6] "
   ]
  },
  {
   "cell_type": "code",
   "execution_count": null,
   "id": "f511ce8d-0996-48cc-99b6-bd5101ce9005",
   "metadata": {
    "tags": []
   },
   "outputs": [],
   "source": [
    "red_wine.iloc[[0, 2, 5], [1, 3, 7]] # Extracto de renglones y columnas"
   ]
  },
  {
   "cell_type": "code",
   "execution_count": null,
   "id": "beeeca75-05db-4586-801d-344790b5e2f2",
   "metadata": {
    "tags": []
   },
   "outputs": [],
   "source": [
    "red_wine.iloc[2:5, 1:6:2] # Extracto de renglones y columnas"
   ]
  },
  {
   "cell_type": "code",
   "execution_count": null,
   "id": "1e691f92-98cc-48fa-af12-73d35ecf4c4a",
   "metadata": {
    "tags": []
   },
   "outputs": [],
   "source": [
    "# Solo se muestran algunas columnas\n",
    "red_wine.iloc[3:8:2, [True, False, True, False, False, True, True, True, False, True, True, True]]"
   ]
  },
  {
   "cell_type": "code",
   "execution_count": null,
   "id": "1a2c4f63-a648-4eb1-8ab7-7547f8b96b8f",
   "metadata": {
    "tags": []
   },
   "outputs": [],
   "source": [
    "# Los renglones de 0 a 4, y las columnas 0 y 2\n",
    "red_wine.iloc[:5, lambda df: [0, 2]]"
   ]
  },
  {
   "cell_type": "markdown",
   "id": "38af3db2-9d36-4b6f-baa1-2504eae09a92",
   "metadata": {},
   "source": [
    "Se puede usar `loc` si los índices no tienen etiqueta entera:"
   ]
  },
  {
   "cell_type": "code",
   "execution_count": null,
   "id": "2227f4f6-26a6-4b1e-9f5d-77bbe2f908f6",
   "metadata": {
    "tags": []
   },
   "outputs": [],
   "source": [
    "df = pd.DataFrame({\"A\": [1, 1, 2, 2], \"B\": [1, 2, 3, 4],\n",
    "                   \"C\": [0.362838, 0.227877, 1.267767, -0.562860],}, \n",
    "                  index=['alpha', 'beta', 'gamma', 'delta'])"
   ]
  },
  {
   "cell_type": "code",
   "execution_count": null,
   "id": "7d6c2730-c1cf-4ac2-a70b-0a6cecffd3b8",
   "metadata": {
    "tags": []
   },
   "outputs": [],
   "source": [
    "df"
   ]
  },
  {
   "cell_type": "code",
   "execution_count": null,
   "id": "6733f040-a4f6-4ef4-988f-7d0b6de44083",
   "metadata": {
    "tags": []
   },
   "outputs": [],
   "source": [
    "df.iloc[2]"
   ]
  },
  {
   "cell_type": "code",
   "execution_count": null,
   "id": "ab263f92-9509-46e2-a24e-2e066af23ce3",
   "metadata": {
    "tags": []
   },
   "outputs": [],
   "source": [
    "df.loc['gamma']"
   ]
  },
  {
   "cell_type": "markdown",
   "id": "017c4e88-f6d0-4624-87d4-68248a672fcf",
   "metadata": {},
   "source": [
    "## Agrupación (`groupby`, `describe`, `get_group`, `agg`)\n",
    "\n",
    "Estas operaciones son de mucha utilidad. Para mostrar su uso vamos a generar un nuevo DataFrame."
   ]
  },
  {
   "cell_type": "code",
   "execution_count": null,
   "id": "bde42f9a-ac68-4661-aa06-ab36ad3ce2c0",
   "metadata": {
    "tags": []
   },
   "outputs": [],
   "source": [
    "demo = pd.DataFrame({\"A\": [1, 1, 2, 2], \n",
    "                     \"B\": [1, 2, 3, 4],\n",
    "                     \"C\": [0.362838, 0.227877, 1.267767, -0.562860],})"
   ]
  },
  {
   "cell_type": "code",
   "execution_count": null,
   "id": "571ae26e-37a9-42b0-bba9-a308c9a9a2f4",
   "metadata": {
    "tags": []
   },
   "outputs": [],
   "source": [
    "demo"
   ]
  },
  {
   "cell_type": "markdown",
   "id": "bdf68024-60cb-493e-9be2-57661d73ea9b",
   "metadata": {},
   "source": [
    "Una función muy útil es `describe()` que proporciona información estadística del DataFrame:"
   ]
  },
  {
   "cell_type": "code",
   "execution_count": null,
   "id": "79583442-ada1-4680-976a-5136ff5acc4b",
   "metadata": {
    "tags": []
   },
   "outputs": [],
   "source": [
    "demo.describe()"
   ]
  },
  {
   "cell_type": "markdown",
   "id": "577f44fb-6564-4daf-aca8-beecaa564220",
   "metadata": {},
   "source": [
    "Como se puede observar, se muestra por columna la cantidad de elementos (`count`), la media (`mean`), la desviación estándar (`std`), el mínimo (`min`), los cuartiles y el máximo (`max`)."
   ]
  },
  {
   "cell_type": "markdown",
   "id": "f494db60-c4db-46ed-806f-6f16d3273674",
   "metadata": {},
   "source": [
    "Ahora agrupamos los renglones haciendo una clasificación de acuerdo al valor de la columna `A`."
   ]
  },
  {
   "cell_type": "code",
   "execution_count": null,
   "id": "ea87047a-baaf-479f-afa2-ec74809f1313",
   "metadata": {
    "tags": []
   },
   "outputs": [],
   "source": [
    "demo_A = demo.groupby('A')\n",
    "demo_A"
   ]
  },
  {
   "cell_type": "markdown",
   "id": "c3b0a5d1-01a7-407c-b4a7-628a171cf524",
   "metadata": {},
   "source": [
    "Observa que el objeto `demo_A` no es un objeto de tipo `DataFrame`, es un objeto de tipo `DataFrameGroupBy`. Para obtener una descripción del objeto `demo_A` hacemos lo siguiente:"
   ]
  },
  {
   "cell_type": "code",
   "execution_count": null,
   "id": "da4de2de-bd8c-4570-862f-89d4766671d6",
   "metadata": {
    "tags": []
   },
   "outputs": [],
   "source": [
    "demo_A.describe()"
   ]
  },
  {
   "cell_type": "markdown",
   "id": "382d8fe7-06d7-48c6-bff7-0817aea6f86e",
   "metadata": {},
   "source": [
    "Observa que se muestra la misma información que antes, pero esta vez es por cada categoría de la clasificación.\n",
    "\n",
    "Podemos obtener los grupos de la clasificación como sigue:"
   ]
  },
  {
   "cell_type": "code",
   "execution_count": null,
   "id": "fe5879ee-7b85-481c-b313-d5a752b4737d",
   "metadata": {
    "tags": []
   },
   "outputs": [],
   "source": [
    "demo_A.get_group(1)"
   ]
  },
  {
   "cell_type": "code",
   "execution_count": null,
   "id": "a1580f3c-111f-45a2-add2-c8416e0eee08",
   "metadata": {
    "tags": []
   },
   "outputs": [],
   "source": [
    "demo_A.get_group(2)"
   ]
  },
  {
   "cell_type": "markdown",
   "id": "4bc6b3a4-28bc-46bc-b23d-64afdd8140b8",
   "metadata": {},
   "source": [
    "Cada grupo es un DataFrame:"
   ]
  },
  {
   "cell_type": "code",
   "execution_count": null,
   "id": "b60fc6c2-cf41-4043-8a2e-63ee2d8d3d18",
   "metadata": {
    "tags": []
   },
   "outputs": [],
   "source": [
    "type(demo_A.get_group(1))"
   ]
  },
  {
   "cell_type": "markdown",
   "id": "503bbc4f-c09d-4a5f-815c-6b1ee0a469ae",
   "metadata": {},
   "source": [
    "Es posible usar la función `agg` para \"agregar\" una función para que se aplique sobre un DataFrame o una agrupación:"
   ]
  },
  {
   "cell_type": "code",
   "execution_count": null,
   "id": "5a0574ca-6a06-462e-a138-3dfa848bfa90",
   "metadata": {
    "tags": []
   },
   "outputs": [],
   "source": [
    "demo.agg('min') # La función min() se aplica sobre cada columa del DataFrame"
   ]
  },
  {
   "cell_type": "code",
   "execution_count": null,
   "id": "cce78177-36f7-483f-baaa-e92b3f2198c1",
   "metadata": {
    "tags": []
   },
   "outputs": [],
   "source": [
    "demo_A.agg('min') # La función min() se aplica sobre cada grupo."
   ]
  },
  {
   "cell_type": "markdown",
   "id": "c1a54795-07bd-49c7-91c1-a2048fc12fa3",
   "metadata": {},
   "source": [
    "Veamos otras funciones:"
   ]
  },
  {
   "cell_type": "code",
   "execution_count": null,
   "id": "34a6d4cb-8903-49dd-86d4-8ba3f7ce1d4d",
   "metadata": {
    "tags": []
   },
   "outputs": [],
   "source": [
    "demo_A.agg('max')"
   ]
  },
  {
   "cell_type": "code",
   "execution_count": null,
   "id": "714679b5-dfb4-46af-bc5c-f80af28b0b24",
   "metadata": {
    "tags": []
   },
   "outputs": [],
   "source": [
    "demo_A.mean()"
   ]
  },
  {
   "cell_type": "markdown",
   "id": "5470c45e-000b-49d3-929f-08c85a6ae539",
   "metadata": {},
   "source": [
    "Podemos definir nuestra propia función a aplicar:"
   ]
  },
  {
   "cell_type": "code",
   "execution_count": null,
   "id": "ac99401f-82b9-4e32-9a5f-484b869f4b71",
   "metadata": {
    "tags": []
   },
   "outputs": [],
   "source": [
    "def difMaxMin(arr):\n",
    "    \"\"\"\n",
    "    Calcula la diferencia entre el valor mínimo y máximo de un arreglo.\n",
    "    \"\"\"\n",
    "    return arr.max() - arr.min()"
   ]
  },
  {
   "cell_type": "code",
   "execution_count": null,
   "id": "89789501-ab3b-4399-b381-60b45869e7ca",
   "metadata": {
    "tags": []
   },
   "outputs": [],
   "source": [
    "demo_A.agg(difMaxMin) # Ahora aplicamos nuestra función"
   ]
  },
  {
   "cell_type": "markdown",
   "id": "75b986f3-7af7-4711-ac3b-e930744753bf",
   "metadata": {},
   "source": [
    "Podemos usar una función anónima:"
   ]
  },
  {
   "cell_type": "code",
   "execution_count": null,
   "id": "102d2d4d-b2bf-4ab4-9deb-9ee6b58b6100",
   "metadata": {
    "tags": []
   },
   "outputs": [],
   "source": [
    "demo_A.agg(lambda arr: arr.max() - arr.min())"
   ]
  },
  {
   "cell_type": "markdown",
   "id": "e97ccba6-fc0d-4047-8613-d14d77f1a322",
   "metadata": {},
   "source": [
    "Apliquemos lo anterior al DataFrame `red_wine`"
   ]
  },
  {
   "cell_type": "code",
   "execution_count": null,
   "id": "c4395c43-cc76-45c2-9b62-c9e705210dd8",
   "metadata": {
    "tags": []
   },
   "outputs": [],
   "source": [
    "red_wine.head(5)"
   ]
  },
  {
   "cell_type": "code",
   "execution_count": null,
   "id": "eab40380-aa2c-4463-873e-4177747a06e6",
   "metadata": {
    "tags": []
   },
   "outputs": [],
   "source": [
    "wino = red_wine.groupby('quality')"
   ]
  },
  {
   "cell_type": "code",
   "execution_count": null,
   "id": "b8830f05-000f-4975-a934-fe4922b40b9b",
   "metadata": {
    "tags": []
   },
   "outputs": [],
   "source": [
    "wino.describe() "
   ]
  },
  {
   "cell_type": "code",
   "execution_count": null,
   "id": "f40e6091-bbe3-4d90-82bf-3d513e2effab",
   "metadata": {
    "tags": []
   },
   "outputs": [],
   "source": [
    "wino.agg('mean')"
   ]
  },
  {
   "cell_type": "code",
   "execution_count": null,
   "id": "20be337f-7fca-4b82-b90b-3fe3e625ae35",
   "metadata": {
    "tags": []
   },
   "outputs": [],
   "source": [
    "wino.agg(difMaxMin)"
   ]
  },
  {
   "cell_type": "code",
   "execution_count": null,
   "id": "b3f629b0-c6b0-4ba8-80df-be347387bba4",
   "metadata": {
    "tags": []
   },
   "outputs": [],
   "source": [
    "wino_5 = wino.get_group(5)\n",
    "wino_5"
   ]
  },
  {
   "cell_type": "markdown",
   "id": "cdb0a3ad-b41e-42ad-a244-c32adb6d21ec",
   "metadata": {},
   "source": [
    "Podemos aplicar algunas funciones a una columna particular"
   ]
  },
  {
   "cell_type": "code",
   "execution_count": null,
   "id": "da7ec90b-d397-45ad-95cf-c75099616254",
   "metadata": {
    "tags": []
   },
   "outputs": [],
   "source": [
    "wino_5['fixed acidity'].mean()"
   ]
  },
  {
   "cell_type": "code",
   "execution_count": null,
   "id": "4be32168-ec72-42ac-9ab5-59ab65ac6ce5",
   "metadata": {
    "tags": []
   },
   "outputs": [],
   "source": [
    "wino_5['fixed acidity'].agg('mean')"
   ]
  },
  {
   "cell_type": "code",
   "execution_count": null,
   "id": "1bdfe995-c5d0-4d7b-8e4b-12a375f0f0a9",
   "metadata": {
    "tags": []
   },
   "outputs": [],
   "source": [
    "wino_5['fixed acidity'].agg(difMaxMin)"
   ]
  },
  {
   "cell_type": "markdown",
   "id": "15ea5015-94ce-49ca-9298-518b0ed5a7d8",
   "metadata": {},
   "source": [
    "## Agregando una columna a nuestro DataFrame"
   ]
  },
  {
   "cell_type": "code",
   "execution_count": null,
   "id": "8b543638-c675-4b36-911c-258819394471",
   "metadata": {},
   "outputs": [],
   "source": [
    "red_wine.head()"
   ]
  },
  {
   "cell_type": "markdown",
   "id": "b01ec6d7-02f6-435d-a9e4-3af0545044e0",
   "metadata": {},
   "source": [
    "Agregamos una nueva columna realizando un cálculo entre valores de otras columnas"
   ]
  },
  {
   "cell_type": "code",
   "execution_count": null,
   "id": "db61c6eb-f026-48f7-9124-c5e10199e888",
   "metadata": {
    "tags": []
   },
   "outputs": [],
   "source": [
    "red_wine['qual/alc ratio'] = red_wine['quality'] / red_wine['alcohol']"
   ]
  },
  {
   "cell_type": "code",
   "execution_count": null,
   "id": "b3359c12-7f47-4a83-9f6a-7f8f30db8ac2",
   "metadata": {
    "tags": []
   },
   "outputs": [],
   "source": [
    "red_wine.head()"
   ]
  },
  {
   "cell_type": "markdown",
   "id": "50d33a31-d4dd-45de-8654-5ccdae4a3981",
   "metadata": {},
   "source": [
    "## Ordenamiento \n",
    "\n",
    "Se puede ordenar un DataFrame de acuerdo con los valores de una columna"
   ]
  },
  {
   "cell_type": "code",
   "execution_count": null,
   "id": "2d5a268f-21e3-4722-a004-95b5973d6ff1",
   "metadata": {
    "tags": []
   },
   "outputs": [],
   "source": [
    "red_wine.sort_values('alcohol', ascending = False, inplace=True)\n",
    "red_wine"
   ]
  },
  {
   "cell_type": "markdown",
   "id": "173cabfe-a6b5-4e39-acd1-d21481d0ccb1",
   "metadata": {},
   "source": [
    "## Contar elementos.\n",
    "\n",
    "Se puede contar el número de elementos que tengan un cierto valor en cada columna."
   ]
  },
  {
   "cell_type": "code",
   "execution_count": null,
   "id": "eaeda184-8049-4610-91d7-07176371d4c4",
   "metadata": {
    "tags": []
   },
   "outputs": [],
   "source": [
    "red_wine['quality'].value_counts()"
   ]
  },
  {
   "cell_type": "markdown",
   "id": "de66c073-8224-49c5-8031-deecb7f6246b",
   "metadata": {},
   "source": [
    "## Estilo de despliegue"
   ]
  },
  {
   "cell_type": "code",
   "execution_count": null,
   "id": "5e3d0fa7-8842-4d8d-9a79-e3c13cc14021",
   "metadata": {
    "tags": []
   },
   "outputs": [],
   "source": [
    "wino_5.loc[10:25].style.background_gradient(cmap='summer')"
   ]
  },
  {
   "cell_type": "markdown",
   "id": "0abc918f-0c1e-4c53-b2c3-19af29dc55df",
   "metadata": {},
   "source": [
    "Existen varios tipos de desplique del DataFrame, revisa [Table Visualization](https://pandas.pydata.org/docs/user_guide/style.html) para más detalles."
   ]
  },
  {
   "cell_type": "markdown",
   "id": "c9037dca-29ae-455f-96f3-03f34edcd9ed",
   "metadata": {},
   "source": [
    "## Visualización\n",
    "\n",
    "Pandas contiene herramientas para graficación que se basan en matplotlib.\n",
    "\n",
    "### Graficación de Series."
   ]
  },
  {
   "cell_type": "code",
   "execution_count": null,
   "id": "66e33588-9cf7-4d6a-82e7-07daf80b064f",
   "metadata": {
    "tags": []
   },
   "outputs": [],
   "source": [
    "# Un DataFrame con datos pseudo-aleatorios.\n",
    "df_ts = pd.Series(np.random.randn(1000), \n",
    "               index=pd.date_range(\"1/1/2000\", periods=1000))\n",
    "df_ts"
   ]
  },
  {
   "cell_type": "code",
   "execution_count": null,
   "id": "3f2cc999-9fe4-40aa-915f-16a2f74f8697",
   "metadata": {
    "tags": []
   },
   "outputs": [],
   "source": [
    "df_ts.plot()"
   ]
  },
  {
   "cell_type": "code",
   "execution_count": null,
   "id": "4b704ab9-1795-48dd-95b2-a8ab939486c0",
   "metadata": {
    "tags": []
   },
   "outputs": [],
   "source": [
    "df_ts_cs = df_ts.cumsum()\n",
    "df_ts_cs"
   ]
  },
  {
   "cell_type": "code",
   "execution_count": null,
   "id": "660f4c12-b819-4b72-a4bd-06af01fe2db0",
   "metadata": {
    "tags": []
   },
   "outputs": [],
   "source": [
    "df_ts_cs.plot()"
   ]
  },
  {
   "cell_type": "markdown",
   "id": "49a31d6f-6301-4508-83a4-51e2b36320f0",
   "metadata": {},
   "source": [
    "### Graficación de DataFrames.\n",
    "\n",
    "Véase [Chart visualization](https://pandas.pydata.org/docs/user_guide/visualization.html) para más detalles."
   ]
  },
  {
   "cell_type": "code",
   "execution_count": null,
   "id": "7b83f69a-b053-42e0-934f-9a4e155f307e",
   "metadata": {
    "tags": []
   },
   "outputs": [],
   "source": [
    "red_wine.plot(kind='scatter', x='quality', y='alcohol')"
   ]
  },
  {
   "cell_type": "code",
   "execution_count": null,
   "id": "570804c7-c4ca-4380-8bfc-96e223de5458",
   "metadata": {
    "tags": []
   },
   "outputs": [],
   "source": [
    "dummy_df = pd.DataFrame(np.random.rand(10, 4), columns=[\"a\", \"b\", \"c\", \"d\"])\n",
    "dummy_df"
   ]
  },
  {
   "cell_type": "code",
   "execution_count": null,
   "id": "878c723f-710e-4e00-b772-ce7c213fdb8d",
   "metadata": {
    "tags": []
   },
   "outputs": [],
   "source": [
    "dummy_df.plot.area()"
   ]
  },
  {
   "cell_type": "code",
   "execution_count": null,
   "id": "a8001b6f-5392-45c1-bd51-0411ad3a0f0e",
   "metadata": {
    "tags": []
   },
   "outputs": [],
   "source": [
    "dummy_df.plot.area(stacked=False, colormap='winter')"
   ]
  },
  {
   "cell_type": "code",
   "execution_count": null,
   "id": "1b3ba990-6131-4aa4-8f9d-55ac28255b2b",
   "metadata": {
    "tags": []
   },
   "outputs": [],
   "source": [
    "dummy_df.iloc[:,1:3]"
   ]
  },
  {
   "cell_type": "code",
   "execution_count": null,
   "id": "944598e8-b8be-4af8-bda1-a30ed7d871d0",
   "metadata": {
    "tags": []
   },
   "outputs": [],
   "source": [
    "dummy_df.iloc[:,1:3].plot.pie(subplots=True,figsize=(10,4))"
   ]
  },
  {
   "cell_type": "code",
   "execution_count": null,
   "id": "e56ac2a6-36cf-4a4c-adde-ba7b1d25d4bf",
   "metadata": {
    "tags": []
   },
   "outputs": [],
   "source": [
    "dummy_df.iloc[:,1:3].plot.pie(subplots=True,figsize=(10,4), \n",
    "                        labels=['A','B','C','D','E','F','G','H', 'I', 'J'], \n",
    "                        autopct=\"%.2f\",fontsize=10)"
   ]
  },
  {
   "cell_type": "code",
   "execution_count": null,
   "id": "0b4a6917-775c-44e6-b155-49bedd521f0c",
   "metadata": {
    "tags": []
   },
   "outputs": [],
   "source": [
    "from pandas.plotting import scatter_matrix\n",
    "df = pd.DataFrame(np.random.randn(1000, 4), columns=[\"a\", \"b\", \"c\", \"d\"])\n",
    "df"
   ]
  },
  {
   "cell_type": "code",
   "execution_count": null,
   "id": "80591a04-0b75-4d6f-8615-48d102e3c6a4",
   "metadata": {
    "tags": []
   },
   "outputs": [],
   "source": [
    "scatter_matrix(df, alpha=0.5, figsize=(6, 6), diagonal=\"kde\");"
   ]
  },
  {
   "cell_type": "markdown",
   "id": "14c1d156-a330-44fb-ad75-7211a623051d",
   "metadata": {},
   "source": [
    "#### Parallel Coordinates"
   ]
  },
  {
   "cell_type": "code",
   "execution_count": null,
   "id": "96747fc4-1d76-4295-bb30-1618b07730ac",
   "metadata": {
    "tags": []
   },
   "outputs": [],
   "source": [
    "iris_data = pd.read_csv(\"../datos/iris.data\")\n",
    "\n",
    "pd.plotting.parallel_coordinates(iris_data, \"Name\");"
   ]
  },
  {
   "cell_type": "markdown",
   "id": "f67fec42-e0e9-432b-a2a3-eff76ede869a",
   "metadata": {},
   "source": [
    "#### RadViz"
   ]
  },
  {
   "cell_type": "code",
   "execution_count": null,
   "id": "5ff86c32-06f2-4fae-a796-ca8531a10bb3",
   "metadata": {
    "tags": []
   },
   "outputs": [],
   "source": [
    "pd.plotting.radviz(iris_data, \"Name\");"
   ]
  },
  {
   "cell_type": "markdown",
   "id": "9fe844e5-edef-4f88-b457-b694a5dad899",
   "metadata": {},
   "source": [
    "#### Andrews curves"
   ]
  },
  {
   "cell_type": "code",
   "execution_count": null,
   "id": "acf5ce23-984a-4cf0-aa93-4eb508b5490f",
   "metadata": {
    "tags": []
   },
   "outputs": [],
   "source": [
    "pd.plotting.andrews_curves(iris_data, \"Name\")"
   ]
  },
  {
   "cell_type": "markdown",
   "id": "f292513b-fea2-4428-8d82-9cdbaeb61932",
   "metadata": {},
   "source": [
    "#### Combinando con Matplotlib"
   ]
  },
  {
   "cell_type": "code",
   "execution_count": null,
   "id": "60973919-a1b9-48dc-8a74-719d3aabe50c",
   "metadata": {
    "tags": []
   },
   "outputs": [],
   "source": [
    "precio = pd.Series(np.random.randn(150).cumsum(), \n",
    "                   index=pd.date_range(\"2000-1-1\", periods=150, freq=\"B\"))\n",
    "precio"
   ]
  },
  {
   "cell_type": "code",
   "execution_count": null,
   "id": "bef2a786-02b3-469f-89ed-73bb4fd6e629",
   "metadata": {
    "tags": []
   },
   "outputs": [],
   "source": [
    "precio.plot()"
   ]
  },
  {
   "cell_type": "code",
   "execution_count": null,
   "id": "9f16dd26-6b6a-49fc-b4a1-a99dc0057fb7",
   "metadata": {
    "tags": []
   },
   "outputs": [],
   "source": [
    "ma = precio.rolling(14).mean()\n",
    "mstd = precio.rolling(14).std()\n",
    "print(ma)\n",
    "print(mstd)"
   ]
  },
  {
   "cell_type": "code",
   "execution_count": null,
   "id": "d1dfad38-299f-40bd-81b3-57b19605df50",
   "metadata": {
    "tags": []
   },
   "outputs": [],
   "source": [
    "import matplotlib.pyplot as plt\n",
    "plt.plot(precio.index, precio, \"k\", label='Precio')\n",
    "plt.plot(ma.index, ma, \"b\", label='Promedio móvil (14)')\n",
    "plt.fill_between(mstd.index, ma - 2 * mstd, ma + 2 * mstd, color=\"b\", alpha=0.2)\n",
    "plt.xticks(rotation=45)\n",
    "plt.legend()"
   ]
  },
  {
   "cell_type": "code",
   "execution_count": null,
   "id": "42ad826f-7859-4719-b84b-3ee1237ccc34",
   "metadata": {},
   "outputs": [],
   "source": []
  }
 ],
 "metadata": {
  "kernelspec": {
   "display_name": "Python 3 (ipykernel)",
   "language": "python",
   "name": "python3"
  },
  "language_info": {
   "codemirror_mode": {
    "name": "ipython",
    "version": 3
   },
   "file_extension": ".py",
   "mimetype": "text/x-python",
   "name": "python",
   "nbconvert_exporter": "python",
   "pygments_lexer": "ipython3",
   "version": "3.11.6"
  }
 },
 "nbformat": 4,
 "nbformat_minor": 5
}
