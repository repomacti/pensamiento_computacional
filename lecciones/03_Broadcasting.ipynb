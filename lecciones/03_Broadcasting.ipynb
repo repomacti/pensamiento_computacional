{
 "cells": [
  {
   "cell_type": "markdown",
   "id": "85c1501a-7230-47da-9483-5ed9f6214853",
   "metadata": {},
   "source": [
    "# Pensamiento Computacional con Python.\n",
    "\n",
    "<p xmlns:cc=\"http://creativecommons.org/ns#\" xmlns:dct=\"http://purl.org/dc/terms/\"><a property=\"dct:title\" rel=\"cc:attributionURL\" href=\"https://github.com/repomacti/pensamiento_computacional\">Pensamiento Computacional a Python</a> by <a rel=\"cc:attributionURL dct:creator\" property=\"cc:attributionName\" href=\"https://gmc.geofisica.unam.mx/luiggi\">Luis Miguel de la Cruz Salas</a> is licensed under <a href=\"https://creativecommons.org/licenses/by-sa/4.0/?ref=chooser-v1\" target=\"_blank\" rel=\"license noopener noreferrer\" style=\"display:inline-block;\">CC BY-SA 4.0<img style=\"height:22px!important;margin-left:3px;vertical-align:text-bottom;\" src=\"https://mirrors.creativecommons.org/presskit/icons/cc.svg?ref=chooser-v1\" alt=\"\"><img style=\"height:22px!important;margin-left:3px;vertical-align:text-bottom;\" src=\"https://mirrors.creativecommons.org/presskit/icons/by.svg?ref=chooser-v1\" alt=\"\"><img style=\"height:22px!important;margin-left:3px;vertical-align:text-bottom;\" src=\"https://mirrors.creativecommons.org/presskit/icons/sa.svg?ref=chooser-v1\" alt=\"\"></a></p> "
   ]
  },
  {
   "cell_type": "markdown",
   "id": "a14e0588-4ead-448f-8bc8-d456999ac540",
   "metadata": {},
   "source": [
    "# Broadcasting\n",
    "\n",
    "El *broadcasting* es un término que describe cómo es que numpy trata con arreglos de diferentes dimensiones cuando se hacen operaciones entre ellos.\n",
    "\n",
    "La siguiente figura muestra varios tipo de *broadcasting* que se aplican en los arreglos y funciones de Numpy. \n",
    "\n",
    "<img src=\"./Broadcasting.png\"  style=\"width: 500px;\"/>\n",
    "\n",
    "**Observación**: Los cuadros en gris tenue son usados para mostrar el concepto de *broadcasting*, pero no se reserva memoria para ellos."
   ]
  },
  {
   "cell_type": "code",
   "execution_count": 2,
   "id": "b2b9c4b5-2c36-491c-9f31-b2cfdb060f5d",
   "metadata": {
    "tags": []
   },
   "outputs": [],
   "source": [
    "import numpy as np\n",
    "import matplotlib.pyplot as plt"
   ]
  },
  {
   "cell_type": "code",
   "execution_count": 3,
   "id": "7480afad-fe93-4e1e-a498-363c0c388159",
   "metadata": {
    "tags": []
   },
   "outputs": [
    {
     "data": {
      "text/plain": [
       "array([0, 1, 2])"
      ]
     },
     "execution_count": 3,
     "metadata": {},
     "output_type": "execute_result"
    }
   ],
   "source": [
    "x = np.arange(3)\n",
    "x"
   ]
  },
  {
   "cell_type": "code",
   "execution_count": 4,
   "id": "4f68a102-91c5-4743-85f2-0211bcc6e9f2",
   "metadata": {
    "tags": []
   },
   "outputs": [
    {
     "data": {
      "text/plain": [
       "array([5, 6, 7])"
      ]
     },
     "execution_count": 4,
     "metadata": {},
     "output_type": "execute_result"
    }
   ],
   "source": [
    "y = x + 5\n",
    "y"
   ]
  },
  {
   "cell_type": "code",
   "execution_count": 5,
   "id": "37baf66e-f69f-4d67-b153-86b6517dca5c",
   "metadata": {
    "tags": []
   },
   "outputs": [
    {
     "data": {
      "text/plain": [
       "array([[1., 1., 1.],\n",
       "       [1., 1., 1.],\n",
       "       [1., 1., 1.]])"
      ]
     },
     "execution_count": 5,
     "metadata": {},
     "output_type": "execute_result"
    }
   ],
   "source": [
    "matriz = np.ones((3,3))\n",
    "matriz"
   ]
  },
  {
   "cell_type": "code",
   "execution_count": 6,
   "id": "3ba23d9a-a094-4b25-97ce-c6f3986c779f",
   "metadata": {
    "tags": []
   },
   "outputs": [
    {
     "data": {
      "text/plain": [
       "array([0, 1, 2])"
      ]
     },
     "execution_count": 6,
     "metadata": {},
     "output_type": "execute_result"
    }
   ],
   "source": [
    "vector = np.arange(3)\n",
    "vector"
   ]
  },
  {
   "cell_type": "code",
   "execution_count": 7,
   "id": "3bce848b-1da6-4f2f-b813-ad5dd04fee4d",
   "metadata": {
    "tags": []
   },
   "outputs": [
    {
     "data": {
      "text/plain": [
       "array([[1., 2., 3.],\n",
       "       [1., 2., 3.],\n",
       "       [1., 2., 3.]])"
      ]
     },
     "execution_count": 7,
     "metadata": {},
     "output_type": "execute_result"
    }
   ],
   "source": [
    "matriz + vector"
   ]
  },
  {
   "cell_type": "code",
   "execution_count": 8,
   "id": "a43f90c7-fae0-4b5e-b5f5-9f2bf8b9382f",
   "metadata": {
    "tags": []
   },
   "outputs": [
    {
     "data": {
      "text/plain": [
       "array([[0],\n",
       "       [1],\n",
       "       [2]])"
      ]
     },
     "execution_count": 8,
     "metadata": {},
     "output_type": "execute_result"
    }
   ],
   "source": [
    "columna = np.arange(3).reshape(3,1)\n",
    "columna"
   ]
  },
  {
   "cell_type": "code",
   "execution_count": 9,
   "id": "76b8c328-2f57-4d06-b08e-3a279e764e4a",
   "metadata": {
    "tags": []
   },
   "outputs": [
    {
     "data": {
      "text/plain": [
       "array([0, 1, 2])"
      ]
     },
     "execution_count": 9,
     "metadata": {},
     "output_type": "execute_result"
    }
   ],
   "source": [
    "renglon = np.arange(3)\n",
    "renglon"
   ]
  },
  {
   "cell_type": "code",
   "execution_count": 10,
   "id": "b8c54342-a0b9-4f11-a740-08dd1abe4c26",
   "metadata": {
    "tags": []
   },
   "outputs": [
    {
     "data": {
      "text/plain": [
       "array([[0, 1, 2],\n",
       "       [1, 2, 3],\n",
       "       [2, 3, 4]])"
      ]
     },
     "execution_count": 10,
     "metadata": {},
     "output_type": "execute_result"
    }
   ],
   "source": [
    "columna + renglon"
   ]
  },
  {
   "cell_type": "code",
   "execution_count": 11,
   "id": "6bd11298-9e5b-436b-a87e-a985b8a0c252",
   "metadata": {
    "tags": []
   },
   "outputs": [
    {
     "data": {
      "text/plain": [
       "array([[0, 0, 0],\n",
       "       [0, 1, 2],\n",
       "       [0, 2, 4]])"
      ]
     },
     "execution_count": 11,
     "metadata": {},
     "output_type": "execute_result"
    }
   ],
   "source": [
    "columna * renglon"
   ]
  },
  {
   "cell_type": "markdown",
   "id": "ab79cd12-aa2c-42d3-8a85-5c609ee244a6",
   "metadata": {},
   "source": [
    "**Reglas del broadcasting**<br>\n",
    "\n",
    "Para determinar la interacción entre dos arreglos, en Numpy se siguen las siguientes reglas:\n",
    "\n",
    "* **Regla 1**. Si dos arreglos difieren en sus dimensiones, el *shape* del que tiene menos dimensiones es completado con unos sobre su lado izquierdo\n",
    "* **Regla 2**. Si el *shape* de los dos arreglos no coincide en alguna dimensión, el arreglo con el *shape* igual a 1  se completa para que coincida con el *shape* del otro arreglo.\n",
    "* **Regla 3**. Si el *shape* de los dos arreglos no coincide en alguna dimensión, pero ninguna de las dos es igual a 1 entonces se tendrá un error del estilo:\n",
    "\n",
    "```python\n",
    "ValueError: operands could not be broadcast together with shapes (4,3) (4,) \n",
    "```"
   ]
  },
  {
   "cell_type": "markdown",
   "id": "60c83617-40a4-419b-a8f2-920816d85e30",
   "metadata": {},
   "source": [
    "## Ejemplo 1."
   ]
  },
  {
   "cell_type": "code",
   "execution_count": 12,
   "id": "0ca76b7e-2f95-43fc-b048-3d59c0262510",
   "metadata": {
    "tags": []
   },
   "outputs": [
    {
     "name": "stdout",
     "output_type": "stream",
     "text": [
      "(3, 2)\n",
      "[[1. 1.]\n",
      " [1. 1.]\n",
      " [1. 1.]]\n",
      "(2,)\n",
      "[0 1]\n"
     ]
    }
   ],
   "source": [
    "Mat = np.ones((3,2))\n",
    "b = np.arange(2)\n",
    "print(Mat.shape)\n",
    "print(Mat)\n",
    "print(b.shape)\n",
    "print(b)"
   ]
  },
  {
   "cell_type": "markdown",
   "id": "2302a1f4-80b2-43c6-b6f2-c3819e04bbb2",
   "metadata": {},
   "source": [
    "Cuando se vaya a realizar una operación con estos dos arreglos, por la **Regla 1** lo que Numpy hará internamente es:\n",
    "```\n",
    "Mat.shape <--- (3,2)\n",
    "b.shape   <--- (1,2)\n",
    "```\n",
    "\n",
    "Luego, por la **Regla 2** se completa la dimensión del *shape* del arreglo `b` que sea igual 1:\n",
    "```\n",
    "Mat.shape <--- (3,2)\n",
    "b.shape   <--- (3,2)\n",
    "```\n",
    "De esta manera es posible realizar operaciones entre ambos arreglos:"
   ]
  },
  {
   "cell_type": "code",
   "execution_count": 13,
   "id": "4aff0d81-733d-4332-b67d-ce11bebbf209",
   "metadata": {
    "tags": []
   },
   "outputs": [
    {
     "data": {
      "text/plain": [
       "array([[1., 2.],\n",
       "       [1., 2.],\n",
       "       [1., 2.]])"
      ]
     },
     "execution_count": 13,
     "metadata": {},
     "output_type": "execute_result"
    }
   ],
   "source": [
    "Mat + b"
   ]
  },
  {
   "cell_type": "code",
   "execution_count": 14,
   "id": "62dbd7ff-4c21-4303-91c0-a609f83a7394",
   "metadata": {
    "tags": []
   },
   "outputs": [
    {
     "data": {
      "text/plain": [
       "array([[0., 1.],\n",
       "       [0., 1.],\n",
       "       [0., 1.]])"
      ]
     },
     "execution_count": 14,
     "metadata": {},
     "output_type": "execute_result"
    }
   ],
   "source": [
    "Mat * b"
   ]
  },
  {
   "cell_type": "markdown",
   "id": "efed25b8-e3a6-45ab-9f1d-379fa8010e8d",
   "metadata": {},
   "source": [
    "## Ejemplo 2."
   ]
  },
  {
   "cell_type": "code",
   "execution_count": 15,
   "id": "48b58efe-7f70-4d12-8fe0-9d9d94b35231",
   "metadata": {
    "tags": []
   },
   "outputs": [
    {
     "name": "stdout",
     "output_type": "stream",
     "text": [
      "(3, 1)\n",
      "[[1.]\n",
      " [1.]\n",
      " [1.]]\n",
      "(4,)\n",
      "[0 1 2 3]\n"
     ]
    }
   ],
   "source": [
    "Mat = np.ones((3,1))\n",
    "b = np.arange(4)\n",
    "print(Mat.shape)\n",
    "print(Mat)\n",
    "print(b.shape)\n",
    "print(b)"
   ]
  },
  {
   "cell_type": "markdown",
   "id": "aef8b888-7622-4a31-8de4-318620b6f78c",
   "metadata": {},
   "source": [
    "Por la **Regla 1** lo que Numpy hará internamente es:\n",
    "```\n",
    "Mat.shape <--- (3,1)\n",
    "b.shape   <--- (1,4)\n",
    "```\n",
    "\n",
    "Por la **Regla 2** se completan las dimensiones de los arreglos que sean igual 1:\n",
    "```\n",
    "Mat.shape <--- (3,4)\n",
    "b.shape   <--- (3,4)\n",
    "```\n",
    "De esta manera es posible realizar operaciones entre ambos arreglos:"
   ]
  },
  {
   "cell_type": "code",
   "execution_count": 16,
   "id": "5d3c04b1-7ba8-4499-b8b0-2070dd551542",
   "metadata": {
    "tags": []
   },
   "outputs": [
    {
     "data": {
      "text/plain": [
       "array([[1., 2., 3., 4.],\n",
       "       [1., 2., 3., 4.],\n",
       "       [1., 2., 3., 4.]])"
      ]
     },
     "execution_count": 16,
     "metadata": {},
     "output_type": "execute_result"
    }
   ],
   "source": [
    "Mat + b"
   ]
  },
  {
   "cell_type": "markdown",
   "id": "ba9c5d53-f707-4257-9967-d746f27e39a2",
   "metadata": {},
   "source": [
    "## Ejemplo 3."
   ]
  },
  {
   "cell_type": "code",
   "execution_count": 17,
   "id": "726bfc25-476b-479a-a553-4df05fee2bb6",
   "metadata": {
    "tags": []
   },
   "outputs": [
    {
     "name": "stdout",
     "output_type": "stream",
     "text": [
      "(4, 3)\n",
      "[[1. 1. 1.]\n",
      " [1. 1. 1.]\n",
      " [1. 1. 1.]\n",
      " [1. 1. 1.]]\n",
      "(4,)\n",
      "[0 1 2 3]\n"
     ]
    }
   ],
   "source": [
    "Mat = np.ones((4,3))\n",
    "b = np.arange(4)\n",
    "print(Mat.shape)\n",
    "print(Mat)\n",
    "print(b.shape)\n",
    "print(b)"
   ]
  },
  {
   "cell_type": "markdown",
   "id": "7675669e-3b5a-4788-866c-d9340cac5cf0",
   "metadata": {},
   "source": [
    "Por la **Regla 1** lo que Numpy hará internamente es:\n",
    "```\n",
    "Mat.shape <--- (4,3)\n",
    "b.shape   <--- (1,4)\n",
    "```\n",
    "\n",
    "Por la **Regla 2** se completan las dimensiones de los arreglos que sean igual 1:\n",
    "```\n",
    "Mat.shape <--- (4,3)\n",
    "b.shape   <--- (4,4)\n",
    "```\n",
    "Observe que en este caso los shapes de los arreglos no coinciden, por lo que no será posible operar con ellos juntos."
   ]
  },
  {
   "cell_type": "code",
   "execution_count": 18,
   "id": "aa1131b8-2129-4ec4-9039-776363fcd106",
   "metadata": {
    "tags": []
   },
   "outputs": [
    {
     "ename": "ValueError",
     "evalue": "operands could not be broadcast together with shapes (4,3) (4,) ",
     "output_type": "error",
     "traceback": [
      "\u001b[0;31m---------------------------------------------------------------------------\u001b[0m",
      "\u001b[0;31mValueError\u001b[0m                                Traceback (most recent call last)",
      "Cell \u001b[0;32mIn[18], line 1\u001b[0m\n\u001b[0;32m----> 1\u001b[0m \u001b[43mMat\u001b[49m\u001b[43m \u001b[49m\u001b[38;5;241;43m+\u001b[39;49m\u001b[43m \u001b[49m\u001b[43mb\u001b[49m\n",
      "\u001b[0;31mValueError\u001b[0m: operands could not be broadcast together with shapes (4,3) (4,) "
     ]
    }
   ],
   "source": [
    "Mat + b"
   ]
  },
  {
   "cell_type": "code",
   "execution_count": 19,
   "id": "033fb381-6dba-41e7-be0b-7fb6adf4bfc8",
   "metadata": {
    "tags": []
   },
   "outputs": [
    {
     "data": {
      "text/plain": [
       "array([[1., 1., 1., 1.],\n",
       "       [1., 1., 1., 1.],\n",
       "       [1., 1., 1., 1.]])"
      ]
     },
     "execution_count": 19,
     "metadata": {},
     "output_type": "execute_result"
    }
   ],
   "source": [
    "Mat.shape = (3,4)\n",
    "Mat"
   ]
  },
  {
   "cell_type": "code",
   "execution_count": 20,
   "id": "8abbeaaa-cd28-4106-84ad-3f4277c8e6de",
   "metadata": {
    "tags": []
   },
   "outputs": [
    {
     "data": {
      "text/plain": [
       "array([[1., 2., 3., 4.],\n",
       "       [1., 2., 3., 4.],\n",
       "       [1., 2., 3., 4.]])"
      ]
     },
     "execution_count": 20,
     "metadata": {},
     "output_type": "execute_result"
    }
   ],
   "source": [
    "Mat + b"
   ]
  },
  {
   "cell_type": "code",
   "execution_count": null,
   "id": "8f56a1f3-3a8e-4ce3-8367-6c0d26743088",
   "metadata": {},
   "outputs": [],
   "source": []
  }
 ],
 "metadata": {
  "kernelspec": {
   "display_name": "Python 3 (ipykernel)",
   "language": "python",
   "name": "python3"
  },
  "language_info": {
   "codemirror_mode": {
    "name": "ipython",
    "version": 3
   },
   "file_extension": ".py",
   "mimetype": "text/x-python",
   "name": "python",
   "nbconvert_exporter": "python",
   "pygments_lexer": "ipython3",
   "version": "3.11.6"
  }
 },
 "nbformat": 4,
 "nbformat_minor": 5
}
