{
 "cells": [
  {
   "cell_type": "markdown",
   "metadata": {
    "deletable": false,
    "editable": true,
    "slideshow": {
     "slide_type": ""
    },
    "tags": []
   },
   "source": [
    "# Pensamiento Computacional con Python.\n",
    "\n",
    " <p xmlns:cc=\"http://creativecommons.org/ns#\" xmlns:dct=\"http://purl.org/dc/terms/\"><a property=\"dct:title\" rel=\"cc:attributionURL\" href=\"https://github.com/luiggix/intro_MeIA_2023\">Introducción a Python para IA</a> by <span property=\"cc:attributionName\">Luis Miguel de la Cruz Salas</span> is licensed under <a href=\"http://creativecommons.org/licenses/by-nc-sa/4.0/?ref=chooser-v1\" target=\"_blank\" rel=\"license noopener noreferrer\" style=\"display:inline-block;\">CC BY-NC-SA 4.0<img style=\"height:22px!important;margin-left:3px;vertical-align:text-bottom;\" src=\"https://mirrors.creativecommons.org/presskit/icons/cc.svg?ref=chooser-v1\"><img style=\"height:22px!important;margin-left:3px;vertical-align:text-bottom;\" src=\"https://mirrors.creativecommons.org/presskit/icons/by.svg?ref=chooser-v1\"><img style=\"height:22px!important;margin-left:3px;vertical-align:text-bottom;\" src=\"https://mirrors.creativecommons.org/presskit/icons/nc.svg?ref=chooser-v1\"><img style=\"height:22px!important;margin-left:3px;vertical-align:text-bottom;\" src=\"https://mirrors.creativecommons.org/presskit/icons/sa.svg?ref=chooser-v1\"></a></p> \n",
    "\n",
    "# Objetivos.\n",
    "\n",
    "Hacer uso de los conceptos de variables (etiquetas), palabras reservadas, expresiones, declaraciones, tipos y operadores, importación de bibliotecas (módulos), estructura de datos, control de flujo, entrada y salida estándar, ciclos, estructuras de datos, funciones, elementos avanzados (lambda functions, mapeos, etc), tratamiento de excepciones, para implementar una fórmula matemática."
   ]
  },
  {
   "cell_type": "markdown",
   "metadata": {
    "deletable": false,
    "editable": true,
    "slideshow": {
     "slide_type": ""
    },
    "tags": []
   },
   "source": [
    "# El huevo cocido perfecto\n",
    "\n",
    "¿Cuál es el tiempo ideal para cocinar un huevo?\n",
    "\n",
    "<img src=\"../figuras/huevo_cocido.jpg\"  style=\"width: 500px;\"/>\n",
    "\n",
    "\n",
    "Para lograr un **huevo cocido** suave, la clara debe haberse calentado el tiempo suficiente para coagular a una temperatura superior a $63^oC$, pero la yema no debe calentarse por encima de $70^oC$.\n",
    "\n",
    "Para lograr un **huevo duro**, el centro de la yema debe de alcanzar los $70^oC$.\n",
    "\n",
    "## Fórmula para calcular el tiempo de cocción.\n",
    "La siguiente fórmula expresa el tiempo $t$, en segundos, que le toma a la yema alcanzar la temperatura $T_y$, en grados Celsius.\n",
    "\n",
    "$$t = \\dfrac{M^{2/3} c \\rho^{1/3}}{K \\pi^2 (4\\pi/3)^{2/3}} \\ln \\left[ 0.76 \\dfrac{T_o - T_w}{T_y - T_w}\\right]$$\n",
    "\n",
    "donde las propiedades son:\n",
    "\n",
    "- $M$ masa; \n",
    "- $\\rho$ densidad; \n",
    "- $c$ capacidad calorífica específica; \n",
    "- $K$ conductividad térmica; \n",
    "- $T_w$ es la temperatura de ebullición del agua;\n",
    "- $T_o$ es la temperatura original del huevo antes de meterlo al agua;\n",
    "- $T_y$ es la temperatura que debe alcanzar la yema.\n",
    "\n",
    "**A Primer on Scientific Programming with Python**, Langtangen, H.P., ISBN 9783642183669, Texts in Computational Science and Engineering, https://books.google.com.co/books?id=Hi1KVomG148C, 2011, Springer Berlin Heidelberg."
   ]
  },
  {
   "cell_type": "markdown",
   "metadata": {
    "deletable": false,
    "editable": true,
    "slideshow": {
     "slide_type": ""
    },
    "tags": []
   },
   "source": [
    "<div class=\"alert alert-success\">\n",
    "\n",
    "## Ejercicio 1.\n",
    "\n",
    "Calcular el tiempo de cocción necesario para un huevo duro pequeño de $M$ = 47 g, para cuando la temperatura inicial del huevo es:\n",
    "    \n",
    "1. Temperatura ambiente: $T_o = 20^oC$.\n",
    "2. Temperatura en el refrigerador: $T_o = 4^oC$.\n",
    "\n",
    "**Datos**:\n",
    "- $M$ = 47 g \n",
    "- $\\rho$ = 1.038 g / cm$^3$\n",
    "- $c$ = 3.7 J / g K\n",
    "- $K$ = 5.4 $\\times 10^{-3}$ W / cm K\n",
    "- $T_w = 100^oC$\n",
    "- $T_y = 70^oC$\n",
    "\n",
    "</div>"
   ]
  },
  {
   "cell_type": "markdown",
   "metadata": {
    "deletable": false,
    "editable": false,
    "slideshow": {
     "slide_type": ""
    },
    "tags": []
   },
   "source": [
    "### Paso 1. Numerador.\n",
    "Calcular la primera parte de la fórmula: numerador = $M^{2/3} c \\rho^{1/3}$. Definir los elementos de esta primera parte de la fórmula de tal manera que: $M$ sea un entero, $\\rho$ y $c$ flotantes."
   ]
  },
  {
   "cell_type": "code",
   "execution_count": 1,
   "metadata": {
    "tags": []
   },
   "outputs": [
    {
     "name": "stdout",
     "output_type": "stream",
     "text": [
      "47 <class 'int'> 94832275292520\n",
      "1.038 <class 'float'> 139900443637488\n",
      "3.7 <class 'float'> 139900442060240\n"
     ]
    }
   ],
   "source": [
    "# Definimos las etiquetas necesarias\n",
    "M   = 47    # Un entero\n",
    "rho = 1.038 # Un flotante\n",
    "c   = 3.7   # Otro flotante\n",
    "\n",
    "# Imprimimos el contenido, el tipo y el id de cada objeto\n",
    "print(M, type(M), id(M))\n",
    "print(rho, type(rho), id(rho))\n",
    "print(c, type(c), id(c))"
   ]
  },
  {
   "cell_type": "markdown",
   "metadata": {
    "deletable": false,
    "editable": false,
    "tags": []
   },
   "source": [
    "Con los datos anteriores cálculamos el `numerador`:"
   ]
  },
  {
   "cell_type": "code",
   "execution_count": 4,
   "metadata": {
    "tags": []
   },
   "outputs": [
    {
     "name": "stdout",
     "output_type": "stream",
     "text": [
      "48.790216719661984 <class 'float'> 139900442054480\n"
     ]
    }
   ],
   "source": [
    "numerador = M**(2/3) * c * rho**(1/3)\n",
    "print(numerador, type(numerador), id(numerador))"
   ]
  },
  {
   "cell_type": "markdown",
   "metadata": {
    "deletable": false,
    "editable": true,
    "slideshow": {
     "slide_type": ""
    },
    "tags": []
   },
   "source": [
    "<div class=\"alert alert-info\">\n",
    "    \n",
    "**Variables, Tipos básicos, Operadores, Expresiones y Declaraciones.**\n",
    "\n",
    "Antes de continuar con este ejemplo y para completar tus aprendizajes revisa el uso de variables, palabras reservadas, expresiones, declaraciones, tipos y operaciones entre ellos, lo cual se explica en las siguientes notebooks:\n",
    "\n",
    "* [01_variables_objetos.ipynb](../intro_python/01_variables_objetos.ipynb)\n",
    "* [02_tipos_basicos.ipynb](../intro_python/02_tipos_basicos.ipynb)\n",
    "* [03_operadores.ipynb](../intro_python/03_operadores.ipynb)\n",
    "* [04_expresiones_declaraciones.ipynb](../intro_python/04_expresiones_declaraciones.ipynb)\n",
    "</div>"
   ]
  },
  {
   "cell_type": "markdown",
   "metadata": {
    "deletable": false,
    "slideshow": {
     "slide_type": ""
    },
    "tags": []
   },
   "source": [
    "También es posible usar el símbolo $\\rho$ como la etiqueta para la densidad:"
   ]
  },
  {
   "cell_type": "code",
   "execution_count": 5,
   "metadata": {
    "editable": true,
    "slideshow": {
     "slide_type": ""
    },
    "tags": []
   },
   "outputs": [
    {
     "name": "stdout",
     "output_type": "stream",
     "text": [
      "1.038 <class 'float'> 139900442052080\n"
     ]
    }
   ],
   "source": [
    "𝜌 = 1.038\n",
    "\n",
    "print(𝜌, type(𝜌), id(𝜌))"
   ]
  },
  {
   "cell_type": "code",
   "execution_count": 6,
   "metadata": {
    "editable": true,
    "slideshow": {
     "slide_type": ""
    },
    "tags": []
   },
   "outputs": [
    {
     "name": "stdout",
     "output_type": "stream",
     "text": [
      "48.790216719661984 <class 'float'> 139900442053808\n"
     ]
    }
   ],
   "source": [
    "numerador = M**(2/3) * c * 𝜌**(1/3)\n",
    "\n",
    "print(numerador, type(numerador), id(numerador))"
   ]
  },
  {
   "cell_type": "markdown",
   "metadata": {
    "deletable": false,
    "editable": true,
    "slideshow": {
     "slide_type": ""
    },
    "tags": []
   },
   "source": [
    "### Paso 2. Numerador e `import math`\n",
    "Implementar la segunda parte de la fórmula: $K \\pi^2 (4\\pi/3)^{2/3}$. \n",
    "\n",
    "Como puedes observar, en esta parte de la fórmula, se requiere del valor de $\\pi$. Esta es una constante que podemos obtener del módulo `math` de Python. Para ello debemos importar esta biblioteca y lo podemos hacer de las siguientes maneras:\n",
    "\n",
    "1. Importar toda la biblioteca `math` y entonces siempre debes anteponer el nombre de la biblioteca para usar sus componentes:\n",
    "```python\n",
    "import math\n",
    "print(math.pi)\n",
    "```\n",
    "2. Importar toda la biblioteca `math` y definir un nombre para usar sus componentes:\n",
    "```python\n",
    "import math as m\n",
    "print(m.pi)\n",
    "```\n",
    "\n",
    "3. Importar solo la componente de `math` que requieres usar:\n",
    "```python\n",
    "from math import pi\n",
    "print(pi)\n",
    "```\n",
    "\n",
    "4. Importar solo la componente de `math` que requieres usar y definir un nombre para esa componente:\n",
    "```python\n",
    "from math import pi as PI\n",
    "print(PI)\n",
    "```\n",
    "Incluso podrías usar:\n",
    "```python\n",
    "from math import pi as π\n",
    "print(π)\n",
    "```\n",
    "\n",
    "**No existe diferencia en rendimiento entre estas cuatro maneras de importar una biblioteca.**\n",
    "\n",
    "En este ejemplo usaremos la forma 4 para importar el valor de $\\pi$, pero cualquiera de las anteriores es válida. "
   ]
  },
  {
   "cell_type": "code",
   "execution_count": 7,
   "metadata": {
    "editable": true,
    "slideshow": {
     "slide_type": ""
    },
    "tags": []
   },
   "outputs": [
    {
     "name": "stdout",
     "output_type": "stream",
     "text": [
      "0.13849026450902358 <class 'float'> 139900442054480\n"
     ]
    }
   ],
   "source": [
    "from math import pi as π\n",
    "\n",
    "K = 5.4e-3\n",
    "denominador = K * π**2 * (4 * π / 3)**(2/3)\n",
    "print(denominador, type(denominador), id(denominador))"
   ]
  },
  {
   "cell_type": "markdown",
   "metadata": {
    "deletable": false,
    "editable": true,
    "slideshow": {
     "slide_type": ""
    },
    "tags": []
   },
   "source": [
    "### Paso 3. Tercera parte de la fórmula.\n",
    "\n",
    "Nos falta implementar $\\ln \\left[ 0.76 \\dfrac{T_o - T_w}{T_y - T_w}\\right]$. En este caso se requiere de la función logaritmo natural, la cual puede ser obtenida del módulo `math`. También requerimos definir los valores para $T_o$, $T_w$ y $T_y$.\n",
    "\n",
    "Para el caso cuando el huevo está a temperatura ambiente tenemos $T_o = 20^oC$. Entonces la implementación final sería como sigue:"
   ]
  },
  {
   "cell_type": "code",
   "execution_count": 8,
   "metadata": {
    "editable": true,
    "slideshow": {
     "slide_type": ""
    },
    "tags": []
   },
   "outputs": [
    {
     "name": "stdout",
     "output_type": "stream",
     "text": [
      "0.7063924073099658 <class 'float'> 139900442060176\n"
     ]
    }
   ],
   "source": [
    "from math import log as ln\n",
    "\n",
    "To = 20  # Temperatura inicial del huevo\n",
    "Tw = 100 # Temperatura de ebullición del agua\n",
    "Ty = 70  # Temperatura que debe alcanzar la yema\n",
    "\n",
    "factor = ln(0.76 * (To - Tw) / (Ty - Tw))\n",
    "print(factor, type(factor), id(factor))"
   ]
  },
  {
   "cell_type": "code",
   "execution_count": 10,
   "metadata": {},
   "outputs": [],
   "source": [
    "import math"
   ]
  },
  {
   "cell_type": "code",
   "execution_count": null,
   "metadata": {},
   "outputs": [],
   "source": [
    "math.log10"
   ]
  },
  {
   "cell_type": "markdown",
   "metadata": {
    "deletable": false,
    "slideshow": {
     "slide_type": ""
    },
    "tags": []
   },
   "source": [
    "### Paso 4. Fórmula completa.\n",
    "\n",
    "Ya que tenemos todos los ingredientes de la fórmula, podemos hacer el cálculo final:"
   ]
  },
  {
   "cell_type": "code",
   "execution_count": 9,
   "metadata": {
    "editable": true,
    "slideshow": {
     "slide_type": ""
    },
    "tags": []
   },
   "outputs": [
    {
     "name": "stdout",
     "output_type": "stream",
     "text": [
      "248.86253747844736 <class 'float'> 139900442053232\n"
     ]
    }
   ],
   "source": [
    "t = numerador / denominador * factor\n",
    "print(t, type(t), id(t))"
   ]
  },
  {
   "cell_type": "markdown",
   "metadata": {
    "deletable": false,
    "slideshow": {
     "slide_type": ""
    },
    "tags": []
   },
   "source": [
    "El resultado nos da un número flotante que representa el tiempo de cocción del huevo en segundos, cuando su temperatura inicial es de $20^oC$. \n",
    "\n",
    "Podemos escribir toda la fórmula en una sola línea como sigue"
   ]
  },
  {
   "cell_type": "code",
   "execution_count": 11,
   "metadata": {
    "tags": []
   },
   "outputs": [
    {
     "data": {
      "text/plain": [
       "248.86253747844736"
      ]
     },
     "execution_count": 11,
     "metadata": {},
     "output_type": "execute_result"
    }
   ],
   "source": [
    "t = M**(2/3) * c * 𝜌**(1/3) / ( K * π**2 * (4 * π / 3)**(2/3) ) * ln(0.76 * (To - Tw) / (Ty - Tw))\n",
    "t"
   ]
  },
  {
   "cell_type": "markdown",
   "metadata": {
    "deletable": false,
    "editable": true,
    "slideshow": {
     "slide_type": ""
    },
    "tags": []
   },
   "source": [
    "<div class=\"alert alert-info\">\n",
    "    \n",
    "**Precedencia de operadores**.\n",
    "    \n",
    "Observa que en la implementación anterior se ha tomado en cuenta la precedencia de operadores para que el resultado sea correcto. Revisa estas reglas de precedencia en ls notebook [03_operadores.ipynb](../intro_python/03_operadores.ipynb) y confirma que la implementación anterior es correcta.\n",
    "</div>"
   ]
  },
  {
   "cell_type": "markdown",
   "metadata": {
    "deletable": false,
    "editable": true,
    "slideshow": {
     "slide_type": ""
    },
    "tags": []
   },
   "source": [
    "Ya con todos los ingredientes de la fórmula, podemos calcular el tiempo de cocción para un huevo a temperatura inicial de $T_o = 4^oC$."
   ]
  },
  {
   "cell_type": "code",
   "execution_count": 12,
   "metadata": {
    "editable": true,
    "slideshow": {
     "slide_type": ""
    },
    "tags": []
   },
   "outputs": [
    {
     "name": "stdout",
     "output_type": "stream",
     "text": [
      "313.09454902221637\n"
     ]
    }
   ],
   "source": [
    "To = 4 \n",
    "t = M**(2/3) * c * 𝜌**(1/3) / ( K * π**2 * (4 * π / 3)**(2/3) ) * ln(0.76 * (To - Tw) / (Ty - Tw))\n",
    "print(t)"
   ]
  },
  {
   "cell_type": "code",
   "execution_count": 15,
   "metadata": {},
   "outputs": [
    {
     "name": "stdout",
     "output_type": "stream",
     "text": [
      "313.09454902221637\n"
     ]
    }
   ],
   "source": [
    "factor = ln(0.76 * (To - Tw) / (Ty - Tw))\n",
    "t = numerador / denominador * factor\n",
    "print(t)"
   ]
  },
  {
   "cell_type": "markdown",
   "metadata": {
    "deletable": false,
    "editable": true,
    "slideshow": {
     "slide_type": ""
    },
    "tags": []
   },
   "source": [
    "Observa que el tiempo es mayor que en el caso anterior, lo cual se debe a que en este último caso el huevo está a una temperatura más baja."
   ]
  },
  {
   "cell_type": "markdown",
   "metadata": {
    "deletable": false,
    "editable": true,
    "slideshow": {
     "slide_type": ""
    },
    "tags": []
   },
   "source": [
    "<div class=\"alert alert-success\">\n",
    "\n",
    "## Ejercicio 2.\n",
    "\n",
    "Calcular el tiempo para las temperaturas $20^oC$ y $4^oC$ e imprimir el resultado en el siguiente formato usando cadenas:\n",
    "<br>\n",
    "\n",
    "```\n",
    "El tiempo de cocción óptimo es: 248.9 [s] (4.1 [m])\n",
    "El tiempo de cocción óptimo es: 313.1 [s] (5.2 [m])\n",
    "```\n",
    "<br>\n",
    "\n",
    "En este formato estamos poniendo entre corchetes las unidades del tiempo: `[s]` son segundos y `[m]` son minutos. Entonces debes transformar los segundos en minutos también.\n",
    "\n",
    "</div>"
   ]
  },
  {
   "cell_type": "markdown",
   "metadata": {
    "deletable": false,
    "editable": true,
    "slideshow": {
     "slide_type": ""
    },
    "tags": []
   },
   "source": [
    "Primero volvemos a calcular los dos tiempos para $20^oC$ y $4^oC$:"
   ]
  },
  {
   "cell_type": "code",
   "execution_count": 16,
   "metadata": {
    "editable": true,
    "slideshow": {
     "slide_type": ""
    },
    "tags": []
   },
   "outputs": [],
   "source": [
    "To = 20\n",
    "logaritmo = ln(0.76 * (To - Tw) / (Ty - Tw))\n",
    "t1 = numerador /denominador * logaritmo\n",
    "\n",
    "To = 4\n",
    "logaritmo = ln(0.76 * (To - Tw) / (Ty - Tw))\n",
    "t2 = numerador /denominador * logaritmo"
   ]
  },
  {
   "cell_type": "code",
   "execution_count": 17,
   "metadata": {
    "editable": true,
    "slideshow": {
     "slide_type": ""
    },
    "tags": []
   },
   "outputs": [
    {
     "name": "stdout",
     "output_type": "stream",
     "text": [
      "248.86253747844736 313.09454902221637\n"
     ]
    }
   ],
   "source": [
    "print(t1, t2)"
   ]
  },
  {
   "cell_type": "markdown",
   "metadata": {
    "deletable": false,
    "editable": true,
    "slideshow": {
     "slide_type": ""
    },
    "tags": []
   },
   "source": [
    "### Solución 1:"
   ]
  },
  {
   "cell_type": "code",
   "execution_count": 18,
   "metadata": {
    "editable": true,
    "slideshow": {
     "slide_type": ""
    },
    "tags": []
   },
   "outputs": [
    {
     "name": "stdout",
     "output_type": "stream",
     "text": [
      "El tiempo de cocción óptimo es: 248.86253747844736  [s] ( 4.147708957974123  [m])\n",
      "El tiempo de cocción óptimo es: 313.09454902221637  [s] ( 5.218242483703606  [m])\n"
     ]
    }
   ],
   "source": [
    "print('El tiempo de cocción óptimo es:', t1,' [s] (', t1/60, ' [m])')\n",
    "print('El tiempo de cocción óptimo es:', t2,' [s] (', t2/60, ' [m])')"
   ]
  },
  {
   "cell_type": "markdown",
   "metadata": {
    "deletable": false,
    "editable": true,
    "slideshow": {
     "slide_type": ""
    },
    "tags": []
   },
   "source": [
    "Observa que en esta solución se imprimen muchos decimales en los tiempos, por lo que no es la solución óptima."
   ]
  },
  {
   "cell_type": "markdown",
   "metadata": {
    "deletable": false,
    "editable": true,
    "slideshow": {
     "slide_type": ""
    },
    "tags": []
   },
   "source": [
    "### Solución 2:"
   ]
  },
  {
   "cell_type": "code",
   "execution_count": 19,
   "metadata": {
    "editable": true,
    "slideshow": {
     "slide_type": ""
    },
    "tags": []
   },
   "outputs": [
    {
     "name": "stdout",
     "output_type": "stream",
     "text": [
      "El tiempo de cocción óptimo es: 248.86253747844736 [s] (4.147708957974123 [m])\n",
      "El tiempo de cocción óptimo es: 313.09454902221637 [s] (5.218242483703606 [m])\n"
     ]
    }
   ],
   "source": [
    "cadena1 = 'El tiempo de cocción óptimo es: '\n",
    "cadena2 = str(t1) + ' [s] (' + str(t1/60) + ' [m])'\n",
    "cadena3 = str(t2) + ' [s] (' + str(t2/60) + ' [m])'\n",
    "print(cadena1 + cadena2)\n",
    "print(cadena1 + cadena3)"
   ]
  },
  {
   "cell_type": "markdown",
   "metadata": {
    "deletable": false,
    "editable": true,
    "slideshow": {
     "slide_type": ""
    },
    "tags": []
   },
   "source": [
    "Observa que en esta solución tenemos el mismo problema que en la Solución 1."
   ]
  },
  {
   "cell_type": "markdown",
   "metadata": {
    "deletable": false,
    "editable": true,
    "slideshow": {
     "slide_type": ""
    },
    "tags": []
   },
   "source": [
    "### Solución 3:"
   ]
  },
  {
   "cell_type": "code",
   "execution_count": 20,
   "metadata": {
    "editable": true,
    "slideshow": {
     "slide_type": ""
    },
    "tags": []
   },
   "outputs": [
    {
     "name": "stdout",
     "output_type": "stream",
     "text": [
      "El tiempo de cocción óptimo es: 248.86253747844736 [s] ( 4.147708957974123 [m])\n",
      "El tiempo de cocción óptimo es: 313.09454902221637 [s] ( 5.218242483703606 [m])\n"
     ]
    }
   ],
   "source": [
    "cadena2 = '{} [s] ( {} [m])'.format(t1, t1/60)\n",
    "cadena3 = '{} [s] ( {} [m])'.format(t2, t2/60)\n",
    "print(cadena1 + cadena2)\n",
    "print(cadena1 + cadena3)"
   ]
  },
  {
   "cell_type": "markdown",
   "metadata": {
    "deletable": false,
    "editable": true,
    "slideshow": {
     "slide_type": ""
    },
    "tags": []
   },
   "source": [
    "Esta solución sigue presentando el problema de las dos soluciones anteriores."
   ]
  },
  {
   "cell_type": "markdown",
   "metadata": {
    "editable": true,
    "slideshow": {
     "slide_type": ""
    },
    "tags": []
   },
   "source": [
    "### Solución 4:"
   ]
  },
  {
   "cell_type": "code",
   "execution_count": 21,
   "metadata": {
    "editable": true,
    "slideshow": {
     "slide_type": ""
    },
    "tags": []
   },
   "outputs": [
    {
     "name": "stdout",
     "output_type": "stream",
     "text": [
      "El tiempo de cocción óptimo es: 248.86253747844736 [s] (4.147708957974123 [m])\n",
      "El tiempo de cocción óptimo es: 313.09454902221637 [s] (5.218242483703606 [m])\n"
     ]
    }
   ],
   "source": [
    "# f-strings (formatted string literals)\n",
    "cadena2 = f'{t1} [s] ({t1/60} [m])'\n",
    "cadena3 = f'{t2} [s] ({t2/60} [m])'\n",
    "print(cadena1 + cadena2)\n",
    "print(cadena1 + cadena3)"
   ]
  },
  {
   "cell_type": "code",
   "execution_count": 24,
   "metadata": {},
   "outputs": [
    {
     "name": "stdout",
     "output_type": "stream",
     "text": [
      "El tiempo de cocción óptimo es: 248.9 [s] (4.1 [m])\n",
      "El tiempo de cocción óptimo es: 313.1 [s] (5.2 [m])\n"
     ]
    }
   ],
   "source": [
    "cadena2 = f'{t1:.1f} [s] ({t1/60:.1f} [m])'\n",
    "cadena3 = f'{t2:.1f} [s] ({t2/60:.1f} [m])'\n",
    "print(cadena1 + cadena2)\n",
    "print(cadena1 + cadena3)"
   ]
  },
  {
   "cell_type": "markdown",
   "metadata": {
    "deletable": false,
    "editable": true,
    "slideshow": {
     "slide_type": ""
    },
    "tags": []
   },
   "source": [
    "### Solución 5:"
   ]
  },
  {
   "cell_type": "code",
   "execution_count": 22,
   "metadata": {
    "editable": true,
    "slideshow": {
     "slide_type": ""
    },
    "tags": []
   },
   "outputs": [
    {
     "name": "stdout",
     "output_type": "stream",
     "text": [
      "El tiempo de cocción óptimo es: 248.9 [s] (4.1 [m])\n",
      "El tiempo de cocción óptimo es: 313.1 [s] (5.2 [m])\n"
     ]
    }
   ],
   "source": [
    "cadena2 = '{:.1f} [s] ({:.1f} [m])'.format(t1, t1/60)\n",
    "cadena3 = '{:.1f} [s] ({:.1f} [m])'.format(t2, t2/60)\n",
    "print(cadena1 + cadena2)\n",
    "print(cadena1 + cadena3)"
   ]
  },
  {
   "cell_type": "markdown",
   "metadata": {
    "deletable": false,
    "editable": true,
    "slideshow": {
     "slide_type": ""
    },
    "tags": []
   },
   "source": [
    "Gracias al uso de `{:.1f}` esta solución imprime lo que se solicita correctamente."
   ]
  },
  {
   "cell_type": "markdown",
   "metadata": {
    "deletable": false,
    "editable": true,
    "slideshow": {
     "slide_type": ""
    },
    "tags": []
   },
   "source": [
    "### Solución 6:"
   ]
  },
  {
   "cell_type": "code",
   "execution_count": 25,
   "metadata": {
    "editable": true,
    "slideshow": {
     "slide_type": ""
    },
    "tags": []
   },
   "outputs": [
    {
     "name": "stdout",
     "output_type": "stream",
     "text": [
      "El tiempo de cocción óptimo es: 248.9 [s] (4.1 [m])\n",
      "El tiempo de cocción óptimo es: 313.1 [s] (5.2 [m])\n"
     ]
    }
   ],
   "source": [
    "# Solución 5:\n",
    "print('El tiempo de cocción óptimo es: {:0.1f} [s] ({:0.1f} [m])'.format(t1, t1/60))\n",
    "print('El tiempo de cocción óptimo es: {:0.1f} [s] ({:0.1f} [m])'.format(t2, t2/60))"
   ]
  },
  {
   "cell_type": "markdown",
   "metadata": {
    "deletable": false,
    "editable": true,
    "slideshow": {
     "slide_type": ""
    },
    "tags": []
   },
   "source": [
    "Esta última solución genera el resultado correcto y es la más recomendada.\n",
    "\n",
    "<div class=\"alert alert-info\">\n",
    "\n",
    "**Salida estándar**.\n",
    "    \n",
    "Para conocer más acerca del formato de salida en Python, debes revisar acerca de *f-strings* y del método `str.format()`. Checa la notebook [05_cadenas.ipynb](../intro_python/05_cadenas.ipynb) en donde se describen estas funcionalidades y se dan ejemplos.\n",
    "\n",
    "</div>"
   ]
  },
  {
   "cell_type": "markdown",
   "metadata": {
    "deletable": false,
    "editable": true,
    "slideshow": {
     "slide_type": ""
    },
    "tags": []
   },
   "source": [
    "\n",
    "<div class=\"alert alert-success\">\n",
    "\n",
    "## Ejercicio 3.\n",
    "\n",
    "Hacer una lista de tiempos de cocción para temperaturas de huevos, desde la que se tiene en el refrigerador, $4^oC$, hasta la temperatura ambiente, $20^oC$, en pasos de $1^oC$.\n",
    "    \n",
    "1. Imprimir dos columnas: temperatura inicial ($T_o$) y tiempo ($t$).\n",
    "2. Imprimir los tiempos en el formato: `min:seg` (por ejemplo `5:30`).\n",
    "3. Imprimir un encabezado para identificar las columnas.\n",
    "\n",
    "```\n",
    "Temperatura \t Tiempo\n",
    " 4 \t\t 5:13\n",
    " 5 \t\t 5:09\n",
    "...\t\t...\n",
    " 19 \t\t 4:13\n",
    " 20 \t\t 4:08\n",
    "```\n",
    "</div>"
   ]
  },
  {
   "cell_type": "markdown",
   "metadata": {
    "deletable": false,
    "editable": true,
    "slideshow": {
     "slide_type": ""
    },
    "tags": []
   },
   "source": [
    "<div class=\"alert alert-info\">\n",
    "\n",
    "**Control de flujo**.\n",
    "    \n",
    "Para realizar este ejemplo, necesitas conocer las herramientas para el control del flujo, las cuales se describen en la siguiente notebook [07_control_de_flujo.ipynb](../intro_python/07_control_de_flujo.ipynb).\n",
    "\n",
    "</div>"
   ]
  },
  {
   "cell_type": "markdown",
   "metadata": {
    "deletable": false,
    "editable": false,
    "slideshow": {
     "slide_type": ""
    },
    "tags": []
   },
   "source": [
    "### Solución.\n",
    "\n",
    "Recordemos la fórmula $$t = \\dfrac{M^{2/3} c \\rho^{1/3}}{K \\pi^2 (4\\pi/3)^{2/3}} \\ln \\left[ 0.76 \\dfrac{T_o - T_w}{T_y - T_w}\\right]$$\n",
    "\n",
    "`numerador` = $M^{2/3} c \\rho^{1/3}$\n",
    "\n",
    "`denominador` = $K \\pi^2 (4\\pi/3)^{2/3}$\n",
    "\n",
    "`factor` = $ln \\left[ 0.76 \\dfrac{T_o - T_w}{T_y - T_w}\\right]$\n",
    "\n",
    "Observamos que lo único que cambia es `factor` cuando cambia $T_o$.\n",
    "\n",
    "Construyamos primero un ciclo para recorrer los valores de $T_o$ desde $4$ hasta $20$."
   ]
  },
  {
   "cell_type": "code",
   "execution_count": 27,
   "metadata": {
    "editable": true,
    "slideshow": {
     "slide_type": ""
    },
    "tags": []
   },
   "outputs": [
    {
     "name": "stdout",
     "output_type": "stream",
     "text": [
      "4\n",
      "5\n",
      "6\n",
      "7\n",
      "8\n",
      "9\n",
      "10\n",
      "11\n",
      "12\n",
      "13\n",
      "14\n",
      "15\n",
      "16\n",
      "17\n",
      "18\n",
      "19\n",
      "20\n"
     ]
    }
   ],
   "source": [
    "for To in range(4,21): # El ciclo va de 4 a 20\n",
    "    print(To)"
   ]
  },
  {
   "cell_type": "code",
   "execution_count": 31,
   "metadata": {},
   "outputs": [
    {
     "name": "stdout",
     "output_type": "stream",
     "text": [
      "1 4\n",
      "2 5\n",
      "3 6\n",
      "4 7\n",
      "5 8\n",
      "6 9\n",
      "7 10\n",
      "8 11\n",
      "9 12\n",
      "10 13\n",
      "11 14\n",
      "12 15\n",
      "13 16\n",
      "14 17\n",
      "15 18\n",
      "16 19\n",
      "17 20\n"
     ]
    }
   ],
   "source": [
    "for i, To in enumerate(range(4,21)): # El ciclo va de 4 a 20\n",
    "    print(i+1, To)"
   ]
  },
  {
   "cell_type": "markdown",
   "metadata": {
    "deletable": false,
    "slideshow": {
     "slide_type": ""
    },
    "tags": []
   },
   "source": [
    "Ahora, dentro del ciclo vamos a implementar la fórmula para calcular el tiempo y se imprime el tiempo y la temperatura inicial $T_o$:"
   ]
  },
  {
   "cell_type": "code",
   "execution_count": 28,
   "metadata": {
    "editable": true,
    "slideshow": {
     "slide_type": ""
    },
    "tags": []
   },
   "outputs": [
    {
     "name": "stdout",
     "output_type": "stream",
     "text": [
      "4 313.09454902221637\n",
      "5 309.4055027800624\n",
      "6 305.67741828677\n",
      "7 301.9094604759048\n",
      "8 298.100767196758\n",
      "9 294.2504480302776\n",
      "10 290.3575830395756\n",
      "11 286.42122145062837\n",
      "12 282.44038025843554\n",
      "13 278.4140427535251\n",
      "14 274.34115696328047\n",
      "15 270.22063400211084\n",
      "16 266.05134632399177\n",
      "17 261.83212587036\n",
      "18 257.5617621057524\n",
      "19 253.23899993292162\n",
      "20 248.86253747844736\n"
     ]
    }
   ],
   "source": [
    "for To in range(4, 21):\n",
    "    factor = ln(0.76 * (To - Tw) / (Ty - Tw))\n",
    "    t = numerador / denominador * factor\n",
    "    print(To, t)"
   ]
  },
  {
   "cell_type": "markdown",
   "metadata": {
    "deletable": false,
    "slideshow": {
     "slide_type": ""
    },
    "tags": []
   },
   "source": [
    "Necesitamos convertir el tiempo en el formato `min:seg` :"
   ]
  },
  {
   "cell_type": "code",
   "execution_count": 29,
   "metadata": {
    "editable": true,
    "slideshow": {
     "slide_type": ""
    },
    "tags": []
   },
   "outputs": [
    {
     "name": "stdout",
     "output_type": "stream",
     "text": [
      "Temperatura \t Tiempo\n",
      " 4 \t\t 5:13\n",
      " 5 \t\t 5:09\n",
      " 6 \t\t 5:05\n",
      " 7 \t\t 5:01\n",
      " 8 \t\t 4:58\n",
      " 9 \t\t 4:54\n",
      " 10 \t\t 4:50\n",
      " 11 \t\t 4:46\n",
      " 12 \t\t 4:42\n",
      " 13 \t\t 4:38\n",
      " 14 \t\t 4:34\n",
      " 15 \t\t 4:30\n",
      " 16 \t\t 4:26\n",
      " 17 \t\t 4:21\n",
      " 18 \t\t 4:17\n",
      " 19 \t\t 4:13\n",
      " 20 \t\t 4:08\n"
     ]
    }
   ],
   "source": [
    "print('Temperatura \\t Tiempo') # Se imprime el encabezado antes del ciclo\n",
    "\n",
    "for To in range(4, 21):\n",
    "    factor = ln(0.76 * (To - Tw) / (Ty - Tw))\n",
    "    t = numerador / denominador * factor\n",
    "    \n",
    "    # Conversión del tiempo al formato requerido\n",
    "    t_min = int(t / 60)\n",
    "    t_seg = int(t - t_min * 60) \n",
    "    \n",
    "    # Impresión del resultado\n",
    "    print(' {} \\t\\t {}:{:02d}'.format(To, t_min, t_seg))"
   ]
  },
  {
   "cell_type": "markdown",
   "metadata": {
    "deletable": false,
    "slideshow": {
     "slide_type": ""
    },
    "tags": []
   },
   "source": [
    "Observa que en el formato de impresión de los resultados se usa `{:02d}` lo cual indica que se imprimen 2 dígitos enteros, y cuando solo se tiene un dígito se completa con un cero a la izquierda."
   ]
  },
  {
   "cell_type": "markdown",
   "metadata": {
    "deletable": false,
    "editable": true,
    "slideshow": {
     "slide_type": ""
    },
    "tags": []
   },
   "source": [
    "<div class=\"alert alert-success\">\n",
    "\n",
    "## Ejercicio 4.\n",
    "\n",
    "Realizar lo mismo que en el Ejercicio 3 pero usando dos listas: una para las temperaturas y otra para los tiempos.\n",
    "\n",
    "</div>"
   ]
  },
  {
   "cell_type": "markdown",
   "metadata": {
    "editable": true,
    "slideshow": {
     "slide_type": ""
    },
    "tags": []
   },
   "source": [
    "<div class=\"alert alert-info\">\n",
    "\n",
    "**Estructura de datos `list` y funciones `zip` y `enumerate`**.\n",
    "    \n",
    "Para realizar este ejemplo, necesitas conocer la estructuras de datos `list`, la cual puedes revisar en esta notebook [08_listas.ipynb](../intro_python/08_listas.ipynb). Y también es importante que revises como se recorren las secuencias y el uso de las funciones `enumerate` y `zip` que puedes revisar en [13_ds_traversing.ipynb](../intro_python/13_ds_traversing.ipynb).\n",
    "\n",
    "</div>"
   ]
  },
  {
   "cell_type": "code",
   "execution_count": 47,
   "metadata": {
    "editable": true,
    "slideshow": {
     "slide_type": ""
    },
    "tags": []
   },
   "outputs": [
    {
     "name": "stdout",
     "output_type": "stream",
     "text": [
      "Temperatura \t Tiempo\n",
      "[4, 5, 6, 7, 8, 9, 10, 11, 12, 13, 14, 15, 16, 17, 18, 19, 20]\n",
      "['5:13', '5:09', '5:05', '5:01', '4:58', '4:54', '4:50', '4:46', '4:42', '4:38', '4:34', '4:30', '4:26', '4:21', '4:17', '4:13', '4:08']\n",
      " 4 \t\t 5:13\n",
      " 5 \t\t 5:09\n",
      " 6 \t\t 5:05\n",
      " 7 \t\t 5:01\n",
      " 8 \t\t 4:58\n",
      " 9 \t\t 4:54\n",
      " 10 \t\t 4:50\n",
      " 11 \t\t 4:46\n",
      " 12 \t\t 4:42\n",
      " 13 \t\t 4:38\n",
      " 14 \t\t 4:34\n",
      " 15 \t\t 4:30\n",
      " 16 \t\t 4:26\n",
      " 17 \t\t 4:21\n",
      " 18 \t\t 4:17\n",
      " 19 \t\t 4:13\n",
      " 20 \t\t 4:08\n"
     ]
    }
   ],
   "source": [
    "print('Temperatura \\t Tiempo') # Se imprime el encabezado antes del ciclo\n",
    "\n",
    "# Se definen dos lista vacías\n",
    "Ts = [] # Lista de temperaturas\n",
    "ts = [] # Lista de tiempos\n",
    "\n",
    "for To in range(4,21):\n",
    "    Ts.append(To) # Se agrega la temperatura a la lista\n",
    "    \n",
    "    # Se calcula el tiempo de cocción\n",
    "    factor = ln(0.76 * (To - Tw) / (Ty - Tw))\n",
    "    t = numerador / denominador * factor\n",
    "    \n",
    "    # Se convierte el tiempo al formato min:seg\n",
    "    t_min = int(t / 60)\n",
    "    t_seg = int(t - t_min * 60) \n",
    "    \n",
    "    # Se agrega el tiempo a la lista\n",
    "    ts.append('{}:{:02d}'.format(t_min, t_seg)) \n",
    "#    ts.append(float('{:.2f}'.format(t)))\n",
    "    \n",
    "print(Ts)\n",
    "print(ts)\n",
    "# Se imprime el resultado final\n",
    "for T, t in zip(Ts, ts):\n",
    "    print(' {} \\t\\t {}'.format(T, t))"
   ]
  },
  {
   "cell_type": "markdown",
   "metadata": {
    "deletable": false,
    "editable": true,
    "slideshow": {
     "slide_type": ""
    },
    "tags": []
   },
   "source": [
    "<div class=\"alert alert-success\">\n",
    "\n",
    "## Ejercicio 5.\n",
    "\n",
    "Realizar lo mismo que en el Ejercicio 3 pero con un diccionario.\n",
    "</div>"
   ]
  },
  {
   "cell_type": "markdown",
   "metadata": {},
   "source": [
    "<div class=\"alert alert-info\">\n",
    "\n",
    "**Estructura de datos `dict`**.\n",
    "    \n",
    "Para realizar este ejemplo, necesitas conocer la estructuras de datos `dict`, la cual puedes revisar en esta notebook [11_diccionarios.ipynb](../intro_python/11_diccionarios.ipynb).\n",
    "\n",
    "</div>"
   ]
  },
  {
   "cell_type": "code",
   "execution_count": 55,
   "metadata": {
    "editable": true,
    "slideshow": {
     "slide_type": ""
    },
    "tags": []
   },
   "outputs": [
    {
     "name": "stdout",
     "output_type": "stream",
     "text": [
      "Temperatura \t Tiempo\n",
      " 4 \t\t 5:13\n",
      " 5 \t\t 5:09\n",
      " 6 \t\t 5:05\n",
      " 7 \t\t 5:01\n",
      " 8 \t\t 4:58\n",
      " 9 \t\t 4:54\n",
      " 10 \t\t 4:50\n",
      " 11 \t\t 4:46\n",
      " 12 \t\t 4:42\n",
      " 13 \t\t 4:38\n",
      " 14 \t\t 4:34\n",
      " 15 \t\t 4:30\n",
      " 16 \t\t 4:26\n",
      " 17 \t\t 4:21\n",
      " 18 \t\t 4:17\n",
      " 19 \t\t 4:13\n",
      " 20 \t\t 4:08\n"
     ]
    }
   ],
   "source": [
    "print('Temperatura \\t Tiempo') # Se imprime el encabezado antes del ciclo\n",
    "\n",
    "# Se construye un diccionario vacío\n",
    "tiempos_huevo = {}\n",
    "\n",
    "for To in range(4,21):\n",
    "    \n",
    "    # Se calcula el tiempo de cocción\n",
    "    factor = ln(0.76 * (To - Tw) / (Ty - Tw))\n",
    "    t = numerador / denominador * factor\n",
    "    \n",
    "    # Se convierte el tiempo al formato min:seg\n",
    "    t_min = int(t / 60)\n",
    "    t_seg = int(t - t_min * 60) \n",
    "    \n",
    "    # Se agrega la temperatura como Key y \n",
    "    # el tiempo como value al diccionario:\n",
    "    tiempos_huevo[To] = '{}:{:02d}'.format(t_min, t_seg)\n",
    "\n",
    "#print(tiempos_huevo)\n",
    "\n",
    "# Se imprime el resultado final\n",
    "for key in tiempos_huevo:\n",
    "    print(' {} \\t\\t {}'.format(key, tiempos_huevo[key]))"
   ]
  },
  {
   "cell_type": "code",
   "execution_count": 57,
   "metadata": {},
   "outputs": [
    {
     "data": {
      "text/plain": [
       "'4:21'"
      ]
     },
     "execution_count": 57,
     "metadata": {},
     "output_type": "execute_result"
    }
   ],
   "source": [
    "tiempos_huevo[17]"
   ]
  },
  {
   "cell_type": "markdown",
   "metadata": {
    "deletable": false,
    "slideshow": {
     "slide_type": ""
    },
    "tags": []
   },
   "source": [
    "Un diccionario se puede recorrer de varias maneras. Observa los siguiente ejemplos:"
   ]
  },
  {
   "cell_type": "code",
   "execution_count": 50,
   "metadata": {
    "editable": true,
    "slideshow": {
     "slide_type": ""
    },
    "tags": []
   },
   "outputs": [
    {
     "name": "stdout",
     "output_type": "stream",
     "text": [
      "(4, '5:13')\n",
      "(5, '5:09')\n",
      "(6, '5:05')\n",
      "(7, '5:01')\n",
      "(8, '4:58')\n",
      "(9, '4:54')\n",
      "(10, '4:50')\n",
      "(11, '4:46')\n",
      "(12, '4:42')\n",
      "(13, '4:38')\n",
      "(14, '4:34')\n",
      "(15, '4:30')\n",
      "(16, '4:26')\n",
      "(17, '4:21')\n",
      "(18, '4:17')\n",
      "(19, '4:13')\n",
      "(20, '4:08')\n"
     ]
    }
   ],
   "source": [
    "# Recorrido usando los items, cada item es una tupla\n",
    "# que contiene el Key y el Value.\n",
    "for item in tiempos_huevo.items():\n",
    "    print(item)"
   ]
  },
  {
   "cell_type": "code",
   "execution_count": 51,
   "metadata": {
    "editable": true,
    "slideshow": {
     "slide_type": ""
    },
    "tags": []
   },
   "outputs": [
    {
     "name": "stdout",
     "output_type": "stream",
     "text": [
      "4 5:13\n",
      "5 5:09\n",
      "6 5:05\n",
      "7 5:01\n",
      "8 4:58\n",
      "9 4:54\n",
      "10 4:50\n",
      "11 4:46\n",
      "12 4:42\n",
      "13 4:38\n",
      "14 4:34\n",
      "15 4:30\n",
      "16 4:26\n",
      "17 4:21\n",
      "18 4:17\n",
      "19 4:13\n",
      "20 4:08\n"
     ]
    }
   ],
   "source": [
    "# Recorrido usando los items y extrayendo el Key  \n",
    "# y el Value en las etiquetas k e i\n",
    "for k, i in tiempos_huevo.items():\n",
    "    print(k, i)"
   ]
  },
  {
   "cell_type": "code",
   "execution_count": 52,
   "metadata": {
    "editable": true,
    "slideshow": {
     "slide_type": ""
    },
    "tags": []
   },
   "outputs": [
    {
     "name": "stdout",
     "output_type": "stream",
     "text": [
      "4\n",
      "5\n",
      "6\n",
      "7\n",
      "8\n",
      "9\n",
      "10\n",
      "11\n",
      "12\n",
      "13\n",
      "14\n",
      "15\n",
      "16\n",
      "17\n",
      "18\n",
      "19\n",
      "20\n"
     ]
    }
   ],
   "source": [
    "# Recorrido usando las Keys:\n",
    "for key in tiempos_huevo.keys():\n",
    "    print(key)"
   ]
  },
  {
   "cell_type": "code",
   "execution_count": 53,
   "metadata": {
    "editable": true,
    "slideshow": {
     "slide_type": ""
    },
    "tags": []
   },
   "outputs": [
    {
     "name": "stdout",
     "output_type": "stream",
     "text": [
      "5:13\n",
      "5:09\n",
      "5:05\n",
      "5:01\n",
      "4:58\n",
      "4:54\n",
      "4:50\n",
      "4:46\n",
      "4:42\n",
      "4:38\n",
      "4:34\n",
      "4:30\n",
      "4:26\n",
      "4:21\n",
      "4:17\n",
      "4:13\n",
      "4:08\n"
     ]
    }
   ],
   "source": [
    "# Recorrido unsando los Values:\n",
    "for val in tiempos_huevo.values():\n",
    "    print(val)"
   ]
  },
  {
   "cell_type": "markdown",
   "metadata": {
    "deletable": false,
    "editable": true,
    "slideshow": {
     "slide_type": ""
    },
    "tags": []
   },
   "source": [
    "<div class=\"alert alert-success\">\n",
    "\n",
    "## Ejercicio 6.\n",
    "\n",
    "Utilice la versión que más le agrade para escribir las temperaturas y los tiempos de cocción de un huevo duro, y modifíquela para que haga lo siguiente:\n",
    "    \n",
    "1. Al principio de la ejecución solicite al usuario:\n",
    "    - el nombre de un archivo donde va a guardar la tabla de resultados\n",
    "    - el peso del huevo\n",
    "2. Imprima la tabla de resultados en pantalla.\n",
    "3. Guarde la tabla en el archivo.\n",
    "4. Muestre un mensaje al usuario diciendo el nombre del archivo donde se guardó el resultado.\n",
    "    \n",
    "</div>"
   ]
  },
  {
   "cell_type": "code",
   "execution_count": 67,
   "metadata": {},
   "outputs": [
    {
     "name": "stdin",
     "output_type": "stream",
     "text": [
      "Dame el peso 54\n",
      "Dame el nombre del archivo: hola\n"
     ]
    },
    {
     "name": "stdout",
     "output_type": "stream",
     "text": [
      "54.0 <class 'float'>\n",
      "hola <class 'str'>\n",
      "../hola\n",
      "20 272.9963201002179\n"
     ]
    }
   ],
   "source": [
    "M = float(input('Dame el peso'))\n",
    "nombre_archivo = input('Dame el nombre del archivo:')\n",
    "print(M, type(M))\n",
    "print(nombre_archivo, type(nombre_archivo))\n",
    "\n",
    "print('../' + nombre_archivo)\n",
    "\n",
    "f = open('../' + nombre_archivo, 'w')\n",
    "\n",
    "factor = ln(0.76 * (To - Tw) / (Ty - Tw))\n",
    "numerador = M**(2/3) * c * 𝜌**(1/3)\n",
    "tiempo =  numerador / denominador * factor\n",
    "\n",
    "print(To, tiempo)\n",
    "#f.write(str(To))\n",
    "#f.write(str(tiempo))\n",
    "\n",
    "f.write(f'{To} {tiempo}')\n",
    "\n",
    "f.close()"
   ]
  },
  {
   "cell_type": "markdown",
   "metadata": {
    "deletable": false,
    "editable": true,
    "slideshow": {
     "slide_type": ""
    },
    "tags": []
   },
   "source": [
    "<div class=\"alert alert-info\">\n",
    "\n",
    "**Entrada/salida y gestión de archivos (gestores de contexto)**.\n",
    "    \n",
    "Para realizar este ejemplo, necesitas saber como manejar la entrada y la salida estándar, así como el manejo de archivos. Esto lo puedes revisar en la siguiente notebook [06_input_archivos.ipynb](../intro_python/06_input_archivos.ipynb).\n",
    "\n",
    "En este ejemplo se utilizan los gestores de contexto para manejar los archivos. Esto se explica en la notebook [08_Gestores_de_contexto.ipynb](../notebooks/08_Gestores_de_contexto.ipynb).\n",
    "    \n",
    "</div>"
   ]
  },
  {
   "cell_type": "markdown",
   "metadata": {
    "deletable": false,
    "slideshow": {
     "slide_type": ""
    },
    "tags": []
   },
   "source": [
    "### Solución 1: `dict`"
   ]
  },
  {
   "cell_type": "code",
   "execution_count": null,
   "metadata": {
    "editable": true,
    "slideshow": {
     "slide_type": ""
    },
    "tags": []
   },
   "outputs": [],
   "source": [
    "# Se solicita el nombre del archivo\n",
    "nombre_archivo = input('Nombre del archivo: ')\n",
    "\n",
    "# Se solicita el peso del huevo.\n",
    "M = float(input('Peso del huevo = '))\n",
    "\n",
    "# Imprimimos el encabezado\n",
    "print('Temperatura \\t Tiempo')\n",
    "\n",
    "# Recalculamos el numerador con el valor de M\n",
    "numerador = M**(2/3) * c * 𝜌**(1/3)\n",
    "\n",
    "# Diccionario vacío\n",
    "tiempos_huevo = {} \n",
    "\n",
    "for To in range(4,21):\n",
    "    \n",
    "    # Se calcula el tiempo de cocción\n",
    "    factor = ln(0.76 * (To - Tw) / (Ty - Tw))\n",
    "    t = numerador / denominador * factor\n",
    "    \n",
    "    # Se convierte el tiempo al formato min:seg\n",
    "    t_min = int(t / 60)\n",
    "    t_seg = int(t - t_min * 60) \n",
    "    \n",
    "    # Se guarda la información en el diccionario\n",
    "    tiempos_huevo[To] = '{}:{:02d}'.format(t_min, t_seg)\n",
    "\n",
    "# Usando un gestor de contexto abrimos el archivo.\n",
    "with open(nombre_archivo, 'w') as archivo_abierto:\n",
    "    \n",
    "    # Escribimos el encabezado en el archivo\n",
    "    archivo_abierto.write('Temperatura \\t Tiempo\\n')\n",
    "    \n",
    "    # Escribimos los tiempos y temperaturas en el archivo\n",
    "    for key in tiempos_huevo:\n",
    "        print(' {} \\t\\t {}'.format(key, tiempos_huevo[key]))\n",
    "        archivo_abierto.write(' {} \\t\\t {}\\n'.format(key, tiempos_huevo[key]))\n",
    "\n",
    "print('La tabla de tiempos de cocción se guardó en el archivo: \"{}\"'.format(nombre_archivo))"
   ]
  },
  {
   "cell_type": "markdown",
   "metadata": {
    "deletable": false,
    "slideshow": {
     "slide_type": ""
    },
    "tags": []
   },
   "source": [
    "Verifica que el archivo se guardó correctamente y verifica su contenido."
   ]
  },
  {
   "cell_type": "markdown",
   "metadata": {
    "deletable": false,
    "editable": true,
    "slideshow": {
     "slide_type": ""
    },
    "tags": []
   },
   "source": [
    "### Solución 2: `list`\n"
   ]
  },
  {
   "cell_type": "code",
   "execution_count": null,
   "metadata": {
    "tags": []
   },
   "outputs": [],
   "source": [
    "# Se solicita el nombre del archivo\n",
    "nombre_archivo = input('Nombre del archivo: ')\n",
    "\n",
    "# Se solicita el peso del huevo.\n",
    "M = float(input('Peso del huevo = '))\n",
    "\n",
    "# Imprimimos el encabezado\n",
    "print('Temperatura \\t Tiempo')\n",
    "\n",
    "# Recalculamos el numerador con el valor de M\n",
    "numerador = M**(2/3) * c * 𝜌**(1/3)\n",
    "\n",
    "# Creamos dos listas vacías\n",
    "Ts = []\n",
    "ts = []\n",
    "\n",
    "for To in range(4,21):\n",
    "    Ts.append(To)\n",
    "    \n",
    "    # Se calcula el tiempo de cocción \n",
    "    factor = ln(0.76 * (To - Tw) / (Ty - Tw))\n",
    "    t = numerador / denominador * factor\n",
    "\n",
    "    # Se convierte el tiempo al formato min:seg\n",
    "    t_min = int(t / 60)\n",
    "    t_seg = int(t - t_min * 60) \n",
    "\n",
    "    # Se agrega el tiempo a la lista\n",
    "    t1 = '{}:{:02d}'.format(t_min, t_seg)\n",
    "    ts.append(t1)\n",
    "\n",
    "# Usando un gestor de contexto abrimos el archivo.\n",
    "with open(nombre_archivo, 'w') as archivo_abierto:\n",
    "    # Escribimos el encabezado en el archivo\n",
    "    archivo_abierto.write('Temperatura \\t Tiempo\\n')\n",
    "    \n",
    "    # Escribimos los tiempos y temperaturas en el archivo    \n",
    "    for i in range(len(Ts)):\n",
    "        print(' {} \\t\\t {}'.format(Ts[i], ts[i]))\n",
    "        archivo_abierto.write(' {} \\t\\t {}\\n'.format(Ts[i], ts[i]))\n",
    "\n",
    "print('La tabla de tiempos de cocción se guardó en el archivo: \"{}\"'.format(nombre_archivo))"
   ]
  },
  {
   "cell_type": "markdown",
   "metadata": {
    "deletable": false,
    "slideshow": {
     "slide_type": ""
    },
    "tags": []
   },
   "source": [
    "Verifica que el archivo se guardó correctamente y verifica su contenido."
   ]
  },
  {
   "cell_type": "markdown",
   "metadata": {
    "deletable": false,
    "editable": true,
    "slideshow": {
     "slide_type": ""
    },
    "tags": []
   },
   "source": [
    "<div class=\"alert alert-success\">\n",
    "\n",
    "## Ejercicio 7.\n",
    "\n",
    "Modificar el código del **ejercicio 6** para que el nombre del archivo contenga el peso del huevo. Por ejemplo, si el usuario teclea `tiempo_coccion` en el nombre del archivo y `67` en el peso del huevo, el resultado final se almacenará en un archivo de nombre `tiempo_coccion_67`.\n",
    "</div>"
   ]
  },
  {
   "cell_type": "code",
   "execution_count": null,
   "metadata": {
    "editable": true,
    "slideshow": {
     "slide_type": ""
    },
    "tags": []
   },
   "outputs": [],
   "source": [
    "# Se solicita el nombre del archivo\n",
    "nombre_archivo = input('Nombre del archivo: ')\n",
    "\n",
    "# Se solicita el peso del huevo.\n",
    "M = float(input('Peso del huevo = '))\n",
    "\n",
    "# Imprimimos el encabezado\n",
    "print('Temperatura \\t Tiempo')\n",
    "\n",
    "# Recalculamos el numerador con el valor de M\n",
    "numerador = M**(2/3) * c * 𝜌**(1/3)\n",
    "\n",
    "# Construcción del nombre del archivo\n",
    "etiqueta = str(int(M))\n",
    "nombre_archivo += '_' + etiqueta\n",
    "\n",
    "# Construimos un diccionario vacío\n",
    "tiempos_huevo = {} \n",
    "\n",
    "for To in range(4,21):\n",
    "    \n",
    "    # Se calcula el tiempo de cocción \n",
    "    factor = ln(0.76 * (To - Tw) / (Ty - Tw))\n",
    "    t = numerador / denominador * factor\n",
    "    \n",
    "    # Se convierte el tiempo al formato min:seg\n",
    "    t_min = int(t / 60)\n",
    "    t_seg = int(t - t_min * 60) \n",
    "    \n",
    "    # Se guarda la información en el diccionario\n",
    "    tiempos_huevo[To] = '{}:{:02d}'.format(t_min, t_seg)\n",
    "\n",
    "# Usando un gestor de contexto abrimos el archivo.\n",
    "with open(nombre_archivo, 'w') as archivo_abierto:\n",
    "    \n",
    "    # Escribimos el encabezado en el archivo    \n",
    "    archivo_abierto.write('Temperatura \\t Tiempo\\n')\n",
    "\n",
    "    # Escribimos los tiempos y temperaturas en el archivo    \n",
    "    for key in tiempos_huevo:\n",
    "        print(' {} \\t\\t {}'.format(key, tiempos_huevo[key]))\n",
    "        archivo_abierto.write(' {} \\t\\t {}\\n'.format(key, tiempos_huevo[key]))\n",
    "    \n",
    "print('La tabla de tiempos de cocción se guardó en el archivo: \"{}\"'.format(nombre_archivo))"
   ]
  },
  {
   "cell_type": "markdown",
   "metadata": {
    "deletable": false,
    "editable": true,
    "slideshow": {
     "slide_type": ""
    },
    "tags": []
   },
   "source": [
    "<div class=\"alert alert-success\">\n",
    "\n",
    "## Ejercicio 8.\n",
    "Determina el intervalo de temperaturas en que debería estar la temperatura del huevo inicialmente para que el tiempo de cocción sea exactamente de $6$ minutos para un huevo de $67$ gramos.\n",
    "\n",
    "</div>"
   ]
  },
  {
   "cell_type": "code",
   "execution_count": null,
   "metadata": {
    "editable": true,
    "slideshow": {
     "slide_type": ""
    },
    "tags": []
   },
   "outputs": [],
   "source": [
    "# Peso del huevo\n",
    "M = 67\n",
    "\n",
    "# Recalculamos el numerador con el valor de M\n",
    "numerador = M**(2/3) * c * 𝜌**(1/3)\n",
    "\n",
    "To = 1\n",
    "\n",
    "count = 0\n",
    "while True:\n",
    "    \n",
    "    # Se calcula el tiempo de cocción \n",
    "    factor = ln(0.76 * (To - Tw) / (Ty - Tw))\n",
    "    t = numerador / denominador * factor\n",
    "\n",
    "    # Se convierte el tiempo al formato min:seg\n",
    "    t_min = int(t / 60)\n",
    "    t_seg = int(t - t_min * 60) \n",
    "    \n",
    "    print('{}:{:02d} \\t {}'.format(t_min, t_seg, To))\n",
    "    \n",
    "    if t_min > 6:\n",
    "        To += 0.5\n",
    "    elif t_min < 6:\n",
    "        To -= 0.5\n",
    "    else:\n",
    "        if t_seg > 0:\n",
    "            To += 0.5\n",
    "        else:\n",
    "            print('La temperatura inicial {} [C] requiere de {}:{:02d}'.format(To, t_min, t_seg))\n",
    "            break\n",
    "            \n",
    "    count += 1 \n",
    "    if count > 100:\n",
    "        break"
   ]
  },
  {
   "cell_type": "markdown",
   "metadata": {
    "deletable": false,
    "slideshow": {
     "slide_type": ""
    },
    "tags": []
   },
   "source": [
    "<div class=\"alert alert-success\">\n",
    "\n",
    "## Ejercicio 9.\n",
    "Construye la función `calc_tiempo()` para calcular el tiempo de cocción. Esta función debe recibir todos los parámetros necesarios para evaluar la fórmula con valores por omisión, excepto para $M$ y $T_o$. La función debe regresar el tiempo calculado en una cadena en formato `min:seg`.\n",
    "</div>"
   ]
  },
  {
   "cell_type": "markdown",
   "metadata": {
    "deletable": false,
    "slideshow": {
     "slide_type": ""
    },
    "tags": []
   },
   "source": [
    "<div class=\"alert alert-info\">\n",
    "<b>Funciones y manejo de excepciones</b>.\n",
    "    \n",
    "Para realizar los **ejemplos 9 y 10**, necesitas saber como construir y usar funciones, documentar dichas funciones y manejar excepciones. Para ello debes revisar las siguientes notebooks:\n",
    "\n",
    "<ul>\n",
    "<li><a href=\"../notebooks/01_Funciones_y_ambitos.ipynb\">Funciones y ámbitos</a>.</li>\n",
    "<li><a href=\"../notebooks/03_Excepciones.ipynb\">Manejo de excepciones</a>.</li>\n",
    "</ul>\n",
    "    \n",
    "</div>"
   ]
  },
  {
   "cell_type": "code",
   "execution_count": null,
   "metadata": {
    "editable": true,
    "slideshow": {
     "slide_type": ""
    },
    "tags": []
   },
   "outputs": [],
   "source": [
    "from math import pi as π\n",
    "from math import log as ln\n",
    "\n",
    "def calc_tiempo(M, To, c = 3.7, 𝜌 = 1.038, K = 5.4e-3, Tw = 100, Ty = 70):\n",
    "\n",
    "    # Se calcula el tiempo de cocción \n",
    "    t = M**(2/3) * c * 𝜌**(1/3) / ( K * π**2 * (4 * π / 3)**(2/3) ) * ln(0.76 * (To - Tw) / (Ty - Tw))\n",
    "\n",
    "    # Se convierte el tiempo al formato min:seg\n",
    "    t_min = int(t / 60)\n",
    "    t_seg = int(t - t_min * 60)\n",
    "    \n",
    "    return '{}:{:02d}'.format(t_min, t_seg)"
   ]
  },
  {
   "cell_type": "code",
   "execution_count": null,
   "metadata": {
    "tags": []
   },
   "outputs": [],
   "source": [
    "calc_tiempo(47, 4)"
   ]
  },
  {
   "cell_type": "markdown",
   "metadata": {
    "deletable": false,
    "slideshow": {
     "slide_type": ""
    },
    "tags": []
   },
   "source": [
    "<div class=\"alert alert-success\">\n",
    "\n",
    "## Ejercicio 10.\n",
    "Usando la función construida en el ejemplo 9, modfíquela para que maneje excepciones. En este caso, la excepción debe manejar el error de tipo `TypeError`, es decir cuando el usuario use un tipo de dato incorrecto, por ejemplo: `calc_tiempo('47', 4)`. Documente la función usando *docstring*. \n",
    "</div>"
   ]
  },
  {
   "cell_type": "code",
   "execution_count": null,
   "metadata": {
    "editable": true,
    "slideshow": {
     "slide_type": ""
    },
    "tags": []
   },
   "outputs": [],
   "source": [
    "import math\n",
    "\n",
    "def calc_tiempo(M, To, c = 3.7, 𝜌 = 1.038, K = 5.4e-3, Tw = 100, Ty = 70):\n",
    "    \"\"\"\n",
    "    Esta función calcula el tiempo de un huevo dados ciertos parámetros físicos.\n",
    "    \n",
    "    Parameters\n",
    "    ----------\n",
    "    M : float\n",
    "    Masa del huevo ek gramos.\n",
    "    \n",
    "    To : float\n",
    "    Temperatura original del huevo, en grados Celsius, antes de meterlo al agua.\n",
    "    \n",
    "    c : float\n",
    "    Capacidad calorífica específica.\n",
    "    \n",
    "    𝜌 : float\n",
    "    Densidad.\n",
    "    \n",
    "    K : float\n",
    "    Conductividad térmica.\n",
    "    \n",
    "    Tw : float\n",
    "    Temperatura de ebullición del agua.\n",
    "    \n",
    "    Ty : float\n",
    "    Temperatura que debe alcanzar la yema.\n",
    "\n",
    "    Returns\n",
    "    -------\n",
    "    str: Tiempo de cocción del huevo en format min:seg\n",
    "    \"\"\"\n",
    "    π = math.pi\n",
    "    \n",
    "    ocurre_error = False\n",
    "    try:\n",
    "        # Se calcula el tiempo de cocción \n",
    "        t = M**(2/3) * c * 𝜌**(1/3) / ( K * π**2 * (4 * π / 3)**(2/3) ) * ln(0.76 * (To - Tw) / (Ty - Tw))\n",
    "\n",
    "        # Se convierte el tiempo al formato min:seg\n",
    "        t_min = int(t / 60)\n",
    "        t_seg = int(t - t_min * 60)\n",
    "        \n",
    "        resultado = '{}:{:02d}'.format(t_min, t_seg)\n",
    "    except TypeError as detalles:\n",
    "        ocurre_error = True\n",
    "        resultado = \"Ocurrió un error (TypeError): \\n {}\".format(detalles)\n",
    "    except:\n",
    "        ocurre_error = True\n",
    "        resultado = \"Ocurrió algo misterioso\"\n",
    "        \n",
    "    if ocurre_error:\n",
    "        print(resultado)\n",
    "        print('Revisa el correcto funcionamiento de la función.')\n",
    "    else:\n",
    "        return resultado    \n"
   ]
  },
  {
   "cell_type": "code",
   "execution_count": null,
   "metadata": {
    "tags": []
   },
   "outputs": [],
   "source": [
    "calc_tiempo(47,4)"
   ]
  },
  {
   "cell_type": "code",
   "execution_count": null,
   "metadata": {},
   "outputs": [],
   "source": [
    "calc_tiempo('47',4)"
   ]
  },
  {
   "cell_type": "markdown",
   "metadata": {
    "deletable": false,
    "slideshow": {
     "slide_type": ""
    },
    "tags": []
   },
   "source": [
    "Debido a que esta última función ya está documentada con *docstring*, es posible poner el cursor en el nombre de la función y teclear [Shift+Tab] para obtener la ayuda."
   ]
  },
  {
   "cell_type": "code",
   "execution_count": null,
   "metadata": {},
   "outputs": [],
   "source": []
  },
  {
   "cell_type": "markdown",
   "metadata": {
    "deletable": false,
    "editable": true,
    "slideshow": {
     "slide_type": ""
    },
    "tags": []
   },
   "source": [
    "<div class=\"alert alert-success\">\n",
    "\n",
    "## Proyecto 1.\n",
    "\n",
    "Calcule las tablas de tiempos para huevos con peso mínimo de 47 y máximo de 67 gramos, en pasos de 1 gramo, para las temperaturas iniciales desde $T_o = 4^o C$ y hasta $T_o = 20^o C$ en pasos de $1^o C$. Imprima al principio de cada tabla la leyenda: `Peso del huevo = 67 [g]`. Almacenar estas tablas en una lista de diccionarios, donde cada elemento de la lista es un diccionario que contiene la información para una determinada $M$. Guardar las tablas de manera secuencial en un archivo cuyo nombre debe ser proporcionado por el usuario. Finalmente preguntar al usuario la tabla de tiempos que desea ver (con base en el peso del huevo) en pantalla. \n",
    "\n",
    "</div>\n",
    "\n",
    "---"
   ]
  },
  {
   "cell_type": "code",
   "execution_count": null,
   "metadata": {
    "deletable": false,
    "editable": true,
    "slideshow": {
     "slide_type": ""
    },
    "tags": []
   },
   "outputs": [],
   "source": [
    "# YOUR CODE HERE\n",
    "raise NotImplementedError()"
   ]
  },
  {
   "cell_type": "markdown",
   "metadata": {
    "editable": true,
    "slideshow": {
     "slide_type": ""
    },
    "tags": []
   },
   "source": [
    "<div class=\"alert alert-info\">\n",
    "    \n",
    "<b>Python intermedio</b>\n",
    "\n",
    "Antes de continuar con los siguientes ejemplos es importante que revises las siguientes notebooks: \n",
    "\n",
    "* <a href=\"../notebooks/02_LambdaExpressions.ipynb\">02_LambdaExpressions.ipynb</a>.\n",
    "* <a href=\"../notebooks/04_IterablesMapFilterReduce.ipynb\">04_IterablesMapFilterReduce.ipynb</a>.\n",
    "* <a href=\"../notebooks/05_Comprehensions.ipynb\">05_Comprehensions.ipynb</a>.\n",
    "* <a href=\"../notebooks/06_IteradoresGeneradores.ipynb\">06_IteradoresGeneradores.ipynb</a>.\n",
    "* <a href=\"../notebooks/07_Decoradores.ipynb\">07_Decoradores.ipynb</a>.\n",
    "</div>"
   ]
  },
  {
   "cell_type": "markdown",
   "metadata": {
    "editable": true,
    "slideshow": {
     "slide_type": ""
    },
    "tags": []
   },
   "source": [
    "<div class=\"alert alert-success\">\n",
    "\n",
    "## Ejercicio 11.\n",
    "Construir una lista de temperaturas de $4^oC$ hasta $20^oC$ solo almacenando los valores pares usando una <i>comprehension list</i> y aplicar la función `calc_tiempo()` para generar una lista de los tiempos correspondientes e imprimir las columas de temperaturas y tiempos como antes.\n",
    "</div>"
   ]
  },
  {
   "cell_type": "code",
   "execution_count": null,
   "metadata": {
    "editable": true,
    "slideshow": {
     "slide_type": ""
    },
    "tags": []
   },
   "outputs": [],
   "source": [
    "T_pares = [T for T in range(4,21,2)]\n",
    "T_pares"
   ]
  },
  {
   "cell_type": "code",
   "execution_count": null,
   "metadata": {
    "tags": []
   },
   "outputs": [],
   "source": [
    "t_pares = [calc_tiempo(47, T) for T in T_pares]\n",
    "t_pares"
   ]
  },
  {
   "cell_type": "code",
   "execution_count": null,
   "metadata": {
    "tags": []
   },
   "outputs": [],
   "source": [
    "[calc_tiempo(47, T) for T in range(4,21,2)]"
   ]
  },
  {
   "cell_type": "code",
   "execution_count": null,
   "metadata": {
    "tags": []
   },
   "outputs": [],
   "source": [
    "T_pares = [T for T in range(4,21,2)]\n",
    "t_pares = [calc_tiempo(47, T) for T in T_pares]\n",
    "\n",
    "print('Temperatura \\t Tiempo')\n",
    "\n",
    "for T, t in zip(T_pares, t_pares):\n",
    "    print(' {} \\t\\t {}'.format(T, t))"
   ]
  },
  {
   "cell_type": "markdown",
   "metadata": {
    "editable": true,
    "slideshow": {
     "slide_type": ""
    },
    "tags": []
   },
   "source": [
    "<div class=\"alert alert-success\">\n",
    "\n",
    "## Ejercicio 12.\n",
    "Convertir la lista anterior a grados Fahrenheit usando un mapeo y una función anónima para la conversión. Imprimir el resultado como antes pero usando los grados Fahrenheit.\n",
    "</div>"
   ]
  },
  {
   "cell_type": "code",
   "execution_count": null,
   "metadata": {
    "editable": true,
    "slideshow": {
     "slide_type": ""
    },
    "tags": []
   },
   "outputs": [],
   "source": [
    "toFahrenheit = lambda T: (9/5)*T + 32"
   ]
  },
  {
   "cell_type": "code",
   "execution_count": null,
   "metadata": {
    "tags": []
   },
   "outputs": [],
   "source": [
    "T_pares = [T for T in range(4,21,2)]\n",
    "F_pares = map(toFahrenheit, T_pares)\n",
    "F_pares"
   ]
  },
  {
   "cell_type": "code",
   "execution_count": null,
   "metadata": {
    "tags": []
   },
   "outputs": [],
   "source": [
    "list(F_pares)"
   ]
  },
  {
   "cell_type": "code",
   "execution_count": null,
   "metadata": {
    "tags": []
   },
   "outputs": [],
   "source": [
    "t_pares = [calc_tiempo(47, T) for T in T_pares]\n",
    "F_pares = list(map(toFahrenheit, T_pares))\n",
    "\n",
    "print('Temperatura \\t Tiempo')\n",
    "\n",
    "for T, t in zip(list(F_pares), t_pares):\n",
    "    print(' {} \\t\\t {}'.format(T, t))"
   ]
  },
  {
   "cell_type": "markdown",
   "metadata": {
    "editable": true,
    "slideshow": {
     "slide_type": ""
    },
    "tags": []
   },
   "source": [
    "<div class=\"alert alert-success\">\n",
    "\n",
    "## Ejercicio 13.\n",
    "Crear una función anónima que detecte un número par y usarla en conjunción con la función `filter()` para generar la lista de temperaturas pares, luego calcular los tiempos de cocción y finalmente imprimir la lista de temperaturas en grados Fahrenheit junto con los tiempos.\n",
    "</div>"
   ]
  },
  {
   "cell_type": "code",
   "execution_count": null,
   "metadata": {
    "editable": true,
    "slideshow": {
     "slide_type": ""
    },
    "tags": []
   },
   "outputs": [],
   "source": [
    "es_par = lambda n: True if n%2 == 0 else False"
   ]
  },
  {
   "cell_type": "code",
   "execution_count": null,
   "metadata": {
    "tags": []
   },
   "outputs": [],
   "source": [
    "list(range(4,21))"
   ]
  },
  {
   "cell_type": "code",
   "execution_count": null,
   "metadata": {
    "tags": []
   },
   "outputs": [],
   "source": [
    "filter(es_par, list(range(4,21)))"
   ]
  },
  {
   "cell_type": "code",
   "execution_count": null,
   "metadata": {
    "tags": []
   },
   "outputs": [],
   "source": [
    "list(filter(es_par, list(range(4,21))))"
   ]
  },
  {
   "cell_type": "code",
   "execution_count": null,
   "metadata": {
    "tags": []
   },
   "outputs": [],
   "source": [
    "T_pares = list(filter(es_par, list(range(4,21))))\n",
    "t_pares = [calc_tiempo(47, T) for T in T_pares]\n",
    "F_pares = list(map(toFahrenheit, T_pares))\n",
    "\n",
    "print('Temperatura \\t Tiempo')\n",
    "\n",
    "for T, t in zip(F_pares, t_pares):\n",
    "    print(' {} \\t\\t {}'.format(T, t))"
   ]
  },
  {
   "cell_type": "markdown",
   "metadata": {
    "editable": true,
    "slideshow": {
     "slide_type": ""
    },
    "tags": []
   },
   "source": [
    "<div class=\"alert alert-success\">\n",
    "\n",
    "## Ejercicio 14.\n",
    "Realiza lo mismo que en el Ejercicio 13 pero para número impares.\n",
    "</div>"
   ]
  },
  {
   "cell_type": "code",
   "execution_count": null,
   "metadata": {
    "deletable": false,
    "editable": true,
    "slideshow": {
     "slide_type": ""
    },
    "tags": []
   },
   "outputs": [],
   "source": [
    "# YOUR CODE HERE\n",
    "raise NotImplementedError()"
   ]
  },
  {
   "cell_type": "markdown",
   "metadata": {
    "editable": true,
    "slideshow": {
     "slide_type": ""
    },
    "tags": []
   },
   "source": [
    "<div class=\"alert alert-success\">\n",
    "\n",
    "## Proyecto 2.\n",
    "\n",
    "Modifica el miniproyecto 1 para usar `lambda`, `map`, `filter` y que además pregunte al usuario si desea hacer el cálculo para temperaturas pares o impares. El resultado debe estar en grados Fahrenheit. \n",
    "</div>"
   ]
  },
  {
   "cell_type": "code",
   "execution_count": null,
   "metadata": {
    "deletable": false,
    "editable": true,
    "slideshow": {
     "slide_type": ""
    },
    "tags": []
   },
   "outputs": [],
   "source": [
    "# YOUR CODE HERE\n",
    "raise NotImplementedError()"
   ]
  },
  {
   "cell_type": "code",
   "execution_count": null,
   "metadata": {},
   "outputs": [],
   "source": []
  }
 ],
 "metadata": {
  "kernelspec": {
   "display_name": "Python 3 (ipykernel)",
   "language": "python",
   "name": "python3"
  },
  "language_info": {
   "codemirror_mode": {
    "name": "ipython",
    "version": 3
   },
   "file_extension": ".py",
   "mimetype": "text/x-python",
   "name": "python",
   "nbconvert_exporter": "python",
   "pygments_lexer": "ipython3",
   "version": "3.11.6"
  }
 },
 "nbformat": 4,
 "nbformat_minor": 4
}
