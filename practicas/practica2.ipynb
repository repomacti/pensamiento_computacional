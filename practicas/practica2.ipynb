{
 "cells": [
  {
   "cell_type": "code",
   "execution_count": null,
   "metadata": {},
   "outputs": [],
   "source": [
    "NAME = \"\"\n",
    "COLLABORATORS = \"\""
   ]
  },
  {
   "cell_type": "markdown",
   "metadata": {},
   "source": [
    "---"
   ]
  },
  {
   "cell_type": "markdown",
   "metadata": {
    "deletable": false,
    "editable": false,
    "nbgrader": {
     "cell_type": "markdown",
     "checksum": "a1f9a8ab2dba383c2913df561fdab9fa",
     "grade": false,
     "grade_id": "cell-166498e870311d8f",
     "locked": true,
     "schema_version": 3,
     "solution": false,
     "task": false
    }
   },
   "source": [
    "# Pensamiento Computacional con Python.\n",
    "\n",
    "<p xmlns:cc=\"http://creativecommons.org/ns#\" xmlns:dct=\"http://purl.org/dc/terms/\"><a property=\"dct:title\" rel=\"cc:attributionURL\" href=\"https://github.com/repomacti/pensamiento_computacional\">Pensamiento Computacional a Python</a> by <a rel=\"cc:attributionURL dct:creator\" property=\"cc:attributionName\" href=\"https://gmc.geofisica.unam.mx/luiggi\">Luis Miguel de la Cruz Salas</a> is licensed under <a href=\"https://creativecommons.org/licenses/by-sa/4.0/?ref=chooser-v1\" target=\"_blank\" rel=\"license noopener noreferrer\" style=\"display:inline-block;\">CC BY-SA 4.0<img style=\"height:22px!important;margin-left:3px;vertical-align:text-bottom;\" src=\"https://mirrors.creativecommons.org/presskit/icons/cc.svg?ref=chooser-v1\" alt=\"\"><img style=\"height:22px!important;margin-left:3px;vertical-align:text-bottom;\" src=\"https://mirrors.creativecommons.org/presskit/icons/by.svg?ref=chooser-v1\" alt=\"\"><img style=\"height:22px!important;margin-left:3px;vertical-align:text-bottom;\" src=\"https://mirrors.creativecommons.org/presskit/icons/sa.svg?ref=chooser-v1\" alt=\"\"></a></p> \n"
   ]
  },
  {
   "cell_type": "code",
   "execution_count": null,
   "metadata": {
    "tags": []
   },
   "outputs": [],
   "source": [
    "import numpy as np\n",
    "import matplotlib.pyplot as plt\n",
    "import ipywidgets as widgets\n",
    "import macti.visual as mvis"
   ]
  },
  {
   "cell_type": "markdown",
   "metadata": {
    "deletable": false,
    "editable": false,
    "nbgrader": {
     "cell_type": "markdown",
     "checksum": "0ed1ef1a060d2d9afcffd6e885f96c8b",
     "grade": false,
     "grade_id": "cell-e0b9a5aa731ccff6",
     "locked": true,
     "schema_version": 3,
     "solution": false,
     "task": false
    }
   },
   "source": [
    "<div class=\"alert alert-info\">\n",
    "\n",
    "# Cruce de dos rectas.\n",
    "\n",
    "Las siguientes dos rectas se cruzan en algún punto.\n",
    "\n",
    "$$\n",
    "\\begin{array}{ccc}\n",
    "3x + 2y & = &2 \\\\\n",
    "2x + 6y & = &-8\n",
    "\\end{array}\n",
    "$$\n",
    "\n",
    "Las ecuaciones de las rectas se pueden escribir como:\n",
    "\n",
    "$$\n",
    "\\begin{array}{ccc}\n",
    "\\dfrac{3}{2}x + y & = & 1 \\\\\n",
    "\\dfrac{2}{6}x + y & = & -\\dfrac{8}{6}\n",
    "\\end{array} \\Longrightarrow\n",
    "\\begin{array}{ccc}\n",
    "y = m_1 x + b_1 \\\\\n",
    "y = m_2 x + b_2\n",
    "\\end{array} \\text{ donde }\n",
    "\\begin{array}{ccc}\n",
    "m_1 = -\\dfrac{3}{2} & b_1 = 1 \\\\\n",
    "m_2 = -\\dfrac{2}{6} & b_2 = -\\dfrac{8}{6}\n",
    "\\end{array}\n",
    "$$\n",
    "\n",
    "</div>"
   ]
  },
  {
   "cell_type": "markdown",
   "metadata": {
    "deletable": false,
    "editable": false,
    "nbgrader": {
     "cell_type": "markdown",
     "checksum": "1ef7e1af8a16f38c5cf0b15c6d3fe18b",
     "grade": false,
     "grade_id": "cell-0f137830a67fd816",
     "locked": true,
     "schema_version": 3,
     "solution": false,
     "task": false
    }
   },
   "source": [
    "<div class=\"alert alert-success\">\n",
    "\n",
    "## Ejercicio 1.\n",
    "\n",
    "En la siguiente celda se define:\n",
    "\n",
    "1. El dominio $x \\in [-3, 6]$ para las líneas rectas.\n",
    "2. Los parámetros para construir la línea recta 1 y constrúyela.\n",
    "3. Los parámetros para construir la línea recta 2 y constrúyela.\n",
    "4. Ejecuta la celda de graficación para mostrar las gráficas de las líneas rectas.\n",
    "\n",
    "</div>"
   ]
  },
  {
   "cell_type": "code",
   "execution_count": null,
   "metadata": {
    "deletable": false,
    "nbgrader": {
     "cell_type": "code",
     "checksum": "dc2142c471823a0fa448cf3b106cd7da",
     "grade": false,
     "grade_id": "cell-d0239a6a16514f5f",
     "locked": false,
     "schema_version": 3,
     "solution": true,
     "task": false
    },
    "tags": []
   },
   "outputs": [],
   "source": [
    "# 1. Dominio\n",
    "\n",
    "# 2. Línea recta 1\n",
    "\n",
    "# 3. Línea recta 2\n",
    "\n",
    "# YOUR CODE HERE\n",
    "raise NotImplementedError()"
   ]
  },
  {
   "cell_type": "markdown",
   "metadata": {},
   "source": [
    "**Gráfica de las líneas rectas.**"
   ]
  },
  {
   "cell_type": "code",
   "execution_count": null,
   "metadata": {
    "tags": []
   },
   "outputs": [],
   "source": [
    "plt.plot(x, y1, lw = 3, c = 'seagreen', label = '$3x+2y=2$') # Línea recta 1\n",
    "plt.plot(x, y2, lw = 3, c = 'mediumorchid',label = '$2x+6y=-8$') # Línea recta 2\n",
    "plt.legend(ncol = 1, frameon=True, loc='best')\n",
    "plt.grid()\n",
    "plt.show()"
   ]
  },
  {
   "cell_type": "markdown",
   "metadata": {
    "deletable": false,
    "editable": false,
    "nbgrader": {
     "cell_type": "markdown",
     "checksum": "680f3ebdb7412df741cb30f52b785aad",
     "grade": false,
     "grade_id": "cell-05d8ee106be584a0",
     "locked": true,
     "schema_version": 3,
     "solution": false,
     "task": false
    }
   },
   "source": [
    "Las ecuaciones de las rectas se pueden escribir en forma de un sistema lineal:\n",
    "\n",
    "$$\n",
    "\\left[\n",
    "\\begin{array}{cc}\n",
    "3 & 2 \\\\\n",
    "2 & 6\n",
    "\\end{array} \\right]\n",
    "\\left[\n",
    "\\begin{array}{c}\n",
    "x_{0} \\\\\n",
    "x_{1}\n",
    "\\end{array} \\right] =\n",
    "\\left[\n",
    "\\begin{array}{c}\n",
    "2 \\\\ \n",
    "-8\n",
    "\\end{array} \\right]\n",
    "\\tag{1}\n",
    "$$\n",
    "\n",
    "Podemos calcular el cruce de las rectas resolviendo el sistema lineal:"
   ]
  },
  {
   "cell_type": "markdown",
   "metadata": {
    "deletable": false,
    "editable": false,
    "nbgrader": {
     "cell_type": "markdown",
     "checksum": "d1cdb274da1eaf073243fec9c162a214",
     "grade": false,
     "grade_id": "cell-ffcf505e8317b9cc",
     "locked": true,
     "schema_version": 3,
     "solution": false,
     "task": false
    }
   },
   "source": [
    "<div class=\"alert alert-success\">\n",
    "\n",
    "## Ejercicio 2.\n",
    "\n",
    "Definir el sistema lineal y resolverlo. Posteriomente graficar las rectas y el punto solución.\n",
    "</div>"
   ]
  },
  {
   "cell_type": "code",
   "execution_count": null,
   "metadata": {
    "deletable": false,
    "nbgrader": {
     "cell_type": "code",
     "checksum": "74429bf7e94b41602fc040ec56473790",
     "grade": false,
     "grade_id": "cell-116009d277d79af3",
     "locked": false,
     "schema_version": 3,
     "solution": true,
     "task": false
    },
    "tags": []
   },
   "outputs": [],
   "source": [
    "# YOUR CODE HERE\n",
    "raise NotImplementedError()"
   ]
  },
  {
   "cell_type": "markdown",
   "metadata": {},
   "source": [
    "**Gráfica de las líneas rectas y el punto de cruce (solución).**"
   ]
  },
  {
   "cell_type": "code",
   "execution_count": null,
   "metadata": {
    "tags": []
   },
   "outputs": [],
   "source": [
    "plt.plot(x, y1, lw = 3, c = 'seagreen', label = '$3x+2y=2$') # Línea recta 1\n",
    "plt.plot(x, y2, lw = 3, c = 'mediumorchid', label = '$2x+6y=-8$') # Línea recta 2\n",
    "plt.scatter(sol[0], sol[1], fc='sandybrown', ec='k', s = 75, alpha=0.75, zorder=5, label='Sol. final') # Solución\n",
    "plt.legend(ncol = 1, frameon=True, loc='best')\n",
    "plt.grid()\n",
    "plt.show()"
   ]
  },
  {
   "cell_type": "markdown",
   "metadata": {
    "deletable": false,
    "editable": false,
    "nbgrader": {
     "cell_type": "markdown",
     "checksum": "44b8e06b5de5b1c61605e2c56f808c79",
     "grade": false,
     "grade_id": "cell-4af380ba3dea4981",
     "locked": true,
     "schema_version": 3,
     "solution": false,
     "task": false
    }
   },
   "source": [
    "# Sistemas lineales.\n",
    "\n",
    "En general, un sistema de ecuaciones lineales de $n \\times n$ se escribe como sigue:\n",
    "\n",
    "$$\n",
    "\\begin{array}{ccccccc}\n",
    "a_{11}x_1 & + & a_{12}x_2 & +  \\dots  + & a_{1n}x_n & = & b_1 \\\\\n",
    "a_{21}x_1 & + & a_{22}x_2 & +  \\dots + & a_{2n}x_n & = & b_2 \\\\\n",
    "\\vdots & & \\vdots &  & \\vdots & & \\vdots \\\\\n",
    "a_{i1}x_1 & + & a_{i2}x_2 & +  \\dots + & a_{in}x_n & = & b_i \\\\\n",
    "\\vdots & & \\vdots &  & \\vdots & & \\vdots \\\\\n",
    "a_{n1}x_1 & + & a_{n2}x_2 & + \\dots + & a_{nn}x_n & = & b_n\n",
    "\\end{array}\n",
    "$$\n",
    "\n",
    "Es posible usar diferentes métodos para resolver este tipo de sistemas."
   ]
  },
  {
   "cell_type": "markdown",
   "metadata": {
    "deletable": false,
    "editable": false,
    "nbgrader": {
     "cell_type": "markdown",
     "checksum": "810865a93c99384bd2ee08c1f6fd666f",
     "grade": false,
     "grade_id": "cell-3eb1e104440a3030",
     "locked": true,
     "schema_version": 3,
     "solution": false,
     "task": false
    }
   },
   "source": [
    "## Método de Jacobi\n",
    "\n",
    "* En este método, de la primera ecuación se despeja $x_1$; de la segunda ecuación se despeja $x_2$; y a sí sucesivamente, de tal manera que obtenemos:\n",
    "$$\n",
    "\\begin{eqnarray*}\n",
    "\tx_1 & = &\\left( b_1 - (a_{12}x_2 +  \\dots  + a_{1n}x_n) \\right) / a_{11}  \\\\\n",
    "\tx_2 & = &\\left( b_2 - (a_{21}x_1 +  \\dots  + a_{2n}x_n) \\right) / a_{22} \\\\\n",
    "\t\\vdots & & \\vdots \\\\\n",
    "\tx_i & = &\\left( b_i - (a_{i1}x_1 +  \\dots  + a_{in}x_n) \\right) / a_{ii} \\\\\n",
    "\t\\vdots & & \\vdots \\\\\n",
    "\tx_n & = &\\left( b_n - (a_{n1}x_1 +  \\dots  + a_{nn-1}x_{n-1}) \\right) / a_{nn}\n",
    "\\end{eqnarray*}\n",
    "$$\n",
    "\n",
    "* Suponemos ahora que tenemos una solución inicial aproximada $\\mathbf{x}^0 = [x_1^0, \\dots, x_n^0]$. Usando esta solución inicial, es posible hacer una nueva aproximación para obtener  $\\mathbf{x}^1 = [x_1^1, \\dots, x_n^1]$ como sigue:\n",
    "\n",
    "$$\n",
    "\\begin{eqnarray*}\n",
    "\tx_1^1 & = &\\left( b_1 - (a_{12}x_2^0 +  \\dots  + a_{1n}x_n^0) \\right) / a_{11}  \\\\\n",
    "\tx_2^1 & = &\\left( b_2 - (a_{21}x_1^0 +  \\dots  + a_{2n}x_n^0) \\right) / a_{22} \\\\\n",
    "\t\\vdots & & \\vdots \\\\\n",
    "\tx_i^1 & = &\\left( b_i - (a_{i1}x_1^0 +  \\dots  + a_{in}x_n^0) \\right) / a_{ii} \\\\\n",
    "\t\\vdots & & \\vdots \\\\\n",
    "\tx_n^1 & = &\\left( b_n - (a_{n1}x_1^0 +  \\dots  + a_{nn-1}x_{n-1}^0) \\right) / a_{nn}\n",
    "\\end{eqnarray*}\n",
    "$$\n",
    "\n",
    "* En general para $i = 1, \\dots, n$ y $k = 1, 2, \\dots$ tenemos:\n",
    "\n",
    "$$\n",
    "x_i^k = \\frac{1}{a_{i,i}} \\left(b_i -  \\sum_{j \\neq i} a_{i,j} x_j^{k-1} \\right)\n",
    "$$\n",
    "\n",
    "* En términos de matrices, la **iteración de Jacobi** se escribe:\n",
    "$$\n",
    "\\mathbf{x}^k = -\\mathbf{D}^{-1} \\mathbf{B}\\mathbf{x}^{k-1} + \\mathbf{D}^{-1} \\mathbf{b}\n",
    "$$\n",
    "\n",
    "donde $\\mathbf{D}$ es la matriz diagonal y $\\mathbf{B} = \\mathbf{A} - \\mathbf{D}$.\n",
    "\n",
    "* El cálculo de cada componente $x_i^k$ es independiente de las otras componentes, por lo que este método se conoce también como de  *desplazamientos simultáneos*.\n"
   ]
  },
  {
   "cell_type": "markdown",
   "metadata": {
    "deletable": false,
    "editable": false,
    "id": "CnNo6k82K2JN",
    "nbgrader": {
     "cell_type": "markdown",
     "checksum": "564770a409405af5255ed4f3900fbeb6",
     "grade": false,
     "grade_id": "cell-e645baecfad85b94",
     "locked": true,
     "schema_version": 3,
     "solution": false,
     "task": false
    }
   },
   "source": [
    "En general, podemos definir el siguiente algoritmo para el método de Jacobi.\n",
    "\n",
    "<center>\n",
    "<img src=\"./Jacobi.png\"  width='500px'/>\n",
    "</center>\n",
    "\n",
    "<div class=\"alert alert-info\">\n",
    "\n",
    "Observa que en este algoritmo hay un ciclo `while` el cual termina cuando el error es menor o igual que una tolerancia `tol` o se ha alcanzado un número máximo de iteraciones `kmax`. En la línea **11** se calcula el error, que en términos matemáticos se define como $error = || \\mathbf{x}^k - \\mathbf{x}||$ donde $\\mathbf{x}^k$ es la aproximación de la iteración $k$-ésima y $\\mathbf{x}$ es la solución exacta. En muchas ocasiones no se tiene acceso a la solución exacta por lo que se compara con la solución de la iteración anterior, es decir $error = || \\mathbf{x}^k - \\mathbf{x}^{k-1}||$. En los ejemplos que siguen si tenemos la solución exacta, por lo que haremos la comparación con ella.\n",
    "</div>"
   ]
  },
  {
   "cell_type": "markdown",
   "metadata": {
    "deletable": false,
    "editable": false,
    "nbgrader": {
     "cell_type": "markdown",
     "checksum": "479f5a7bb398b2ac566d4dec6286719d",
     "grade": false,
     "grade_id": "cell-ab982f06b6fe152e",
     "locked": true,
     "schema_version": 3,
     "solution": false,
     "task": false
    }
   },
   "source": [
    "<div class=\"alert alert-success\">\n",
    "\n",
    "## Ejercicio 3.\n",
    "\n",
    "Implementar el Algoritmo 1 en una función llamada `jacobi(A, b, tol, kmax, xi, yi)`.\n",
    "\n",
    "* `A` matriz del sistema.\n",
    "* `b` Right-Hand Side (RHS)\n",
    "* `tol` tolerancia.\n",
    "* `kmax` número máximo de iteraciones.\n",
    "* (`xi`, `yi`) solución inicial.\n",
    "\n",
    "La función `jacobi()` debe regresar 5 valores: \n",
    "* `solJ` la solución obtenida, \n",
    "* `xs` y `ys` componentes de las soluciones aproximadas en cada iteración, \n",
    "* `eJ` lista con el valor del error con respecto a la solución exacta en cada iteración,\n",
    "* `itJ` el número de iteraciones realizadas.\n",
    "\n",
    "Probar la implementación resolviendo el sistema del ejercicio 2 usando los siguientes datos:\n",
    "\n",
    "* (`xi`, `yi`) = $(-2, 2)$,\n",
    "* `tol` = $1 \\times 10^{-5}$ y\n",
    "* `kmax` = $50$ iteraciones\n",
    "\n",
    "La función `jacobi()` debe imprimir en cada iteración el error y la solución obtenida, de tal manera que la salida será como la siguiente:\n",
    "\n",
    "```\n",
    " i    Error         x0           x1     \n",
    " 1 2.981423970 (-0.666666667, -0.666666667)\n",
    " 2 1.257078722 (1.111111111, -1.111111111)\n",
    " 3 0.662538660 (1.407407407, -1.703703704)\n",
    "...\n",
    "```\n",
    "\n",
    "</div>"
   ]
  },
  {
   "cell_type": "code",
   "execution_count": null,
   "metadata": {
    "deletable": false,
    "id": "kJMD5Mtr5DrY",
    "nbgrader": {
     "cell_type": "code",
     "checksum": "1f06912f32593445c1ab804154569f22",
     "grade": false,
     "grade_id": "cell-bcbf62f6c782b10b",
     "locked": false,
     "schema_version": 3,
     "solution": true,
     "task": false
    },
    "tags": []
   },
   "outputs": [],
   "source": [
    "# def jacobi(A,b,tol,kmax,xi, yi):\n",
    "# ...\n",
    "# YOUR CODE HERE\n",
    "raise NotImplementedError()"
   ]
  },
  {
   "cell_type": "markdown",
   "metadata": {
    "deletable": false,
    "editable": false,
    "nbgrader": {
     "cell_type": "markdown",
     "checksum": "a9cba26c68a76eb356d82711365fe5f5",
     "grade": false,
     "grade_id": "cell-78568f31c8738001",
     "locked": true,
     "schema_version": 3,
     "solution": false,
     "task": false
    }
   },
   "source": [
    "**Aplicación del método de Jacobi.**"
   ]
  },
  {
   "cell_type": "code",
   "execution_count": null,
   "metadata": {
    "colab": {
     "base_uri": "https://localhost:8080/"
    },
    "deletable": false,
    "id": "BB9P34d-5DrY",
    "nbgrader": {
     "cell_type": "code",
     "checksum": "0bfeb644986b663fe2fce3b794e17c71",
     "grade": false,
     "grade_id": "cell-a36ade6364fb9e6d",
     "locked": false,
     "schema_version": 3,
     "solution": true,
     "task": false
    },
    "outputId": "efc32185-d095-4312-d95b-9bd83e74725a",
    "tags": []
   },
   "outputs": [],
   "source": [
    "# YOUR CODE HERE\n",
    "raise NotImplementedError()"
   ]
  },
  {
   "cell_type": "markdown",
   "metadata": {},
   "source": [
    "**Gráfica final.**"
   ]
  },
  {
   "cell_type": "code",
   "execution_count": null,
   "metadata": {
    "tags": []
   },
   "outputs": [],
   "source": [
    "# Graficamos las rectas y la solución\n",
    "plt.plot(x, y1, lw = 3, c = 'seagreen', label = '$3x+2y=2$') # Línea recta 1\n",
    "plt.plot(x, y2, lw = 3, c = 'mediumorchid', label = '$2x+6y=-8$') # Línea recta 2\n",
    "plt.scatter(sol[0], sol[1], fc='sandybrown', ec='k', s = 75, alpha=0.75, zorder=5, label='Sol. final') # Solución\n",
    "\n",
    "# Graficamos los pasos\n",
    "plt.scatter(xs[0], ys[0], fc='yellow', ec='k', s = 75, alpha=0.75, zorder=8, label='Sol. inicial')\n",
    "plt.scatter(xs[1:], ys[1:], c='navy', s = 10, alpha=0.5, zorder=8)\n",
    "plt.plot(xs, ys, c='grey', ls = '--', lw=1.0, zorder=8, label='Pasos de Jacobi')\n",
    "\n",
    "plt.legend(ncol = 1, frameon=True, loc='best')\n",
    "plt.grid()\n",
    "plt.show()"
   ]
  },
  {
   "cell_type": "code",
   "execution_count": null,
   "metadata": {
    "tags": []
   },
   "outputs": [],
   "source": [
    "# Lista con el número de las iteraciones\n",
    "l_itJ = list(range(1,itJ+1)) \n",
    "\n",
    "plt.plot(l_itJ, eJ, marker='.', label='Jacobi') # Error eJ\n",
    "plt.legend()\n",
    "plt.grid()"
   ]
  },
  {
   "cell_type": "markdown",
   "metadata": {
    "deletable": false,
    "editable": false,
    "id": "sOg_5uyQOhm9",
    "nbgrader": {
     "cell_type": "markdown",
     "checksum": "dc11e229081c00f8cf27b4ab9385b470",
     "grade": false,
     "grade_id": "cell-ed7e86ef97367932",
     "locked": true,
     "schema_version": 3,
     "solution": false,
     "task": false
    },
    "slideshow": {
     "slide_type": ""
    },
    "tags": []
   },
   "source": [
    "## Método de Gauss-Seidel\n",
    "\n",
    "* La principal diferencia con el método de Jacobi es que las ecuaciones se analizan en un orden determinado.\n",
    "\n",
    "* Por ejemplo, si realizamos el cálculo en orden ascendente y ya hemos evaluado $x_1$ y $x_2$, para evaluar $x_3$ haríamos lo siguiente:}\n",
    "$$\n",
    "\\begin{eqnarray*}\n",
    "\\underline{x_1^1} & = &\\left( b_1 - (a_{12}x_2^0 + a_{13} x_3^0 + \\dots  + a_{1n}x_n^0) \\right) / a_{11}  \\\\\n",
    "\\underline{x_2^1} & = &\\left( b_2 - (a_{21}\\underline{x_1^1} + a_{23}x_3^0 + \\dots  + a_{2n}x_n^0) \\right) / a_{22} \\\\\n",
    "x_3 & = &\\left( b_3 - (a_{31}\\underline{x_1^1} + a_{32}\\underline{x_2^1} + \\dots  + a_{3n}x_n^0)\\right) / a_{22}\n",
    "\\end{eqnarray*}\n",
    "$$\n",
    "\n",
    "* En general la fórmula del método es como sigue:\n",
    "$$\n",
    "x_i^k = \\frac{1}{a_{i,i}} \\left(b_i -  \\sum_{j < i} a_{i,j} \\underline{x_j^{k}} \n",
    "- \\sum_{j > i} a_{i,j} x_j^{k-1} \\right) \n",
    "$$   \n",
    "\n",
    "* Este algoritmo es serial dado que cada componente depende de que las componentes previas se hayan calculado (*desplazamientos sucesivos*).\n",
    "\n",
    "* El valor de la nueva iteración $\\mathbf{x}^k$ depende del orden en que se examinan las componentes. Si se cambia el orden, el valor de $\\mathbf{x}^k$ cambia.\n"
   ]
  },
  {
   "cell_type": "markdown",
   "metadata": {
    "deletable": false,
    "editable": false,
    "nbgrader": {
     "cell_type": "markdown",
     "checksum": "cfe4eac34d7665a6445d9e0703628a9f",
     "grade": false,
     "grade_id": "cell-84c6aaac242a8a0a",
     "locked": true,
     "schema_version": 3,
     "solution": false,
     "task": false
    }
   },
   "source": [
    "En general, podemos definir el siguiente algoritmo para el método de Gauss-Seidel.\n",
    "\n",
    "<center>\n",
    "<img src=\"./Gauss_Seidel.png\"  width='500px'/>\n",
    "</center>"
   ]
  },
  {
   "cell_type": "markdown",
   "metadata": {
    "deletable": false,
    "editable": false,
    "nbgrader": {
     "cell_type": "markdown",
     "checksum": "1b23b08a65b7b2750d4853c02c65d344",
     "grade": false,
     "grade_id": "cell-f897466de51ad80e",
     "locked": true,
     "schema_version": 3,
     "solution": false,
     "task": false
    }
   },
   "source": [
    "<div class=\"alert alert-success\">\n",
    "\n",
    "## Ejercicio 4.\n",
    "\n",
    "Implementar el Algoritmo 2 en una función llamada `gauss_seidel(A, b, tol, kmax, xi, yi)`.\n",
    "\n",
    "* `A` matriz del sistema.\n",
    "* `b` Right-Hand Side (RHS)\n",
    "* `tol` tolerancia.\n",
    "* `kmax` número máximo de iteraciones.\n",
    "* (`xi`, `yi`) solución inicial.\n",
    "\n",
    "La función `gauss_seidel()` debe regresar 5 valores: \n",
    "* `solJ` la solución obtenida, \n",
    "* `xs` y `ys` componentes de las soluciones aproximadas en cada iteración, \n",
    "* `eJ` lista con el valor del error con respecto a la solución exacta en cada iteración,\n",
    "* `itJ` el número de iteraciones realizadas.\n",
    "\n",
    "Probar la implementación resolviendo el sistema del ejercicio 2 usando los siguientes datos:\n",
    "\n",
    "* (`xi`, `yi`) = $(-2, 2)$,\n",
    "* `tol` = $1 \\times 10^{-5}$ y\n",
    "* `kmax` = $50$ iteraciones\n",
    "\n",
    "La función `gauss_seidel()` debe imprimir en cada iteración el error y la solución obtenida, de tal manera que la salida será como la siguiente:\n",
    "\n",
    "```\n",
    " i    Error         x0           x1     \n",
    " 1 2.810913476 (-0.666666667, -1.111111111)\n",
    " 2 0.624647439 (1.407407407, -1.802469136)\n",
    " 3 0.138810542 (1.868312757, -1.956104252)\n",
    "...\n",
    "```\n",
    "\n",
    "</div>"
   ]
  },
  {
   "cell_type": "code",
   "execution_count": null,
   "metadata": {
    "deletable": false,
    "id": "QMVYEfy95DrZ",
    "nbgrader": {
     "cell_type": "code",
     "checksum": "48cd176e0f1fb940cc7ecbd53596566d",
     "grade": false,
     "grade_id": "cell-ad9e472a46931664",
     "locked": false,
     "schema_version": 3,
     "solution": true,
     "task": false
    },
    "tags": []
   },
   "outputs": [],
   "source": [
    "# YOUR CODE HERE\n",
    "raise NotImplementedError()"
   ]
  },
  {
   "cell_type": "markdown",
   "metadata": {},
   "source": [
    "**Aplicación del método de Gauss-Seidel**"
   ]
  },
  {
   "cell_type": "code",
   "execution_count": null,
   "metadata": {
    "colab": {
     "base_uri": "https://localhost:8080/"
    },
    "deletable": false,
    "id": "8OO0YZhw5Dra",
    "nbgrader": {
     "cell_type": "code",
     "checksum": "4eeddd4e966d512acac8873628aef017",
     "grade": false,
     "grade_id": "cell-97076304ca7ed9a8",
     "locked": false,
     "schema_version": 3,
     "solution": true,
     "task": false
    },
    "outputId": "7c53bde7-4bf1-4117-a763-004082033c37",
    "tags": []
   },
   "outputs": [],
   "source": [
    "# Solución inicial\n",
    "# xi, yi = \n",
    "# tol = \n",
    "# kmax = \n",
    "\n",
    "# Método de Gauss-Seidel\n",
    "# ...\n",
    "\n",
    "# YOUR CODE HERE\n",
    "raise NotImplementedError()"
   ]
  },
  {
   "cell_type": "markdown",
   "metadata": {},
   "source": [
    "**Gráfica de las rectas, la solución y los pasos realizados**"
   ]
  },
  {
   "cell_type": "code",
   "execution_count": null,
   "metadata": {},
   "outputs": [],
   "source": [
    "# Graficamos las rectas y la solución\n",
    "plt.plot(x, y1, lw = 3, c = 'seagreen', label = '$3x+2y=2$') # Línea recta 1\n",
    "plt.plot(x, y2, lw = 3, c = 'mediumorchid', label = '$2x+6y=-8$') # Línea recta 2\n",
    "plt.scatter(sol[0], sol[1], fc='sandybrown', ec='k', s = 75, alpha=0.75, zorder=5, label='Sol. final') # Solución\n",
    "\n",
    "# Graficamos los pasos\n",
    "plt.scatter(xs[0], ys[0], fc='yellow', ec='k', s = 75, alpha=0.75, zorder=8, label='Sol. inicial')\n",
    "plt.scatter(xs[1:], ys[1:], c='navy', s = 10, alpha=0.5, zorder=8)\n",
    "plt.plot(xs, ys, c='grey', ls = '--', lw=1.0, zorder=8, label='Pasos de Gauss-Seidel')\n",
    "\n",
    "plt.legend(ncol = 1, frameon=True, loc='best')\n",
    "plt.grid()\n",
    "plt.show()"
   ]
  },
  {
   "cell_type": "markdown",
   "metadata": {},
   "source": [
    "**Graficación de los errores de Jacobi y Gauss-Seidel**"
   ]
  },
  {
   "cell_type": "code",
   "execution_count": null,
   "metadata": {
    "tags": []
   },
   "outputs": [],
   "source": [
    "# Listas con el número de las iteraciones para cada algoritmo\n",
    "l_itJ = list(range(1,itJ+1)) \n",
    "l_itG = list(range(1,itG+1)) \n",
    "\n",
    "plt.plot(l_itJ, eJ, marker='.', label='Jacobi')\n",
    "plt.plot(l_itG, eG, marker='.', label='Gauss-Seidel')\n",
    "plt.legend()\n",
    "plt.grid()"
   ]
  },
  {
   "cell_type": "code",
   "execution_count": null,
   "metadata": {},
   "outputs": [],
   "source": []
  }
 ],
 "metadata": {
  "kernelspec": {
   "display_name": "Python 3 (ipykernel)",
   "language": "python",
   "name": "python3"
  },
  "language_info": {
   "codemirror_mode": {
    "name": "ipython",
    "version": 3
   },
   "file_extension": ".py",
   "mimetype": "text/x-python",
   "name": "python",
   "nbconvert_exporter": "python",
   "pygments_lexer": "ipython3",
   "version": "3.11.6"
  }
 },
 "nbformat": 4,
 "nbformat_minor": 4
}
