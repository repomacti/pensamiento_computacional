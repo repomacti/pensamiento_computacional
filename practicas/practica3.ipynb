{
 "cells": [
  {
   "cell_type": "markdown",
   "metadata": {},
   "source": [
    "Before you turn this problem in, make sure everything runs as expected. First, **restart the kernel** (in the menubar, select Kernel $\\rightarrow$ Restart) and then **run all cells** (in the menubar, select Cell $\\rightarrow$ Run All).\n",
    "\n",
    "Make sure you fill in any place that says `YOUR CODE HERE` or \"YOUR ANSWER HERE\", as well as your name and collaborators below:"
   ]
  },
  {
   "cell_type": "code",
   "execution_count": null,
   "metadata": {},
   "outputs": [],
   "source": [
    "NAME = \"\"\n",
    "COLLABORATORS = \"\""
   ]
  },
  {
   "cell_type": "markdown",
   "metadata": {},
   "source": [
    "---"
   ]
  },
  {
   "cell_type": "markdown",
   "metadata": {
    "deletable": false,
    "editable": false,
    "nbgrader": {
     "cell_type": "markdown",
     "checksum": "a1f9a8ab2dba383c2913df561fdab9fa",
     "grade": false,
     "grade_id": "cell-166498e870311d8f",
     "locked": true,
     "schema_version": 3,
     "solution": false,
     "task": false
    }
   },
   "source": [
    "# Pensamiento Computacional con Python.\n",
    "\n",
    "<p xmlns:cc=\"http://creativecommons.org/ns#\" xmlns:dct=\"http://purl.org/dc/terms/\"><a property=\"dct:title\" rel=\"cc:attributionURL\" href=\"https://github.com/repomacti/pensamiento_computacional\">Pensamiento Computacional a Python</a> by <a rel=\"cc:attributionURL dct:creator\" property=\"cc:attributionName\" href=\"https://gmc.geofisica.unam.mx/luiggi\">Luis Miguel de la Cruz Salas</a> is licensed under <a href=\"https://creativecommons.org/licenses/by-sa/4.0/?ref=chooser-v1\" target=\"_blank\" rel=\"license noopener noreferrer\" style=\"display:inline-block;\">CC BY-SA 4.0<img style=\"height:22px!important;margin-left:3px;vertical-align:text-bottom;\" src=\"https://mirrors.creativecommons.org/presskit/icons/cc.svg?ref=chooser-v1\" alt=\"\"><img style=\"height:22px!important;margin-left:3px;vertical-align:text-bottom;\" src=\"https://mirrors.creativecommons.org/presskit/icons/by.svg?ref=chooser-v1\" alt=\"\"><img style=\"height:22px!important;margin-left:3px;vertical-align:text-bottom;\" src=\"https://mirrors.creativecommons.org/presskit/icons/sa.svg?ref=chooser-v1\" alt=\"\"></a></p> \n"
   ]
  },
  {
   "cell_type": "markdown",
   "metadata": {
    "deletable": false,
    "editable": false,
    "nbgrader": {
     "cell_type": "markdown",
     "checksum": "2e55c68b4dbaf838d130135ca52561d2",
     "grade": false,
     "grade_id": "cell-cfee14aa4c3845be",
     "locked": true,
     "schema_version": 3,
     "solution": false,
     "task": false
    }
   },
   "source": [
    "# Algoritmos no estacionarios (Subespacio de Krylov)"
   ]
  },
  {
   "cell_type": "code",
   "execution_count": null,
   "metadata": {
    "tags": []
   },
   "outputs": [],
   "source": [
    "import numpy as np\n",
    "import matplotlib.pyplot as plt\n",
    "from modulo_graf import grafica"
   ]
  },
  {
   "cell_type": "markdown",
   "metadata": {
    "deletable": false,
    "editable": false,
    "nbgrader": {
     "cell_type": "markdown",
     "checksum": "214c8f1667e2db5f491884f26cf4f1a8",
     "grade": false,
     "grade_id": "cell-6120ce86d80d92ba",
     "locked": true,
     "schema_version": 3,
     "solution": false,
     "task": false
    }
   },
   "source": [
    "<div class=\"alert alert-success\">\n",
    "\n",
    "## Ejercicio 1. Cruce de líneas rectas.\n",
    "\n",
    "Las siguientes dos rectas se cruzan en algún punto.\n",
    "\n",
    "$$\n",
    "\\begin{array}{ccc}\n",
    "3x + 2y & = &2 \\\\\n",
    "2x + 6y & = &-8\n",
    "\\end{array}\n",
    "$$\n",
    "\n",
    "Las ecuaciones de las rectas se pueden escribir como:\n",
    "\n",
    "$$\n",
    "\\begin{array}{ccc}\n",
    "\\dfrac{3}{2}x + y & = & 1 \\\\\n",
    "\\dfrac{2}{6}x + y & = & -\\dfrac{8}{6}\n",
    "\\end{array} \\Longrightarrow\n",
    "\\begin{array}{ccc}\n",
    "y = m_1 x + b_1 \\\\\n",
    "y = m_2 x + b_2\n",
    "\\end{array} \\text{ donde }\n",
    "\\begin{array}{ccc}\n",
    "m_1 = -\\dfrac{3}{2} & b_1 = 1 \\\\\n",
    "m_2 = -\\dfrac{2}{6} & b_2 = -\\dfrac{8}{6}\n",
    "\\end{array}\n",
    "$$\n",
    "\n",
    "Las ecuaciones de las rectas se pueden escribir en forma de un sistema lineal:\n",
    "\n",
    "$$\n",
    "\\left[\n",
    "\\begin{array}{cc}\n",
    "3 & 2 \\\\\n",
    "2 & 6\n",
    "\\end{array} \\right]\n",
    "\\left[\n",
    "\\begin{array}{c}\n",
    "x_{0} \\\\\n",
    "x_{1}\n",
    "\\end{array} \\right] =\n",
    "\\left[\n",
    "\\begin{array}{c}\n",
    "2 \\\\ \n",
    "-8\n",
    "\\end{array} \\right]\n",
    "\\tag{1}\n",
    "$$\n",
    "\n",
    "* Resolver el sistema y graficar las rectas y la solución, de la misma forma en que se realizó en la práctica 2.\n",
    "    - Almacena la matriz en la variable `A`.\n",
    "    - Almacena el lado derecho en la variable `b`.\n",
    "    - Almacena la solución en la variable `sol`.\n",
    "</div>"
   ]
  },
  {
   "cell_type": "code",
   "execution_count": null,
   "metadata": {
    "deletable": false,
    "nbgrader": {
     "cell_type": "code",
     "checksum": "ec09209c3b3c408eb09e7b29e31c62e8",
     "grade": false,
     "grade_id": "cell-d0239a6a16514f5f",
     "locked": false,
     "schema_version": 3,
     "solution": true,
     "task": false
    },
    "tags": []
   },
   "outputs": [],
   "source": [
    "# YOUR CODE HERE\n",
    "raise NotImplementedError()"
   ]
  },
  {
   "cell_type": "markdown",
   "metadata": {
    "deletable": false,
    "editable": false,
    "nbgrader": {
     "cell_type": "markdown",
     "checksum": "71cc2f0f4f72feb2e512a85d8664ac7d",
     "grade": false,
     "grade_id": "cell-5ffdb6cebddfb4a5",
     "locked": true,
     "schema_version": 3,
     "solution": false,
     "task": false
    }
   },
   "source": [
    "## Forma cuadrática\n",
    "La forma cuadrática de un sistema de ecuaciones lineales, permite transformar el problema $A \\mathbf{x} = \\mathbf{b}$ en un probema de minimización.\n",
    "\n",
    "$$ f(\\mathbf{x}) = \\dfrac{1}{2} \\mathbf{x}^T A \\mathbf{x} - \\mathbf{x}^T \\mathbf{b} + \\mathbf{c} $$\n",
    "\n",
    "$$\n",
    "A =\n",
    "\\left[\n",
    "\\begin{array}{cc}\n",
    "3 & 2 \\\\\n",
    "2 & 6\n",
    "\\end{array} \\right],\n",
    "\\mathbf{x} =\n",
    "\\left[\n",
    "\\begin{array}{c}\n",
    "x_{0} \\\\\n",
    "x_{1}\n",
    "\\end{array} \\right],\n",
    "\\mathbf{b} =\n",
    "\\left[\n",
    "\\begin{array}{c}\n",
    "2\\\\ -8\n",
    "\\end{array}\n",
    "\\right], \n",
    "\\mathbf{c} =\n",
    "\\left[\n",
    "\\begin{array}{c}\n",
    "0\\\\ 0\n",
    "\\end{array}\n",
    "\\right], \n",
    "$$\n",
    "\n",
    "$$ f^\\prime(\\mathbf{x}) = \\dfrac{1}{2} A^T \\mathbf{x} + \\dfrac{1}{2} A \\mathbf{x} - \\mathbf{b} $$\n",
    "\n",
    "- Cuando $A$ es simétrica: $ f^\\prime(\\mathbf{x}) = A \\mathbf{x} - \\mathbf{b} $\n",
    "- Entonces un punto crítico de $f(\\mathbf{x})$ se obtiene cuando $ f^\\prime(\\mathbf{x}) = A \\mathbf{x} - \\mathbf{b} = 0$, es decir cuando $A \\mathbf{x} = \\mathbf{b}$\n",
    "\n",
    "Calculemos la forma cuadrática para nuestro ejemplo:"
   ]
  },
  {
   "cell_type": "code",
   "execution_count": null,
   "metadata": {},
   "outputs": [],
   "source": [
    "# Tamaño de la malla para graficar\n",
    "size_grid = 30\n",
    "xp = np.linspace(-3,6,size_grid)\n",
    "yp = np.linspace(-8,6,size_grid)\n",
    "\n",
    "xg, yg = np.meshgrid(xp, yp)"
   ]
  },
  {
   "cell_type": "code",
   "execution_count": null,
   "metadata": {},
   "outputs": [],
   "source": [
    "# Graficacmos los puntos de la malla\n",
    "plt.scatter(xg, yg, s = 5, c = 'dimgray')\n",
    "plt.show()"
   ]
  },
  {
   "cell_type": "markdown",
   "metadata": {},
   "source": [
    "$$ f(\\mathbf{x}) = \\dfrac{1}{2} \\mathbf{x}^T A \\mathbf{x} - \\mathbf{x}^T \\mathbf{b} + \\mathbf{c} $$"
   ]
  },
  {
   "cell_type": "code",
   "execution_count": null,
   "metadata": {},
   "outputs": [],
   "source": [
    "# Función cuadrática\n",
    "f = lambda A,b,c,x: 0.5 * x @ A @ x.T - x @ b.T + c"
   ]
  },
  {
   "cell_type": "code",
   "execution_count": null,
   "metadata": {
    "tags": []
   },
   "outputs": [],
   "source": [
    "# Arreglo para almacenar los valores de la función cuadrática\n",
    "z = np.zeros((size_grid, size_grid))\n",
    "\n",
    "# Cálculo de la función cuadrática\n",
    "for i in range(size_grid):\n",
    "    for j in range(size_grid):\n",
    "        xc = np.array([xg[i,j], yg[i,j]])\n",
    "        z[i,j] = f(A,b,0,xc)"
   ]
  },
  {
   "cell_type": "markdown",
   "metadata": {
    "deletable": false,
    "editable": false,
    "nbgrader": {
     "cell_type": "markdown",
     "checksum": "119a1c7a3314df90d9bf6b9b04e61b81",
     "grade": false,
     "grade_id": "cell-5b1d857c8829e904",
     "locked": true,
     "schema_version": 3,
     "solution": false,
     "task": false
    }
   },
   "source": [
    "Graficamos la forma cuadrática, almacenada en `z`, y la solución. Esta última debe estar en el mínimo de $f(\\mathbf{x})$."
   ]
  },
  {
   "cell_type": "code",
   "execution_count": null,
   "metadata": {
    "tags": []
   },
   "outputs": [],
   "source": [
    "fig = plt.figure(figsize=(10, 8))\n",
    "ax = fig.add_subplot(111, projection='3d')\n",
    "\n",
    "minimo = f(A,b,0,np.array([2, -2]))\n",
    "\n",
    "ax.plot_surface(xg, yg, z, cmap='twilight', alpha=0.90) # f(x)\n",
    "ax.scatter(sol[0], sol[1], minimo ,fc='sandybrown', ec='k', s = 75, zorder=5, label='Solución')\n",
    "plt.show()"
   ]
  },
  {
   "cell_type": "markdown",
   "metadata": {
    "deletable": false,
    "editable": false,
    "nbgrader": {
     "cell_type": "markdown",
     "checksum": "7f1992dfc4a487587cde42efe4dc3b14",
     "grade": false,
     "grade_id": "cell-bf77a22db5983031",
     "locked": true,
     "schema_version": 3,
     "solution": false,
     "task": false
    },
    "slideshow": {
     "slide_type": ""
    },
    "tags": []
   },
   "source": [
    "Observamos un paraboloide cuyo mínimo es la solución del sistema. Esto es más claro si graficamos los contornos de $f(\\mathbf{x})$:"
   ]
  },
  {
   "cell_type": "code",
   "execution_count": null,
   "metadata": {
    "tags": []
   },
   "outputs": [],
   "source": [
    "grafica(x, y1, y2, sol, xg = xg, yg = yg, z = z)"
   ]
  },
  {
   "cell_type": "markdown",
   "metadata": {
    "deletable": false,
    "editable": false,
    "nbgrader": {
     "cell_type": "markdown",
     "checksum": "bb0c62945b70f714096c941a49eed53b",
     "grade": false,
     "grade_id": "cell-8390f10e3e5786e3",
     "locked": true,
     "schema_version": 3,
     "solution": false,
     "task": false
    }
   },
   "source": [
    "## Cálculo de eigenvectores\n",
    "Los eigenvalores y eigenvectores de una matriz son herramientas muy útiles para entender ciertos comportamientos. Los eigenvalores y eigenvectores se pueden calcular como sigue:"
   ]
  },
  {
   "cell_type": "code",
   "execution_count": null,
   "metadata": {
    "tags": []
   },
   "outputs": [],
   "source": [
    "# Usando la función np.linalg.eig()\n",
    "np.linalg.eig(A)  # w: eigenvalues, v: eigenvectors"
   ]
  },
  {
   "cell_type": "markdown",
   "metadata": {
    "deletable": false,
    "editable": false,
    "nbgrader": {
     "cell_type": "markdown",
     "checksum": "01759658b7f1202298e385092aa14f9a",
     "grade": false,
     "grade_id": "cell-4e56ba094076b74f",
     "locked": true,
     "schema_version": 3,
     "solution": false,
     "task": false
    }
   },
   "source": [
    "La función `eigen_land()` de la biblioteca `macti` utiliza la función `np.linalg.eig()` para ofrecer una salida más entendible:"
   ]
  },
  {
   "cell_type": "code",
   "execution_count": null,
   "metadata": {
    "tags": []
   },
   "outputs": [],
   "source": [
    "# Usando la función eigen_land() de macti\n",
    "import macti.matem as mmat\n",
    "\n",
    "wA, vA = mmat.eigen_land(A)"
   ]
  },
  {
   "cell_type": "markdown",
   "metadata": {
    "deletable": false,
    "editable": false,
    "nbgrader": {
     "cell_type": "markdown",
     "checksum": "7a9ef557e26ffbbfea8e96f98bfb7809",
     "grade": false,
     "grade_id": "cell-125619efba1333ef",
     "locked": true,
     "schema_version": 3,
     "solution": false,
     "task": false
    }
   },
   "source": [
    "Los eigenvectores se pueden visualizar, cuando la matriz es de $2\\times2$:"
   ]
  },
  {
   "cell_type": "code",
   "execution_count": null,
   "metadata": {},
   "outputs": [],
   "source": [
    "grafica(x, y1, y2, sol, vA = vA, xg = xg, yg = yg, z = z)"
   ]
  },
  {
   "cell_type": "markdown",
   "metadata": {
    "deletable": false,
    "editable": false,
    "nbgrader": {
     "cell_type": "markdown",
     "checksum": "ec85eb912d5defac3167005eed5b04a0",
     "grade": false,
     "grade_id": "cell-1ea50a9763724242",
     "locked": true,
     "schema_version": 3,
     "solution": false,
     "task": false
    }
   },
   "source": [
    "## Algoritmo 1. Steepest descend\n",
    "Este algoritmo utiliza la dirección del gradiente, en sentido negativo, para encontrar el mínimo y la solución del sistema:\n",
    "\n",
    "$\n",
    "\\begin{array}{l}\n",
    "\\text{Input} : A, b, \\mathbf{x}_0, \\text{tol}, k_{max} \\\\\n",
    "\\mathbf{r}_0 = \\mathbf{b}-A\\mathbf{x}_0 \\\\\n",
    "k = 0 \\\\\n",
    "\\text{WHILE}(\\mathbf{r}_k > \\text{tol} \\;\\;\\; \\text{AND} \\;\\;\\; k > k_{max}) \\\\\n",
    "\\qquad \\mathbf{r}_k \\leftarrow \\mathbf{b}-A\\mathbf{x}_k \\\\\n",
    "\\qquad \\alpha_k \\leftarrow \\dfrac{\\mathbf{r}_k^T\\mathbf{r}_k}{\\mathbf{r}_k^T A \\mathbf{r}_k} \\\\\n",
    "\\qquad \\mathbf{x}_{k+1} \\leftarrow \\mathbf{x}_k + \\alpha_k \\mathbf{r}_k \\\\\n",
    "\\qquad k \\leftarrow k + 1 \\\\\n",
    "\\text{ENDWHILE}\n",
    "\\end{array}\n",
    "$\n",
    "\n",
    "<div class=\"alert alert-success\">\n",
    "\n",
    "## Ejercicio 2.\n",
    "\n",
    "* Implementar el algoritmo 1 en la función `steepest()`. Esta función debe regresar:\n",
    "    - La solución final.\n",
    "    - La solución en cada iteración (`xs`, `ys`).\n",
    "    - El error en cada iteración.\n",
    "    - El residuo en cada iteración.\n",
    "\n",
    "* Posteriormente probar la función `steepest()` resolviendo el sistema de ecuaciones del Ejemplo 1 utilizando los siguientes datos:\n",
    "    - `x0 =` $(-2, 2)$.\n",
    "    - `tol` = $1 \\times 10^{-5}$.\n",
    "    - `kmax` = $50$ iteraciones.\n",
    "  \n",
    "* Utiliza las variables `solSD`, `xs`, `ys`, `eSD` y `rSD` para almacenar la salida de la función `steepest()`.\n",
    "\n",
    "* Posteriormente grafica las rectas y cómo se va calculando la solución con este método. Utiliza la función `grafica()`.\n",
    "\n",
    "* Finalmente, grafica también el error y el residuo.\n",
    "</div>"
   ]
  },
  {
   "cell_type": "code",
   "execution_count": null,
   "metadata": {
    "deletable": false,
    "nbgrader": {
     "cell_type": "code",
     "checksum": "fcaec7ca06dde21edc0df62385cf575e",
     "grade": false,
     "grade_id": "cell-f83cf6876022a4e9",
     "locked": false,
     "schema_version": 3,
     "solution": true,
     "task": false
    },
    "tags": []
   },
   "outputs": [],
   "source": [
    "# def steepest(A, b, x0, tol, kmax):\n",
    "# ...\n",
    "\n",
    "# YOUR CODE HERE\n",
    "raise NotImplementedError()"
   ]
  },
  {
   "cell_type": "code",
   "execution_count": null,
   "metadata": {
    "deletable": false,
    "nbgrader": {
     "cell_type": "code",
     "checksum": "6814f9e7ec7f7fffb43a63cc6d97acb3",
     "grade": false,
     "grade_id": "cell-bd4e9217b18d4b06",
     "locked": false,
     "schema_version": 3,
     "solution": true,
     "task": false
    },
    "tags": []
   },
   "outputs": [],
   "source": [
    "# Aplicación del método\n",
    "# x0 = ...\n",
    "# tol = ...\n",
    "# kmax = ...\n",
    "# ...\n",
    "\n",
    "# YOUR CODE HERE\n",
    "raise NotImplementedError()"
   ]
  },
  {
   "cell_type": "markdown",
   "metadata": {},
   "source": [
    "**Gráfica de las rectas, la solución y los pasos realizados**"
   ]
  },
  {
   "cell_type": "code",
   "execution_count": null,
   "metadata": {
    "tags": []
   },
   "outputs": [],
   "source": [
    "grafica(x, y1, y2, sol, xs, ys, xg = xg, yg = yg, z = z)"
   ]
  },
  {
   "cell_type": "markdown",
   "metadata": {},
   "source": [
    "**Grafica del error y el residuo.**"
   ]
  },
  {
   "cell_type": "code",
   "execution_count": null,
   "metadata": {
    "tags": []
   },
   "outputs": [],
   "source": [
    "# Lista con el número de las iteraciones\n",
    "l_itSD = list(range(0,len(eSD))) \n",
    "\n",
    "# Gráfica del error y del residuo\n",
    "plt.plot(l_itSD, eSD, marker='.', label='Error')\n",
    "plt.plot(l_itSD, rSD, marker='.', label='Residuo')\n",
    "plt.yscale('log')\n",
    "plt.legend()\n",
    "plt.grid()"
   ]
  },
  {
   "cell_type": "markdown",
   "metadata": {
    "deletable": false,
    "editable": false,
    "nbgrader": {
     "cell_type": "markdown",
     "checksum": "656b9e905d2ef205461780c1dbabede6",
     "grade": false,
     "grade_id": "cell-90afcd3cfbdbf3f5",
     "locked": true,
     "schema_version": 3,
     "solution": false,
     "task": false
    }
   },
   "source": [
    "## Algoritmo 2. Gradiente Conjugado\n",
    "Este algorimo mejora al descenso del gradiente tomando direcciones conjugadas para evitar repetir un paso en una misma dirección.\n",
    "\n",
    "$\n",
    "\\begin{array}{l}\n",
    "\\text{Input} : A, \\mathbf{b}, \\mathbf{x}_0, \\text{tol}, k_{max},  \\\\\n",
    "\\mathbf{d_0} = \\mathbf{r}_0 = \\mathbf{b} - A \\mathbf{x}_0 \\\\ \n",
    "k = 0 \\\\\n",
    "\\text{While} (||\\mathbf{r}|| > \\text{tol} \\quad \\text{AND} \\quad k < k_{max} ) \\\\\n",
    "\\qquad \\alpha_k = \\frac{\\mathbf{r}_k^T \\mathbf{r}_k}{\\mathbf{d}_k^T A \\mathbf{d}_k} \\\\\n",
    "\\qquad \\mathbf{x}_{k+1} = \\mathbf{x}_{k} + \\alpha_k \\mathbf{d}_{k} \\\\\n",
    "\\qquad \\mathbf{r}_{k+1} = \\mathbf{r}_{k} - \\alpha_k A \\mathbf{d}_{k} \\\\\n",
    "\\qquad \\beta_{k+1} = \\frac{\\mathbf{r}_{k+1}^T \\mathbf{r}_{k+1}}{\\mathbf{r}_{k}^T \\mathbf{r}_{k}}  \\\\\n",
    "\\qquad \\mathbf{d}_{k+1} = \\mathbf{r}_{k+1} + \\beta_{k+1} \\mathbf{d}_{k} \\\\\n",
    "\\qquad k = k + 1  \\\\\n",
    "\\text{End While}\n",
    "\\end{array}\n",
    "$\n",
    "\n",
    "<div class=\"alert alert-success\">\n",
    "\n",
    "## Ejercicio 3.\n",
    "\n",
    "* Implementar el algoritmo 2 en la función `CGM()`. Esta función debe regresar:\n",
    "    - La solución final.\n",
    "    - La solución de cada iteración (`xs`, `ys`).\n",
    "    - El error en cada iteración.\n",
    "    - El residuo en cada iteración.\n",
    "\n",
    "* Posteriormente probar la función `CGM()` resolviendo el sistema de ecuaciones del Ejemplo 1 utilizando los siguientes datos:\n",
    "    - `x0 =` $(-2, 2)$,\n",
    "    - `tol` = $1 \\times 10^{-5}$\n",
    "    - `kmax` = $50$ iteraciones.\n",
    "  \n",
    "* Utiliza las variables `solCGM`, `xs`, `ys`, `eCGM` y `rCGM` para almacenar la salida de la función `CGM()`.\n",
    "\n",
    "* Posteriormente grafica las rectas y cómo se va calculando la solución con este método. Utiliza la función `grafica()`.\n",
    "\n",
    "* Finalmente, grafica también el error y el residuo.\n",
    "</div>"
   ]
  },
  {
   "cell_type": "code",
   "execution_count": null,
   "metadata": {
    "deletable": false,
    "nbgrader": {
     "cell_type": "code",
     "checksum": "6e9ba30aad91fc859d9252ba80cdca6b",
     "grade": false,
     "grade_id": "cell-4d49108e093e625b",
     "locked": false,
     "schema_version": 3,
     "solution": true,
     "task": false
    },
    "tags": []
   },
   "outputs": [],
   "source": [
    "# YOUR CODE HERE\n",
    "raise NotImplementedError()"
   ]
  },
  {
   "cell_type": "code",
   "execution_count": null,
   "metadata": {
    "deletable": false,
    "nbgrader": {
     "cell_type": "code",
     "checksum": "8236d9f9f0135ac6361d6e420faaf5a8",
     "grade": false,
     "grade_id": "cell-9899c71546a7d74b",
     "locked": false,
     "schema_version": 3,
     "solution": true,
     "task": false
    },
    "tags": []
   },
   "outputs": [],
   "source": [
    "# Aplicación del método\n",
    "# x0 = ...\n",
    "# tol = ...\n",
    "# kmax = ...\n",
    "# ...\n",
    "\n",
    "# YOUR CODE HERE\n",
    "raise NotImplementedError()"
   ]
  },
  {
   "cell_type": "code",
   "execution_count": null,
   "metadata": {
    "tags": []
   },
   "outputs": [],
   "source": [
    "grafica(x, y1, y2, sol, xs, ys, xg = xg, yg = yg, z = z)"
   ]
  },
  {
   "cell_type": "code",
   "execution_count": null,
   "metadata": {
    "tags": []
   },
   "outputs": [],
   "source": [
    "# Lista con el número de las iteraciones\n",
    "l_itCGM = list(range(0,len(eCGM)))\n",
    "\n",
    "# Gráfica del error y del residuo\n",
    "plt.plot(l_itSD, eSD, marker='.', label='Error Steepest')\n",
    "plt.plot(l_itSD, rSD, marker='.', label='Residuo Steepest')\n",
    "plt.plot(l_itCGM, eCGM, marker='.', label='Error CGM')\n",
    "plt.plot(l_itCGM, rCGM, marker='.', label='Residuo CGM')\n",
    "plt.legend()\n",
    "plt.yscale('log')\n",
    "plt.grid()"
   ]
  },
  {
   "cell_type": "code",
   "execution_count": null,
   "metadata": {},
   "outputs": [],
   "source": []
  }
 ],
 "metadata": {
  "kernelspec": {
   "display_name": "Python 3 (ipykernel)",
   "language": "python",
   "name": "python3"
  },
  "language_info": {
   "codemirror_mode": {
    "name": "ipython",
    "version": 3
   },
   "file_extension": ".py",
   "mimetype": "text/x-python",
   "name": "python",
   "nbconvert_exporter": "python",
   "pygments_lexer": "ipython3",
   "version": "3.11.6"
  }
 },
 "nbformat": 4,
 "nbformat_minor": 4
}
