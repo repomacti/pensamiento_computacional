{
 "cells": [
  {
   "cell_type": "markdown",
   "metadata": {
    "editable": true,
    "slideshow": {
     "slide_type": ""
    },
    "tags": []
   },
   "source": [
    "# Pensamiento Computacional con Python.\n",
    "\n",
    "<p xmlns:cc=\"http://creativecommons.org/ns#\" xmlns:dct=\"http://purl.org/dc/terms/\"><a property=\"dct:title\" rel=\"cc:attributionURL\" href=\"https://github.com/repomacti/pensamiento_computacional\">Pensamiento Computacional a Python</a> by <a rel=\"cc:attributionURL dct:creator\" property=\"cc:attributionName\" href=\"https://gmc.geofisica.unam.mx/luiggi\">Luis Miguel de la Cruz Salas</a> is licensed under <a href=\"https://creativecommons.org/licenses/by-sa/4.0/?ref=chooser-v1\" target=\"_blank\" rel=\"license noopener noreferrer\" style=\"display:inline-block;\">CC BY-SA 4.0<img style=\"height:22px!important;margin-left:3px;vertical-align:text-bottom;\" src=\"https://mirrors.creativecommons.org/presskit/icons/cc.svg?ref=chooser-v1\" alt=\"\"><img style=\"height:22px!important;margin-left:3px;vertical-align:text-bottom;\" src=\"https://mirrors.creativecommons.org/presskit/icons/by.svg?ref=chooser-v1\" alt=\"\"><img style=\"height:22px!important;margin-left:3px;vertical-align:text-bottom;\" src=\"https://mirrors.creativecommons.org/presskit/icons/sa.svg?ref=chooser-v1\" alt=\"\"></a></p> "
   ]
  },
  {
   "cell_type": "markdown",
   "metadata": {},
   "source": [
    "# Manejo de excepciones.\n",
    "\n",
    "# Tipos de errores:\n",
    "\n",
    "En Python existen dos tipos de errores por los cuales un programa se detiene y no continua con su ejecución normal.\n",
    "\n",
    "## Errores de sintaxis.\n",
    "\n",
    "Ocurren cuando no se escriben correctamente las expresiones y declaraciones, siguiendo la especificación de la interfaz de Python.\n",
    "\n",
    "Por ejemplo:"
   ]
  },
  {
   "cell_type": "code",
   "execution_count": null,
   "metadata": {},
   "outputs": [],
   "source": [
    "# Escribimos a propósito 'printf' que es un nombre incorrecto.\n",
    "printf('Hola mundo!')"
   ]
  },
  {
   "cell_type": "markdown",
   "metadata": {},
   "source": [
    "* Observa que el tipo de error se imprime cuando éste ocurre. \n",
    "* En el caso anterior el error fue de tipo `NameError`, por lo que hay que revisar que todo esté correctamente escrito."
   ]
  },
  {
   "cell_type": "markdown",
   "metadata": {},
   "source": [
    "## Errores provocados por excepciones.\n",
    "\n",
    "Son errores lógicos que detienen la ejecución de un programa aún cuando la sintaxis sea la correcta.\n",
    "\n",
    "Por ejemplo:"
   ]
  },
  {
   "cell_type": "code",
   "execution_count": null,
   "metadata": {},
   "outputs": [],
   "source": [
    "def raizCuadrada(numero):\n",
    "    numero = float(numero)\n",
    "    print(\"La raíz cuadrada del número {} es {}\".format(numero, numero ** 0.5))"
   ]
  },
  {
   "cell_type": "code",
   "execution_count": null,
   "metadata": {},
   "outputs": [],
   "source": [
    "# Ejemplo correcto que se ejecuta sin problemas.\n",
    "raizCuadrada(2)"
   ]
  },
  {
   "cell_type": "code",
   "execution_count": null,
   "metadata": {},
   "outputs": [],
   "source": [
    "# Ejemplo correcto, se calcula la raíz cuadrada de -1.\n",
    "# El resultado es un número complejo. En este caso Python\n",
    "# se encarga de realizar las conversiones necesarias.\n",
    "raizCuadrada(-1)"
   ]
  },
  {
   "cell_type": "code",
   "execution_count": null,
   "metadata": {},
   "outputs": [],
   "source": [
    "# Ejemplo incorrecto. No es posible calcular la raíz cuadrada\n",
    "# de un número complejo, es una operación no definida.\n",
    "raizCuadrada(1+1j)"
   ]
  },
  {
   "cell_type": "markdown",
   "metadata": {},
   "source": [
    "En el ejemplo anterior se produce un error de tipo `TypeError`, es decir hay incompatibilidad con los tipos de datos que se están manipulando."
   ]
  },
  {
   "cell_type": "code",
   "execution_count": null,
   "metadata": {},
   "outputs": [],
   "source": [
    "# Ejemplo incorrecto. No se puede calcular la raíz cuadrada\n",
    "# de una cadena.\n",
    "raizCuadrada(\"hola\")"
   ]
  },
  {
   "cell_type": "markdown",
   "metadata": {},
   "source": [
    "En el ejemplo anterior se produce un error de tipo `ValueError`, es decir es decir hay un problema con el contenido del objeto."
   ]
  },
  {
   "cell_type": "markdown",
   "metadata": {},
   "source": [
    "# Manjeo de excepciones con: `try`, `except`, `finally`\n",
    "\n",
    "Los errores que se pueden manejar son aquellos errores lógicos como los presentados anteriormente en donde es posible \"predecir\" el tipo de error que puede ocurrir de acuerdo con la implementación que estamos realizando.\n",
    "\n",
    "Todas las excepciones en Python son ejemplos concretos (*instance*) de una clase  que se derivan de la clase principal <a href=\"https://docs.python.org/3/library/exceptions.html#BaseException\">BaseExcepcion</a>. Más detalles se pueden consultar <a href=\"http://docs.python.org/3/library/exceptions.html\">aquí</a>.\n",
    "\n",
    "Las excepciones se pueden capturar y manejar adecuadamente. Para ello se tienen las siguientes herramientas:\n",
    "\n",
    "* `try`\n",
    "* `except`\n",
    "* `else`\n",
    "* `finally`\n",
    "\n",
    "Cuando se identifica una sección de código susceptible de errores, ésta puede ser delimitada con la expresión `try`. Cualquier excepción que ocurra dentro de esta sección de código podrá ser capturada y gestionada.\n",
    "\n",
    "La expresión `except` es la encargada de gestionar las excepciones que se capturan. Si se utiliza sin mayor información, ésta ejecutará el código que contiene para todas las excepciones que ocurran.\n",
    "\n",
    "En el ejemplo de la función `raizCuadrada()` podemos manejar las excepciones como sigue:"
   ]
  },
  {
   "cell_type": "code",
   "execution_count": null,
   "metadata": {},
   "outputs": [],
   "source": [
    "def raizCuadrada(numero):\n",
    "    \"\"\"\n",
    "    Función que calcula la raíz cuadrada de un número.\n",
    "\n",
    "    Parameters\n",
    "    ----------\n",
    "    numero: int o float\n",
    "    Valor al que se le desea calcular la raíz cuadrada.\n",
    "    \n",
    "    \"\"\"\n",
    "    # Intenta realizar el cálculo que está dentro de try\n",
    "    try:\n",
    "        numero = float(numero)\n",
    "        print(f\"La raíz cuadrada del número {numero} es {numero**0.5}\")\n",
    "\n",
    "    # Si ocurre una excepción se captura en el except\n",
    "    except:\n",
    "        # No se hace nada con la excepción (por el momento)\n",
    "        pass\n",
    "\n",
    "    print('Gracias por usar Python!.')"
   ]
  },
  {
   "cell_type": "markdown",
   "metadata": {},
   "source": [
    "Usando la nueva versión de la función `raizCuadrada()` intentemos ejecutarla con los ejemplos anteriores:"
   ]
  },
  {
   "cell_type": "code",
   "execution_count": null,
   "metadata": {},
   "outputs": [],
   "source": [
    "raizCuadrada(1)"
   ]
  },
  {
   "cell_type": "code",
   "execution_count": null,
   "metadata": {},
   "outputs": [],
   "source": [
    "raizCuadrada(-1)"
   ]
  },
  {
   "cell_type": "code",
   "execution_count": null,
   "metadata": {},
   "outputs": [],
   "source": [
    "raizCuadrada(1+1j)"
   ]
  },
  {
   "cell_type": "code",
   "execution_count": null,
   "metadata": {},
   "outputs": [],
   "source": [
    "raizCuadrada(\"hola\")"
   ]
  },
  {
   "cell_type": "markdown",
   "metadata": {},
   "source": [
    "Observa que aún con argumentos erróneos no se genera ningún mensaje de error. Esto se debe a que la cláusula `except` captura todas las posibles excepciones, pero no hace nada."
   ]
  },
  {
   "cell_type": "markdown",
   "metadata": {},
   "source": [
    "### Gestión general de las excepciones\n",
    "\n",
    "Ya que sabemos como capturar las excepciones, veamos cómo pueden ser tratadas para dar retroalimentación al usuario."
   ]
  },
  {
   "cell_type": "code",
   "execution_count": null,
   "metadata": {},
   "outputs": [],
   "source": [
    "def raizCuadrada(numero):\n",
    "    \"\"\"\n",
    "    Función que calcula la raíz cuadrada de un número.\n",
    "\n",
    "    Parameters\n",
    "    ----------\n",
    "    numero: int o float\n",
    "    Valor al que se le desea calcular la raíz cuadrada.\n",
    "    \n",
    "    \"\"\"\n",
    "    # Variable Booleana para manejar las excepciones.\n",
    "    ocurre_error = False\n",
    "    \n",
    "    # Intenta realizar el cálculo que está dentro de try    \n",
    "    try:\n",
    "        numero = float(numero)\n",
    "        print(\"La raíz cuadrada del número {} es {}\".format(numero, numero ** 0.5))\n",
    "\n",
    "    # Si ocurre una excepción se captura en el except\n",
    "    except:\n",
    "        ocurre_error = True\n",
    "\n",
    "    # Cuando ocurre un error se hace lo siguiente:\n",
    "    if ocurre_error:\n",
    "        print(\"Cuidado, hubo una falla en el programa, no se pudo realizar el cálculo\")\n",
    "    else:\n",
    "        print('Gracias por usar Python!.')"
   ]
  },
  {
   "cell_type": "code",
   "execution_count": null,
   "metadata": {},
   "outputs": [],
   "source": [
    "raizCuadrada(1)"
   ]
  },
  {
   "cell_type": "code",
   "execution_count": null,
   "metadata": {},
   "outputs": [],
   "source": [
    "raizCuadrada(-1)"
   ]
  },
  {
   "cell_type": "code",
   "execution_count": null,
   "metadata": {},
   "outputs": [],
   "source": [
    "raizCuadrada(1+1j)"
   ]
  },
  {
   "cell_type": "code",
   "execution_count": null,
   "metadata": {},
   "outputs": [],
   "source": [
    "raizCuadrada(\"hola\")"
   ]
  },
  {
   "cell_type": "markdown",
   "metadata": {},
   "source": [
    "Observa que ahora se avisa al usuario que hubo un error al ejecutar la función por lo que el cálculo no se realizó. Sin embargo hace falta más información."
   ]
  },
  {
   "cell_type": "markdown",
   "metadata": {},
   "source": [
    "### Gestión de las excepciones por su tipo.\n",
    "\n",
    "La expresión `except` puede ser utilizada de forma tal que ejecute código dependiendo del tipo de error que ocurra. En este caso sabemos que pueden ocurrir dos tipos de errores: `TypeError` y `ValueError`.  Entonces la nueva versión de la función `raizCuadrada()` es como sigue:"
   ]
  },
  {
   "cell_type": "code",
   "execution_count": null,
   "metadata": {},
   "outputs": [],
   "source": [
    "def raizCuadrada(numero):\n",
    "    \"\"\"\n",
    "    Función que calcula la raíz cuadrada de un número.\n",
    "\n",
    "    Parameters\n",
    "    ----------\n",
    "    numero: int o float\n",
    "    Valor al que se le desea calcular la raíz cuadrada.\n",
    "    \n",
    "    \"\"\"\n",
    "    # Variable Booleana para manejar las excepciones.\n",
    "    ocurre_error = False\n",
    "    \n",
    "    # Intenta realizar el cálculo que está dentro de try\n",
    "    try:\n",
    "        numero = float(numero)\n",
    "        print(\"La raíz cuadrada del número {} es {}\".format(numero, numero ** 0.5))\n",
    "\n",
    "    # En esta sección se trata la excepción de tipo TypeError\n",
    "    except TypeError:\n",
    "        ocurre_error = True\n",
    "        print(\"Ocurrió un error de tipo: TypeError. \\n Verifique que los tipos sean compatibles.\")\n",
    "\n",
    "    # En esta sección se trata la excepción de tipo ValueError\n",
    "    except ValueError as detalles:\n",
    "        ocurre_error = True\n",
    "        print(\"Ocurrió un error de tipo ValueError. \\n Verifique el contenido de los argumentos.\")\n",
    "\n",
    "    # En esta sección se tratan todas las otras posible excepciones\n",
    "    except:\n",
    "        ocurre_error = True\n",
    "        print(\"Ocurrió algo misterioso\")\n",
    "        \n",
    "    # Cuando ocurre un error se hace lo siguiente:\n",
    "    if ocurre_error:\n",
    "        print(\"Hubo una falla en el programa, no se pudo realizar el cálculo\")\n",
    "    else:\n",
    "        print('Gracias por usar Python!.')"
   ]
  },
  {
   "cell_type": "code",
   "execution_count": null,
   "metadata": {},
   "outputs": [],
   "source": [
    "raizCuadrada(1)"
   ]
  },
  {
   "cell_type": "code",
   "execution_count": null,
   "metadata": {},
   "outputs": [],
   "source": [
    "raizCuadrada(-1)"
   ]
  },
  {
   "cell_type": "code",
   "execution_count": null,
   "metadata": {},
   "outputs": [],
   "source": [
    "raizCuadrada(1+4j)"
   ]
  },
  {
   "cell_type": "code",
   "execution_count": null,
   "metadata": {},
   "outputs": [],
   "source": [
    "raizCuadrada(\"hola\")"
   ]
  },
  {
   "cell_type": "markdown",
   "metadata": {},
   "source": [
    "Observa que ya se da mayor información sobre el tipo de error que ocurrió y el usuario puede saber que hacer para corregir los errores.\n",
    "\n",
    "Todos los tipos de errores que existen en Python se pueden consulta en <a href=\"https://docs.python.org/3/library/exceptions.html#concrete-exceptions\"> Concrete exceptions </a>."
   ]
  },
  {
   "cell_type": "markdown",
   "metadata": {},
   "source": [
    "### Información del error\n",
    "\n",
    "Se puede capturar toda la información del error para pasarla al usuario. Esto se hace como sigue:"
   ]
  },
  {
   "cell_type": "code",
   "execution_count": null,
   "metadata": {},
   "outputs": [],
   "source": [
    "def raizCuadrada(numero): \n",
    "    \"\"\"\n",
    "    Función que calcula la raíz cuadrada de un número.\n",
    "\n",
    "    Parameters\n",
    "    ----------\n",
    "    numero: int o float\n",
    "    Valor al que se le desea calcular la raíz cuadrada.\n",
    "    \n",
    "    \"\"\"\n",
    "    # Variable Booleana para manejar las excepciones.\n",
    "    ocurre_error = False\n",
    "    \n",
    "    # Intenta realizar el cálculo que está dentro de try\n",
    "    try:\n",
    "        numero = float(numero)\n",
    "        print(\"La raíz cuadrada del número {} es {}\".format(numero, numero ** 0.5))\n",
    "\n",
    "    # En esta sección se trata la excepción de tipo TypeError y se obtienen los detalles  \n",
    "    except TypeError as info:\n",
    "        ocurre_error = True\n",
    "        print(\"Ocurrió un error (TypeError):\\n\", info)\n",
    "\n",
    "    # En esta sección se trata la excepción de tipo ValueError y se obtienen los detalles  \n",
    "    except ValueError as info:\n",
    "        ocurre_error = True\n",
    "        print(\"Ocurrió un error (ValueError):\\n\", info)\n",
    "\n",
    "    # En esta sección se tratan todas las otras posible excepciones\n",
    "    except:\n",
    "        ocurre_error = True\n",
    "        print(\"Ocurrió algo misterioso\")\n",
    "\n",
    "    # Cuando ocurre un error se hace lo siguiente:\n",
    "    if ocurre_error:\n",
    "        print(\"Hubo una falla en el programa, no se pudo realizar el cálculo\")\n",
    "    else:\n",
    "        print('Gracias por usar Python!.')"
   ]
  },
  {
   "cell_type": "code",
   "execution_count": null,
   "metadata": {},
   "outputs": [],
   "source": [
    "raizCuadrada(1)"
   ]
  },
  {
   "cell_type": "code",
   "execution_count": null,
   "metadata": {},
   "outputs": [],
   "source": [
    "raizCuadrada(-1)"
   ]
  },
  {
   "cell_type": "code",
   "execution_count": null,
   "metadata": {},
   "outputs": [],
   "source": [
    "raizCuadrada(1+4j)"
   ]
  },
  {
   "cell_type": "code",
   "execution_count": null,
   "metadata": {},
   "outputs": [],
   "source": [
    "raizCuadrada(\"hola\")"
   ]
  },
  {
   "cell_type": "markdown",
   "metadata": {},
   "source": [
    "Observa que ahora además de conocer el tipo de error, también se muestra toda la información del error para que el usuario tome las acciones pertinentes."
   ]
  },
  {
   "cell_type": "markdown",
   "metadata": {},
   "source": [
    "### `finally`\n",
    "\n",
    "Esta sección se ejecuta siempre, sin importar si hubo una excepción o no."
   ]
  },
  {
   "cell_type": "code",
   "execution_count": null,
   "metadata": {},
   "outputs": [],
   "source": [
    "def raizCuadrada(numero):\n",
    "    \"\"\"\n",
    "    Función que calcula la raíz cuadrada de un número.\n",
    "\n",
    "    Parameters\n",
    "    ----------\n",
    "    numero: int o float\n",
    "    Valor al que se le desea calcular la raíz cuadrada.\n",
    "    \n",
    "    \"\"\"\n",
    "    # Variable Booleana para manejar las excepciones.\n",
    "    ocurre_error = False\n",
    "    \n",
    "    # Intenta realizar el cálculo que está dentro de try\n",
    "    try:\n",
    "        numero = float(numero)\n",
    "        print(\"La raíz cuadrada del número {} es {}\".format(numero, numero ** 0.5))\n",
    "\n",
    "    # En esta sección se trata la excepción de tipo TypeError y se obtienen los detalles  \n",
    "    except TypeError as info:\n",
    "        ocurre_error = True\n",
    "        print(\"Ocurrió un error (TypeError):\\n\", info)\n",
    "\n",
    "    # En esta sección se trata la excepción de tipo ValueError y se obtienen los detalles  \n",
    "    except ValueError as info:\n",
    "        ocurre_error = True\n",
    "        print(\"Ocurrió un error (ValueError):\\n\", info)\n",
    "\n",
    "    # En esta sección se tratan todas las otras posible excepciones\n",
    "    except:\n",
    "        ocurre_error = True\n",
    "        print(\"Ocurrió algo misterioso\")\n",
    "\n",
    "    # Cuando ocurre un error se hace lo siguiente:\n",
    "    finally:\n",
    "        if ocurre_error:\n",
    "            print(\"Hubo una falla en el programa, no se pudo realizar el cálculo\")\n",
    "        else:\n",
    "            print('Gracias por usar Python!.')"
   ]
  },
  {
   "cell_type": "code",
   "execution_count": null,
   "metadata": {},
   "outputs": [],
   "source": [
    "raizCuadrada(1)"
   ]
  },
  {
   "cell_type": "code",
   "execution_count": null,
   "metadata": {},
   "outputs": [],
   "source": [
    "raizCuadrada(-1)"
   ]
  },
  {
   "cell_type": "code",
   "execution_count": null,
   "metadata": {},
   "outputs": [],
   "source": [
    "raizCuadrada(1+4j)"
   ]
  },
  {
   "cell_type": "code",
   "execution_count": null,
   "metadata": {},
   "outputs": [],
   "source": [
    "raizCuadrada(\"hola\")"
   ]
  },
  {
   "cell_type": "markdown",
   "metadata": {},
   "source": [
    "### Lanzar excepciones controladas.\n",
    "\n",
    "Es posible presentar toda la información que genera la excepción y agregarle notas para el usuario. Para agregar notas usamos le método `add_note()` y para lanzar la excepción una vez controlada usamos `raise`. La siguiente versión de la función `raizCuadrada()` tiene al final una cláusula `else`, la cual se ejecuta cuando no ocurre ninguna excepción. En este caso, dentro del `try` realizamo el cálculo de la raíz cuadrada y en el `else` hacemos la impresión del resultado."
   ]
  },
  {
   "cell_type": "code",
   "execution_count": null,
   "metadata": {},
   "outputs": [],
   "source": [
    "def raizCuadrada(numero):\n",
    "    \"\"\"\n",
    "    Función que calcula la raíz cuadrada de un número.\n",
    "\n",
    "    Parameters\n",
    "    ----------\n",
    "    numero: int o float\n",
    "    Valor al que se le desea calcular la raíz cuadrada.\n",
    "    \n",
    "    \"\"\"\n",
    "    \n",
    "    # Intenta realizar el cálculo que está dentro de try\n",
    "    try:\n",
    "        numero_cuadrado = float(numero) ** 0.5\n",
    "\n",
    "    # En esta sección se trata la excepción de tipo TypeError y se obtienen los detalles  \n",
    "    except TypeError as info:\n",
    "        info.add_note(\"\\n\" + \"-\"*20)\n",
    "        info.add_note(f\"raizCuadrada{numero}: Para calcular una raíz cuadrada, el argumento 'numero' debe ser compatible con un int o un float\")\n",
    "        info.add_note(\"-\"*20)\n",
    "        raise # Lanzamos la excepción con toda la información\n",
    "\n",
    "    # En esta sección se trata la excepción de tipo ValueError y se obtienen los detalles  \n",
    "    except ValueError as info:\n",
    "        info.add_note(\"\\n\" + \"-\"*20)\n",
    "        info.add_note(f\"raizCuadrada('{numero}'): Para calcular una raíz cuadrada, el valor del argumento 'numero' debe ser compatible con un int o un float\")\n",
    "        info.add_note(\"-\"*20)\n",
    "        raise # Lanzamos la excepción con toda la información\n",
    "        \n",
    "    # En esta sección se tratan todas las otras posible excepciones\n",
    "    except:\n",
    "        print(\"Ocurrió algo misterioso\")\n",
    "\n",
    "    else:\n",
    "        print(\"La raíz cuadrada del número {} es {}\".format(numero, numero_cuadrado))\n"
   ]
  },
  {
   "cell_type": "code",
   "execution_count": null,
   "metadata": {},
   "outputs": [],
   "source": [
    "raizCuadrada(1)"
   ]
  },
  {
   "cell_type": "code",
   "execution_count": null,
   "metadata": {},
   "outputs": [],
   "source": [
    "raizCuadrada(-1)"
   ]
  },
  {
   "cell_type": "code",
   "execution_count": null,
   "metadata": {},
   "outputs": [],
   "source": [
    "raizCuadrada(1+4j)"
   ]
  },
  {
   "cell_type": "code",
   "execution_count": null,
   "metadata": {},
   "outputs": [],
   "source": [
    "raizCuadrada(\"hola\")"
   ]
  },
  {
   "cell_type": "code",
   "execution_count": null,
   "metadata": {},
   "outputs": [],
   "source": []
  }
 ],
 "metadata": {
  "anaconda-cloud": {},
  "kernelspec": {
   "display_name": "Python 3 (ipykernel)",
   "language": "python",
   "name": "python3"
  },
  "language_info": {
   "codemirror_mode": {
    "name": "ipython",
    "version": 3
   },
   "file_extension": ".py",
   "mimetype": "text/x-python",
   "name": "python",
   "nbconvert_exporter": "python",
   "pygments_lexer": "ipython3",
   "version": "3.11.6"
  }
 },
 "nbformat": 4,
 "nbformat_minor": 4
}
