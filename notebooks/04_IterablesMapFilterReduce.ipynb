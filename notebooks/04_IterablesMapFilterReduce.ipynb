{
 "cells": [
  {
   "cell_type": "markdown",
   "metadata": {},
   "source": [
    "# Pensamiento Computacional con Python.\n",
    "\n",
    "<p xmlns:cc=\"http://creativecommons.org/ns#\" xmlns:dct=\"http://purl.org/dc/terms/\"><a property=\"dct:title\" rel=\"cc:attributionURL\" href=\"https://github.com/repomacti/pensamiento_computacional\">Pensamiento Computacional a Python</a> by <a rel=\"cc:attributionURL dct:creator\" property=\"cc:attributionName\" href=\"https://gmc.geofisica.unam.mx/luiggi\">Luis Miguel de la Cruz Salas</a> is licensed under <a href=\"https://creativecommons.org/licenses/by-sa/4.0/?ref=chooser-v1\" target=\"_blank\" rel=\"license noopener noreferrer\" style=\"display:inline-block;\">CC BY-SA 4.0<img style=\"height:22px!important;margin-left:3px;vertical-align:text-bottom;\" src=\"https://mirrors.creativecommons.org/presskit/icons/cc.svg?ref=chooser-v1\" alt=\"\"><img style=\"height:22px!important;margin-left:3px;vertical-align:text-bottom;\" src=\"https://mirrors.creativecommons.org/presskit/icons/by.svg?ref=chooser-v1\" alt=\"\"><img style=\"height:22px!important;margin-left:3px;vertical-align:text-bottom;\" src=\"https://mirrors.creativecommons.org/presskit/icons/sa.svg?ref=chooser-v1\" alt=\"\"></a></p> "
   ]
  },
  {
   "cell_type": "markdown",
   "metadata": {},
   "source": [
    "# Iterables, Mapeo, Filtros y Reducciones.\n",
    "\n",
    "# Iterables\n",
    "\n",
    "- En Python existen objetos que contienen secuencias de otros objetos.\n",
    "- Estos objetos se pueden recorrer usando ciclos <font color=#009500>**for ... in ...**</font> . <br>\n",
    "- A estos objetos se les conoce también como **iterables** (objetos iterables, secuencias iterables, contenedores iterables, conjunto iterable, entre otros)."
   ]
  },
  {
   "cell_type": "markdown",
   "metadata": {},
   "source": [
    "<div class=\"alert alert-success\">\n",
    "\n",
    "## Ejemplo 1.\n",
    "    \n",
    "Crear una cadena, una lista, una tupla, un diccionario, un conjunto y leer un archivo; posteriormente recorrer cada uno de estos iterables usando un ciclo `for`:\n",
    "\n",
    "</div>"
   ]
  },
  {
   "cell_type": "code",
   "execution_count": null,
   "metadata": {},
   "outputs": [],
   "source": [
    "mi_cadena = \"pythonico\"\n",
    "mi_lista = ['p','y','t','h','o','n','i','c','o']\n",
    "mi_tupla = ('p','y','t','h','o','n','i','c','o')\n",
    "mi_dict = {'p':1,'y':2,'t':3,'h':4,'o':5,'n':6,'i':7,'c':8,'o':9}\n",
    "mi_conj = {'p','y','t','h','o','n','i','c','o'}\n",
    "mi_archivo = open(\"../datos/gatos.txt\")\n",
    "\n",
    "print('\\nCadena:', end=' ')\n",
    "# Recorremos la cadena e imprimimos cada elemento \n",
    "for char in mi_cadena:\n",
    "    print(char, end=' ')\n",
    "\n",
    "print('\\nLista:', end=' ')\n",
    "# Recorremos la lista e imprimimos cada elemento \n",
    "for element in mi_lista:\n",
    "    print(element, end=' ')\n",
    "\n",
    "print(\"\\nTupla: \", end='')\n",
    "# Recorremos la tupla e imprimimos cada elemento \n",
    "for element in mi_tupla:\n",
    "    print(element, end=' ')\n",
    "\n",
    "print(\"\\nDiccionario  (claves): \", end='') \n",
    "# Recorremos el diccionario e imprimimos cada clave \n",
    "for key in mi_dict.keys():\n",
    "    print(key, end=' ')\n",
    "\n",
    "print(\"\\nDiccionario (valores): \", end='') \n",
    "# Recorremos el diccionario e imprimimos cada valor \n",
    "for key in mi_dict.values():\n",
    "    print(key, end=' ')\n",
    "\n",
    "print(\"\\nConjunto: \", end='') \n",
    "# Recorremos el conjunt e imprimimos cada elemento \n",
    "for s in mi_conj:\n",
    "    print(s, end = ' ')\n",
    "    \n",
    "print(\"\\nArchivo: \") \n",
    "# Recorremos el archivo e imprimimos cada elemento \n",
    "for line in mi_archivo:\n",
    "    print(line, end = '')"
   ]
  },
  {
   "cell_type": "markdown",
   "metadata": {},
   "source": [
    "Observa el caso del diccionario y del conjunto:\n",
    "* Diccionario: cuando hay claves repetidas, se sustituye el último valor que toma la clave (`'0':9`).\n",
    "* Conjunto: los elementos se ordenan, y no se admiten elementos repetidos."
   ]
  },
  {
   "cell_type": "markdown",
   "metadata": {},
   "source": [
    "# Mapeo.\n",
    "\n",
    "En análisis matemático, un *Mapeo* es una regla que asigna a cada elemento de un primer conjunto, un único elemento de un segundo conjunto:\n",
    "\n",
    "$$\n",
    "\\texttt{map} \n",
    "$$\n",
    "$$\n",
    "\\left[\n",
    "\\begin{matrix}\n",
    "s_1 \\\\\n",
    "s_2 \\\\\n",
    "\\vdots \\\\\n",
    "s_{n-1}\n",
    "\\end{matrix}\n",
    "\\right]\n",
    "\\begin{matrix}\n",
    "\\longrightarrow \\\\\n",
    "\\longrightarrow \\\\\n",
    "\\vdots \\\\\n",
    "\\longrightarrow\n",
    "\\end{matrix}\n",
    "\\left[\n",
    "\\begin{matrix}\n",
    "t_1 \\\\\n",
    "t_2 \\\\\n",
    "\\vdots \\\\\n",
    "t_{n-1}\n",
    "\\end{matrix}\n",
    "\\right]\n",
    "$$\n",
    "\n",
    "## `map`\n",
    "En Python existe la función `map(function, sequence)` cuyo primer parámetro es una función la cual se va a aplicar a una secuencia, que es el segundo parámetro. El resultado será una nueva secuencia con los elementos obtenidos de aplicar la función a cada elemento de la secuencia de entrada."
   ]
  },
  {
   "cell_type": "markdown",
   "metadata": {},
   "source": [
    "<div class=\"alert alert-success\">\n",
    "\n",
    "## Ejemplo 2.\n",
    "\n",
    "Crear el siguiente mapeo con una lista, una tupla y un conjunto\n",
    "$$\n",
    "f(x) = x^2 \n",
    "$$\n",
    "$$\n",
    "\\left[\n",
    "\\begin{matrix}\n",
    "0 \\\\\n",
    "1 \\\\\n",
    "2 \\\\\n",
    "3 \\\\\n",
    "4\n",
    "\\end{matrix}\n",
    "\\right]\n",
    "\\begin{matrix}\n",
    "\\longrightarrow \\\\\n",
    "\\longrightarrow \\\\\n",
    "\\longrightarrow \\\\\n",
    "\\longrightarrow \\\\\n",
    "\\longrightarrow\n",
    "\\end{matrix}\n",
    "\\left[\n",
    "\\begin{matrix}\n",
    "0 \\\\\n",
    "1 \\\\\n",
    "4 \\\\\n",
    "9 \\\\\n",
    "16\n",
    "\\end{matrix}\n",
    "\\right]\n",
    "$$\n",
    "\n",
    "</div>"
   ]
  },
  {
   "cell_type": "code",
   "execution_count": null,
   "metadata": {},
   "outputs": [],
   "source": [
    "# Primero definimos la función\n",
    "def square(x):\n",
    "    \"\"\"\n",
    "    Calcula el cuadrado de x.\n",
    "    \"\"\"\n",
    "    return x**2\n",
    "\n",
    "# Luego definimos las secuencias\n",
    "l = [0,1,2,3,4]\n",
    "t = (0,1,2,3,4)\n",
    "s = {0,1,2,3,4}\n",
    "\n",
    "# Ahora creamos los mapeos\n",
    "lmap = map(square, l)\n",
    "tmap = map(square, t)\n",
    "smap = map(square, s)\n",
    "\n",
    "# Checamos el tipo de cada mapeo\n",
    "print(type(lmap), type(tmap), type(smap))\n",
    "\n",
    "print('Lista {}'.format(l))\n",
    "print('Mapeo {}\\n'.format(list(lmap))) # Convertimos el mapeo a lista\n",
    "                                       # para que se pueda imprimir\n",
    "\n",
    "print('Tupla {}'.format(t))\n",
    "print('Mapeo {}\\n'.format(tuple(tmap)))\n",
    "\n",
    "print('Conj {}'.format(s))\n",
    "print('Mapeo {}\\n'.format(set(smap)))"
   ]
  },
  {
   "cell_type": "markdown",
   "metadata": {},
   "source": [
    "Observa que el resultado del mapeo es un objeto de tipo `<class 'map'>` por lo que debemos convertirlo en un tipo que pueda ser desplegado para imprimir."
   ]
  },
  {
   "cell_type": "markdown",
   "metadata": {},
   "source": [
    "<div class=\"alert alert-success\">\n",
    "\n",
    "## Ejemplo 3.\n",
    "\n",
    "Crear un mapeo para convertir grados Fahrenheit a Celsius y viceversa:\n",
    "\n",
    "</div>\n"
   ]
  },
  {
   "cell_type": "code",
   "execution_count": null,
   "metadata": {},
   "outputs": [],
   "source": [
    "def toFahrenheit(T):\n",
    "    \"\"\"\n",
    "    Transforma los elementos de T en grados Farenheit.\n",
    "    \"\"\"\n",
    "    return (9/5)*T + 32\n",
    "\n",
    "def toCelsius(T):\n",
    "    \"\"\"\n",
    "    Transforma los elementos de T en grados Celsius.\n",
    "    \"\"\"\n",
    "    return (5/9)*(T-32)"
   ]
  },
  {
   "cell_type": "markdown",
   "metadata": {},
   "source": [
    "**Celsius $\\to$ Fahrenheit**"
   ]
  },
  {
   "cell_type": "code",
   "execution_count": null,
   "metadata": {},
   "outputs": [],
   "source": [
    "# Lista original con los datos\n",
    "c = [0, 22.5, 40, 100]\n",
    "\n",
    "# Construimos el mapeo y lo nombramos en `fmap`.\n",
    "fmap = map(toFahrenheit, c)"
   ]
  },
  {
   "cell_type": "code",
   "execution_count": null,
   "metadata": {},
   "outputs": [],
   "source": [
    "# Imprimos a lista original y el mapeo\n",
    "print(\"Grados centígrados (original):\", c)\n",
    "print(\"Grados Farenheit (conversión):\", list(fmap))"
   ]
  },
  {
   "cell_type": "markdown",
   "metadata": {},
   "source": [
    "**NOTA**. Solo se puede usar el mapeo una vez, si vuelves a ejecutar la celda anterior el resultado del mapeo estará vacío. Para volverlo a generar debes ejecutar la celda donde se construye el mapeo.\n",
    "\n",
    "Lo anterior se puede realizar en una sola línea: crear el mapeo, convertir a lista e imprimir"
   ]
  },
  {
   "cell_type": "code",
   "execution_count": null,
   "metadata": {},
   "outputs": [],
   "source": [
    "print(\"Grados centígrados (original):\", c)\n",
    "\n",
    "# Conversión en una sola línea:\n",
    "fconv = list(map(toFahrenheit,c))\n",
    "print(\"Grados Farenheit (conversión):\", fconv)"
   ]
  },
  {
   "cell_type": "markdown",
   "metadata": {},
   "source": [
    "**Fahrenheit $\\to$ Celsius**"
   ]
  },
  {
   "cell_type": "code",
   "execution_count": null,
   "metadata": {},
   "outputs": [],
   "source": [
    "# Lista original con los datos\n",
    "f = [32.0, 72.5, 104.0, 212.0]\n",
    "\n",
    "print(\"Grados Farenheit (original):\", f)\n",
    "print(\"Grados centígrados (conversión):\", list(map(toCelsius, f)))"
   ]
  },
  {
   "cell_type": "markdown",
   "metadata": {},
   "source": [
    "<div class=\"alert alert-success\">\n",
    "\n",
    "## Ejemplo 4.\n",
    "\n",
    "Crear un mapeo para sumar los elementos de tres listas que contienen números enteros.\n",
    "* Primero usando una función definida con `def`.\n",
    "* Segundo usando una función lambda.\n",
    "    \n",
    "</div>\n",
    "\n",
    "**NOTA**. La función `map()` se puede aplicar a más de un conjunto iterable, siempre y cuando los iterables tengan la misma longitud y la función que se aplique tenga los parámetros correspondientes."
   ]
  },
  {
   "cell_type": "code",
   "execution_count": null,
   "metadata": {},
   "outputs": [],
   "source": [
    "# Función normal\n",
    "def suma(x,y,z):\n",
    "    \"\"\"\n",
    "    Suma los números x, y, z.\n",
    "    \"\"\"\n",
    "    return x+y+z\n",
    "\n",
    "# Tres listas con enteros\n",
    "a = [1,2,3,4]\n",
    "b = [5,6,7,8]\n",
    "c = [9,10,11,12]\n",
    "\n",
    "# Aplicación del mapeo\n",
    "print(list(map(suma, a,b,c)))"
   ]
  },
  {
   "cell_type": "code",
   "execution_count": null,
   "metadata": {},
   "outputs": [],
   "source": [
    "# Función lambda\n",
    "sumaL = lambda x,y,z: x + y + z\n",
    "\n",
    "# Tres listas con enteros\n",
    "a = [1,2,3,4]\n",
    "b = [5,6,7,8]\n",
    "c = [9,10,11,12]\n",
    "\n",
    "# Aplicación del mapeo\n",
    "print(list(map(sumaL, a,b,c)))"
   ]
  },
  {
   "cell_type": "code",
   "execution_count": null,
   "metadata": {},
   "outputs": [],
   "source": [
    "# Tres listas con enteros\n",
    "a = [1,2,3,4]\n",
    "b = [5,6,7,8]\n",
    "c = [9,10,11,12]\n",
    "\n",
    "# Aplicación del mapeo\n",
    "print(list(map(lambda x,y,z: x + y + z, a,b,c)))"
   ]
  },
  {
   "cell_type": "markdown",
   "metadata": {},
   "source": [
    "# Filtrado.\n",
    "\n",
    "- Filtrar es un procedimiento para seleccionar cosas de un conjunto o para impedir su paso libremente.\n",
    "\n",
    "- En matemáticas, un filtro es un subconjunto especial de un conjunto parcialmente ordenado.\n",
    "\n",
    "$$\n",
    "\\texttt{filter} \n",
    "$$\n",
    "$$\n",
    "\\left[\n",
    "\\begin{matrix}\n",
    "s_1 \\\\ s_2 \\\\ s_3 \\\\ s_4 \\\\ s_{n-1} \n",
    "\\end{matrix}\n",
    "\\right]\n",
    "\\begin{matrix}\n",
    "\\\\ \\xrightarrow{\\texttt{True}} \\\\  \\\\ \\xrightarrow{\\texttt{True}}  \\\\ \\xrightarrow{\\texttt{True}}   \n",
    "\\end{matrix}\n",
    "\\left[\n",
    "\\begin{matrix}\n",
    "- \\\\ f_1 \\\\ - \\\\ f_2 \\\\ f_{m-1} \n",
    "\\end{matrix}\n",
    "\\right]\n",
    "$$"
   ]
  },
  {
   "cell_type": "markdown",
   "metadata": {},
   "source": [
    "## `filter`.\n",
    "En Python existe la función `filter(function, sequence)` cuyo primer parámetro es una función la cual se va a aplicar a una secuencia, que es el segundo parámetro. La función debe regresar un objeto de tipo Booleano: `True` o `False`. El resultado será una nueva secuencia con los elementos obtenidos de aplicar la función a cada elemento de la secuencia de entrada."
   ]
  },
  {
   "cell_type": "markdown",
   "metadata": {},
   "source": [
    "<div class=\"alert alert-success\">\n",
    "\n",
    "## Ejemplo 5.\n",
    "    \n",
    "Usando la función `filter()`, encontrar los números pares en una lista. \n",
    "\n",
    "</div>"
   ]
  },
  {
   "cell_type": "code",
   "execution_count": null,
   "metadata": {},
   "outputs": [],
   "source": [
    "def esPar(n):\n",
    "    \"\"\"\n",
    "    Función que determina si un número es par o impar.\n",
    "    \"\"\"\n",
    "    if n%2 == 0:\n",
    "        return True\n",
    "    else:\n",
    "        return False"
   ]
  },
  {
   "cell_type": "code",
   "execution_count": null,
   "metadata": {},
   "outputs": [],
   "source": [
    "# Probamos la función\n",
    "print(esPar(10))\n",
    "print(esPar(9))"
   ]
  },
  {
   "cell_type": "code",
   "execution_count": null,
   "metadata": {},
   "outputs": [],
   "source": [
    "# Creamos una lista de números, del 0 al 19\n",
    "numeros = list(range(20))\n",
    "print(numeros)"
   ]
  },
  {
   "cell_type": "code",
   "execution_count": null,
   "metadata": {},
   "outputs": [],
   "source": [
    "# Aplicamos el filtro\n",
    "filtro = filter(esPar, numeros)\n",
    "print(filtro, type(filtro))\n",
    "print(list(filtro))"
   ]
  },
  {
   "cell_type": "code",
   "execution_count": null,
   "metadata": {},
   "outputs": [],
   "source": [
    "# En una sola línea:\n",
    "print(list(filter(esPar, numeros)))"
   ]
  },
  {
   "cell_type": "markdown",
   "metadata": {},
   "source": [
    "<div class=\"alert alert-success\">\n",
    "\n",
    "## Ejemplo 6.\n",
    "    \n",
    "Encontrar los números pares en una lista que contiene elementos de muchos tipos.\n",
    "</div>"
   ]
  },
  {
   "cell_type": "markdown",
   "metadata": {},
   "source": [
    "**Paso 1.** Creamos la lista."
   ]
  },
  {
   "cell_type": "code",
   "execution_count": null,
   "metadata": {},
   "outputs": [],
   "source": [
    "# Creamos la lista\n",
    "lista = ['Hola', 4, 3.1416, 3, 8, ('a',2), 10, {'x':1.5, 'y':12} ]\n",
    "print(lista)"
   ]
  },
  {
   "cell_type": "markdown",
   "metadata": {},
   "source": [
    "**Paso 2.** Escribimos una función que verifique si una entrada es de tipo `int`."
   ]
  },
  {
   "cell_type": "code",
   "execution_count": null,
   "metadata": {},
   "outputs": [],
   "source": [
    "def esEntero(i):\n",
    "    \"\"\"\n",
    "    Función que determina si un número es entero.\n",
    "    \"\"\"\n",
    "    if isinstance(i, int): # Checamos si la entrada es de tipo int\n",
    "        return True\n",
    "    else:\n",
    "        return False"
   ]
  },
  {
   "cell_type": "code",
   "execution_count": null,
   "metadata": {},
   "outputs": [],
   "source": [
    "print(esEntero(\"Hola\"))\n",
    "print(esEntero(1))\n",
    "print(esEntero(1.))"
   ]
  },
  {
   "cell_type": "markdown",
   "metadata": {},
   "source": [
    "Una forma alternativa, más Pythonica,  de construir la función `esEntero()` es la siguiente:\n",
    "\n",
    "```python\n",
    "def esEntero(i):\n",
    "    return True if isinstance(i, int) else False\n",
    "```\n",
    "\n",
    "**Paso 3.** Probamos la función `esEntero()` para filtrar solo los número enteros de `lista`."
   ]
  },
  {
   "cell_type": "code",
   "execution_count": null,
   "metadata": {},
   "outputs": [],
   "source": [
    "list(filter(esEntero,lista))"
   ]
  },
  {
   "cell_type": "markdown",
   "metadata": {},
   "source": [
    "**Paso 4.** Usamos la función `esPar()` para encontrar los pares de la lista de enteros."
   ]
  },
  {
   "cell_type": "code",
   "execution_count": null,
   "metadata": {},
   "outputs": [],
   "source": [
    "lista_enteros = list(filter(esEntero,lista))\n",
    "\n",
    "print(list(filter(esPar, lista_enteros)))"
   ]
  },
  {
   "cell_type": "code",
   "execution_count": null,
   "metadata": {},
   "outputs": [],
   "source": [
    "# Todo en una sola línea\n",
    "print(list(filter(esPar, list(filter(esEntero,lista)))))"
   ]
  },
  {
   "cell_type": "markdown",
   "metadata": {},
   "source": [
    "Observa que se aplicó dos veces la función `filter()`, la primera para determinar si el elemento de la lista es entero usando la función `esEntero()`, la segunda para determinar si el número es par."
   ]
  },
  {
   "cell_type": "markdown",
   "metadata": {},
   "source": [
    "<div class=\"alert alert-success\">\n",
    "\n",
    "## Ejemplo 7.\n",
    "    \n",
    "Encontrar los números primos en el conjunto $\\{2, \\dots, 50\\}$.\n",
    "</div>"
   ]
  },
  {
   "cell_type": "code",
   "execution_count": null,
   "metadata": {},
   "outputs": [],
   "source": [
    "def noPrimo():\n",
    "    \"\"\"\n",
    "    Determina la lista de números que no son primos en el \n",
    "    rango [2, 50]\n",
    "    \"\"\"\n",
    "    np_list = []\n",
    "    for i in range(2,8):\n",
    "        for j in range(i*2, 50, i):\n",
    "            np_list.append(j)\n",
    "    return np_list\n",
    "\n",
    "lista_no_primo = noPrimo()\n",
    "\n",
    "print(\"Números NO primos en el rango [2, 50] \\n{}\".format(lista_no_primo))"
   ]
  },
  {
   "cell_type": "code",
   "execution_count": null,
   "metadata": {},
   "outputs": [],
   "source": [
    "def esPrimo(number):\n",
    "    \"\"\"\n",
    "    Determina si un número es primo o no.\n",
    "    \"\"\"\n",
    "    np_list = noPrimo()\n",
    "    \n",
    "    if(number not in np_list):\n",
    "        return True\n",
    "    else:\n",
    "        return False\n",
    "\n",
    "# Creación de la lista de números enteros de 2 a 50\n",
    "numeros = list(range(2,50))\n",
    "\n",
    "# Calculamos los primos usando filter(), con \n",
    "# la función esPrimo() y la lista números.\n",
    "lista_primos = list(filter(esPrimo, numeros))\n",
    "\n",
    "print(\"\\nNúmeros primos en el rango [2, 50] \\n {}\".format(lista_primos))"
   ]
  },
  {
   "cell_type": "markdown",
   "metadata": {},
   "source": [
    "¿Podrías sustituir la declaración `if ... else ...` en la función `esPrimo()` usando el operador ternario?"
   ]
  },
  {
   "cell_type": "markdown",
   "metadata": {},
   "source": [
    "# Reducción.\n",
    "\n",
    "- **Reducción** : Disminuir *algo* en tamaño, cantidad, grado, importancia, .. <br>\n",
    "\n",
    "- La operación de reducción es útil en muchos ámbitos, el objetivo es reducir un conjunto de objetos en un objeto más simple. <br>\n",
    "\n",
    "Una reducción se hace como sigue:\n",
    "\n",
    "Dada la función $f()$ y la secuencia $[s_1, s_2, s_3, s_4]$ se tiene que\n",
    "\n",
    "$$\n",
    "[\\underbrace{\\underbrace{\\underbrace{s_1, s_2}_{a = f(s_1,s_2)}, s_3}_{b = f(a,s_3)}, s_4}_{c = f(b,s_4)}] \\qquad \\Longrightarrow \\qquad \\underbrace{f(\\underbrace{f(\\underbrace{f(s_1,s_2)}_{a}, s_3)}_{b}, s_4)}_{c}\n",
    "$$\n",
    "\n"
   ]
  },
  {
   "cell_type": "markdown",
   "metadata": {},
   "source": [
    "## `reduce`.\n",
    "En Python existe la función `reduce(function, sequence)` cuyo primer parámetro es una función la cual se va a aplicar a una secuencia, que es el segundo parámetro. La función debe regresar un objeto que es el resultado de la reducción."
   ]
  },
  {
   "cell_type": "markdown",
   "metadata": {},
   "source": [
    "<div class=\"alert alert-success\">\n",
    "\n",
    "## Ejemplo 8.\n",
    "    \n",
    "Calcular la siguiente serie:\n",
    "\n",
    "$1 + 2 + \\dots + n = \\sum\\limits_{i=1}^{n} i = \\dfrac{n(n+1)}{2}$\n",
    "\n",
    "Si $n = 4$ entonces 1+2+3+4 = 10\n",
    "\n",
    "</div>"
   ]
  },
  {
   "cell_type": "code",
   "execution_count": null,
   "metadata": {},
   "outputs": [],
   "source": [
    "# La función reduce() debe importarse del módulo functools\n",
    "from functools import reduce "
   ]
  },
  {
   "cell_type": "code",
   "execution_count": null,
   "metadata": {},
   "outputs": [],
   "source": [
    "# Creamos la lista\n",
    "nums = [1,2,3,4]\n",
    "print(nums)\n",
    "\n",
    "# Calculamos la serie usando reduce y una función lambda\n",
    "suma = reduce(lambda x, y: x + y, nums)\n",
    "print(suma)"
   ]
  },
  {
   "cell_type": "code",
   "execution_count": null,
   "metadata": {},
   "outputs": [],
   "source": [
    "# Se pueden usar arreglos de numpy\n",
    "import numpy as np\n",
    "\n",
    "# Construimos un arreglo de 1's\n",
    "a = np.ones(20)\n",
    "print(a)\n",
    "\n",
    "suma = reduce(lambda x, y: x + y, a)\n",
    "print(suma)"
   ]
  },
  {
   "cell_type": "markdown",
   "metadata": {},
   "source": [
    "<div class=\"alert alert-success\">\n",
    "\n",
    "## Ejemplo 9.\n",
    "    \n",
    "Calcular la siguiente serie:\n",
    "\n",
    "$1 + \\dfrac{1}{2} + \\dots + \\dfrac{1}{n} = \\sum\\limits_{i=1}^{n} \\dfrac{1}{i} = $\n",
    "</div>"
   ]
  },
  {
   "cell_type": "code",
   "execution_count": null,
   "metadata": {},
   "outputs": [],
   "source": [
    "numeros = [1,2,3,4,5,6,7,8,9,10]\n",
    "result = reduce(lambda x, y: 1/x + 1/y, numeros)\n",
    "print(result)"
   ]
  },
  {
   "cell_type": "markdown",
   "metadata": {},
   "source": [
    "<div class=\"alert alert-success\">\n",
    "\n",
    "## Ejemplo 10.\n",
    "    \n",
    "Calcular el máximo de una lista de números.\n",
    "</div>"
   ]
  },
  {
   "cell_type": "code",
   "execution_count": null,
   "metadata": {},
   "outputs": [],
   "source": [
    "numeros = [23,5,23,56,87,98,23]\n",
    "maximo = reduce(lambda a,b: a if (a > b) else b, numeros)\n",
    "print(maximo)"
   ]
  },
  {
   "cell_type": "markdown",
   "metadata": {},
   "source": [
    "<div class=\"alert alert-success\">\n",
    "\n",
    "## Ejemplo 11. Recursión.\n",
    "    \n",
    "Calcular el factorial de un número.\n",
    "\n",
    "El factorial de un número $n$ se define como el producto de todos los números enteros positivos desde n hasta 1. Matemáticamente, se puede expresar como:\n",
    "\n",
    "$$\n",
    "n! = n \\times (n−1)!\n",
    "$$\n",
    "\n",
    "Observa que para calcular el factorial de $n$, primero debes calcular el factorial de $n-1$. El factorial de $0! = 1$.\n",
    "</div>\n"
   ]
  },
  {
   "cell_type": "markdown",
   "metadata": {},
   "source": [
    "* La recursión es un concepto en programación donde una función se llama a sí misma para resolver un problema. \n",
    "\n",
    "* Una función recursiva divide un problema en subproblemas más pequeños y sencillos, resolviéndolos de manera repetida hasta llegar a una condición base: un caso simple que la función puede resolver sin más llamadas recursivas.\n",
    "\n",
    "* El concepto clave en la recursión es que siempre debe haber:\n",
    "    - **Un caso base**: Es la condición que detiene la recursión y evita que la función se llame indefinidamente.\n",
    "    - **Una llamada recursiva**: La función se llama a sí misma con un problema más pequeño o una versión simplificada del problema original.\n",
    "\n",
    "En el caso del factorial de un número $n$, el **caso base** es: $0! = 1$.\n"
   ]
  },
  {
   "cell_type": "code",
   "execution_count": null,
   "metadata": {},
   "outputs": [],
   "source": [
    "def factorial1(n):\n",
    "    \"\"\"\n",
    "    Función recursiva que calcula el factorial de n.\n",
    "    \"\"\"\n",
    "    if n == 0:    # Caso base\n",
    "        return 1  \n",
    "    return n * factorial1(n-1) # Se llama a factorial() nuevamente"
   ]
  },
  {
   "cell_type": "code",
   "execution_count": null,
   "metadata": {},
   "outputs": [],
   "source": [
    "factorial1(5)"
   ]
  },
  {
   "cell_type": "markdown",
   "metadata": {},
   "source": [
    "Usando `reduce` y una función lambda es posible calcular el factorial:"
   ]
  },
  {
   "cell_type": "code",
   "execution_count": null,
   "metadata": {},
   "outputs": [],
   "source": [
    "reduce(lambda x, y: x * y, range(1,6))"
   ]
  },
  {
   "cell_type": "markdown",
   "metadata": {},
   "source": [
    "Podemos entonces modificar la función `factorial` combinándola con `reduce` como sigue:"
   ]
  },
  {
   "cell_type": "code",
   "execution_count": null,
   "metadata": {},
   "outputs": [],
   "source": [
    "def factorial2(n):\n",
    "    \"\"\"\n",
    "    Función recursiva que calcula el factorial de n.\n",
    "    \"\"\"\n",
    "    if n == 0:    # Caso base\n",
    "        return 1   \n",
    "    return reduce(lambda x, y: x * y, range(1, n + 1))"
   ]
  },
  {
   "cell_type": "code",
   "execution_count": null,
   "metadata": {},
   "outputs": [],
   "source": [
    "factorial2(5)"
   ]
  },
  {
   "cell_type": "markdown",
   "metadata": {},
   "source": [
    "Si usamos ahora el operador ternario, podemos escribir la función `factorial` aún más compacta:"
   ]
  },
  {
   "cell_type": "code",
   "execution_count": null,
   "metadata": {},
   "outputs": [],
   "source": [
    "def factorial3(n):\n",
    "    return 1 if n == 0 else reduce(lambda x, y: x * y, range(1, n + 1))"
   ]
  },
  {
   "cell_type": "code",
   "execution_count": null,
   "metadata": {},
   "outputs": [],
   "source": [
    "factorial3(5)"
   ]
  },
  {
   "cell_type": "markdown",
   "metadata": {},
   "source": [
    "**Consideraciones sobre Recursión:**\n",
    "\n",
    "* La recursión puede ser elegante y fácil de entender para problemas que se pueden dividir de manera similar (como el factorial).\n",
    "\n",
    "* Sin embargo, no siempre es la solución más eficiente, ya que una recursión profunda consume más memoria por las llamadas acumuladas en la pila de ejecución. Esto puede llevar a un desbordamiento de pila si no se maneja adecuadamente o si no hay un caso base claro."
   ]
  },
  {
   "cell_type": "markdown",
   "metadata": {},
   "source": [
    "<div class=\"alert alert-success\">\n",
    "\n",
    "## Ejemplo 12.\n",
    "    \n",
    "Contar el número de caractéres de un texto sin tomar en cuenta los espacios en blanco, combinando `reduce()`, `map( )` y `lambda`.\n",
    "\n",
    "</div>"
   ]
  },
  {
   "cell_type": "markdown",
   "metadata": {},
   "source": [
    "**Paso 1**. Definimos un texto."
   ]
  },
  {
   "cell_type": "code",
   "execution_count": null,
   "metadata": {},
   "outputs": [],
   "source": [
    "texto = 'Hola Mundo Pythónico!'"
   ]
  },
  {
   "cell_type": "markdown",
   "metadata": {},
   "source": [
    "Contar los caracteres, sin tomar en cuenta los espacios en blanco, es fácil con `len()` y `str.count()`:"
   ]
  },
  {
   "cell_type": "code",
   "execution_count": null,
   "metadata": {},
   "outputs": [],
   "source": [
    "print(len(texto))\n",
    "print(texto.count(\" \"))"
   ]
  },
  {
   "cell_type": "code",
   "execution_count": null,
   "metadata": {},
   "outputs": [],
   "source": [
    "print(\"Número de caracteres: {}\".format(len(texto)-texto.count(\" \")))"
   ]
  },
  {
   "cell_type": "markdown",
   "metadata": {},
   "source": [
    "Con este valor podemos comprobar si hicimos correctamente el ejercicio."
   ]
  },
  {
   "cell_type": "markdown",
   "metadata": {},
   "source": [
    "**Paso 2**. Separamos el texto por palabras."
   ]
  },
  {
   "cell_type": "code",
   "execution_count": null,
   "metadata": {},
   "outputs": [],
   "source": [
    "palabras = texto.split()\n",
    "print(palabras)"
   ]
  },
  {
   "cell_type": "markdown",
   "metadata": {},
   "source": [
    "**Paso 3**. Creamos una función lambda para contar los caracteres de una palabra."
   ]
  },
  {
   "cell_type": "code",
   "execution_count": null,
   "metadata": {},
   "outputs": [],
   "source": [
    "num_car_pal = lambda p: len(p)\n",
    "num_car_pal(palabras[0])"
   ]
  },
  {
   "cell_type": "markdown",
   "metadata": {},
   "source": [
    "**Paso 4**. Usando un mapeo y la función lambda, podemos contar los caracteres de cada palabra:"
   ]
  },
  {
   "cell_type": "code",
   "execution_count": null,
   "metadata": {},
   "outputs": [],
   "source": [
    "num_caracteres = list(map(num_car_pal, palabras))\n",
    "print(num_caracteres)"
   ]
  },
  {
   "cell_type": "markdown",
   "metadata": {},
   "source": [
    "**Paso 5**. Con lista que contiene el número de caracteres podemos obtener el total usando reduce:"
   ]
  },
  {
   "cell_type": "code",
   "execution_count": null,
   "metadata": {},
   "outputs": [],
   "source": [
    "reduce(lambda x,y: x+y, num_caracteres)"
   ]
  },
  {
   "cell_type": "markdown",
   "metadata": {},
   "source": [
    "**Paso 6**. Todo en una línea:"
   ]
  },
  {
   "cell_type": "code",
   "execution_count": null,
   "metadata": {},
   "outputs": [],
   "source": [
    "print(reduce(lambda x,y: x+y, list(map(lambda p: len(p), texto.split()))))"
   ]
  },
  {
   "cell_type": "markdown",
   "metadata": {},
   "source": [
    "**Paso 7**. Generalización.\n",
    "\n",
    "Contar los caracteres de un texto de un archivo, sin tomar en cuenta los espacios."
   ]
  },
  {
   "cell_type": "code",
   "execution_count": null,
   "metadata": {},
   "outputs": [],
   "source": [
    "archivo = open('../datos/QueLesQuedaALosJovenes.txt','r')\n",
    "\n",
    "suma = 0\n",
    "for linea in archivo:\n",
    "    palabras = linea.split()\n",
    "    suma += reduce(lambda x,y: x+y, list(map(lambda p: len(p), palabras)))\n",
    "print(suma)\n",
    "archivo.close()"
   ]
  },
  {
   "cell_type": "markdown",
   "metadata": {},
   "source": [
    "Incluso, podemos construir una función:"
   ]
  },
  {
   "cell_type": "code",
   "execution_count": null,
   "metadata": {},
   "outputs": [],
   "source": [
    "def countChar(palabras):\n",
    "    return reduce(lambda x,y: x+y, list(map(lambda p: len(p), palabras)))"
   ]
  },
  {
   "cell_type": "code",
   "execution_count": null,
   "metadata": {},
   "outputs": [],
   "source": [
    "# Contar los caracteres de un texto en un archivo\n",
    "archivo = open('../datos/QueLesQuedaALosJovenes.txt','r')\n",
    "\n",
    "suma = 0\n",
    "for linea in archivo:\n",
    "    palabras = linea.split()\n",
    "    suma += countChar(palabras)\n",
    "print(suma)\n",
    "archivo.close()"
   ]
  },
  {
   "cell_type": "markdown",
   "metadata": {},
   "source": [
    "# Más ejemplos Pythonicos."
   ]
  },
  {
   "cell_type": "markdown",
   "metadata": {},
   "source": [
    "<div class=\"alert alert-info\">\n",
    "\n",
    "## **Ejemplo 12.**\n",
    "\n",
    "<font color=\"Black\">\n",
    "    \n",
    "Convertir grados Fahrenheit a Celsius y viceversa combinando `map()` con `lambda`.\n",
    "</font>\n",
    "</div>"
   ]
  },
  {
   "cell_type": "code",
   "execution_count": null,
   "metadata": {},
   "outputs": [],
   "source": [
    "c = [0, 22.5, 40,100]\n",
    "\n",
    "# Conversión a Fahrenheit\n",
    "f = list(map(lambda T: (9/5) * T + 32, c))\n",
    "print(f)\n",
    "\n",
    "# Conversión a Celsius\n",
    "print(list(map(lambda T: (5/9)*(T - 32), f)))"
   ]
  },
  {
   "cell_type": "markdown",
   "metadata": {},
   "source": [
    "<div class=\"alert alert-info\">\n",
    "\n",
    "## **Ejemplo 14.**\n",
    "\n",
    "<font color=\"Black\">\n",
    "    \n",
    "Encontrar todos los números pares de una lista combinando `filter()` con `lambda`.\n",
    "\n",
    "</font>\n",
    "</div>"
   ]
  },
  {
   "cell_type": "code",
   "execution_count": null,
   "metadata": {},
   "outputs": [],
   "source": [
    "# Lista de números\n",
    "nums = [0, 2, 5, 8, 10, 23, 31, 35, 36, 47, 50, 77, 93]\n",
    "\n",
    "# Aplicación de filter y lambda\n",
    "result = filter(lambda x : x % 2 == 0, nums)\n",
    "\n",
    "print(list(result))"
   ]
  },
  {
   "cell_type": "markdown",
   "metadata": {},
   "source": [
    "<div class=\"alert alert-info\">\n",
    "\n",
    "## **Ejemplo 15.**\n",
    "\n",
    "<font color=\"Black\">\n",
    "    \n",
    "Encontrar todos los números primos en el conjunto $\\{2, \\dots, 50\\}$ combinando combinando `filter()` con `lambda`.\n",
    "\n",
    "</font>\n",
    "</div>"
   ]
  },
  {
   "cell_type": "code",
   "execution_count": null,
   "metadata": {},
   "outputs": [],
   "source": [
    "# Lista de números de 2 a 50\n",
    "nums = list(range(2, 51)) \n",
    "\n",
    "# Cálculo de los números primos usando\n",
    "# filter y lambda\n",
    "for i in range(2, 8):\n",
    "    nums = list(filter(lambda x: x == i or x % i, nums))\n",
    "\n",
    "print(nums)"
   ]
  },
  {
   "cell_type": "markdown",
   "metadata": {},
   "source": [
    "<div class=\"alert alert-info\">\n",
    "\n",
    "## **Ejemplo 17.**\n",
    "\n",
    "<font color=\"Black\">\n",
    "La siguiente función es impura porque modifica la `lista`:\n",
    "\n",
    "```python\n",
    "def cuadradosImpuros(lista):\n",
    "    for i, v in enumerate(lista):\n",
    "        lista[i] = v ** 2\n",
    "    return lista\n",
    "\n",
    "numeros_originales = list(range(5))\n",
    "print(numeros_originales)\n",
    "print(cuadradosImpuros(numeros_originales))\n",
    "print(numeros_originales)\n",
    "\n",
    "```\n",
    "La salida del código anterior es el siguiente:\n",
    "\n",
    "```python\n",
    "[0, 1, 2, 3, 4]\n",
    "[0, 1, 4, 9, 16]\n",
    "[0, 1, 4, 9, 16]\n",
    "```\n",
    "\n",
    "Escribe una versión pura de la función `cuadradosImpuros(lista)` usando `map()` y `lambda`.\n",
    "\n",
    "</font>\n",
    "</div>"
   ]
  },
  {
   "cell_type": "markdown",
   "metadata": {},
   "source": [
    "Una manera alternativa es la siguiente:"
   ]
  },
  {
   "cell_type": "code",
   "execution_count": null,
   "metadata": {},
   "outputs": [],
   "source": [
    "numeros_originales = list(range(5))\n",
    "print(numeros_originales)\n",
    "print(list(map(lambda x: x ** 2, numeros_originales)))\n",
    "print(numeros_originales)"
   ]
  }
 ],
 "metadata": {
  "kernelspec": {
   "display_name": "Python 3 (ipykernel)",
   "language": "python",
   "name": "python3"
  },
  "language_info": {
   "codemirror_mode": {
    "name": "ipython",
    "version": 3
   },
   "file_extension": ".py",
   "mimetype": "text/x-python",
   "name": "python",
   "nbconvert_exporter": "python",
   "pygments_lexer": "ipython3",
   "version": "3.11.6"
  }
 },
 "nbformat": 4,
 "nbformat_minor": 4
}
