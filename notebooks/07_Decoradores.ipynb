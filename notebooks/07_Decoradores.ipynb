{
 "cells": [
  {
   "cell_type": "markdown",
   "metadata": {},
   "source": [
    "# Pensamiento Computacional con Python.\n",
    "\n",
    "<p xmlns:cc=\"http://creativecommons.org/ns#\" xmlns:dct=\"http://purl.org/dc/terms/\"><a property=\"dct:title\" rel=\"cc:attributionURL\" href=\"https://github.com/repomacti/pensamiento_computacional\">Pensamiento Computacional a Python</a> by <a rel=\"cc:attributionURL dct:creator\" property=\"cc:attributionName\" href=\"https://gmc.geofisica.unam.mx/luiggi\">Luis Miguel de la Cruz Salas</a> is licensed under <a href=\"https://creativecommons.org/licenses/by-sa/4.0/?ref=chooser-v1\" target=\"_blank\" rel=\"license noopener noreferrer\" style=\"display:inline-block;\">CC BY-SA 4.0<img style=\"height:22px!important;margin-left:3px;vertical-align:text-bottom;\" src=\"https://mirrors.creativecommons.org/presskit/icons/cc.svg?ref=chooser-v1\" alt=\"\"><img style=\"height:22px!important;margin-left:3px;vertical-align:text-bottom;\" src=\"https://mirrors.creativecommons.org/presskit/icons/by.svg?ref=chooser-v1\" alt=\"\"><img style=\"height:22px!important;margin-left:3px;vertical-align:text-bottom;\" src=\"https://mirrors.creativecommons.org/presskit/icons/sa.svg?ref=chooser-v1\" alt=\"\"></a></p> "
   ]
  },
  {
   "cell_type": "markdown",
   "metadata": {},
   "source": [
    "# Decoradores.\n",
    "\n",
    "# Definición.\n",
    "\n",
    "- Se denomina decorador a la persona dedicada a diseñar el interior de oficinas, viviendas o establecimientos comerciales con criterios estéticos y funcionales.\n",
    "- En Python, un decorador es una función para modificar otra función.\n",
    "    - Recibe una función.\n",
    "    - Regresa otra función.\n",
    "- Los decoradores son herramientas bonitas y útiles de Python. <br>"
   ]
  },
  {
   "cell_type": "markdown",
   "metadata": {},
   "source": [
    "<div class=\"alert alert-success\">\n",
    "\n",
    "## Ejemplo 1.\n",
    "    \n",
    "La función `print_hello()` imprime `Hola mundo pythonico`. \n",
    "\n",
    "```python\n",
    "def print_hello():\n",
    "    print('{:^30}'.format('Hola mundo pythonico'))\n",
    "```\n",
    "\n",
    "* Crear un decorador que agregue colores al mensaje.\n",
    "</div>"
   ]
  },
  {
   "cell_type": "code",
   "execution_count": 1,
   "metadata": {},
   "outputs": [],
   "source": [
    "def print_hello():\n",
    "    print('{:^30}'.format('Hola mundo pythonico'))"
   ]
  },
  {
   "cell_type": "code",
   "execution_count": 2,
   "metadata": {},
   "outputs": [
    {
     "name": "stdout",
     "output_type": "stream",
     "text": [
      "     Hola mundo pythonico     \n"
     ]
    }
   ],
   "source": [
    "# Uso normal de la función\n",
    "print_hello()"
   ]
  },
  {
   "cell_type": "code",
   "execution_count": 3,
   "metadata": {},
   "outputs": [],
   "source": [
    "from colorama import Fore, Back, Style\n",
    "\n",
    "# Decorador\n",
    "def decorador1(f):\n",
    "\n",
    "    # La función que hace el decorado.\n",
    "    def envoltura():\n",
    "        linea = chr(0x2015) * 30\n",
    "        print(Fore.BLUE + linea + Style.RESET_ALL)\n",
    "        print(Back.GREEN + Fore.WHITE, end='')\n",
    "        \n",
    "        f() # Ejecución de la función\n",
    "        \n",
    "        print(Style.RESET_ALL, end='')\n",
    "        print(Fore.BLUE + linea + Style.RESET_ALL)\n",
    "\n",
    "    # Regresamos la función decorada\n",
    "    return envoltura "
   ]
  },
  {
   "cell_type": "code",
   "execution_count": 4,
   "metadata": {},
   "outputs": [
    {
     "name": "stdout",
     "output_type": "stream",
     "text": [
      "\u001b[34m――――――――――――――――――――――――――――――\u001b[0m\n",
      "\u001b[42m\u001b[37m     Hola mundo pythonico     \n",
      "\u001b[0m\u001b[34m――――――――――――――――――――――――――――――\u001b[0m\n"
     ]
    }
   ],
   "source": [
    "# Decorando la función.\n",
    "print_hello_colored = decorador1(print_hello) # Funcion decorada\n",
    "\n",
    "# Ahora se ejecuta la función decorada.\n",
    "print_hello_colored()"
   ]
  },
  {
   "cell_type": "markdown",
   "metadata": {},
   "source": [
    "<div class=\"alert alert-success\">\n",
    "\n",
    "## Ejemplo 2.\n",
    "    \n",
    "La función `print_message(m)` imprime el mensaje que recibe como parámetro. \n",
    "\n",
    "```python\n",
    "def print_message(m):\n",
    "    print('{:^30}'.format(m))\n",
    "```\n",
    "\n",
    "* Modificar el decorador creado en el ejemplo 1 para que se pueda recibir el parámetro `m`.\n",
    "</div>"
   ]
  },
  {
   "cell_type": "code",
   "execution_count": 5,
   "metadata": {},
   "outputs": [],
   "source": [
    "# Decorador\n",
    "def decorador2(f):\n",
    "\n",
    "    # La función que hace el decorado.\n",
    "    # Ahora recibe un parámetro\n",
    "    def envoltura(m):\n",
    "        linea = chr(0x2015) * 30\n",
    "        print(Fore.BLUE + linea + Style.RESET_ALL)\n",
    "        print(Back.GREEN + Fore.WHITE, end='')\n",
    "        \n",
    "        f(m) # Ejecución de la función\n",
    "        \n",
    "        print(Style.RESET_ALL, end='')\n",
    "        print(Fore.BLUE + linea + Style.RESET_ALL)\n",
    "\n",
    "    # Regresamos la función decorada\n",
    "    return envoltura "
   ]
  },
  {
   "cell_type": "code",
   "execution_count": 39,
   "metadata": {},
   "outputs": [],
   "source": [
    "# La función se puede decorar en su definición como sigue\n",
    "@decorador2\n",
    "def print_message(m):\n",
    "    print('{:^30}'.format(m))"
   ]
  },
  {
   "cell_type": "code",
   "execution_count": 40,
   "metadata": {},
   "outputs": [
    {
     "name": "stdout",
     "output_type": "stream",
     "text": [
      "\u001b[34m――――――――――――――――――――――――――――――\u001b[0m\n",
      "\u001b[42m\u001b[37m    bueno, bonito y barato    \n",
      "\u001b[0m\u001b[34m――――――――――――――――――――――――――――――\u001b[0m\n"
     ]
    }
   ],
   "source": [
    "# Entonces se puede usar la función con su nombre original\n",
    "print_message('bueno, bonito y barato')"
   ]
  },
  {
   "cell_type": "code",
   "execution_count": 8,
   "metadata": {},
   "outputs": [
    {
     "name": "stdout",
     "output_type": "stream",
     "text": [
      "\u001b[34m――――――――――――――――――――――――――――――\u001b[0m\n",
      "\u001b[42m\u001b[37m  el bueno, el malo y el feo  \n",
      "\u001b[0m\u001b[34m――――――――――――――――――――――――――――――\u001b[0m\n"
     ]
    }
   ],
   "source": [
    "print_message('el bueno, el malo y el feo')"
   ]
  },
  {
   "cell_type": "markdown",
   "metadata": {},
   "source": [
    "<div class=\"alert alert-success\">\n",
    "\n",
    "## Ejemplo 3.\n",
    "    \n",
    "Decorar las funciones `sin()` y `cos()` de la biblioteca `math`.\n",
    "\n",
    "</div>\n"
   ]
  },
  {
   "cell_type": "code",
   "execution_count": 63,
   "metadata": {},
   "outputs": [],
   "source": [
    "def decorador3(f):\n",
    "\n",
    "    def coloreado(x):\n",
    "\n",
    "        # Construimos una cadena coloreada con el \n",
    "        # resultado de la evaluación de f(x)\n",
    "        res = Fore.GREEN + f.__name__ \n",
    "        res += '(' + Style.BRIGHT + str(x) + Style.RESET_ALL + Fore.GREEN + ') = ' + Style.RESET_ALL\n",
    "        res += f'{f(x):10.8f}'\n",
    "\n",
    "        # Imprimimos el resultado\n",
    "        linea = chr(0x2015) * 30\n",
    "        print(Fore.BLUE + linea + Style.RESET_ALL)\n",
    "        print('{:}'.format(res))\n",
    "        print(Fore.BLUE + linea + Style.RESET_ALL)\n",
    "\n",
    "    return coloreado"
   ]
  },
  {
   "cell_type": "code",
   "execution_count": 64,
   "metadata": {},
   "outputs": [
    {
     "name": "stdout",
     "output_type": "stream",
     "text": [
      "\u001b[34m――――――――――――――――――――――――――――――\u001b[0m\n",
      "\u001b[32msin(\u001b[1m3.1415\u001b[0m\u001b[32m) = \u001b[0m0.00009265\n",
      "\u001b[34m――――――――――――――――――――――――――――――\u001b[0m\n",
      "\u001b[34m――――――――――――――――――――――――――――――\u001b[0m\n",
      "\u001b[32mcos(\u001b[1m3.1415\u001b[0m\u001b[32m) = \u001b[0m-1.00000000\n",
      "\u001b[34m――――――――――――――――――――――――――――――\u001b[0m\n"
     ]
    }
   ],
   "source": [
    "from math import sin, cos\n",
    "\n",
    "sin = decorador3(sin)\n",
    "cos = decorador3(cos)\n",
    "\n",
    "for f in [sin, cos]:\n",
    "    f(3.1415)"
   ]
  },
  {
   "cell_type": "code",
   "execution_count": 65,
   "metadata": {},
   "outputs": [
    {
     "name": "stdout",
     "output_type": "stream",
     "text": [
      "\u001b[34m――――――――――――――――――――――――――――――\u001b[0m\n",
      "\u001b[32mfactorial(\u001b[1m5\u001b[0m\u001b[32m) = \u001b[0m120.00000000\n",
      "\u001b[34m――――――――――――――――――――――――――――――\u001b[0m\n",
      "\u001b[34m――――――――――――――――――――――――――――――\u001b[0m\n",
      "\u001b[32mlog(\u001b[1m2.718281828459045\u001b[0m\u001b[32m) = \u001b[0m1.00000000\n",
      "\u001b[34m――――――――――――――――――――――――――――――\u001b[0m\n"
     ]
    }
   ],
   "source": [
    "from math import factorial, log\n",
    "\n",
    "factorial = decorador3(factorial)\n",
    "log = decorador3(log)\n",
    "\n",
    "factorial(5)\n",
    "log(math.e)"
   ]
  },
  {
   "cell_type": "markdown",
   "metadata": {},
   "source": [
    "<div class=\"alert alert-success\">\n",
    "\n",
    "## Ejemplo 4.\n",
    "    \n",
    "Decorar funciones con un número variable de argumentos.\n",
    "</div>\n"
   ]
  },
  {
   "cell_type": "code",
   "execution_count": 88,
   "metadata": {},
   "outputs": [],
   "source": [
    "def decorador4(f):\n",
    "    \n",
    "    def envoltura(*args, **kwargs):\n",
    "\n",
    "        # Construimos una cadena coloreada con el \n",
    "        # resultado de la evaluación de f(x)\n",
    "        res = Fore.GREEN + f.__name__ \n",
    "        res += '(' + Style.BRIGHT + f'{args},{kwargs}' + Style.RESET_ALL + Fore.GREEN + ') = ' + Style.RESET_ALL\n",
    "        res += f'{f(*args, **kwargs)}'\n",
    "        \n",
    "        # Imprimimos el resultado\n",
    "        linea = chr(0x2015) * 30\n",
    "        print(Fore.BLUE + linea + Style.RESET_ALL)\n",
    "        print('{:}'.format(res))\n",
    "        print(Fore.BLUE + linea + Style.RESET_ALL)\n",
    "        \n",
    "    return envoltura"
   ]
  },
  {
   "cell_type": "code",
   "execution_count": 89,
   "metadata": {},
   "outputs": [],
   "source": [
    "from random import random, randint, choice, choices\n",
    "\n",
    "random = decorador4(random)\n",
    "randint = decorador4(randint)\n",
    "choice = decorador4(choice)\n",
    "choices = decorador4(choices)"
   ]
  },
  {
   "cell_type": "code",
   "execution_count": 110,
   "metadata": {},
   "outputs": [
    {
     "name": "stdout",
     "output_type": "stream",
     "text": [
      "\u001b[34m――――――――――――――――――――――――――――――\u001b[0m\n",
      "\u001b[32mrandom(\u001b[1m(),{}\u001b[0m\u001b[32m) = \u001b[0m0.9011902563123693\n",
      "\u001b[34m――――――――――――――――――――――――――――――\u001b[0m\n",
      "\u001b[34m――――――――――――――――――――――――――――――\u001b[0m\n",
      "\u001b[32mrandint(\u001b[1m(3, 30),{}\u001b[0m\u001b[32m) = \u001b[0m3\n",
      "\u001b[34m――――――――――――――――――――――――――――――\u001b[0m\n",
      "\u001b[34m――――――――――――――――――――――――――――――\u001b[0m\n",
      "\u001b[32mchoice(\u001b[1m([0, 1, 2, 3, 4, 5, 6, 7, 8, 9],),{}\u001b[0m\u001b[32m) = \u001b[0m0\n",
      "\u001b[34m――――――――――――――――――――――――――――――\u001b[0m\n",
      "\u001b[34m――――――――――――――――――――――――――――――\u001b[0m\n",
      "\u001b[32mchoices(\u001b[1m([0, 1, 2, 3, 4, 5, 6, 7, 8, 9],),{}\u001b[0m\u001b[32m) = \u001b[0m[8]\n",
      "\u001b[34m――――――――――――――――――――――――――――――\u001b[0m\n",
      "\u001b[34m――――――――――――――――――――――――――――――\u001b[0m\n",
      "\u001b[32mchoices(\u001b[1m([0, 1, 2, 3, 4, 5, 6, 7, 8, 9],),{'k': 3}\u001b[0m\u001b[32m) = \u001b[0m[3, 6, 8]\n",
      "\u001b[34m――――――――――――――――――――――――――――――\u001b[0m\n"
     ]
    }
   ],
   "source": [
    "p = [x for x in range(10)]\n",
    "\n",
    "random()\n",
    "randint(3, 30)\n",
    "choice(p)\n",
    "choices(p)\n",
    "choices(p,k=3)"
   ]
  },
  {
   "cell_type": "markdown",
   "metadata": {},
   "source": [
    "<div class=\"alert alert-success\">\n",
    "\n",
    "## Ejemplo 5.\n",
    "    \n",
    "Crear un decorador que calcule el tiempo de ejecución de una función.\n",
    "</div>\n",
    "\n"
   ]
  },
  {
   "cell_type": "code",
   "execution_count": 130,
   "metadata": {},
   "outputs": [],
   "source": [
    "import time\n",
    "\n",
    "def crono(f):\n",
    "    \"\"\"\n",
    "    Regresa el tiempo que toma en ejecutarse la función.\n",
    "    \"\"\"\n",
    "    def tiempo(N):\n",
    "        t1 = time.perf_counter()\n",
    "        f(N)\n",
    "        t2 = time.perf_counter()\n",
    "        return print(f'Elapsed time: {t2 - t1}\\n')\n",
    "\n",
    "    return tiempo"
   ]
  },
  {
   "cell_type": "code",
   "execution_count": 131,
   "metadata": {},
   "outputs": [],
   "source": [
    "@crono\n",
    "def miFuncion(N):\n",
    "    numeros = []\n",
    "    for num in (range(0, N)):\n",
    "        numeros.append(num)\n",
    "    print('\\nLa suma es: ' + str((sum(numeros))))"
   ]
  },
  {
   "cell_type": "code",
   "execution_count": 135,
   "metadata": {},
   "outputs": [
    {
     "name": "stdout",
     "output_type": "stream",
     "text": [
      "\n",
      "La suma es: 45\n",
      "Elapsed time: 4.9097463488578796e-05\n",
      "\n"
     ]
    }
   ],
   "source": [
    "miFuncion(10)"
   ]
  },
  {
   "cell_type": "markdown",
   "metadata": {},
   "source": [
    "<div class=\"alert alert-success\">\n",
    "\n",
    "## Ejemplo 6.\n",
    "    \n",
    "Detener la ejecución por un tiempo antes que una función sea ejecutada.\n",
    "</div>"
   ]
  },
  {
   "cell_type": "code",
   "execution_count": 136,
   "metadata": {},
   "outputs": [],
   "source": [
    "from time import sleep\n",
    "\n",
    "def sleepDecorador(function):\n",
    "\n",
    "    def duerme(*args, **kwargs):\n",
    "        sleep(1)\n",
    "        return function(*args, **kwargs)\n",
    "        \n",
    "    return duerme"
   ]
  },
  {
   "cell_type": "code",
   "execution_count": 138,
   "metadata": {},
   "outputs": [
    {
     "name": "stdout",
     "output_type": "stream",
     "text": [
      "1 2 3 4 5 "
     ]
    }
   ],
   "source": [
    "@sleepDecorador\n",
    "def imprimeNumero(num):\n",
    "    return num\n",
    "\n",
    "for num in range(1, 6):\n",
    "    print(imprimeNumero(num), end = ' ')"
   ]
  },
  {
   "cell_type": "markdown",
   "metadata": {},
   "source": [
    "<div class=\"alert alert-success\">\n",
    "\n",
    "## Ejemplo 7.\n",
    "    \n",
    "Crear un decorador que cheque que el argumento de una función que calcula el factorial, sea un entero positivo.\n",
    "</div>\n"
   ]
  },
  {
   "cell_type": "code",
   "execution_count": 143,
   "metadata": {},
   "outputs": [],
   "source": [
    "def checaArgumento(f):\n",
    "    def checador(x):\n",
    "        if type(x) == int and x > 0:\n",
    "            return f(x)\n",
    "        else:\n",
    "            raise Exception(\"El argumento no es un entero positivo\")\n",
    "    return checador"
   ]
  },
  {
   "cell_type": "code",
   "execution_count": 144,
   "metadata": {},
   "outputs": [],
   "source": [
    "@checaArgumento\n",
    "def factorial(n):\n",
    "    if n == 1:\n",
    "        return 1\n",
    "    else:\n",
    "        return n * factorial(n-1)"
   ]
  },
  {
   "cell_type": "code",
   "execution_count": 145,
   "metadata": {},
   "outputs": [
    {
     "name": "stdout",
     "output_type": "stream",
     "text": [
      "1 1\n",
      "2 2\n",
      "3 6\n",
      "4 24\n",
      "5 120\n",
      "6 720\n",
      "7 5040\n",
      "8 40320\n",
      "9 362880\n"
     ]
    }
   ],
   "source": [
    "for i in range(1,10):\n",
    "    print(i, factorial(i))"
   ]
  },
  {
   "cell_type": "code",
   "execution_count": 146,
   "metadata": {},
   "outputs": [
    {
     "ename": "Exception",
     "evalue": "El argumento no es un entero positivo",
     "output_type": "error",
     "traceback": [
      "\u001b[0;31m---------------------------------------------------------------------------\u001b[0m",
      "\u001b[0;31mException\u001b[0m                                 Traceback (most recent call last)",
      "Cell \u001b[0;32mIn[146], line 1\u001b[0m\n\u001b[0;32m----> 1\u001b[0m \u001b[38;5;28mprint\u001b[39m(\u001b[43mfactorial\u001b[49m\u001b[43m(\u001b[49m\u001b[38;5;241;43m-\u001b[39;49m\u001b[38;5;241;43m1\u001b[39;49m\u001b[43m)\u001b[49m)\n",
      "Cell \u001b[0;32mIn[143], line 6\u001b[0m, in \u001b[0;36mchecaArgumento.<locals>.checador\u001b[0;34m(x)\u001b[0m\n\u001b[1;32m      4\u001b[0m     \u001b[38;5;28;01mreturn\u001b[39;00m f(x)\n\u001b[1;32m      5\u001b[0m \u001b[38;5;28;01melse\u001b[39;00m:\n\u001b[0;32m----> 6\u001b[0m     \u001b[38;5;28;01mraise\u001b[39;00m \u001b[38;5;167;01mException\u001b[39;00m(\u001b[38;5;124m\"\u001b[39m\u001b[38;5;124mEl argumento no es un entero positivo\u001b[39m\u001b[38;5;124m\"\u001b[39m)\n",
      "\u001b[0;31mException\u001b[0m: El argumento no es un entero positivo"
     ]
    }
   ],
   "source": [
    "print(factorial(-1))"
   ]
  },
  {
   "cell_type": "markdown",
   "metadata": {},
   "source": [
    "<div class=\"alert alert-success\">\n",
    "\n",
    "## Ejemplo 8.\n",
    "    \n",
    "Contar el número de llamadas de una función.\n",
    "</div>"
   ]
  },
  {
   "cell_type": "code",
   "execution_count": 149,
   "metadata": {},
   "outputs": [],
   "source": [
    "def contadorDeLlamadas(func):\n",
    "    \n",
    "    def cuenta(*args, **kwargs):\n",
    "        cuenta.llamadas += 1\n",
    "        return func(*args, **kwargs)\n",
    "        \n",
    "    # Variable estática que lleva la cuenta\n",
    "    cuenta.llamadas = 0\n",
    "    \n",
    "    return cuenta"
   ]
  },
  {
   "cell_type": "code",
   "execution_count": 159,
   "metadata": {},
   "outputs": [],
   "source": [
    "@contadorDeLlamadas\n",
    "def suma(x):\n",
    "    return x + 1\n",
    "\n",
    "@contadorDeLlamadas\n",
    "def mulp1(x, y=1):\n",
    "    return x*y + 1"
   ]
  },
  {
   "cell_type": "code",
   "execution_count": 160,
   "metadata": {},
   "outputs": [
    {
     "name": "stdout",
     "output_type": "stream",
     "text": [
      "Llamadas a suma = 0\n",
      "Llamadas a multp1 = 0\n"
     ]
    }
   ],
   "source": [
    "print('Llamadas a suma = {}'.format(suma.llamadas))\n",
    "print('Llamadas a multp1 = {}'.format(mulp1.llamadas))"
   ]
  },
  {
   "cell_type": "code",
   "execution_count": 161,
   "metadata": {},
   "outputs": [
    {
     "name": "stdout",
     "output_type": "stream",
     "text": [
      "Llamadas a suma = 4\n",
      "Llamadas a multp1 = 3\n"
     ]
    }
   ],
   "source": [
    "for i in range(4):\n",
    "    suma(i)\n",
    "    \n",
    "mulp1(1, 2)\n",
    "mulp1(5)\n",
    "mulp1(y=2, x=25)\n",
    "\n",
    "print('Llamadas a suma = {}'.format(suma.llamadas))\n",
    "print('Llamadas a multp1 = {}'.format(mulp1.llamadas))"
   ]
  },
  {
   "cell_type": "markdown",
   "metadata": {},
   "source": [
    "<div class=\"alert alert-success\">\n",
    "\n",
    "## Ejemplo 9.\n",
    "    \n",
    "Decorar una función con diferentes saludos.\n",
    "</div>\n",
    "\n"
   ]
  },
  {
   "cell_type": "code",
   "execution_count": 162,
   "metadata": {},
   "outputs": [],
   "source": [
    "def buenasTardes(func):\n",
    "    def saludo(x):\n",
    "        print(\"Hola, buenas tardes, \", end='')\n",
    "        func(x)\n",
    "    return saludo\n",
    "\n",
    "def buenosDias(func):\n",
    "    def saludo(x):\n",
    "        print(\"Hola, buenos días, \", end='')\n",
    "        func(x)\n",
    "    return saludo"
   ]
  },
  {
   "cell_type": "code",
   "execution_count": 163,
   "metadata": {},
   "outputs": [
    {
     "name": "stdout",
     "output_type": "stream",
     "text": [
      "Hola, buenas tardes, son las 3 pm\n",
      "Hola, buenos días, son las 8 am\n"
     ]
    }
   ],
   "source": [
    "@buenasTardes\n",
    "def mensaje1(hora):\n",
    "    print(\"son las \" + hora)\n",
    "\n",
    "mensaje1(\"3 pm\")\n",
    "\n",
    "@buenosDias\n",
    "def mensaje2(hora):\n",
    "    print(\"son las \" + hora)\n",
    "    \n",
    "mensaje2(\"8 am\")"
   ]
  },
  {
   "cell_type": "markdown",
   "metadata": {},
   "source": [
    "<div class=\"alert alert-success\">\n",
    "\n",
    "## Ejemplo 10.\n",
    "    \n",
    "El ejemplo anterior se puede realizar como sigue:\n",
    "</div>\n",
    "\n"
   ]
  },
  {
   "cell_type": "code",
   "execution_count": 164,
   "metadata": {},
   "outputs": [],
   "source": [
    "def saludo(expr):\n",
    "    \n",
    "    def saludoDecorador(func):\n",
    "        def saludoGenerico(x):\n",
    "            print(expr, end='')\n",
    "            func(x)\n",
    "        return saludoGenerico\n",
    "        \n",
    "    return saludoDecorador"
   ]
  },
  {
   "cell_type": "code",
   "execution_count": 165,
   "metadata": {},
   "outputs": [
    {
     "name": "stdout",
     "output_type": "stream",
     "text": [
      "Hola, buenas tardes, son las 3 pm\n",
      "Hola, buenos días, son las 8 am\n",
      "καλημερα  <--- en griego  :D \n"
     ]
    }
   ],
   "source": [
    "@saludo(\"Hola, buenas tardes, \")\n",
    "def mensaje1(hora):\n",
    "    print(\"son las \" + hora)\n",
    "\n",
    "mensaje1(\"3 pm\")\n",
    "\n",
    "@saludo(\"Hola, buenos días, \")\n",
    "def mensaje2(hora):\n",
    "    print(\"son las \" + hora)\n",
    "    \n",
    "mensaje2(\"8 am\")\n",
    "\n",
    "@saludo(\"καλημερα \")\n",
    "def mensaje3(hora):\n",
    "    print(\" <--- en griego \" + hora)\n",
    "    \n",
    "mensaje3(\" :D \")"
   ]
  },
  {
   "cell_type": "code",
   "execution_count": null,
   "metadata": {},
   "outputs": [],
   "source": []
  }
 ],
 "metadata": {
  "kernelspec": {
   "display_name": "Python 3 (ipykernel)",
   "language": "python",
   "name": "python3"
  },
  "language_info": {
   "codemirror_mode": {
    "name": "ipython",
    "version": 3
   },
   "file_extension": ".py",
   "mimetype": "text/x-python",
   "name": "python",
   "nbconvert_exporter": "python",
   "pygments_lexer": "ipython3",
   "version": "3.11.6"
  }
 },
 "nbformat": 4,
 "nbformat_minor": 4
}
