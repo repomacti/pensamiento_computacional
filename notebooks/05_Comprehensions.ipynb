{
 "cells": [
  {
   "cell_type": "markdown",
   "metadata": {},
   "source": [
    "# Pensamiento Computacional con Python.\n",
    "\n",
    "<p xmlns:cc=\"http://creativecommons.org/ns#\" xmlns:dct=\"http://purl.org/dc/terms/\"><a property=\"dct:title\" rel=\"cc:attributionURL\" href=\"https://github.com/repomacti/pensamiento_computacional\">Pensamiento Computacional a Python</a> by <a rel=\"cc:attributionURL dct:creator\" property=\"cc:attributionName\" href=\"https://gmc.geofisica.unam.mx/luiggi\">Luis Miguel de la Cruz Salas</a> is licensed under <a href=\"https://creativecommons.org/licenses/by-sa/4.0/?ref=chooser-v1\" target=\"_blank\" rel=\"license noopener noreferrer\" style=\"display:inline-block;\">CC BY-SA 4.0<img style=\"height:22px!important;margin-left:3px;vertical-align:text-bottom;\" src=\"https://mirrors.creativecommons.org/presskit/icons/cc.svg?ref=chooser-v1\" alt=\"\"><img style=\"height:22px!important;margin-left:3px;vertical-align:text-bottom;\" src=\"https://mirrors.creativecommons.org/presskit/icons/by.svg?ref=chooser-v1\" alt=\"\"><img style=\"height:22px!important;margin-left:3px;vertical-align:text-bottom;\" src=\"https://mirrors.creativecommons.org/presskit/icons/sa.svg?ref=chooser-v1\" alt=\"\"></a></p> "
   ]
  },
  {
   "cell_type": "markdown",
   "metadata": {},
   "source": [
    "# Estructuras de datos concisas.\n",
    "\n",
    "# Listas concisas\n",
    "\n",
    "En matemáticas podemos definir un conjunto como sigue: <br>\n",
    "\n",
    "$$S = \\{x^2 : x \\in (0, 1, 2, \\dots, 9)\\} = \\{0, 1, 4, \\dots, 81\\}$$\n",
    "\n",
    "En Python es posible crear este conjunto usando lo que conoce como  *list comprehensions* (generación corta de listas) como sigue: "
   ]
  },
  {
   "cell_type": "code",
   "execution_count": null,
   "metadata": {},
   "outputs": [],
   "source": [
    "S = [x**2 for x in range(10)]\n",
    "print(S)"
   ]
  },
  {
   "cell_type": "markdown",
   "metadata": {},
   "source": [
    "Las listas concisas son usadas para construir listas de una manera muy corta, natural y fácil, como lo hace un matemático. La forma precisa de construir listas concisas es como sigue:\n",
    "\n",
    "```python\n",
    "[ expresion for i in S if predicado ]\n",
    "```\n",
    "\n",
    "Donde `expresion` es una expresión que se va a aplicar a cada elemento `i` de la secuencia `S`; opcionalmente, es posible aplicar el `predicado` antes de aplicar la `expresion` a cada elemento `i`.\n",
    "\n",
    "\n"
   ]
  },
  {
   "cell_type": "markdown",
   "metadata": {},
   "source": [
    "<div class=\"alert alert-success\">\n",
    "\n",
    "## Ejemplo 1.\n",
    "    \n",
    "Usando listas concisas, crear el siguiente conjunto:\n",
    "\n",
    "$$\n",
    "M = \\{\\sqrt{x} : x \\in (1,2,3,4,5,6,7,8,9,10) \\;\\; \\text{y} \\;\\; x \\;\\; \\text{es par}\\} = \\{ \\sqrt{2}, \\sqrt{4}, \\sqrt{6}, \\sqrt{8}, \\sqrt{10}) \\}\n",
    "$$\n",
    "\n",
    "</div>"
   ]
  },
  {
   "cell_type": "code",
   "execution_count": null,
   "metadata": {},
   "outputs": [],
   "source": [
    "from math import sqrt\n",
    "\n",
    "M = [sqrt(x) for x in range(1,11) if x % 2 == 0]\n",
    "print(M)"
   ]
  },
  {
   "cell_type": "markdown",
   "metadata": {},
   "source": [
    "En el ejemplo anterior se distingue lo siguiente:\n",
    "\n",
    "1. La secuencia de entrada: `range(1,11)` (`[1, 2, 3, 4, 5, 6, 7, 8, 9, 10]`).\n",
    "\n",
    "2. La etiqueta `i` que representa los miembros de la secuencia de entrada.\n",
    "\n",
    "3. La expresión de predicado: `if x % 2 == 0`.\n",
    "    \n",
    "4. La expresión de salida `sqrt(x)` que produce los elementos de la lista resultado, los cuales provienen de los miembros de la secuencia de entrada que satisfacen el predicado."
   ]
  },
  {
   "cell_type": "markdown",
   "metadata": {},
   "source": [
    "<div class=\"alert alert-success\">\n",
    "\n",
    "## Ejemplo 2.\n",
    "    \n",
    "Obtener todos los enteros de la siguiente lista, elevarlos al cuadrado y poner el resultado en una lista:<br>\n",
    "\n",
    "```python\n",
    "    lista = [1,'4',9,'luiggi',0,4,('mike','dela+')]\n",
    "```\n",
    "\n",
    "</div>"
   ]
  },
  {
   "cell_type": "code",
   "execution_count": null,
   "metadata": {},
   "outputs": [],
   "source": [
    "lista = [1,'4',9,'luiggi',0,4,('mike','dela+')]"
   ]
  },
  {
   "cell_type": "code",
   "execution_count": null,
   "metadata": {},
   "outputs": [],
   "source": [
    "resultado = [x**2 for x in lista if isinstance(x, int)]\n",
    "print( resultado )"
   ]
  },
  {
   "cell_type": "markdown",
   "metadata": {},
   "source": [
    "<div class=\"alert alert-success\">\n",
    "\n",
    "## Ejemplo 3.\n",
    "    \n",
    "Crear la siguiente lista:\n",
    "$$V = (2^0,2^1,2^2, \\dots, 2^{12}) = (1, 2, 4, 8, \\dots, 4096) $$\n",
    "\n",
    "</div>\n"
   ]
  },
  {
   "cell_type": "code",
   "execution_count": null,
   "metadata": {},
   "outputs": [],
   "source": [
    "[2**x for x in range(13)]"
   ]
  },
  {
   "cell_type": "markdown",
   "metadata": {},
   "source": [
    "<div class=\"alert alert-success\">\n",
    "\n",
    "## Ejemplo 4.\n",
    "    \n",
    "Transformar grados Celsius en Fahrenheit y vieceversa.\n",
    "</div>"
   ]
  },
  {
   "cell_type": "markdown",
   "metadata": {},
   "source": [
    "**Celsius $\\to$ Fahrenheit**"
   ]
  },
  {
   "cell_type": "code",
   "execution_count": null,
   "metadata": {},
   "outputs": [],
   "source": [
    "c = [0, 22.5, 40,100]\n",
    "f = [(9/5)*t + 32 for t in c]\n",
    "print(f)"
   ]
  },
  {
   "cell_type": "markdown",
   "metadata": {},
   "source": [
    "**Fahrenheit $\\to$ Celsius**"
   ]
  },
  {
   "cell_type": "code",
   "execution_count": null,
   "metadata": {},
   "outputs": [],
   "source": [
    "cn = [(5/9)*(t - 32) for t in f]\n",
    "print(cn)"
   ]
  },
  {
   "cell_type": "markdown",
   "metadata": {},
   "source": [
    "Observa que en ambos ejemplos la expresión es la fórmula de conversión entre grados."
   ]
  },
  {
   "cell_type": "markdown",
   "metadata": {},
   "source": [
    "# Anidado de listas concisas."
   ]
  },
  {
   "cell_type": "markdown",
   "metadata": {},
   "source": [
    "<div class=\"alert alert-success\">\n",
    "\n",
    "## Ejemplo 5.\n",
    "    \n",
    "Crear la siguiente lista:\n",
    "\n",
    "$$M = \\{\\sqrt{x} \\, |\\, x \\in S \\text{ y } x \\text{ impar }\\}$$\n",
    "\n",
    "con \n",
    "\n",
    "$$S = \\{x^2 : x \\in (0 \\dots 9)\\} = \\{0, 1, 4, \\dots, 81\\}$$\n",
    "\n",
    "</div>"
   ]
  },
  {
   "cell_type": "markdown",
   "metadata": {},
   "source": [
    "Este ejemplo se puede realizar como sigue:"
   ]
  },
  {
   "cell_type": "code",
   "execution_count": null,
   "metadata": {},
   "outputs": [],
   "source": [
    "S = [x**2 for x in range(0,10)]\n",
    "M = [sqrt(x) for x in S if x % 2]\n",
    "print('S = {}'.format(S))\n",
    "print('M = {}'.format(M))"
   ]
  },
  {
   "cell_type": "markdown",
   "metadata": {},
   "source": [
    "Sin embargo, es posible anidar las listas concisas como sigue:"
   ]
  },
  {
   "cell_type": "code",
   "execution_count": null,
   "metadata": {},
   "outputs": [],
   "source": [
    "M = [sqrt(x) for x in [x**2 for x in range(0,10)] if x % 2]\n",
    "print('M = {}'.format(M))"
   ]
  },
  {
   "cell_type": "markdown",
   "metadata": {},
   "source": [
    "\n",
    "<div class=\"alert alert-success\">\n",
    "\n",
    "## Ejemplo 6.\n",
    "\n",
    "Sea una matriz identidad de tamaño $n \\times n$ :<br>\n",
    "\n",
    "$$\n",
    "\\left[\n",
    "\\begin{matrix}\n",
    "1 & 0 & 0 & \\dots & 0 \\\\\n",
    "0 & 1 & 0 & \\dots & 0 \\\\\n",
    "0 & 0 & 1 & \\dots & 0 \\\\\n",
    "\\vdots&\\vdots&\\vdots&\\ddots&\\vdots \\\\\n",
    "0 & 0 & 0 & \\dots & 1 \\\\\n",
    "\\end{matrix}\n",
    "\\right]\n",
    "$$\n",
    "\n",
    "En Python esta matriz se puede representar por la siguiente lista: <br>\n",
    "\n",
    "```python\n",
    "[[1,0,0, ... , 0],\n",
    " [0,1,0, ... , 0],\n",
    " [0,0,1, ... , 0],\n",
    " ................,     \n",
    " [0,0,0, ... , 1]]\n",
    "```\n",
    "\n",
    "- Usando *list comprehensions* anidados se puede obtener dicha lista: <br>\n",
    "\n",
    "</div>"
   ]
  },
  {
   "cell_type": "code",
   "execution_count": null,
   "metadata": {},
   "outputs": [],
   "source": [
    "n = 8\n",
    "[[1 if col == row else 0 for col in range(0,n)] for row in range(0,n)]"
   ]
  },
  {
   "cell_type": "markdown",
   "metadata": {},
   "source": [
    "Observa que en este caso la expresión de salida es una lista concisa: \n",
    "* `[1 if col == row else 0 for col in range(0,n)]` .\n",
    "\n",
    "Además, la expresión de salida de esta última lista concisa es el operador ternario:\n",
    "* `1 if col == row else 0`"
   ]
  },
  {
   "cell_type": "markdown",
   "metadata": {},
   "source": [
    "<div class=\"alert alert-success\">\n",
    "\n",
    "## Ejemplo 7.\n",
    "    \n",
    "Calcular números primos en el rango `[2,50]`.\n",
    "</div>\n"
   ]
  },
  {
   "cell_type": "markdown",
   "metadata": {},
   "source": [
    "En este ejercicio se usa el algoritmo conocido como criba de Eratóstenes. Primero se encuentran todos aquellos números que tengan algún múltiplo. En este caso solo vamos a buscar en el intervalo $[2,50]$. \n",
    "\n",
    "La siguiente lista concisa calcula los múltiplos de `i` (prueba cambiando el valor de `i` a $2,3,4,5,6,7$ y observa el resultado):"
   ]
  },
  {
   "cell_type": "code",
   "execution_count": null,
   "metadata": {},
   "outputs": [],
   "source": [
    "i = 3\n",
    "[j for j in range(i*2, 50, i)]"
   ]
  },
  {
   "cell_type": "markdown",
   "metadata": {},
   "source": [
    "Ahora, para variar el valor de `i` en el conjunto $\\{2,3,4,5,6,7\\}$ con una lista concisa se puede hacer lo siguiente:"
   ]
  },
  {
   "cell_type": "code",
   "execution_count": null,
   "metadata": {},
   "outputs": [],
   "source": [
    "[i for i in range(2,8)]"
   ]
  },
  {
   "cell_type": "markdown",
   "metadata": {},
   "source": [
    "Usando las dos listas concisas creadas antes, generamos todos aquellos números en el intervalo $[2,50]$ que tienen al menos un múltiplo (y que por lo tanto no son primos)"
   ]
  },
  {
   "cell_type": "code",
   "execution_count": null,
   "metadata": {},
   "outputs": [],
   "source": [
    "noprimos = [j for i in range(2,8) for j in range(i*2, 50, i)]\n",
    "print('NO primos: \\n{}'.format(noprimos))"
   ]
  },
  {
   "cell_type": "markdown",
   "metadata": {},
   "source": [
    "Para encontrar los primos usamos una lista concisa verificando los números que faltan en la lista de `noprimos`, esos serán los números primos que estamos buscando:"
   ]
  },
  {
   "cell_type": "code",
   "execution_count": null,
   "metadata": {},
   "outputs": [],
   "source": [
    "primos = [x for x in range(2,50) if x not in noprimos]\n",
    "print('Primos: \\n{}'.format(primos))"
   ]
  },
  {
   "cell_type": "markdown",
   "metadata": {},
   "source": [
    "**Juntando todo**:"
   ]
  },
  {
   "cell_type": "code",
   "execution_count": null,
   "metadata": {},
   "outputs": [],
   "source": [
    "[x for x in range(2,50) if x not in [j for i in range(2,8) for j in range(i*2, 50, i)]]"
   ]
  },
  {
   "cell_type": "markdown",
   "metadata": {},
   "source": [
    "## Listas concisas con elementos no numéricos.\n",
    "Las listas también pueden contener otro tipo de elementos, no solo números. Por ejemplo:"
   ]
  },
  {
   "cell_type": "code",
   "execution_count": null,
   "metadata": {},
   "outputs": [],
   "source": [
    "mensaje = 'La vida no es la que uno vivió, sino la que uno recuerda'"
   ]
  },
  {
   "cell_type": "code",
   "execution_count": null,
   "metadata": {},
   "outputs": [],
   "source": [
    "print(mensaje)"
   ]
  },
  {
   "cell_type": "code",
   "execution_count": null,
   "metadata": {},
   "outputs": [],
   "source": [
    "palabras = mensaje.split()\n",
    "print(palabras,end='')"
   ]
  },
  {
   "cell_type": "markdown",
   "metadata": {},
   "source": [
    "Vamos a crear una lista cuyos elementos contienen cada palabra de la lista anterior en mayúsculas, en forma de título y su longitud, estos tres elementos agregados en una tupla:"
   ]
  },
  {
   "cell_type": "code",
   "execution_count": null,
   "metadata": {},
   "outputs": [],
   "source": [
    "tabla = [(w.upper(), w.title(), len(w)) for w in palabras]\n",
    "print(tabla)"
   ]
  },
  {
   "cell_type": "markdown",
   "metadata": {},
   "source": [
    "# Conjuntos concisos\n",
    "\n",
    "Al igual que las listas concisas, también es posible crear conjuntos usando los mismos principios , la única diferencia es que la secuencia que resulta es un objeto de tipo`set`. <br>\n",
    "\n",
    "**Definición**.\n",
    "\n",
    "```python\n",
    "{expression(variable) for variable in input_set [predicate][, …]}\n",
    "```\n",
    "\n",
    "1. `expression` : Es una expresión **opcional** de salida que produce los miembros del nuevo conjunto a partir de los miembros del conjunto de entrada que satisfacen el `predicate`. <br>\n",
    "\n",
    "2. `variable` : Es una variable **requerida** que representa los miembros del conjunto de entrada. <br>\n",
    "\n",
    "3. `input_set`: Representa la secuencia de entrada. (**requerido**). <br>\n",
    "\n",
    "4. `predicate` : Expresión **opcional** que actúa como un filtro sobre los miembros del conjunto de entrada. <br>\n",
    "\n",
    "5. `[, …]]` : Otra *comprehension* anidada **opcional**.\n"
   ]
  },
  {
   "cell_type": "markdown",
   "metadata": {},
   "source": [
    "<div class=\"alert alert-success\">\n",
    "\n",
    "## Ejemplo 8.\n",
    "    \n",
    "Supongamos que deseamos organizar una lista de nombres de tal manera que no haya repeticiones, que los nombres tengan más de un caracter y que su representación sea con la primera letra mayúscula y las demás minúsculas. Por ejemplo, una lista aceptable sería:\n",
    "\n",
    "```python\n",
    "nombres = ['Luis', 'Juan', 'Angie', 'Pedro', 'María', 'Diana']\n",
    "```\n",
    "\n",
    "* Leer una lista de nombres del archivo `nombres` y procesarlos para obtener una lista similar a la descrita. \n",
    "\n",
    "</div>"
   ]
  },
  {
   "cell_type": "code",
   "execution_count": null,
   "metadata": {},
   "outputs": [],
   "source": [
    "# Abrimos el archivo en modo lectura\n",
    "archivo = open('../datos/nombres','r')\n",
    "\n",
    "# Leemos la lista de nombres y los ponemos en una lista\n",
    "lista_nombres = archivo.read().split()\n",
    "\n",
    "# Vemos la lista de nombres\n",
    "print(lista_nombres)"
   ]
  },
  {
   "cell_type": "code",
   "execution_count": null,
   "metadata": {},
   "outputs": [],
   "source": [
    "# Procesamos las palabras como se requiere\n",
    "nombres_set = {nombre[0].upper() + nombre[1:].lower() \n",
    "               for nombre in lista_nombres \n",
    "               if len(nombre) > 1 }\n",
    "print(nombres_set)"
   ]
  },
  {
   "cell_type": "code",
   "execution_count": null,
   "metadata": {},
   "outputs": [],
   "source": [
    "# Transformamos el conjunto a una lista\n",
    "nombres = list(nombres_set)\n",
    "print(nombres)"
   ]
  },
  {
   "cell_type": "markdown",
   "metadata": {},
   "source": [
    "<div class=\"alert alert-success\">\n",
    "\n",
    "## Ejemplo 9.\n",
    "    \n",
    "Observa los siguientes ejemplos de conjuntos concisos y explica su funcionamiento.\n",
    "\n",
    "</div>\n"
   ]
  },
  {
   "cell_type": "code",
   "execution_count": null,
   "metadata": {},
   "outputs": [],
   "source": [
    "{s for s in [1, 2, 1, 0]}"
   ]
  },
  {
   "cell_type": "code",
   "execution_count": null,
   "metadata": {},
   "outputs": [],
   "source": [
    "{s**2 for s in [1, 2, 1, 0]}"
   ]
  },
  {
   "cell_type": "code",
   "execution_count": null,
   "metadata": {},
   "outputs": [],
   "source": [
    "{s**2 for s in range(10)}"
   ]
  },
  {
   "cell_type": "code",
   "execution_count": null,
   "metadata": {},
   "outputs": [],
   "source": [
    "{s for s in range(10) if s % 2}"
   ]
  },
  {
   "cell_type": "code",
   "execution_count": null,
   "metadata": {},
   "outputs": [],
   "source": [
    "{(m, n) for n in range(2) for m in range(3, 5)}"
   ]
  },
  {
   "cell_type": "markdown",
   "metadata": {},
   "source": [
    "# Diccionarios concisos\n",
    "\n",
    "- Similar a las listas y conjuntos concisos, es posible crear un diccionario de manera concisa.\n",
    "  \n",
    "- Permite transformar un diccionario en otro diccionario.\n",
    "\n",
    "- Durante esta transformación, los objetos dentro del diccionario original pueden ser incluidos o no en el nuevo diccionario dependiendo de una condición. \n",
    "\n",
    "- Cada objeto en el nuevo diccionario puede ser transformado como sea requerido.\n",
    "\n",
    "**Definición**.\n",
    "\n",
    "```python\n",
    "{__:__ for x in secuencia if condición}\n",
    "```\n",
    "\n",
    "```python\n",
    "{key:value for (key,value) in dictonary.items() if condición}\n",
    "```"
   ]
  },
  {
   "cell_type": "code",
   "execution_count": null,
   "metadata": {},
   "outputs": [],
   "source": [
    "{str(x):x for x in range(0,5)}"
   ]
  },
  {
   "cell_type": "code",
   "execution_count": null,
   "metadata": {},
   "outputs": [],
   "source": [
    "{str(x):x for x in range(0,10) if x % 2}"
   ]
  },
  {
   "cell_type": "code",
   "execution_count": null,
   "metadata": {},
   "outputs": [],
   "source": [
    "{str(x):x for x in range(0,10) if not x % 2}"
   ]
  },
  {
   "cell_type": "markdown",
   "metadata": {},
   "source": [
    "<div class=\"alert alert-success\">\n",
    "\n",
    "## Ejemplo 10.\n",
    "    \n",
    "Duplicar el valor (*value*) de cada entrada (*item*) de un diccionario:\n",
    "\n",
    "</div>\n"
   ]
  },
  {
   "cell_type": "markdown",
   "metadata": {},
   "source": [
    "Recuerda como funcionan los diccionarios:"
   ]
  },
  {
   "cell_type": "code",
   "execution_count": null,
   "metadata": {},
   "outputs": [],
   "source": [
    "dicc = {'a': 1, 'b': 2, 'c': 3, 'd': 4}\n",
    "print(dicc.keys())   # Función para obtener las claves\n",
    "print(dicc.values()) # Función para obtener los valores\n",
    "print(dicc.items())  # Función para obtener los items"
   ]
  },
  {
   "cell_type": "markdown",
   "metadata": {},
   "source": [
    "Para crear el diccionario del ejemplo hacemos lo siguiente:"
   ]
  },
  {
   "cell_type": "code",
   "execution_count": null,
   "metadata": {},
   "outputs": [],
   "source": [
    "# Definición del diccionario\n",
    "dicc = {'a': 1, 'b': 2, 'c': 3, 'd': 4, 'e': 5}\n",
    "\n",
    "# Duplicación de los valores del diccionario\n",
    "dicc_doble = {k:v*2 for (k,v) in dicc.items()}\n",
    "\n",
    "# Mostramos el resultado\n",
    "print(dicc)\n",
    "print(dicc_doble)"
   ]
  },
  {
   "cell_type": "markdown",
   "metadata": {},
   "source": [
    "<div class=\"alert alert-success\">\n",
    "\n",
    "## Ejemplo 11.\n",
    "    \n",
    "Duplicar la clave (*key*) de cada entrada (*item*) del diccionario `dicc` del ejemplo anterior:\n",
    "\n",
    "</div>\n"
   ]
  },
  {
   "cell_type": "code",
   "execution_count": null,
   "metadata": {},
   "outputs": [],
   "source": [
    "dict1_keys = {k*2:v for (k,v) in dicc.items()}\n",
    "print(dict1_keys)"
   ]
  },
  {
   "cell_type": "markdown",
   "metadata": {},
   "source": [
    "<div class=\"alert alert-success\">\n",
    "\n",
    "## Ejemplo 12.\n",
    "    \n",
    "Crear un diccionario donde la clave sea un número divisible por 2 en un rango de 0 a 10 y sus valores sean el cuadrado de la clave.\n",
    "</div>\n"
   ]
  },
  {
   "cell_type": "code",
   "execution_count": null,
   "metadata": {},
   "outputs": [],
   "source": [
    "# La forma tradicional\n",
    "dicc = {}\n",
    "\n",
    "for n in range(11):\n",
    "    if n%2==0:\n",
    "        dicc[n] = n**2\n",
    "\n",
    "print(dicc)"
   ]
  },
  {
   "cell_type": "code",
   "execution_count": null,
   "metadata": {},
   "outputs": [],
   "source": [
    "# Usando dict comprehensions\n",
    "dicc_smart = {n:n**2 for n in range(11) if n%2 == 0}\n",
    "\n",
    "print(dicc_smart)"
   ]
  },
  {
   "cell_type": "markdown",
   "metadata": {},
   "source": [
    "<div class=\"alert alert-success\">\n",
    "\n",
    "## Ejemplo 13.\n",
    "    \n",
    "Intercambiar las claves y los valores en un diccionario.\n",
    "</div>\n"
   ]
  },
  {
   "cell_type": "code",
   "execution_count": null,
   "metadata": {},
   "outputs": [],
   "source": [
    "a_dict = {'a': 1, 'b': 2, 'c': 3}\n",
    "print(a_dict)\n",
    "\n",
    "{value:key for key, value in a_dict.items()}"
   ]
  },
  {
   "cell_type": "code",
   "execution_count": null,
   "metadata": {},
   "outputs": [],
   "source": [
    "# OJO: No siempre es posible hacer lo anterior.\n",
    "a_dict = {'a': [1, 2, 3], 'b': 4, 'c': 5}\n",
    "{value:key for key, value in a_dict.items()}"
   ]
  },
  {
   "cell_type": "markdown",
   "metadata": {},
   "source": [
    "<div class=\"alert alert-success\">\n",
    "\n",
    "## Ejemplo 14.\n",
    "    \n",
    "Convertir la siguiente lista de grados Fahrenheit $[32.0, 72.5, 104.0, 212.0]$ a Celsius.\n",
    "</div>"
   ]
  },
  {
   "cell_type": "code",
   "execution_count": null,
   "metadata": {},
   "outputs": [],
   "source": [
    "# Usando map, lambda y diccionarios\n",
    "fahrenheit_dict = {'t1':32.0, 't2':72.5, 't3':104.0, 't4':212.0}\n",
    "\n",
    "celsius = list(map(lambda f: (5/9)*(f-32), fahrenheit_dict.values()))\n",
    "\n",
    "celsius_dict = dict(zip(fahrenheit_dict.keys(), celsius))\n",
    "\n",
    "print(fahrenheit_dict)\n",
    "print(celsius_dict)"
   ]
  },
  {
   "cell_type": "code",
   "execution_count": null,
   "metadata": {},
   "outputs": [],
   "source": [
    "# Usando dict comprehensions !\n",
    "celsius_smart = {k:(5/9)*(v-32) for (k,v) in fahrenheit_dict.items()}\n",
    "print(fahrenheit_dict)\n",
    "print(celsius_smart)"
   ]
  },
  {
   "cell_type": "markdown",
   "metadata": {},
   "source": [
    "<div class=\"alert alert-success\">\n",
    "\n",
    "## Ejemplo 15.\n",
    "    \n",
    "Dado un diccionario, cuyos valores son enteros, crear un nuevo diccionario cuyos valores sean mayores que 2.\n",
    "</div>"
   ]
  },
  {
   "cell_type": "code",
   "execution_count": null,
   "metadata": {},
   "outputs": [],
   "source": [
    "a_dict = {'a':1, 'b':2, 'c':3, 'd':4, 'e':5, 'f':6, 'g':7, 'h':8}\n",
    "print(a_dict)\n",
    "\n",
    "a_dict_cond = { k:v for (k,v) in a_dict.items() if v > 2 }\n",
    "print(a_dict_cond)"
   ]
  },
  {
   "cell_type": "markdown",
   "metadata": {},
   "source": [
    "<div class=\"alert alert-success\">\n",
    "\n",
    "## Ejemplo 16.\n",
    "    \n",
    "Dado un diccionario, cuyos valores son enteros, crear un nuevo diccionario cuyos valores sean mayores que 2 y que además sean pares.\n",
    "</div>"
   ]
  },
  {
   "cell_type": "code",
   "execution_count": null,
   "metadata": {},
   "outputs": [],
   "source": [
    "a_dict_cond2 = { k:v for (k,v) in a_dict.items() if (v > 2) and (v % 2) == 0}\n",
    "print(a_dict_cond2)"
   ]
  },
  {
   "cell_type": "markdown",
   "metadata": {},
   "source": [
    "<div class=\"alert alert-success\">\n",
    "\n",
    "## Ejemplo 17.\n",
    "    \n",
    "Dado un diccionario, cuyos valores son enteros, crear un nuevo diccionario cuyos valores sean mayores que 2 y que además sean pares y divisibles por 3.\n",
    "\n",
    "</div>"
   ]
  },
  {
   "cell_type": "code",
   "execution_count": null,
   "metadata": {},
   "outputs": [],
   "source": [
    "# La forma tradicional\n",
    "a_dict_cond3_loop = {}\n",
    "\n",
    "for (k,v) in a_dict.items():\n",
    "    if (v>=2 and v%2 == 0 and v%3 == 0):\n",
    "        a_dict_cond3_loop[k] = v\n",
    "\n",
    "print(a_dict_cond3_loop)"
   ]
  },
  {
   "cell_type": "code",
   "execution_count": null,
   "metadata": {},
   "outputs": [],
   "source": [
    "# Usando dict comprehensions\n",
    "a_dict_cond3 = {k:v for (k,v) in a_dict.items() if v>2 if v%2 == 0 if v%3 == 0}\n",
    "\n",
    "print(a_dict_cond3)"
   ]
  },
  {
   "cell_type": "markdown",
   "metadata": {},
   "source": [
    "<div class=\"alert alert-success\">\n",
    "\n",
    "## Ejemplo 18.\n",
    "    \n",
    "Apartir de un diccionario con valores enteros, identificar los valores pares y los impares, y sustituir los valores por etiquetas `par` e `impar` segun corresponda.\n",
    "</div>"
   ]
  },
  {
   "cell_type": "code",
   "execution_count": null,
   "metadata": {},
   "outputs": [],
   "source": [
    "print(a_dict)\n",
    "a_dict_else = { k:('par' if v%2==0 else 'impar') for (k,v) in a_dict.items()}\n",
    "print(a_dict_else)"
   ]
  },
  {
   "cell_type": "markdown",
   "metadata": {},
   "source": [
    "<div class=\"alert alert-success\">\n",
    "\n",
    "## Ejemplo 19.\n",
    "\n",
    "Dado el siguiente diccionario:\n",
    "\n",
    "```python\n",
    "adic = {'primero':{'a':1}, 'segundo':{'b':2}, 'tercero':{'c':3}}\n",
    "```\n",
    "\n",
    "Crear el siguiente nuevo diccionario:\n",
    "\n",
    "```python\n",
    "{'primero': {'a': 3.1415}, 'segundo': {'b': 6.283}, 'tercero': {'c': 9.4245}}\n",
    "```\n",
    "\n",
    "Observa que los valores de los diccionarios internos (`3.1415`, `6.283`, `9.4245`) se obtienen múltiplicando $3.1416$ por el valor de cada item de esos diccionarios.\n",
    "</div>\n"
   ]
  },
  {
   "cell_type": "code",
   "execution_count": null,
   "metadata": {},
   "outputs": [],
   "source": [
    "# La forma tradicional sería:\n",
    "adic = {'primero':{'a':1}, 'segundo':{'b':2}, 'tercero':{'c':3}}\n",
    "print(adic)\n",
    "pi = 3.1415\n",
    "\n",
    "for (ek, ev) in adic.items():\n",
    "    for (ik, iv) in ev.items():\n",
    "        ev.update({ik: iv * pi})\n",
    "\n",
    "print(adic)"
   ]
  },
  {
   "cell_type": "code",
   "execution_count": null,
   "metadata": {},
   "outputs": [],
   "source": [
    "# con dict comprehensions\n",
    "adic = {'primero':{'a':1}, 'segundo':{'b':2}, 'tercero':{'c':3}}\n",
    "pi = 3.1415\n",
    "bdic = {e_k:{i_k:i_v*pi for (i_k, i_v) in e_v.items()} for (e_k, e_v) in adic.items()}\n",
    "\n",
    "print(adic)\n",
    "print(bdic)"
   ]
  },
  {
   "cell_type": "markdown",
   "metadata": {},
   "source": [
    "<div class=\"alert alert-success\">\n",
    "\n",
    "## Ejemplo 20.\n",
    "    \n",
    "Es posible usar las listas y diccionarios concisos para revisar la lista de archivos de un directorio y sus características.\n",
    "</div>\n"
   ]
  },
  {
   "cell_type": "code",
   "execution_count": null,
   "metadata": {},
   "outputs": [],
   "source": [
    "import os, glob\n",
    "metadata = [(f, os.stat(f)) for f in glob.glob('*.ipynb')]\n",
    "\n",
    "for i in metadata:\n",
    "    print(i, end=2*'\\n')"
   ]
  },
  {
   "cell_type": "code",
   "execution_count": null,
   "metadata": {},
   "outputs": [],
   "source": [
    "metadata_dict = {f:os.stat(f) for f in glob.glob('*.ipynb')}"
   ]
  },
  {
   "cell_type": "code",
   "execution_count": null,
   "metadata": {},
   "outputs": [],
   "source": [
    "for i in metadata_dict.keys():\n",
    "    print(i)"
   ]
  },
  {
   "cell_type": "code",
   "execution_count": null,
   "metadata": {},
   "outputs": [],
   "source": [
    "for i in metadata_dict.values():\n",
    "    print(i, end=2*'\\n')"
   ]
  },
  {
   "cell_type": "code",
   "execution_count": null,
   "metadata": {},
   "outputs": [],
   "source": [
    "metadata_dict['05_Comprehensions.ipynb'].st_size"
   ]
  },
  {
   "cell_type": "markdown",
   "metadata": {},
   "source": [
    "# Mas ejemplos"
   ]
  },
  {
   "cell_type": "markdown",
   "metadata": {},
   "source": [
    "<div class=\"alert alert-success\">\n",
    "\n",
    "## Ejemplo 20.\n",
    "    \n",
    "Eliminar los números duplicados de la siguiente lista.\n",
    "\n",
    "```python\n",
    "[1, 2, 3, 4, 5, 6, 7, 8, 9, 10, 1, 2, 3, 4, 5]\n",
    "```\n",
    "</div>\n",
    "\n"
   ]
  },
  {
   "cell_type": "code",
   "execution_count": null,
   "metadata": {},
   "outputs": [],
   "source": [
    "numeros = [1, 2, 3, 4, 5, 6, 7, 8, 9, 10, 1, 2, 3, 4, 5]\n",
    "numeros"
   ]
  },
  {
   "cell_type": "code",
   "execution_count": null,
   "metadata": {},
   "outputs": [],
   "source": [
    "# Una manera es:\n",
    "numeros_unicos = []\n",
    "for n in numeros:\n",
    "    if n not in numeros_unicos:\n",
    "        numeros_unicos.append(n)\n",
    "numeros_unicos"
   ]
  },
  {
   "cell_type": "code",
   "execution_count": null,
   "metadata": {},
   "outputs": [],
   "source": [
    "# Otra forma mas pythonica!\n",
    "numeros_unicos_easy = list(set(numeros))\n",
    "numeros_unicos_easy"
   ]
  },
  {
   "cell_type": "markdown",
   "metadata": {},
   "source": [
    "<div class=\"alert alert-success\">\n",
    "\n",
    "## Ejemplo 21.\n",
    "    \n",
    "Eliminar objetos duplicados de una lista de diccionarios.\n",
    "</div>"
   ]
  },
  {
   "cell_type": "code",
   "execution_count": null,
   "metadata": {},
   "outputs": [],
   "source": [
    "datos = [\n",
    "  {'id': 10, 'nombre': 'luis', 'edad':25},\n",
    "  {'id': 11, 'nombre': 'eva', 'edad':34},\n",
    "  {'id': 12, 'nombre': 'gabo', 'edad':53},\n",
    "  {'id': 13, 'nombre': 'rubén', 'edad':27},\n",
    "  {'id': 14, 'nombre': 'juan', 'edad':29},\n",
    "  {'id': 12, 'nombre': 'gabo', 'edad':53},\n",
    "  {'id': 11, 'nombre': 'eva', 'edad':34},\n",
    "  {'id': 12, 'nombre': 'gabo', 'edad':53},\n",
    "  {'id': 13, 'nombre': 'rubén', 'edad':27},\n",
    "  {'id': 14, 'nombre': 'juan', 'edad':29},\n",
    "]\n",
    "\n",
    "print(datos)"
   ]
  },
  {
   "cell_type": "code",
   "execution_count": null,
   "metadata": {},
   "outputs": [],
   "source": [
    "# La forma tradicional\n",
    "objetos_unicos = []\n",
    "for d in datos:\n",
    "    dato_existe = False\n",
    "    for ou in objetos_unicos:\n",
    "        if ou['id'] == d['id']:\n",
    "          dato_existe = True\n",
    "          break\n",
    "    if not dato_existe:\n",
    "        objetos_unicos.append(d)\n",
    "\n",
    "for i in objetos_unicos:\n",
    "    print(i)"
   ]
  },
  {
   "cell_type": "code",
   "execution_count": null,
   "metadata": {},
   "outputs": [],
   "source": [
    "# Una mejor manera.\n",
    "objetos_unicos_easy = { d['id']:d for d in datos }.values()\n",
    "\n",
    "for i in objetos_unicos_easy:\n",
    "    print(i)"
   ]
  },
  {
   "cell_type": "markdown",
   "metadata": {},
   "source": [
    "<div class=\"alert alert-success\">\n",
    "\n",
    "## Ejemplo 22.\n",
    "    \n",
    "Considera el siguiente diccionario:\n",
    "\n",
    "```python\n",
    "mcase = {'z':23, 'a':30, 'b':21, 'A':78, 'Z':4, 'C':43, 'B':89}\n",
    "```\n",
    "\n",
    "- Sumar los valores que corresponden a la misma letra, sin importar si es mayúscula o minúscula.\n",
    "\n",
    "- Construir un diccionario cuyas claves sean solo letras minúsculas y sus valores sean la suma antes calculada.\n",
    "\n",
    "</div>\n",
    "\n"
   ]
  },
  {
   "cell_type": "code",
   "execution_count": null,
   "metadata": {},
   "outputs": [],
   "source": [
    "mcase = {'z':23, 'a':30, 'b':21, 'A':78, 'Z':4, 'C':43, 'B':89}\n",
    "mcase_freq = {k.lower() : \n",
    "              mcase.get(k.lower(), 0) + mcase.get(k.upper(), 0)\n",
    "              for k in mcase.keys()}\n",
    "print(mcase_freq)"
   ]
  },
  {
   "cell_type": "code",
   "execution_count": null,
   "metadata": {},
   "outputs": [],
   "source": []
  }
 ],
 "metadata": {
  "kernelspec": {
   "display_name": "Python 3 (ipykernel)",
   "language": "python",
   "name": "python3"
  },
  "language_info": {
   "codemirror_mode": {
    "name": "ipython",
    "version": 3
   },
   "file_extension": ".py",
   "mimetype": "text/x-python",
   "name": "python",
   "nbconvert_exporter": "python",
   "pygments_lexer": "ipython3",
   "version": "3.11.6"
  }
 },
 "nbformat": 4,
 "nbformat_minor": 4
}
