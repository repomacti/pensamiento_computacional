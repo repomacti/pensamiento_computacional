{
 "cells": [
  {
   "cell_type": "markdown",
   "metadata": {},
   "source": [
    "# Pensamiento Computacional con Python.\n",
    "\n",
    "<p xmlns:cc=\"http://creativecommons.org/ns#\" xmlns:dct=\"http://purl.org/dc/terms/\"><a property=\"dct:title\" rel=\"cc:attributionURL\" href=\"https://github.com/repomacti/pensamiento_computacional\">Pensamiento Computacional a Python</a> by <a rel=\"cc:attributionURL dct:creator\" property=\"cc:attributionName\" href=\"https://gmc.geofisica.unam.mx/luiggi\">Luis Miguel de la Cruz Salas</a> is licensed under <a href=\"https://creativecommons.org/licenses/by-sa/4.0/?ref=chooser-v1\" target=\"_blank\" rel=\"license noopener noreferrer\" style=\"display:inline-block;\">CC BY-SA 4.0<img style=\"height:22px!important;margin-left:3px;vertical-align:text-bottom;\" src=\"https://mirrors.creativecommons.org/presskit/icons/cc.svg?ref=chooser-v1\" alt=\"\"><img style=\"height:22px!important;margin-left:3px;vertical-align:text-bottom;\" src=\"https://mirrors.creativecommons.org/presskit/icons/by.svg?ref=chooser-v1\" alt=\"\"><img style=\"height:22px!important;margin-left:3px;vertical-align:text-bottom;\" src=\"https://mirrors.creativecommons.org/presskit/icons/sa.svg?ref=chooser-v1\" alt=\"\"></a></p> "
   ]
  },
  {
   "cell_type": "markdown",
   "metadata": {},
   "source": [
    "# Gestores de contexto.\n",
    "\n",
    "Los **gestores de contexto** en Python son una manera de gestionar recursos de forma eficiente y segura. \n",
    "\n",
    "Se utilizan junto con la palabra clave `with`, que garantiza que ciertos recursos se inicialicen y liberen correctamente, incluso si ocurre una excepción. \n",
    "\n",
    "Estos recursos pueden incluir archivos, conexiones de red, bloqueos de threads, etc.\n",
    "\n",
    "Por ejemplo:"
   ]
  },
  {
   "cell_type": "code",
   "execution_count": null,
   "metadata": {},
   "outputs": [],
   "source": [
    "with open('contexto_ejemplo', 'w') as archivo_abierto:\n",
    "    archivo_abierto.write('En este ejemplo, todo se realiza con un gestor de contexto.')"
   ]
  },
  {
   "cell_type": "markdown",
   "metadata": {},
   "source": [
    "Lo que realiza la operación anterior es: \n",
    "1. Abre el archivo `contexto_ejemplo`.\n",
    "2. Escribe algo en el archivo,\n",
    "3. Cierra el archivo. Si ocurre algún error mientras se escribe en el archivo, entonces se intenta cerrar el archivo.\n",
    "\n",
    "El código es equivalente a:\n",
    "\n",
    "```python\n",
    "archivo_abierto = open('contexto_ejemplo', 'w')\n",
    "try:\n",
    "    archivo_abierto.write('En este ... contexto!')\n",
    "finally:\n",
    "    archivo_abierto.close()\n",
    "```\n",
    "\n",
    "Es posible implemetar nuestros propios gestores de contexto. Para ello se requiere un conocimiento más profundo de Programación Orientada a Objetos."
   ]
  },
  {
   "cell_type": "markdown",
   "metadata": {},
   "source": [
    "El propósito de un gestor de contexto es asegurarse de que las acciones de \"entrada\" y \"salida\" de un contexto se manejen adecuadamente. El contexto se refiere a cualquier bloque de código que necesita realizar alguna configuración al inicio (como abrir un archivo o adquirir un recurso) y luego limpiar al final (como cerrar el archivo o liberar el recurso).\n",
    "\n",
    "## Ventajas de los gestores de contexto:\n",
    "1. **Código más limpio**: No tienes que preocuparte por cerrar recursos manualmente.\n",
    "2. **Manejo seguro de excepciones**: Incluso si ocurre una excepción dentro del bloque `with`, el recurso se libera correctamente.\n",
    "3. **Legibilidad**: El código es más claro en cuanto a cuándo comienza y termina el uso de un recurso.\n",
    "\n",
    "## ¿Cómo funcionan?\n",
    "\n",
    "Los gestores de contexto implementan los métodos especiales `__enter__` y `__exit__`:\n",
    "- **`__enter__()`**: Este método es llamado al inicio del bloque `with`. Se utiliza para establecer el recurso o la configuración inicial.\n",
    "- **`__exit__(exc_type, exc_value, traceback)`**: Este método es llamado al final del bloque `with`, independientemente de si se produjo una excepción. Se utiliza para liberar o limpiar el recurso."
   ]
  },
  {
   "cell_type": "code",
   "execution_count": null,
   "metadata": {},
   "outputs": [],
   "source": []
  }
 ],
 "metadata": {
  "kernelspec": {
   "display_name": "Python 3 (ipykernel)",
   "language": "python",
   "name": "python3"
  },
  "language_info": {
   "codemirror_mode": {
    "name": "ipython",
    "version": 3
   },
   "file_extension": ".py",
   "mimetype": "text/x-python",
   "name": "python",
   "nbconvert_exporter": "python",
   "pygments_lexer": "ipython3",
   "version": "3.11.6"
  }
 },
 "nbformat": 4,
 "nbformat_minor": 4
}
