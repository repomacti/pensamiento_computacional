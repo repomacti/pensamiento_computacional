{
 "cells": [
  {
   "cell_type": "markdown",
   "metadata": {
    "editable": true,
    "slideshow": {
     "slide_type": ""
    },
    "tags": []
   },
   "source": [
    "# Pensamiento Computacional con Python.\n",
    "\n",
    "<p xmlns:cc=\"http://creativecommons.org/ns#\" xmlns:dct=\"http://purl.org/dc/terms/\"><a property=\"dct:title\" rel=\"cc:attributionURL\" href=\"https://github.com/repomacti/pensamiento_computacional\">Pensamiento Computacional a Python</a> by <a rel=\"cc:attributionURL dct:creator\" property=\"cc:attributionName\" href=\"https://gmc.geofisica.unam.mx/luiggi\">Luis Miguel de la Cruz Salas</a> is licensed under <a href=\"https://creativecommons.org/licenses/by-sa/4.0/?ref=chooser-v1\" target=\"_blank\" rel=\"license noopener noreferrer\" style=\"display:inline-block;\">CC BY-SA 4.0<img style=\"height:22px!important;margin-left:3px;vertical-align:text-bottom;\" src=\"https://mirrors.creativecommons.org/presskit/icons/cc.svg?ref=chooser-v1\" alt=\"\"><img style=\"height:22px!important;margin-left:3px;vertical-align:text-bottom;\" src=\"https://mirrors.creativecommons.org/presskit/icons/by.svg?ref=chooser-v1\" alt=\"\"><img style=\"height:22px!important;margin-left:3px;vertical-align:text-bottom;\" src=\"https://mirrors.creativecommons.org/presskit/icons/sa.svg?ref=chooser-v1\" alt=\"\"></a></p> "
   ]
  },
  {
   "cell_type": "markdown",
   "metadata": {},
   "source": [
    "# Funciones\n",
    "\n",
    "# Definición de funciones\n",
    "\n",
    "* Las funciones son la primera forma de estructurar un programa de manera modular y hacer que sea más fácil de entender, mantener y reutilizar. \n",
    "\n",
    "* Esto nos lleva al paradigma de programación estructurada, junto con las construcciones de control de flujo. \n",
    "\n",
    "* Las funciones en Python son bloques de código reutilizables que realizan una tarea específica. \n",
    "\n",
    "* Las funciones pueden requerir parámetros de entrada, realizar operaciones y devolver un valor de salida.\n",
    "\n",
    "* La sintáxis es la siguiente:\n",
    "\n",
    "```python\n",
    "def nombre_de_la_función(parm1, parm2, ...):\n",
    "    bloque_de_código\n",
    "    return resultado\n",
    "```\n",
    "\n",
    "Una vez definida la función, es posible ejecutarla (hacer una llamada a la función) como sigue:\n",
    "\n",
    "```python\n",
    "nombre_de_la_función(arg1, arg2, ...)\n",
    "```\n",
    "\n",
    "Si existe la declaración `return` dentro de la función, entonces regresa un resultado el cual puede ser asignado a una variable como sigue:\n",
    "\n",
    "```python\n",
    "variable = nombre_de_la_función(arg1, arg2, ...)\n",
    "```\n",
    "\n",
    "Observa que:\n",
    "\n",
    "* El bloque de código de la función y el `return` **deben tener una sangría**. La definición de la función termina cuando termina la sangría.\n",
    "* Los valores `param1`, `param2`, $\\dots$ en la definición de la función representan sus parámetros; los valores `arg1`, `arg2`, $\\dots$ en la ejecución de la función representan los argumentos. Estos términos se explican más adelante.\n",
    "\n",
    "Veamos un ejemplo simple:"
   ]
  },
  {
   "cell_type": "code",
   "execution_count": null,
   "metadata": {},
   "outputs": [],
   "source": [
    "def imprimirSaludo():\n",
    "    saludo = \"Hola mundo desde la función 'imprimirSaludo()'\""
   ]
  },
  {
   "cell_type": "markdown",
   "metadata": {},
   "source": [
    "* La función anterior lleva por nombre `imprimirSaludo`, no requiere de párametros y en el bloque de código solo se define una cadena de nombre `saludo`.\n",
    "\n",
    "* Esta función al ejecutarse no proporcionará ningún resultado debido a que no tiene la declaración `return`, es decir no regresa ningún valor.\n",
    "\n",
    "Veamos:"
   ]
  },
  {
   "cell_type": "code",
   "execution_count": null,
   "metadata": {},
   "outputs": [],
   "source": [
    "imprimirSaludo()"
   ]
  },
  {
   "cell_type": "markdown",
   "metadata": {},
   "source": [
    "Si intentamos asignar la función a un variable obtendremos lo siguiente:"
   ]
  },
  {
   "cell_type": "code",
   "execution_count": null,
   "metadata": {},
   "outputs": [],
   "source": [
    "hola = imprimirSaludo()\n",
    "print(hola)\n",
    "print(type(hola))"
   ]
  },
  {
   "cell_type": "markdown",
   "metadata": {},
   "source": [
    "Observa que la variable `hola` es de tipo `NoneType` que indica la ausencia de un valor. El contenido de `hola` es `None` que significa un valor nulo."
   ]
  },
  {
   "cell_type": "code",
   "execution_count": null,
   "metadata": {},
   "outputs": [],
   "source": [
    "# Verificar si 'hola' es un valor nulo\n",
    "hola is None"
   ]
  },
  {
   "cell_type": "markdown",
   "metadata": {},
   "source": [
    "## Retorno de una función\n",
    "\n",
    "La declaración `return` dentro de una función se utiliza para devolver uno o varios objetos al lugar desde donde se llamó la función. Estos objetos en principio contienen el resultado de las operaciones realizadas por la función. \n",
    "\n",
    "Una vez que Python encuentra una instrucción `return`, sale de la función y devuelve los objetos especificados. \n",
    "\n",
    "Si no hay un valor explícito después de `return`, o si la función no tiene `return`, entonces se devuelve el valor `None` de forma predeterminada.\n",
    "\n",
    "Modifiquemos la función `imprimirSaludo()` como sigue:"
   ]
  },
  {
   "cell_type": "code",
   "execution_count": null,
   "metadata": {},
   "outputs": [],
   "source": [
    "def imprimirSaludo():\n",
    "    return \"Hola mundo desde la función 'imprimirSaludo()'\""
   ]
  },
  {
   "cell_type": "markdown",
   "metadata": {},
   "source": [
    "Ahora la función no contiene bloque de código y solo tiene un `return` y lo que regresa es una cadena. Veamos lo que produce esta función:"
   ]
  },
  {
   "cell_type": "code",
   "execution_count": null,
   "metadata": {},
   "outputs": [],
   "source": [
    "imprimirSaludo()"
   ]
  },
  {
   "cell_type": "markdown",
   "metadata": {},
   "source": [
    "En esta versión, el resultado de ejecutar la función es la cadena que se regresa. Podemos asignarla a una varible e imprimirla como sigue:"
   ]
  },
  {
   "cell_type": "code",
   "execution_count": null,
   "metadata": {},
   "outputs": [],
   "source": [
    "hola = imprimirSaludo()\n",
    "print(hola)\n",
    "print(type(hola))"
   ]
  },
  {
   "cell_type": "markdown",
   "metadata": {},
   "source": [
    "Ahora la variable `hola` está definida con la cadena que regresa la función.\n",
    "\n",
    "## Parámetros y argumentos.\n",
    "\n",
    "* Cuando se define una función, es posible definir también los **parámetros** que recibirá:\n",
    "\n",
    "> Los parámetros son los \"nombres\" que pones en la definición de una función para recibir valores. Son como \"cajas vacías\" esperando ser llenadas cuando ejecutes a la función.\n",
    "\n",
    "* Cuando se ejecuta la función, se pasan los valores `arg1`, `arg2`, `...`, los cuales son los **argumentos** de la ejecución y serán sustituidos en los parámetros de la función.\n",
    "\n",
    "> Los argumentos son los valores reales que pasas a la función cuando la ejecutas. Son los que llenan las \"cajas vacías\" (los parámetros).\n",
    "\n",
    "Modifiquemos ahora la función `imprimirSaludo()` agregando un parámetro que seré el nombre de quien queremos saludar:"
   ]
  },
  {
   "cell_type": "code",
   "execution_count": null,
   "metadata": {},
   "outputs": [],
   "source": [
    "# Se agrega el parámetro 'nombre' \n",
    "def imprimirSaludo(nombre):\n",
    "    return f\"Hola {nombre} desde la función 'imprimirSaludo()'\""
   ]
  },
  {
   "cell_type": "code",
   "execution_count": null,
   "metadata": {},
   "outputs": [],
   "source": [
    "# Se usa el argumento 'Luis' para ejecutar la función\n",
    "imprimirSaludo(\"Luis\") "
   ]
  },
  {
   "cell_type": "markdown",
   "metadata": {
    "editable": true,
    "slideshow": {
     "slide_type": ""
    },
    "tags": []
   },
   "source": [
    "<div class=\"alert alert-success\">\n",
    "\n",
    "## Ejemplo 1.\n",
    "    \n",
    "Escribir una función que calcule y regrese el cuadrado de un número con las siguientes características:\n",
    "* el número lo recibe como parámetro;\n",
    "* el nombre de la función debe ser `squared`.\n",
    "\n",
    "</div>"
   ]
  },
  {
   "cell_type": "code",
   "execution_count": null,
   "metadata": {
    "editable": true,
    "slideshow": {
     "slide_type": ""
    },
    "tags": []
   },
   "outputs": [],
   "source": [
    "def squared(numero):         # Se recibe como parámetro el 'numero'\n",
    "    cuadrado = numero ** 2   # Se calcula el cuadrado del 'numero'\n",
    "    return cuadrado          # Se regresa el resultado"
   ]
  },
  {
   "cell_type": "code",
   "execution_count": null,
   "metadata": {},
   "outputs": [],
   "source": [
    "# Se ejecuta la función con el argumento 2\n",
    "squared(2) "
   ]
  },
  {
   "cell_type": "code",
   "execution_count": null,
   "metadata": {},
   "outputs": [],
   "source": [
    "# Se ejecuta la función con el argumento 3 y el resultado se almacena \n",
    "# en la variable 'resultado'\n",
    "resultado = squared(3)\n",
    "print(resultado)"
   ]
  },
  {
   "cell_type": "markdown",
   "metadata": {},
   "source": [
    "<div class=\"alert alert-success\">\n",
    "\n",
    "## Ejemplo 2.\n",
    "    \n",
    "Escribir una función que calcule el promedio de dos números.\n",
    "* Los dos números se reciben como parámetros.\n",
    "* La función regresa el valor del promedio.\n",
    "\n",
    "</div>"
   ]
  },
  {
   "cell_type": "code",
   "execution_count": null,
   "metadata": {},
   "outputs": [],
   "source": [
    "def promedio(a, b):       # Se reciben dos argumentos 'a' y 'b'\n",
    "    prom = (a + b) / 2.0  # Se calcula el promedio \n",
    "    return prom           # Se regresa el valor del promedio"
   ]
  },
  {
   "cell_type": "code",
   "execution_count": null,
   "metadata": {},
   "outputs": [],
   "source": [
    "promedio(5, 6)"
   ]
  },
  {
   "cell_type": "markdown",
   "metadata": {},
   "source": [
    "<div class=\"alert alert-success\">\n",
    "\n",
    "## Ejemplo 3.\n",
    "    \n",
    "Escribir una función que calcule el promedio de una secuencia de números que recibe como parámetros.\n",
    "</div>\n",
    "\n",
    "Dada la secuencia de números $x_1, x_2, \\dots, x_N$, la fórmula para calcular el promedio es:\n",
    "\n",
    "$$\n",
    "\\bar{X} = \\frac{\\sum_{i=1}^{N} x_i}{N}\n",
    "$$\n",
    "\n",
    "Esta fórmula tiene dos partes:\n",
    "1. La suma de todos los números de la secuencia: $\\sum_{i=1}^{N} x_i$. Esto requiere de definir una variable para almacenar la suma y recorrer la secuencia para sumar cada elemento. El siguiente seudocódigo muestra estas acciones:\n",
    "$$\n",
    "\\begin{array}{lcr}\n",
    "\\mbox{suma} \\leftarrow 0 \\\\\n",
    "\\mbox{FOR} \\;\\; i = 1, \\; N \\\\\n",
    "\\;\\;\\;\\; \\mbox{suma} \\leftarrow \\mbox{suma} + x_i  \\\\\n",
    "\\end{array}\n",
    "$$\n",
    "2. Un vez que se tiene la suma, se debe dividir entre el número total de elementos de la secuencia para obtener el promedio.\n",
    "\n",
    "$$\n",
    "\\mbox{promedio} = \\frac{\\mbox{suma}}{N}\n",
    "$$\n",
    "\n",
    "En Python, el código sería como sigue:"
   ]
  },
  {
   "cell_type": "code",
   "execution_count": null,
   "metadata": {},
   "outputs": [],
   "source": [
    "def promSec(secuencia):  # Se recibe la 'secuencia' como parámetro\n",
    "    suma = 0              # Inicializamos la variable 'suma'\n",
    "    for xi in secuencia:  # Se realiza el ciclo para recorrer la 'secuencia'\n",
    "        suma += xi        # Sumamos los elementos de la secuencia\n",
    "    N = len(secuencia)    # Obtenemos N usando la función len()\n",
    "    prom = suma / N       # Dividimos entre el total de números\n",
    "    return prom           # Regresamos el valor del promedio"
   ]
  },
  {
   "cell_type": "markdown",
   "metadata": {},
   "source": [
    "En Python se tienen varios tipos de secuencias como listas, tuplas, conjuntos, etcétera. \n",
    "\n",
    "Probemos la función con una lista:"
   ]
  },
  {
   "cell_type": "code",
   "execution_count": null,
   "metadata": {},
   "outputs": [],
   "source": [
    "promSec([1,2,3,4,5])"
   ]
  },
  {
   "cell_type": "markdown",
   "metadata": {},
   "source": [
    "Ahora con una tupla:"
   ]
  },
  {
   "cell_type": "code",
   "execution_count": null,
   "metadata": {},
   "outputs": [],
   "source": [
    "promSec((1,2,3,4,5))"
   ]
  },
  {
   "cell_type": "markdown",
   "metadata": {},
   "source": [
    "Generamos una secuencia con la función `range()`:"
   ]
  },
  {
   "cell_type": "code",
   "execution_count": null,
   "metadata": {},
   "outputs": [],
   "source": [
    "promSec(range(1,6))"
   ]
  },
  {
   "cell_type": "markdown",
   "metadata": {},
   "source": [
    "Con un conjunto:"
   ]
  },
  {
   "cell_type": "code",
   "execution_count": null,
   "metadata": {},
   "outputs": [],
   "source": [
    "promSec({1,2,3,4,5})"
   ]
  },
  {
   "cell_type": "markdown",
   "metadata": {},
   "source": [
    "<div class=\"alert alert-success\">\n",
    "\n",
    "## Ejemplo 4.\n",
    "    \n",
    "Los números de Fibonacci, denotados con $F_n$ forman una secuencia tal que cada número es la suma de dos números precedentes e inicia con el 0 y el 1. Matemáticamente se escribe como: \n",
    "\n",
    "$$\n",
    "\\begin{eqnarray}\n",
    "F_0 & = & 0 \\\\\n",
    "F_1 & = & 1 \\\\\n",
    "F_n & = & F_{n − 1} + F_{n − 2} \\;\\;\\; \\text{para} \\; n > 1.\n",
    "\\end{eqnarray}\n",
    "$$\n",
    "La secuencia es entonces: 0 , 1 , 1 , 2 , 3 , 5 , 8 , 13 , 21 , 34 , 55 , 89 , 144 , $\\ldots$\n",
    "\n",
    "</div>"
   ]
  },
  {
   "cell_type": "code",
   "execution_count": null,
   "metadata": {},
   "outputs": [],
   "source": [
    "# La siguiente función calcula la secuencia de Fibonacci\n",
    "def fib(n):         # Se recibe 'n' como parámetro\n",
    "    a, b = 0, 1     # Se inicializan 'a' y 'b'\n",
    "    while a < n:    # Se inicia el ciclo 'while'\n",
    "        print(a, end=',')  # Se imprime el número de Fibonacci 'a'\n",
    "        a, b = b, a+b      # Se actualizan 'a' y 'b'"
   ]
  },
  {
   "cell_type": "markdown",
   "metadata": {},
   "source": [
    "Observa que esta función no regresa ningún valor, solo imprime en pantalla un valor conforme lo calcula."
   ]
  },
  {
   "cell_type": "code",
   "execution_count": null,
   "metadata": {},
   "outputs": [],
   "source": [
    "fib(50) # ejecutamos la función fib con el argumento 10"
   ]
  },
  {
   "cell_type": "markdown",
   "metadata": {},
   "source": [
    "Le podemos poner otro nombre a la función"
   ]
  },
  {
   "cell_type": "code",
   "execution_count": null,
   "metadata": {},
   "outputs": [],
   "source": [
    "Fibonacci = fib"
   ]
  },
  {
   "cell_type": "markdown",
   "metadata": {},
   "source": [
    "Ejecutar la función usando el nuevo nombre:"
   ]
  },
  {
   "cell_type": "code",
   "execution_count": null,
   "metadata": {},
   "outputs": [],
   "source": [
    "Fibonacci(200)"
   ]
  },
  {
   "cell_type": "markdown",
   "metadata": {},
   "source": [
    "Podemos ver el tipo de la función:"
   ]
  },
  {
   "cell_type": "code",
   "execution_count": null,
   "metadata": {},
   "outputs": [],
   "source": [
    "print(type(fib))\n",
    "print(type(Fibonacci))"
   ]
  },
  {
   "cell_type": "markdown",
   "metadata": {},
   "source": [
    "Incluso podemos ver el identificador en memoria de la función:"
   ]
  },
  {
   "cell_type": "code",
   "execution_count": null,
   "metadata": {},
   "outputs": [],
   "source": [
    "print(id(fib))\n",
    "print(id(Fibonacci))"
   ]
  },
  {
   "cell_type": "markdown",
   "metadata": {},
   "source": [
    "Observamos que se puede ejecutar la función `fib()` a través de `Fibonacci()` y que ambos nombres hacen referencia a la misma función."
   ]
  },
  {
   "cell_type": "markdown",
   "metadata": {},
   "source": [
    "<div class=\"alert alert-success\">\n",
    "\n",
    "## Ejemplo 5.\n",
    "\n",
    "Cuando un objeto es lanzado en tiro vertical hacia arriba a una velocidad inicial $v_0$, su posición y velocidad después de un tiempo $t$ se pueden calcular con las siguientes dos fórmulas:\n",
    "\n",
    "$$\n",
    "\\begin{eqnarray}\n",
    "\\text{Posición: } \\; y & = & v_0 t - \\dfrac{g t^2}{2} \\tag{1}\\\\\n",
    "\\text{Velocidad: } \\; v_f & = & v_0 - g t \\tag{2}\n",
    "\\end{eqnarray}\n",
    "$$\n",
    "\n",
    "donde $t$ es el tiempo que ha pasado desde el lanzamiento inicial, $g = 9.81 \\text{ [m/s}^2\\text{]}$ es la aceleración de la gravedad y $v_f$ la velocidad del objeto al tiempo $t$.\n",
    "\n",
    "1. Escribir la función `tiroVertical(t, v0)`:\n",
    "    * Debe recibir como parámetros el tiempo `t` y la velocidad inicial `v0`.\n",
    "    * Debe regresar como resultado la posición $y$ y velocidad $v_f$ en el tiempo `t`, calculadas con las fórmulas $(1)$ y $(2)$.\n",
    "    * Posteriormente evaluar la fórmula para $v_0 = 20 \\text{ [m/s]}$ y $t = 1.0 \\text{ [s]}$.\n",
    "\n",
    "</div>"
   ]
  },
  {
   "cell_type": "code",
   "execution_count": null,
   "metadata": {},
   "outputs": [],
   "source": [
    "def tiroVertical(t, v0):       # Recibe como parámetros el tiempo y la vel. inicial\n",
    "    g = 9.81                    # Aceleración de la gravedad [m/s^2]\n",
    "    y = v0 * t - 0.5 * g * t**2 # Posición\n",
    "    v = v0 - g * t              # Velocidad\n",
    "    return (y, v)               # Regresa la posición [m] y la velocidad [m/s]"
   ]
  },
  {
   "cell_type": "code",
   "execution_count": null,
   "metadata": {},
   "outputs": [],
   "source": [
    "# Evaluamos la función\n",
    "t = 1.0    # [s]\n",
    "v0 = 20.0  # [m/s]\n",
    "\n",
    "tiroVertical(t, v0)"
   ]
  },
  {
   "cell_type": "code",
   "execution_count": null,
   "metadata": {},
   "outputs": [],
   "source": [
    "pos, vel = tiroVertical(t, v0)  # La posición se almacena en pos\n",
    "                                 # La velocidad se almacena en vel \n",
    "# Formateamos la salida con la función str.format():\n",
    "print(\"{:>10s} = {:>5.2f} [m]\".format(\"Posición\", pos))\n",
    "print(\"{:>10s} = {:>5.2f} [m/s]\".format(\"Velocidad\", vel))"
   ]
  },
  {
   "cell_type": "code",
   "execution_count": null,
   "metadata": {},
   "outputs": [],
   "source": [
    "# Almacenamos el resultado en una tupla 'res'\n",
    "res = tiroVertical(t, v0)  # La variable 'res' será una tupla.\n",
    "\n",
    "# Formateamos la salida con la función str.format():\n",
    "print(\"Tipo de la variable 'res':\", type(res))\n",
    "print(\"{:>10s} = {:>5.2f} [m]\".format(\"Posición\", res[0]))\n",
    "print(\"{:>10s} = {:>5.2f} [m/s]\".format(\"Velocidad\", res[1]))"
   ]
  },
  {
   "cell_type": "markdown",
   "metadata": {},
   "source": [
    "<div class=\"alert alert-success\">\n",
    "\n",
    "2. Determinar el tiempo $t_{ymax}$ en que la velocidad $v_f$ del objeto se hace cero (punto más alto) y con este tiempo volver a calcular la posición y la velocidad.\n",
    "\n",
    "**Solución**.\n",
    "Dado que $v_f = 0$, de la ecuación $(2)$ obtenemos: $t_{ymax} = \\dfrac{v_0}{g}$. \n",
    "\n",
    "Calculemos $t_{ymax}$, la posición y la velocidad:\n",
    "\n",
    "</div>"
   ]
  },
  {
   "cell_type": "code",
   "execution_count": null,
   "metadata": {},
   "outputs": [],
   "source": [
    "g = 9.81  # Aceleración de la gravedad [m/s^2]\n",
    "\n",
    "t_ymax = v0 / g \n",
    "\n",
    "res = tiroVertical(t_ymax, v0)\n",
    "\n",
    "print(\"{:>10s} = {:>11.8f} [s]\".format(\"t_ymax\", t_ymax))\n",
    "print(\"{:>10s} = {:>5.2f} [m]\".format(\"Posición\", res[0]))\n",
    "print(\"{:>10s} = {:>5.2f} [m/s]\".format(\"Velocidad\", res[1]))"
   ]
  },
  {
   "cell_type": "markdown",
   "metadata": {},
   "source": [
    "<div class=\"alert alert-success\">\n",
    "\n",
    "3. Calcular la posición y la velocidad en los tiempos $\\{t| t = t_{ymax}+i*\\delta\\}$, con $i$ un número entero en el rango $[-10, 10]$ y $\\delta = 0.01$. Almacenar los tiempos, las posiciones y las velocidades así calculadas en las listas: `t_l`, `y_l` y `v_l`.\n",
    "\n",
    "</div>"
   ]
  },
  {
   "cell_type": "code",
   "execution_count": null,
   "metadata": {},
   "outputs": [],
   "source": [
    "# Primero generamos la lista de tiempos\n",
    "delta = 0.01\n",
    "t_l = []\n",
    "\n",
    "for i in range(-10,11):\n",
    "    t_l.append(t_ymax + i*delta)\n",
    "print(t_l, len(t_l))"
   ]
  },
  {
   "cell_type": "code",
   "execution_count": null,
   "metadata": {},
   "outputs": [],
   "source": [
    "# Ahora calculamos las posiciones y velocidades\n",
    "y_l = []\n",
    "v_l = []\n",
    "\n",
    "for i, v in enumerate(range(-10,11)):\n",
    "    pos, vel = tiroVertical(t_l[i], v0)\n",
    "    y_l.append(pos)\n",
    "    v_l.append(abs(vel))\n",
    "    \n",
    "print(\"tiempos : \\n{}\".format(t_l))\n",
    "print(\"\\nposiciones: \\n{}\".format(y_l))\n",
    "print(\"\\nvelocidades: \\n{}\".format(v_l))"
   ]
  },
  {
   "cell_type": "markdown",
   "metadata": {},
   "source": [
    "<div class=\"alert alert-success\">\n",
    "\n",
    "4. Graficar las posiciones.\n",
    "\n",
    "</div>"
   ]
  },
  {
   "cell_type": "code",
   "execution_count": null,
   "metadata": {},
   "outputs": [],
   "source": [
    "import numpy as np\n",
    "import matplotlib.pyplot as plt\n",
    "import macti.visual as mvis\n",
    "\n",
    "ceros = np.zeros(len(y_l))\n",
    "plt.scatter(ceros, y_l)\n",
    "plt.grid()\n",
    "plt.show()"
   ]
  },
  {
   "cell_type": "code",
   "execution_count": null,
   "metadata": {},
   "outputs": [],
   "source": [
    "# Graficamos hacia arriba y hacia abajo con colores\n",
    "# diferentes y el punto máximo con rojo.\n",
    "ceros = np.zeros(len(y_l[:10]))\n",
    "\n",
    "# Hacia arriba\n",
    "plt.scatter(ceros-0.15, y_l[:10], c='grey')\n",
    "\n",
    "# Punto más alto\n",
    "plt.scatter([0], y_l[10], c='r')\n",
    "\n",
    "# Hacia abajo\n",
    "plt.scatter(ceros+0.15, y_l[11:])\n",
    "\n",
    "plt.xlim(-10,10)\n",
    "plt.xticks([])\n",
    "plt.ylabel('$y$ [m]')\n",
    "plt.grid()\n",
    "plt.show()"
   ]
  },
  {
   "cell_type": "markdown",
   "metadata": {},
   "source": [
    "# Argumentos por omisión\n",
    "\n",
    "Los parámetros de una función pueden tener valores (argumentos) por omisión, es decir, si no se da un valor para uno de los parámetros, entonces se toma el valor definido por omisión. Esto crea una función que se puede llamar con menos argumentos de los que está definida inicialmente. "
   ]
  },
  {
   "cell_type": "markdown",
   "metadata": {},
   "source": [
    "<div class=\"alert alert-success\">\n",
    "\n",
    "## Ejemplo 6.\n",
    "\n",
    "Modificar la función `tiroVertical()` de tal manera que el segundo parámetro, la velocidad inicial $v_0$, tome el valor por omisión de $20 \\text{ [m/s]}$.\n",
    "\n",
    "</div>"
   ]
  },
  {
   "cell_type": "code",
   "execution_count": null,
   "metadata": {},
   "outputs": [],
   "source": [
    "def tiroVertical(t, v0 = 20):  # Valor por omisión para v0\n",
    "    g = 9.81                    # Aceleración de la gravedad [m/s^2]\n",
    "    y = v0 * t - 0.5 * g * t**2 # Posición\n",
    "    v = v0 - g * t              # Velocidad\n",
    "    return (y, v)               # Regresa la posición [m] y la velocidad [m/s]"
   ]
  },
  {
   "cell_type": "code",
   "execution_count": null,
   "metadata": {},
   "outputs": [],
   "source": [
    "pos, vel = tiroVertical(1.0) # El valor 1.0 corresponde al primer parámetro de la función, 't'\n",
    "                              # En este caso v0 será igual a 20.\n",
    "\n",
    "print(\"{:>10s} = {:>5.2f} [m]\".format(\"Posición\", pos))\n",
    "print(\"{:>10s} = {:>5.2f} [m/s]\".format(\"Velocidad\", vel))"
   ]
  },
  {
   "cell_type": "code",
   "execution_count": null,
   "metadata": {},
   "outputs": [],
   "source": [
    "pos, vel = tiroVertical(1.0, 30) # En este caso v0 = 30\n",
    "\n",
    "print(\"{:>10s} = {:>5.2f} [m]\".format(\"Posición\", pos))\n",
    "print(\"{:>10s} = {:>5.2f} [m/s]\".format(\"Velocidad\", vel))"
   ]
  },
  {
   "cell_type": "markdown",
   "metadata": {},
   "source": [
    "* Una función puede tener más de un argumento por omisión. \n",
    "\n",
    "* Todos los parámetros que tienen argumentos por omisión deben estar al final de la lista en la declaración de la función.\n",
    "\n",
    "Por ejemplo:"
   ]
  },
  {
   "cell_type": "code",
   "execution_count": null,
   "metadata": {},
   "outputs": [],
   "source": [
    "def f(a,b,c,d=10,e=20):\n",
    "    return a+b+c+d+e"
   ]
  },
  {
   "cell_type": "code",
   "execution_count": null,
   "metadata": {},
   "outputs": [],
   "source": [
    "print(f(1,2,3))  # Se usan los dos argumentos por omisión 10 y 20"
   ]
  },
  {
   "cell_type": "code",
   "execution_count": null,
   "metadata": {},
   "outputs": [],
   "source": [
    "print(f(1,2,3,4)) # Se usa el último argumento por omisión 20"
   ]
  },
  {
   "cell_type": "code",
   "execution_count": null,
   "metadata": {},
   "outputs": [],
   "source": [
    "print(f(1,2,3,4,5)) # Se dan todos los argumentos."
   ]
  },
  {
   "cell_type": "markdown",
   "metadata": {},
   "source": [
    "# Argumentos posicionales y con nombre.\n",
    "Un **argumento** es el valor que se le pasa a una función cuando se llama. Hay dos tipos de argumentos:\n",
    "\n",
    "***Argumento posicional (positional)*** :\n",
    "\n",
    "1. Un argumento que no es precedido por un identificador: `tiroVertical(3, 50)`\n",
    "    \n",
    "2. Un argumento que es pasado en una tupla precedido por `*`: `tiroVertical(*(3, 50))`.\n",
    "\n",
    "  En este caso, el `*` indica a Python que la tupla `(3, 50)` debe desempacarse cuando se reciba en la función, de tal manera que `3` será el primer argumento y `5` el segundo.\n",
    "  \n",
    "***Argumento con nombre (keyword)*** :\n",
    "\n",
    "3. Un argumento precedido por un identificador. `tiroVertical(t=3, v0=50)`\n",
    "    \n",
    "4. Un argumento que se pasa en un diccionario precedido por `**`:`tiroVertical(**{'t': 3, 'v0': 50})`.\n",
    "\n",
    "  En este caso, el `**` indica a Python que el diccionario `{'t': 3, 'v0': 50}` debe desempacarse cuando se reciba en la función. Observa que el diccionario contiene dos pares clave-valor: `'t': 3` y `'v0': 50`. \n",
    "\n",
    "Veamos los ejemplos en código:\n",
    "\n",
    "Primer recordemos que la firma de la función es `def tiroVertical(t, v0 = 20):` es decir, el primer parámetro es `t` y el segundo `v0`."
   ]
  },
  {
   "cell_type": "code",
   "execution_count": null,
   "metadata": {},
   "outputs": [],
   "source": [
    "# Los argumentos se sustituyen en los parámetros \n",
    "# en el orden de acuerdo con su posición.\n",
    "tiroVertical(3,50)"
   ]
  },
  {
   "cell_type": "code",
   "execution_count": null,
   "metadata": {},
   "outputs": [],
   "source": [
    "# Se pueden pasar los argumentos empacados en una tupla\n",
    "tiroVertical(*(3,50))"
   ]
  },
  {
   "cell_type": "code",
   "execution_count": null,
   "metadata": {},
   "outputs": [],
   "source": [
    "# Se puede usar el nombre del parámetro para determinar\n",
    "# como se sustituyen los argumentos:\n",
    "tiroVertical(t=3, v0=50)"
   ]
  },
  {
   "cell_type": "code",
   "execution_count": null,
   "metadata": {},
   "outputs": [],
   "source": [
    "# Lo anterior es equivalente a:\n",
    "tiroVertical(v0=50, t=3)"
   ]
  },
  {
   "cell_type": "code",
   "execution_count": null,
   "metadata": {},
   "outputs": [],
   "source": [
    "# Se pueden pasar los argumentos empacados en un diccionario\n",
    "tiroVertical(**{'t':3,'v0':50})"
   ]
  },
  {
   "cell_type": "code",
   "execution_count": null,
   "metadata": {},
   "outputs": [],
   "source": [
    "# También se acepta esta forma:\n",
    "tiroVertical(**dict(t = 3,v0 = 50))"
   ]
  },
  {
   "cell_type": "markdown",
   "metadata": {},
   "source": [
    "# Número variable de parámetros\n",
    "\n",
    "Dada la funcionalidad descrita en la sección anterior, es posible que una función reciba un número variable de argumentos. Estos argumentos se pueden definir de la siguiente manera\n",
    "\n",
    "* `*args`: número variable de *positional arguments* empacados en una tupla\n",
    "* `*kwargs`: número variable de *keyword arguments* empacados en un diccionario\n",
    "\n",
    "Por ejemplo:"
   ]
  },
  {
   "cell_type": "code",
   "execution_count": null,
   "metadata": {},
   "outputs": [],
   "source": [
    "def parVar(*args, **kwargs):\n",
    "    print('args es una tupla : ', args)\n",
    "    print('kwargs es un diccionario: ', kwargs)"
   ]
  },
  {
   "cell_type": "code",
   "execution_count": null,
   "metadata": {},
   "outputs": [],
   "source": [
    "parVar('one', 'two','three', 'four', \n",
    "       a=4,  x=1, y=2, z=3, w=[1,2,2])"
   ]
  },
  {
   "cell_type": "code",
   "execution_count": null,
   "metadata": {},
   "outputs": [],
   "source": [
    "parVar(1, 2, 3, \n",
    "       w=8, y='cadena')"
   ]
  },
  {
   "cell_type": "markdown",
   "metadata": {},
   "source": [
    "Estos argumentos los podemos desempacar y usar dentro de la función:"
   ]
  },
  {
   "cell_type": "code",
   "execution_count": null,
   "metadata": {},
   "outputs": [],
   "source": [
    "# Desempacar los parámetros posicionales y usarlos\n",
    "def parVarPos(*args):\n",
    "    for i in args:\n",
    "        print(i)"
   ]
  },
  {
   "cell_type": "code",
   "execution_count": null,
   "metadata": {},
   "outputs": [],
   "source": [
    "parVarPos(1, 2, 'a', [1,2,3])"
   ]
  },
  {
   "cell_type": "code",
   "execution_count": null,
   "metadata": {},
   "outputs": [],
   "source": [
    "parVarPos(3.1416, 'b', 5+3j)"
   ]
  },
  {
   "cell_type": "code",
   "execution_count": null,
   "metadata": {},
   "outputs": [],
   "source": [
    "# Desempacar los parámetros con nombre y usarlos\n",
    "def parVarKey(**kwargs):\n",
    "    for key, val in kwargs.items():\n",
    "        print(f\" {key} : {val}\")"
   ]
  },
  {
   "cell_type": "code",
   "execution_count": null,
   "metadata": {},
   "outputs": [],
   "source": [
    "parVarKey(nombre = 'Luis', \n",
    "          apellido = 'de la Cruz', \n",
    "          edad = 15, \n",
    "          peso = 80.5 )"
   ]
  },
  {
   "cell_type": "code",
   "execution_count": null,
   "metadata": {},
   "outputs": [],
   "source": [
    "parVarKey(nombre = 'Luis', \n",
    "          apellido='de la Cruz', \n",
    "          estudios='primaria', \n",
    "          edad=15, \n",
    "          peso=80.5, \n",
    "          num_cuenta = 12334457 )"
   ]
  },
  {
   "cell_type": "code",
   "execution_count": null,
   "metadata": {},
   "outputs": [],
   "source": [
    "# Se pueden definir los parámetros en una tupla y en un diccionario\n",
    "mi_tupla = (2.345, \"hola\", 1e-4)\n",
    "mi_dicc = {'nombre':'Luis', \n",
    "           'apellido':'de la Cruz', \n",
    "           'edad':15, \n",
    "           'peso':80.5}"
   ]
  },
  {
   "cell_type": "code",
   "execution_count": null,
   "metadata": {},
   "outputs": [],
   "source": [
    "# Se usa el diccionario para llamar a la función\n",
    "parVarPos(*mi_tupla)"
   ]
  },
  {
   "cell_type": "code",
   "execution_count": null,
   "metadata": {},
   "outputs": [],
   "source": [
    "parVarKey(**mi_dicc)"
   ]
  },
  {
   "cell_type": "markdown",
   "metadata": {},
   "source": [
    "# Funciones como parámetros de otras funciones.\n",
    "\n",
    "Las funciones pueden recibir como argumentos objetos muy complejos, incluso otras funciones. Veamos un ejemplo simple:"
   ]
  },
  {
   "cell_type": "code",
   "execution_count": null,
   "metadata": {},
   "outputs": [],
   "source": [
    "# Un función simple\n",
    "def g():\n",
    "    print(\"Iniciando la función 'g()'\")\n",
    "\n",
    "# Una función que recibe otra función:\n",
    "def func1(f):\n",
    "    print(\"Iniciando la función 'func1()'\")\n",
    "    print(\"Ejecución de la función 'f()', nombre real '\" + f.__name__ + \"()'\")\n",
    "    f() # Se ejecuta la función que se recibió en el parámetro f"
   ]
  },
  {
   "cell_type": "code",
   "execution_count": null,
   "metadata": {},
   "outputs": [],
   "source": [
    "func1(g)"
   ]
  },
  {
   "cell_type": "markdown",
   "metadata": {},
   "source": [
    "La función que se recibe como parámetro puede tener argumentos:"
   ]
  },
  {
   "cell_type": "code",
   "execution_count": null,
   "metadata": {},
   "outputs": [],
   "source": [
    "# Función que suma dos números\n",
    "def suma(a, b):\n",
    "    return a + b\n",
    "\n",
    "# Función que resta dos números\n",
    "def resta(a, b):\n",
    "    return a - b\n",
    "\n",
    "# Una función que recibe otra función y dos parámetros adicionales\n",
    "def func2(f, a, b):\n",
    "    print(\"Iniciando la función 'func2()'\")\n",
    "    print(f\"Operador: {f.__name__}\")\n",
    "    print(f\"Argumentos: ({a}, {b})\")\n",
    "    print(f\"Resultado: {f(a,b)}\") "
   ]
  },
  {
   "cell_type": "code",
   "execution_count": null,
   "metadata": {},
   "outputs": [],
   "source": [
    "func2(suma, 3, 4)"
   ]
  },
  {
   "cell_type": "code",
   "execution_count": null,
   "metadata": {},
   "outputs": [],
   "source": [
    "func2(resta, 6, 7)"
   ]
  },
  {
   "cell_type": "markdown",
   "metadata": {},
   "source": [
    "<div class=\"alert alert-success\">\n",
    "\n",
    "## Ejemplo 7. Integración numérica.\n",
    "\n",
    "En este ejemplo el objetivo es crear un función que reciba como argumentos la funcióm matemática a integrar, los límites de integración y el número de puntos para realizar la integración. Debe regresar como resultado un número que es la aproximación de la integral.\n",
    "\n",
    "</div>"
   ]
  },
  {
   "cell_type": "code",
   "execution_count": null,
   "metadata": {},
   "outputs": [],
   "source": [
    "import math\n",
    "\n",
    "def integra(f, a, b, N):\n",
    "    # Se utiliza el método de Simpson para la integración.\n",
    "    # El parámetro 'f' es la función a integrar\n",
    "    print(f\"Integral de la función '{f.__name__}()'\")\n",
    "    print(f\"Límites de integración: [{a},{b}]\")\n",
    "    print(f\"Aproximación con el método de Simpson usando {N} puntos\")\n",
    "\n",
    "    # Implementación del método de integración\n",
    "    h = (b - a) / N\n",
    "    resultado = 0\n",
    "    x = [a + h*i for i in range(N+1)]\n",
    "    for xi in x:\n",
    "        resultado += f(xi) * h\n",
    "\n",
    "    return resultado"
   ]
  },
  {
   "cell_type": "code",
   "execution_count": null,
   "metadata": {},
   "outputs": [],
   "source": [
    "# Integral de la función sin() de la biblioteca math.\n",
    "print(\"Resultado :\", integra(math.sin, 0, math.pi, 100))"
   ]
  },
  {
   "cell_type": "code",
   "execution_count": null,
   "metadata": {},
   "outputs": [],
   "source": [
    "# Integral de la función cos() de la biblioteca math.\n",
    "res = integra(math.cos, -0.5 * math.pi, 0.5 * math.pi, 50)\n",
    "print(f\"Resultado: {res}\")"
   ]
  },
  {
   "cell_type": "markdown",
   "metadata": {},
   "source": [
    "# Funciones que regresan otra función.\n",
    "\n",
    "Como vimos antes, una función puede regresar un objeto de cualquier tipo, incluyendo una función. Veamos un ejemplo:"
   ]
  },
  {
   "cell_type": "code",
   "execution_count": null,
   "metadata": {},
   "outputs": [],
   "source": [
    "# La funcionPadre() regresa como resultado una función \n",
    "# la cual está definida dentro de funcionPadre().\n",
    "def funcionPadre(n):\n",
    "\n",
    "    # Se define la función 1\n",
    "    def funcionHijo1():\n",
    "        return \"funcionHijo1(): n = {}\".format(n)\n",
    "\n",
    "    # Se define la función 2\n",
    "    def funcionHijo2():\n",
    "        return \"funcionHijo2(): n = {}\".format(n)\n",
    "\n",
    "    # Se determina la función que se va a regresar\n",
    "    if n == 10:\n",
    "        return funcionHijo1\n",
    "    else:\n",
    "        return funcionHijo2"
   ]
  },
  {
   "cell_type": "code",
   "execution_count": null,
   "metadata": {},
   "outputs": [],
   "source": [
    "funcionPadre(36)"
   ]
  },
  {
   "cell_type": "code",
   "execution_count": null,
   "metadata": {},
   "outputs": [],
   "source": [
    "# Asignamos el resultado de la funcion_padre() a un nombre\n",
    "f1 = funcionPadre(10)\n",
    "f2 = funcionPadre(36)"
   ]
  },
  {
   "cell_type": "code",
   "execution_count": null,
   "metadata": {},
   "outputs": [],
   "source": [
    "print(f1()) # Resultado de la funcionf1(), generada con la funcionPadre()\n",
    "print(f2()) # Resultado de la funcionf2(), generada con la funcionPadre()"
   ]
  },
  {
   "cell_type": "markdown",
   "metadata": {},
   "source": [
    "<div class=\"alert alert-success\">\n",
    "\n",
    "## Ejemplo 8. Polinomios de segundo grado.\n",
    "\n",
    "Implementar una fábrica de polinomios de segundo grado: \n",
    "\n",
    "$$\n",
    "p(x) = a x^2 + b x + c\n",
    "$$\n",
    "\n",
    "Verificar el funcionamiento para los polinomios: \n",
    "* $p_1(x) = 2x^2 + 3x - 1$.\n",
    "* $p_2(x) = -x^2 + 2x + 1$.\n",
    "</div>"
   ]
  },
  {
   "cell_type": "code",
   "execution_count": null,
   "metadata": {},
   "outputs": [],
   "source": [
    "def polinomio(a, b, c):\n",
    "    \"\"\"\n",
    "    Esta función recibe los coeficientes del polinomio\n",
    "    y regresa una función que calcula el polinomio de\n",
    "    segundo grado.\n",
    "    \"\"\"\n",
    "    def segundoGrado(x):\n",
    "        \"\"\"\n",
    "        Calcula el polinomio de segundo grado para el valor de x\n",
    "        \"\"\"\n",
    "        return a * x**2 + b * x + c\n",
    "    \n",
    "    return segundoGrado"
   ]
  },
  {
   "cell_type": "code",
   "execution_count": null,
   "metadata": {},
   "outputs": [],
   "source": [
    "p1 = polinomio(5, -3, 4)\n",
    "\n",
    "print(p1(5.6))"
   ]
  },
  {
   "cell_type": "code",
   "execution_count": null,
   "metadata": {},
   "outputs": [],
   "source": [
    "# Dos polinomios de segundo grado\n",
    "p1 = polinomio(2, 3, -1) # 2x^2 + 3x - 1\n",
    "p2 = polinomio(-1, 2, 1) # -x^2 + 2x + 1\n",
    "\n",
    "# Evaluación de los polinomios en el intervalo (-2,2) con pasos de 1\n",
    "for x in range(-2, 2, 1):\n",
    "    print(f'x = {x:3d} \\t p1(x) = {p1(x):3d} \\t p2(x) = {p2(x):3d}')"
   ]
  },
  {
   "cell_type": "markdown",
   "metadata": {},
   "source": [
    "<div class=\"alert alert-success\">\n",
    "\n",
    "## Ejemplo 9. \n",
    "\n",
    "Graficar polinomios de segundo grado generados en el ejemplo 8 en el intervalo $[-10, 10]$.\n",
    "\n",
    "</div>"
   ]
  },
  {
   "cell_type": "code",
   "execution_count": null,
   "metadata": {},
   "outputs": [],
   "source": [
    "x = []\n",
    "p1_v = []\n",
    "p2_v = []\n",
    "for xi in range(-10, 11):\n",
    "    x.append(xi)\n",
    "    p1_v.append(p1(xi))\n",
    "    p2_v.append(p2(xi))\n",
    "\n",
    "plt.plot(x, p1_v, label=\"$p_1(x)$\")\n",
    "plt.plot(x, p2_v, label=\"$p_2(x)$\")\n",
    "plt.grid()\n",
    "plt.legend(loc=\"upper center\")\n",
    "plt.show()"
   ]
  },
  {
   "cell_type": "markdown",
   "metadata": {},
   "source": [
    "<div class=\"alert alert-success\">\n",
    "\n",
    "## Ejemplo 10. Polinomios de cualquier grado.\n",
    "\n",
    "Implementar una fábrica de polinomios de cualquier grado: \n",
    "\n",
    "$$\n",
    "\\sum\\limits_{k=0}^{n} a_k x^k = a_n x^n + a_{n-1} x^{n-1} + \\dots + a_1 x + a_0 \n",
    "$$\n",
    "\n",
    "Probar con los siguientes polinomios:\n",
    "* $p_0(x) = 5$\n",
    "* $p_1(x) = 4 x + 2$\n",
    "* $p_2(x) = x^2 + 2x - 1$\n",
    "* $p_3(x) = x^3 - x^2 + 3x$\n",
    "\n",
    "Graficar los polinomios como en el ejemplo 9.\n",
    "\n",
    "</div>\n"
   ]
  },
  {
   "cell_type": "code",
   "execution_count": null,
   "metadata": {},
   "outputs": [],
   "source": [
    "def polFactory(*coeficientes):\n",
    "    \"\"\"\n",
    "    Esta función construye y evalúa polinomios \n",
    "    de cualquier grado.\n",
    "\n",
    "    Parameters\n",
    "    ----------\n",
    "    *coeficientes: coeficientes del polinomio a_n, a_{n-1}, ..., a_0\n",
    "    para construir el polinomio.\n",
    "\n",
    "    Return\n",
    "    ------\n",
    "    Función que implementa el polinomio.\n",
    "    \"\"\"\n",
    "    \n",
    "    def polinomio(x):\n",
    "        \"\"\"\n",
    "        Función que implementa el polinomio y lo evalúa.\n",
    "\n",
    "        Parameters\n",
    "        ----------\n",
    "        x: valor para evaluar el polinomio.\n",
    "\n",
    "        Return\n",
    "        ------\n",
    "        Resultado de evaluación del polinomio en 'x'\n",
    "        \"\"\"\n",
    "        res = 0\n",
    "        for i, coef in enumerate(coeficientes):\n",
    "            res += coef * x ** i\n",
    "        return res\n",
    "    \n",
    "    return polinomio"
   ]
  },
  {
   "cell_type": "code",
   "execution_count": null,
   "metadata": {},
   "outputs": [],
   "source": [
    "p1 = polFactory(5)\n",
    "p2 = polFactory(1,2,3,4)\n",
    "\n",
    "print(p1(3.1416))\n",
    "print(p2(-3.1416))"
   ]
  },
  {
   "cell_type": "code",
   "execution_count": null,
   "metadata": {},
   "outputs": [],
   "source": [
    "# Se generan 4 polinomios de diferente grado\n",
    "p0 = polFactory(5)           # 5.0\n",
    "p1 = polFactory(2, 4)        # 4 x + 2\n",
    "p2 = polFactory(-1, 2, 1)    # x^2 + 2x - 1\n",
    "p3 = polFactory(0, 3, -1, 1) # x^3 - x^2 + 3x + 0\n",
    "\n",
    "# Evaluación de los polinomios en el intervalo (-2,2) con pasos de 1\n",
    "for x in range(-2, 2):\n",
    "    print(f'x = {x:3d} \\t p0(x) = {p0(x):3d} \\t p1(x) = {p1(x):3d} \\t p2(x) = {p2(x):3d} \\t p3(x) = {p3(x):3d}')"
   ]
  },
  {
   "cell_type": "code",
   "execution_count": null,
   "metadata": {},
   "outputs": [],
   "source": [
    "# Graficación\n",
    "x = []\n",
    "p0_v = []\n",
    "p1_v = []\n",
    "p2_v = []\n",
    "p3_v = []\n",
    "\n",
    "for xi in range(-10, 11):\n",
    "    x.append(xi)\n",
    "    p0_v.append(p0(xi))\n",
    "    p1_v.append(p1(xi))\n",
    "    p2_v.append(p2(xi))\n",
    "    p3_v.append(p3(xi))\n",
    "\n",
    "plt.plot(x, p0_v, label=\"$p_0(x)$\")\n",
    "plt.plot(x, p1_v, label=\"$p_1(x)$\")\n",
    "plt.plot(x, p2_v, label=\"$p_2(x)$\")\n",
    "plt.plot(x, p3_v, label=\"$p_3(x)$\")\n",
    "#plt.ylim(-200,200)\n",
    "plt.grid()\n",
    "plt.legend(loc=\"upper center\", ncol=2)\n",
    "plt.show()"
   ]
  },
  {
   "cell_type": "markdown",
   "metadata": {},
   "source": [
    "# Ámbitos\n",
    "\n",
    "Algunos lenguajes como Python usan ámbitos (en algunos casos denominado alcance) para definir variables (aunque también funciones y clases) de tal manera que solo se puedan acceder desde cierto lugar y no desde todas las bicaciones de un programa. \n",
    "\n",
    "En este caso, la capacidad para acceder a un nombre (de variable, función o clase) dependerá de dónde haya definido ese nombre."
   ]
  },
  {
   "cell_type": "markdown",
   "metadata": {},
   "source": [
    "## Local\n",
    "Las funciones (y otros operadores también), crean su propio ámbito local (*scope*)."
   ]
  },
  {
   "cell_type": "code",
   "execution_count": null,
   "metadata": {},
   "outputs": [],
   "source": [
    "def actualizaEdad():\n",
    "    edad = 21 # Variable local\n",
    "    print(\"Ámbito de la función 'actualizaEdad()'\")\n",
    "    print(\"edad =\", edad, \", id(edad) =\", id(edad))\n",
    "\n",
    "# Ejecuto la función\n",
    "actualizaEdad()"
   ]
  },
  {
   "cell_type": "code",
   "execution_count": null,
   "metadata": {},
   "outputs": [],
   "source": [
    "# ¿Se puede acceder al valor de 'edad' fuera de la función?\n",
    "print(\"Ámbito global: edad =\", edad, \", id(edad) =\", id(edad))"
   ]
  },
  {
   "cell_type": "markdown",
   "metadata": {},
   "source": [
    "Se obtiene un error, pues `edad` solo está definida dentro del ámbito local de la función `actualizaEdad()`.\n"
   ]
  },
  {
   "cell_type": "markdown",
   "metadata": {},
   "source": [
    "## Global\n",
    "\n",
    "El ámbito global es el alcance más alto en un programa, script o módulo de Python. Este ámbito de Python contiene todos los nombres que se definen en el nivel superior de un programa o módulo. \n",
    "\n",
    "Los nombres en este ámbito son visibles desde cualquier lugar del programa.\n"
   ]
  },
  {
   "cell_type": "code",
   "execution_count": null,
   "metadata": {},
   "outputs": [],
   "source": [
    "# Variable creada en el ámbito global\n",
    "edad = 25"
   ]
  },
  {
   "cell_type": "code",
   "execution_count": null,
   "metadata": {},
   "outputs": [],
   "source": [
    "print(\"Ámbito global: edad =\", edad, \", id(edad) =\", id(edad))"
   ]
  },
  {
   "cell_type": "markdown",
   "metadata": {},
   "source": [
    "¿Qué pasa si ejectuamos nuevamente la función `actualizaEdad()`?"
   ]
  },
  {
   "cell_type": "code",
   "execution_count": null,
   "metadata": {},
   "outputs": [],
   "source": [
    "actualizaEdad()"
   ]
  },
  {
   "cell_type": "markdown",
   "metadata": {},
   "source": [
    "Observa que se usa la variable edad definida dentro de la función y es diferente a la variable `edad` definida en el ámbito global.\n",
    "\n",
    "Supongamos que deseamos incrementar el valor de  de la variable global `edad` dentro de la función `actualizaEdad()` como sigue:"
   ]
  },
  {
   "cell_type": "code",
   "execution_count": null,
   "metadata": {},
   "outputs": [],
   "source": [
    "edad = 25\n",
    "\n",
    "def actualizaEdad():\n",
    "    edad += 1\n",
    "    return edad\n",
    "\n",
    "actualizaEdad()"
   ]
  },
  {
   "cell_type": "markdown",
   "metadata": {},
   "source": [
    "Observa que se genera un error de tipo `UnboundLocalError` porque se está intentando acceder a un nombre que aún no está definido en el ámbito local de la función.\n",
    "\n",
    "Entonces, para hacer referencia a la variable global `edad` y modificarla dentro de la función, debes usar la declaración `global`:"
   ]
  },
  {
   "cell_type": "code",
   "execution_count": null,
   "metadata": {},
   "outputs": [],
   "source": [
    "edad = 25\n",
    "\n",
    "def actualizaEdad():\n",
    "    global edad\n",
    "    edad += 1\n",
    "    return edad\n",
    "\n",
    "actualizaEdad()"
   ]
  },
  {
   "cell_type": "markdown",
   "metadata": {},
   "source": [
    "Aunque lo anterior funciona correctamente, no es recomendable usar esta solución, pues puede tener efectos no deseables. \n",
    "\n",
    "Una mejor solución sería la siguiente:"
   ]
  },
  {
   "cell_type": "code",
   "execution_count": null,
   "metadata": {},
   "outputs": [],
   "source": [
    "edad = 25\n",
    "\n",
    "def actualizaEdad(e):\n",
    "    return e + 1\n",
    "\n",
    "edad = actualizaEdad(edad)\n",
    "\n",
    "print(edad)"
   ]
  },
  {
   "cell_type": "markdown",
   "metadata": {},
   "source": [
    "## Enclosing (*nonlocal*) \n",
    "\n",
    "El ámbito *enclosing* es un alcance especial que solo existe para funciones anidadas. "
   ]
  },
  {
   "cell_type": "code",
   "execution_count": null,
   "metadata": {},
   "outputs": [],
   "source": [
    "def datosPersonales():\n",
    "    edad = 25\n",
    "\n",
    "    def actualizaEdad():\n",
    "        print(edad)\n",
    "\n",
    "    actualizaEdad()\n",
    "\n",
    "datosPersonales()"
   ]
  },
  {
   "cell_type": "markdown",
   "metadata": {},
   "source": [
    "Es posible acceder a las variables definidas en el ámbito de la función `datosPersonales()` (*Enclosing scope*) desde funciones internas o anidadas como `actualizaEdad()`.\n",
    "\n",
    "Pero no es posible modificar las variables, checa el siguiente código:"
   ]
  },
  {
   "cell_type": "code",
   "execution_count": null,
   "metadata": {},
   "outputs": [],
   "source": [
    "def datosPersonales():\n",
    "    edad = 25\n",
    "\n",
    "    def actualizaEdad():\n",
    "        edad += 1\n",
    "        return edad\n",
    "\n",
    "    actualizaEdad()\n",
    "\n",
    "    return edad\n",
    "\n",
    "datosPersonales()"
   ]
  },
  {
   "cell_type": "markdown",
   "metadata": {},
   "source": [
    "Observa que se obtiene otro error de tipo `UnboundLocalError`, pues estamos intentando actualiza la variable `edad` definida en el ámbito de la función `datosPersonales()`. \n",
    "\n",
    "Para resolver este problema podemos usar la declaración `nonlocal`:"
   ]
  },
  {
   "cell_type": "code",
   "execution_count": null,
   "metadata": {},
   "outputs": [],
   "source": [
    "def datosPersonales():\n",
    "    edad = 25\n",
    "\n",
    "    def actualizaEdad():\n",
    "        nonlocal edad\n",
    "        edad += 1\n",
    "        return edad\n",
    "\n",
    "    actualizaEdad()\n",
    "\n",
    "    return edad\n",
    "\n",
    "datosPersonales()"
   ]
  },
  {
   "cell_type": "markdown",
   "metadata": {},
   "source": [
    "## Built-in\n",
    "\n",
    "Es un ámbito especial de Python que se crea cada vez que se ejecuta un código o se abre una sesión interactiva. \n",
    "\n",
    "Este ámbito contiene nombres como palabras clave, funciones, excepciones y otros atributos incorporados en Python. \n",
    "\n",
    "Los nombres en este ámbito están disponibles en todas partes del código."
   ]
  },
  {
   "cell_type": "markdown",
   "metadata": {},
   "source": [
    "# Documentación con *docstring*\n",
    "\n",
    "Python ofrece dos tipos básicos de comentarios para documentar el código:\n",
    "\n",
    "1. Lineal.<br>\n",
    "Este tipo de comentarios se llevan a cabo utilizando el símbolo especial `#`. El intérprete de Python sabrá que todo lo que sigue delante de este símbolo es un comentario y por lo tanto no se toma en cuenta en la ejecución:\n",
    "\n",
    "```python\n",
    "a = 10 # Este es un comentario\n",
    "\n",
    "```\n",
    "\n",
    "2. Docstrings<br>\n",
    "En programación, un *docstring* es una cadena de caracteres embedidas en el código fuente, similares a un comentario, para documentar un segmento de código específico. A diferencia de los comentarios tradicionales, las docstrings no se quitan del código cuando es analizado, sino que son retenidas a través de la ejecución del programa. Esto permite al programador inspeccionar esos comentarios en tiempo de ejecución, por ejemplo como un sistema de ayuda interactivo o como metadatos. En Python se utilizan las triples comillas para definir un *docstring*.\n",
    "\n",
    "```python\n",
    "def funcion(x):\n",
    "    '''\n",
    "    Esta es una descripción de la función ...\n",
    "    '''\n",
    "    \n",
    "def foo(y):\n",
    "    \"\"\"\n",
    "    También de esta manera se puede definir una docstring\n",
    "    \"\"\"\n",
    "   \n",
    "```\n"
   ]
  },
  {
   "cell_type": "code",
   "execution_count": null,
   "metadata": {},
   "outputs": [],
   "source": [
    "def suma(a,b):\n",
    "    '''\n",
    "    Esta función calcula  la suma de los parámetros a y b. \n",
    "    Regresa el resultado de la suma\n",
    "    '''\n",
    "    return a + b"
   ]
  },
  {
   "cell_type": "code",
   "execution_count": null,
   "metadata": {},
   "outputs": [],
   "source": [
    "suma"
   ]
  },
  {
   "cell_type": "code",
   "execution_count": null,
   "metadata": {},
   "outputs": [],
   "source": [
    "# En numpy se usa la siguiente definición de docstrings\n",
    "def suma(a,b):\n",
    "    '''\n",
    "    Calcula la suma de los dos parámetros a y b.\n",
    "    \n",
    "    Args: \n",
    "        a: int Numero a sumar\n",
    "        b: int Numero a sumar\n",
    "    Return:\n",
    "        c: int Suma del numero a y b\n",
    "    '''\n",
    "    c = a + b\n",
    "    return c"
   ]
  },
  {
   "cell_type": "code",
   "execution_count": null,
   "metadata": {},
   "outputs": [],
   "source": [
    "suma"
   ]
  },
  {
   "cell_type": "markdown",
   "metadata": {},
   "source": [
    "Existen diferentes estilos de documentación tipo *docstring* vease por ejemplo: [Numpy](https://numpydoc.readthedocs.io/en/latest/format.html), [Matplotlib](https://matplotlib.org/devdocs/devel/document.html#example-docstring).\n",
    "\n",
    "Para más información véase [PEP 257 – Docstring Conventions](https://peps.python.org/pep-0257/) y [PEP 8 – Style Guide for Python Code](https://peps.python.org/pep-0008/).\n"
   ]
  },
  {
   "cell_type": "code",
   "execution_count": null,
   "metadata": {},
   "outputs": [],
   "source": []
  }
 ],
 "metadata": {
  "kernelspec": {
   "display_name": "Python 3 (ipykernel)",
   "language": "python",
   "name": "python3"
  },
  "language_info": {
   "codemirror_mode": {
    "name": "ipython",
    "version": 3
   },
   "file_extension": ".py",
   "mimetype": "text/x-python",
   "name": "python",
   "nbconvert_exporter": "python",
   "pygments_lexer": "ipython3",
   "version": "3.11.6"
  }
 },
 "nbformat": 4,
 "nbformat_minor": 4
}
