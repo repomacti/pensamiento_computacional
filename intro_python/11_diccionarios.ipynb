{
 "cells": [
  {
   "cell_type": "markdown",
   "metadata": {},
   "source": [
    "# Estructura de datos: diccionarios\n",
    "\n",
    "**Objetivo.**\n",
    "Describir la estructura de datos `dict` mediante la exposición de ejemplos.\n",
    "\n",
    "<p xmlns:cc=\"http://creativecommons.org/ns#\" xmlns:dct=\"http://purl.org/dc/terms/\"><a property=\"dct:title\" rel=\"cc:attributionURL\" href=\"https://github.com/repomacti/pensamiento_computacional\">Pensamiento Computacional a Python</a> by <a rel=\"cc:attributionURL dct:creator\" property=\"cc:attributionName\" href=\"https://gmc.geofisica.unam.mx/luiggi\">Luis Miguel de la Cruz Salas</a> is licensed under <a href=\"https://creativecommons.org/licenses/by-sa/4.0/?ref=chooser-v1\" target=\"_blank\" rel=\"license noopener noreferrer\" style=\"display:inline-block;\">CC BY-SA 4.0<img style=\"height:22px!important;margin-left:3px;vertical-align:text-bottom;\" src=\"https://mirrors.creativecommons.org/presskit/icons/cc.svg?ref=chooser-v1\" alt=\"\"><img style=\"height:22px!important;margin-left:3px;vertical-align:text-bottom;\" src=\"https://mirrors.creativecommons.org/presskit/icons/by.svg?ref=chooser-v1\" alt=\"\"><img style=\"height:22px!important;margin-left:3px;vertical-align:text-bottom;\" src=\"https://mirrors.creativecommons.org/presskit/icons/sa.svg?ref=chooser-v1\" alt=\"\"></a></p> "
   ]
  },
  {
   "cell_type": "markdown",
   "metadata": {},
   "source": [
    "# Introducción\n",
    "\n",
    "La siguiente tabla resume los cuatro tipos de *colecciones* que se tienen en Python:\n",
    "\n",
    "|Tipo|Ordenada|Inmutable|Indexable|Duplicidad|\n",
    "|-:|:-:|:-:|:-:|:-:|\n",
    "|List |SI|NO|SI|SI|\n",
    "|Tuple|SI|SI|SI|SI|\n",
    "|Sets |NO|NO|NO|NO|\n",
    "|Dict |NO|NO|SI|NO|\n"
   ]
  },
  {
   "cell_type": "markdown",
   "metadata": {},
   "source": [
    "# Diccionarios\n",
    "\n",
    "* Consisten en una secuencia **NO ordenada** y **mutable**.\n",
    "* **NO** permite miembros duplicados.\n",
    "* Cada elemento de un diccionario contiene una clave y un valor.\n",
    "* Los elementos de los diccionarios se pueden indexar a través de las claves.\n",
    "* Los diccionarios se definen usando llaves `{}`, `:` para separar la clave del valor y `,` para separar sus elementos."
   ]
  },
  {
   "cell_type": "markdown",
   "metadata": {},
   "source": [
    "<div class=\"alert alert-success\">\n",
    "\n",
    "## Ejemplo 1.\n",
    "    \n",
    "Un diccionario se puede crear de tres maneras diferentes:\n",
    "\n",
    "1. Dando los pares `key:value` separados por `,`:\n",
    "```python\n",
    "d1 = {'Luis':20, 'Miguel':25, 'Pedro':31, 'Pablo':12}\n",
    "```\n",
    "\n",
    "2. Usando el constructor `dict()` y dando los pares `key = value` separados por `,`:\n",
    "```python\n",
    "d2 = dict(Luis=20, Miguel=25, Pedro=31, Pablo=12)\n",
    "```\n",
    "\n",
    "3. Usando el constructor `dict()` y dando una lista de tuplas `(key, value)` separadas por `,`:\n",
    "```python\n",
    "d3 = dict([('Luis', 20), \n",
    "           ('Miguel', 25), \n",
    "           ('Pedro', 31), \n",
    "           ('Pablo', 12)])\n",
    "```\n",
    "\n",
    "Los tres diccionarios así creados, `d1`, `d2` y `d3`, son equivalentes y contienen la misma información.\n",
    "\n",
    "</div>"
   ]
  },
  {
   "cell_type": "code",
   "execution_count": null,
   "metadata": {
    "tags": []
   },
   "outputs": [],
   "source": [
    "d1 = {'Luis':20, 'Miguel':25, 'Pedro':31, 'Pablo':12}\n",
    "d2 = dict(Luis=20, Miguel=25, Pedro=31, Pablo=12)\n",
    "d3 = dict([('Luis', 20), \n",
    "           ('Miguel', 25), \n",
    "           ('Pedro', 31), \n",
    "           ('Pablo', 12)])"
   ]
  },
  {
   "cell_type": "code",
   "execution_count": null,
   "metadata": {
    "tags": []
   },
   "outputs": [],
   "source": [
    "print(d1)\n",
    "print(d2)\n",
    "print(d3)"
   ]
  },
  {
   "cell_type": "markdown",
   "metadata": {},
   "source": [
    "Los tres diccionarios son objetos diferentes:"
   ]
  },
  {
   "cell_type": "code",
   "execution_count": null,
   "metadata": {},
   "outputs": [],
   "source": [
    "print(type(d1), id(d1))\n",
    "print(type(d2), id(d2))\n",
    "print(type(d3), id(d3))"
   ]
  },
  {
   "cell_type": "markdown",
   "metadata": {},
   "source": [
    "# Indexado mediante la clave\n",
    "\n",
    "Los diccionarios se pueden indexar usando las claves de los elementos, por ejemplo:"
   ]
  },
  {
   "cell_type": "code",
   "execution_count": null,
   "metadata": {
    "tags": []
   },
   "outputs": [],
   "source": [
    "print(d1['Luis'])\n",
    "print(d1['Pedro'])"
   ]
  },
  {
   "cell_type": "markdown",
   "metadata": {},
   "source": [
    "Se puede modificar un valor de un cierto elemento:"
   ]
  },
  {
   "cell_type": "code",
   "execution_count": null,
   "metadata": {
    "tags": []
   },
   "outputs": [],
   "source": [
    "print(d1)\n",
    "d1['Luis'] = 53\n",
    "print(d1)"
   ]
  },
  {
   "cell_type": "markdown",
   "metadata": {},
   "source": [
    "Cuando el elemento con la clave que se proporciona no existe, entonces se agrega un nuevo elemento:"
   ]
  },
  {
   "cell_type": "code",
   "execution_count": null,
   "metadata": {},
   "outputs": [],
   "source": [
    "d1['fulano'] = 15\n",
    "print(d1)"
   ]
  },
  {
   "cell_type": "markdown",
   "metadata": {},
   "source": [
    "# Métodos de los diccionarios (comportamiento).\n",
    "\n",
    "En términos de Programación Orientada a Objetos, la clase `<class 'dict'>` define una serie de métodos que se pueden aplicar sobre los objetos del tipo `dict`. Veamos algunos ejemplos:"
   ]
  },
  {
   "cell_type": "markdown",
   "metadata": {},
   "source": [
    "* Obtener todos los elementos del diccionario."
   ]
  },
  {
   "cell_type": "code",
   "execution_count": null,
   "metadata": {},
   "outputs": [],
   "source": [
    "d1.items() "
   ]
  },
  {
   "cell_type": "markdown",
   "metadata": {},
   "source": [
    "* Obtener todas las claves de los elementos del diccionario."
   ]
  },
  {
   "cell_type": "code",
   "execution_count": null,
   "metadata": {},
   "outputs": [],
   "source": [
    "d1.keys() "
   ]
  },
  {
   "cell_type": "markdown",
   "metadata": {},
   "source": [
    "* Obtener todos los valores de los elementos del diccionario."
   ]
  },
  {
   "cell_type": "code",
   "execution_count": null,
   "metadata": {},
   "outputs": [],
   "source": [
    "d1.values() "
   ]
  },
  {
   "cell_type": "markdown",
   "metadata": {},
   "source": [
    "* Obtener el valor del elemento cuya clave es `'Luis'`."
   ]
  },
  {
   "cell_type": "code",
   "execution_count": null,
   "metadata": {},
   "outputs": [],
   "source": [
    "d1.get('Luis') "
   ]
  },
  {
   "cell_type": "markdown",
   "metadata": {},
   "source": [
    "* Agregar un diccionario en otro."
   ]
  },
  {
   "cell_type": "code",
   "execution_count": null,
   "metadata": {
    "tags": []
   },
   "outputs": [],
   "source": [
    "d4 = {'Azul':35, 'Cereza':45}\n",
    "d1.update(d4) # Agregamos el diccionario d4 al diccionario d1\n",
    "print(d1)"
   ]
  },
  {
   "cell_type": "markdown",
   "metadata": {},
   "source": [
    "* Si los elementos ya existen, solo se actualizan los valores."
   ]
  },
  {
   "cell_type": "code",
   "execution_count": null,
   "metadata": {
    "tags": []
   },
   "outputs": [],
   "source": [
    "d5 = {'Luis':512, 'fulano':10}\n",
    "d1.update(d5)\n",
    "print(d1)"
   ]
  },
  {
   "cell_type": "markdown",
   "metadata": {},
   "source": [
    "* Sacar el último elemento del diccionario."
   ]
  },
  {
   "cell_type": "code",
   "execution_count": null,
   "metadata": {},
   "outputs": [],
   "source": [
    "print(d1.popitem()) \n",
    "print(d1)"
   ]
  },
  {
   "cell_type": "markdown",
   "metadata": {},
   "source": [
    "* Sacar el elemento de clave `'Miguel'` e imprimir el valor."
   ]
  },
  {
   "cell_type": "code",
   "execution_count": null,
   "metadata": {},
   "outputs": [],
   "source": [
    "print(d1.pop('Miguel')) \n",
    "print(d1)"
   ]
  },
  {
   "cell_type": "markdown",
   "metadata": {},
   "source": [
    "* Eliminar todos los elementos del diccionario."
   ]
  },
  {
   "cell_type": "code",
   "execution_count": null,
   "metadata": {},
   "outputs": [],
   "source": [
    "print(d1, id(d1)) # Antes de eliminar los elementos\n",
    "d1.clear() # elimina todos los elementos del diccionario\n",
    "print(d1, id(d1)) # Después de eliminar los elementos"
   ]
  },
  {
   "cell_type": "markdown",
   "metadata": {},
   "source": [
    "# Operaciones y funciones sobre diccionarios.\n",
    "\n",
    "* Imprimimos el diccionario `d2`."
   ]
  },
  {
   "cell_type": "code",
   "execution_count": null,
   "metadata": {},
   "outputs": [],
   "source": [
    "print(d2)"
   ]
  },
  {
   "cell_type": "markdown",
   "metadata": {},
   "source": [
    "* Es posible usar las características de los diccionarios para imprimir la salida."
   ]
  },
  {
   "cell_type": "code",
   "execution_count": null,
   "metadata": {},
   "outputs": [],
   "source": [
    "# Usando la clave y cadenas formateadas\n",
    "print(f\"Luis:{d2['Luis']}, Miguel:{d2['Miguel']}\")"
   ]
  },
  {
   "cell_type": "code",
   "execution_count": null,
   "metadata": {},
   "outputs": [],
   "source": [
    "# Usando la clave, el método str.format() y pasando el diccionario como argumento\n",
    "print(\"Luis:{d[Luis]}, Miguel:{d[Miguel]}\".format(d = d2))"
   ]
  },
  {
   "cell_type": "code",
   "execution_count": null,
   "metadata": {},
   "outputs": [],
   "source": [
    "# Una forma más clara y concisa:\n",
    "print(\"Luis:{Luis}, Miguel:{Miguel}\".format(**d2))"
   ]
  },
  {
   "cell_type": "markdown",
   "metadata": {},
   "source": [
    "* ¿Existe el elemento `'Miguel'` en el diccionario?"
   ]
  },
  {
   "cell_type": "code",
   "execution_count": null,
   "metadata": {
    "tags": []
   },
   "outputs": [],
   "source": [
    "'Miguel' in d2"
   ]
  },
  {
   "cell_type": "markdown",
   "metadata": {},
   "source": [
    "* ¿Existe el valor `25` en los valores del diccionario?"
   ]
  },
  {
   "cell_type": "code",
   "execution_count": null,
   "metadata": {
    "tags": []
   },
   "outputs": [],
   "source": [
    "25 in d2.values()"
   ]
  },
  {
   "cell_type": "markdown",
   "metadata": {},
   "source": [
    "* ¿Existe la clave `'Luis'` en las claves del diccionario?"
   ]
  },
  {
   "cell_type": "code",
   "execution_count": null,
   "metadata": {
    "tags": []
   },
   "outputs": [],
   "source": [
    "'Luis' in d2.keys()"
   ]
  },
  {
   "cell_type": "markdown",
   "metadata": {
    "tags": []
   },
   "source": [
    "* Algunas funciones comunes:"
   ]
  },
  {
   "cell_type": "code",
   "execution_count": null,
   "metadata": {},
   "outputs": [],
   "source": [
    "print(len(d2))\n",
    "print(max(d2))\n",
    "print(min(d2))\n",
    "print(all(d2))\n",
    "print(any(d2))\n",
    "print(sorted(d2))\n",
    "\n",
    "# Suma de los valores del diccionario\n",
    "print(sum(list(d2.values())))"
   ]
  },
  {
   "cell_type": "markdown",
   "metadata": {},
   "source": [
    "* Eliminar el elemento `'Miguel':25`"
   ]
  },
  {
   "cell_type": "code",
   "execution_count": null,
   "metadata": {},
   "outputs": [],
   "source": [
    "del d2['Miguel'] \n",
    "print(d2)"
   ]
  },
  {
   "cell_type": "markdown",
   "metadata": {},
   "source": [
    "## Copiando diccionarios"
   ]
  },
  {
   "cell_type": "code",
   "execution_count": null,
   "metadata": {
    "tags": []
   },
   "outputs": [],
   "source": [
    "print(d3)"
   ]
  },
  {
   "cell_type": "markdown",
   "metadata": {},
   "source": [
    "### Copiando con el método `copy()`"
   ]
  },
  {
   "cell_type": "code",
   "execution_count": null,
   "metadata": {
    "tags": []
   },
   "outputs": [],
   "source": [
    "d3_copia = d3.copy()\n",
    "\n",
    "print(d3, type(d3), id(d3))\n",
    "print(d3_copia, type(d3_copia), id(d3_copia))"
   ]
  },
  {
   "cell_type": "markdown",
   "metadata": {},
   "source": [
    "### Copiando con la biblioteca `copy()`"
   ]
  },
  {
   "cell_type": "code",
   "execution_count": null,
   "metadata": {
    "tags": []
   },
   "outputs": [],
   "source": [
    "import copy\n",
    "d3_copia = copy.copy(d3)\n",
    "\n",
    "print(d3, type(d3), id(d3))\n",
    "print(d3_copia, type(d3_copia), id(d3_copia))"
   ]
  }
 ],
 "metadata": {
  "kernelspec": {
   "display_name": "Python 3 (ipykernel)",
   "language": "python",
   "name": "python3"
  },
  "language_info": {
   "codemirror_mode": {
    "name": "ipython",
    "version": 3
   },
   "file_extension": ".py",
   "mimetype": "text/x-python",
   "name": "python",
   "nbconvert_exporter": "python",
   "pygments_lexer": "ipython3",
   "version": "3.11.6"
  }
 },
 "nbformat": 4,
 "nbformat_minor": 4
}
