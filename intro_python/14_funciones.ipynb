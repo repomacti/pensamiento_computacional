{
 "cells": [
  {
   "cell_type": "markdown",
   "metadata": {},
   "source": [
    "# Funciones y docstring.\n",
    "\n",
    "**Objetivo.**\n",
    "Hacer una descripción básica de las funciones y su uso mediante algunos ejemplos.\n",
    "\n",
    "<p xmlns:cc=\"http://creativecommons.org/ns#\" xmlns:dct=\"http://purl.org/dc/terms/\"><a property=\"dct:title\" rel=\"cc:attributionURL\" href=\"https://github.com/repomacti/pensamiento_computacional\">Pensamiento Computacional a Python</a> by <a rel=\"cc:attributionURL dct:creator\" property=\"cc:attributionName\" href=\"https://gmc.geofisica.unam.mx/luiggi\">Luis Miguel de la Cruz Salas</a> is licensed under <a href=\"https://creativecommons.org/licenses/by-sa/4.0/?ref=chooser-v1\" target=\"_blank\" rel=\"license noopener noreferrer\" style=\"display:inline-block;\">CC BY-SA 4.0<img style=\"height:22px!important;margin-left:3px;vertical-align:text-bottom;\" src=\"https://mirrors.creativecommons.org/presskit/icons/cc.svg?ref=chooser-v1\" alt=\"\"><img style=\"height:22px!important;margin-left:3px;vertical-align:text-bottom;\" src=\"https://mirrors.creativecommons.org/presskit/icons/by.svg?ref=chooser-v1\" alt=\"\"><img style=\"height:22px!important;margin-left:3px;vertical-align:text-bottom;\" src=\"https://mirrors.creativecommons.org/presskit/icons/sa.svg?ref=chooser-v1\" alt=\"\"></a></p> "
   ]
  },
  {
   "cell_type": "markdown",
   "metadata": {},
   "source": [
    "# Definición de funciones\n",
    "\n",
    "* Las funciones son la primera forma de estructurar un programa de manera modular y hacer que sea más fácil de entender, mantener y reutilizar. \n",
    "\n",
    "* Esto nos lleva al paradigma de programación estructurada, junto con las construcciones de control de flujo. \n",
    "\n",
    "* Las funciones en Python son bloques de código reutilizables que realizan una tarea específica. \n",
    "\n",
    "* Las funciones pueden requerir parámetros de entrada, realizar operaciones y devolver un valor de salida.\n",
    "\n",
    "* La sintáxis es la siguiente:\n",
    "\n",
    "```python\n",
    "def nombre_de_la_función(parm1, parm2, ...):\n",
    "    bloque_de_código\n",
    "    return resultado\n",
    "```\n",
    "\n",
    "Una vez definida la función, es posible ejecutarla (hacer una llamada a la función) como sigue:\n",
    "\n",
    "```python\n",
    "nombre_de_la_función(arg1, arg2, ...)\n",
    "```\n",
    "\n",
    "Si existe la declaración `return` dentro de la función, entonces regresa un resultado el cual puede ser asignado a una variable como sigue:\n",
    "\n",
    "```python\n",
    "variable = nombre_de_la_función(arg1, arg2, ...)\n",
    "```\n",
    "\n",
    "Observa que:\n",
    "* Cuando se define la función, se definen los **parámetros** que recibirá, en este caso `param1`, `param2`, `...`\n",
    "* Cuando se ejecuta la función, se pasan los valores `arg1`, `arg2`, `...`, los cuales son los **argumentos** de la ejecución y serán sustituidos en los parámetros de la función.\n",
    "* El bloque de código de la función y el `return` deben tener una sangría. La definición de la función termina cuando termina la sangría.\n",
    "\n",
    "Veamos un ejemplo simple:"
   ]
  },
  {
   "cell_type": "code",
   "execution_count": null,
   "metadata": {},
   "outputs": [],
   "source": [
    "def imprimir_saludo():\n",
    "    saludo = \"Hola mundo desde la función 'imprimir_saludo()'\""
   ]
  },
  {
   "cell_type": "markdown",
   "metadata": {},
   "source": [
    "* La función anterior lleva por nombre `imprimir_saludo`, no requiere de párametros y en el bloque de código solo se define una cadena de nombre `saludo`.\n",
    "\n",
    "* Esta función al ejecutarse no proporcionará ningún resultado debido a que no tiene la declaración `return`, es decir no regresa ningún valor.\n",
    "\n",
    "Veamos:"
   ]
  },
  {
   "cell_type": "code",
   "execution_count": null,
   "metadata": {},
   "outputs": [],
   "source": [
    "imprimir_saludo()"
   ]
  },
  {
   "cell_type": "markdown",
   "metadata": {},
   "source": [
    "Si intentamos asignar la función a un variable obtendremos lo siguiente:"
   ]
  },
  {
   "cell_type": "code",
   "execution_count": null,
   "metadata": {},
   "outputs": [],
   "source": [
    "hola = imprimir_saludo()\n",
    "print(hola)"
   ]
  },
  {
   "cell_type": "markdown",
   "metadata": {},
   "source": [
    "Observa que la variable `hola` no está definida y no contiene ningún valor (`None`).\n",
    "\n",
    "Modifiquemos la función como sigue:"
   ]
  },
  {
   "cell_type": "code",
   "execution_count": null,
   "metadata": {},
   "outputs": [],
   "source": [
    "def imprimir_saludo():\n",
    "    return \"Hola mundo desde la función 'imprimir_saludo()'\""
   ]
  },
  {
   "cell_type": "markdown",
   "metadata": {},
   "source": [
    "Ahora la función no contiene bloque de código y solo tiene un `return` y lo que regresa es una cadena. Veamos lo que produce esta función:"
   ]
  },
  {
   "cell_type": "code",
   "execution_count": null,
   "metadata": {},
   "outputs": [],
   "source": [
    "imprimir_saludo()"
   ]
  },
  {
   "cell_type": "markdown",
   "metadata": {},
   "source": [
    "En esta versión, el resultado de ejecutar la función es la cadena que se regresa. Podemos asignarla a una varible e imprimirla como sigue:"
   ]
  },
  {
   "cell_type": "code",
   "execution_count": null,
   "metadata": {},
   "outputs": [],
   "source": [
    "hola = imprimir_saludo()\n",
    "print(hola)"
   ]
  },
  {
   "cell_type": "markdown",
   "metadata": {},
   "source": [
    "Ahora la variable `hola` ya está definida con la cadena que regresa la función.\n",
    "\n",
    "Veamos otros ejemplos de funciones."
   ]
  },
  {
   "cell_type": "markdown",
   "metadata": {},
   "source": [
    "<div class=\"alert alert-success\">\n",
    "\n",
    "## Ejemplo 1.\n",
    "    \n",
    "Escribir una función que calcule y regrese el cuadrado de un número con las siguientes características:\n",
    "* el número lo recibe como parámetro;\n",
    "* el nombre de la función debe ser `squared`.\n",
    "\n",
    "</div>"
   ]
  },
  {
   "cell_type": "code",
   "execution_count": null,
   "metadata": {},
   "outputs": [],
   "source": [
    "def squared(numero):         # Se recibe como parámetro el 'numero'\n",
    "    cuadrado = numero ** 2   # Se calcula el cuadrado del 'numero'\n",
    "    return cuadrado          # Se regresa el resultado"
   ]
  },
  {
   "cell_type": "code",
   "execution_count": null,
   "metadata": {},
   "outputs": [],
   "source": [
    "# Se ejecuta la función con el argumento 2\n",
    "squared(2) "
   ]
  },
  {
   "cell_type": "code",
   "execution_count": null,
   "metadata": {},
   "outputs": [],
   "source": [
    "# Se ejecuta la función con el argumento 3 y el resultado se almacena \n",
    "# en la variable 'resultado'\n",
    "resultado = squared(3)\n",
    "print(resultado)"
   ]
  },
  {
   "cell_type": "markdown",
   "metadata": {},
   "source": [
    "<div class=\"alert alert-success\">\n",
    "\n",
    "## Ejemplo 2.\n",
    "    \n",
    "Escribir una función que calcule el promedio de dos números.\n",
    "* Los dos números se reciben como parámetros.\n",
    "* La función regresa el valor del promedio.\n",
    "\n",
    "</div>"
   ]
  },
  {
   "cell_type": "code",
   "execution_count": null,
   "metadata": {},
   "outputs": [],
   "source": [
    "def promedio(a, b):       # Se reciben dos argumentos 'a' y 'b'\n",
    "    prom = (a + b) / 2.0  # Se calcula el promedio \n",
    "    return prom           # Se regresa el valor del promedio"
   ]
  },
  {
   "cell_type": "code",
   "execution_count": null,
   "metadata": {},
   "outputs": [],
   "source": [
    "promedio(5, 6)"
   ]
  },
  {
   "cell_type": "markdown",
   "metadata": {},
   "source": [
    "<div class=\"alert alert-success\">\n",
    "\n",
    "## Ejemplo 3.\n",
    "    \n",
    "Escribir una función que calcule el promedio de una secuencia de números que recibe como parámetros.\n",
    "</div>\n",
    "\n",
    "Dada la secuencia de números $x_1, x_2, \\dots, x_N$, la fórmula para calcular el promedio es:\n",
    "\n",
    "$$\n",
    "\\bar{X} = \\frac{\\sum_{i=1}^{N} x_i}{N}\n",
    "$$\n",
    "\n",
    "Esta fórmula tiene dos partes:\n",
    "1. La suma de todos los números de la secuencia: $\\sum_{i=1}^{N} x_i$. Esto requiere de definir una variable para almacenar la suma y recorrer la secuencia para sumar cada elemento. El siguiente seudocódigo muestra estas acciones:\n",
    "$$\n",
    "\\begin{array}{lcr}\n",
    "\\mbox{suma} \\leftarrow 0 \\\\\n",
    "\\mbox{FOR} \\;\\; i = 1, \\; N \\\\\n",
    "\\;\\;\\;\\; \\mbox{suma} \\leftarrow \\mbox{suma} + x_i  \\\\\n",
    "\\end{array}\n",
    "$$\n",
    "2. Un vez que se tiene la suma, se debe dividir entre el número total de elementos de la secuencia para obtener el promedio.\n",
    "\n",
    "$$\n",
    "\\mbox{promedio} = \\frac{\\mbox{suma}}{N}\n",
    "$$\n",
    "\n",
    "En Python, el código sería como sigue:"
   ]
  },
  {
   "cell_type": "code",
   "execution_count": null,
   "metadata": {},
   "outputs": [],
   "source": [
    "def prom_sec(secuencia):  # Se recibe la 'secuencia' como parámetro\n",
    "    suma = 0              # Inicializamos la variable 'suma'\n",
    "    for xi in secuencia:  # Se realiza el ciclo para recorrer la 'secuencia'\n",
    "        suma += xi        # Sumamos los elementos de la secuencia\n",
    "    N = len(secuencia)    # Obtenemos N usando la función len()\n",
    "    prom = suma / N       # Dividimos entre el total de números\n",
    "    return prom           # Regresamos el valor del promedio"
   ]
  },
  {
   "cell_type": "markdown",
   "metadata": {},
   "source": [
    "En Python se tienen varios tipos de secuencias como listas, tuplas, conjuntos, etcétera. \n",
    "\n",
    "Probemos la función con una lista:"
   ]
  },
  {
   "cell_type": "code",
   "execution_count": null,
   "metadata": {},
   "outputs": [],
   "source": [
    "prom_sec([1,2,3,4,5])"
   ]
  },
  {
   "cell_type": "markdown",
   "metadata": {},
   "source": [
    "Ahora con una tupla:"
   ]
  },
  {
   "cell_type": "code",
   "execution_count": null,
   "metadata": {},
   "outputs": [],
   "source": [
    "prom_sec((1,2,3,4,5))"
   ]
  },
  {
   "cell_type": "markdown",
   "metadata": {},
   "source": [
    "Generamos una secuencia con la función `range()`:"
   ]
  },
  {
   "cell_type": "code",
   "execution_count": null,
   "metadata": {},
   "outputs": [],
   "source": [
    "prom_sec(range(1,6))"
   ]
  },
  {
   "cell_type": "markdown",
   "metadata": {},
   "source": [
    "Con un conjunto:"
   ]
  },
  {
   "cell_type": "code",
   "execution_count": null,
   "metadata": {},
   "outputs": [],
   "source": [
    "prom_sec({1,2,3,4,5})"
   ]
  },
  {
   "cell_type": "markdown",
   "metadata": {},
   "source": [
    "<div class=\"alert alert-success\">\n",
    "\n",
    "## Ejemplo 4.\n",
    "    \n",
    "Los números de Fibonacci, denotados con $F_n$ forman una secuencia tal que cada número es la suma de dos números precedentes e inicia con el 0 y el 1. Matemáticamente se escribe como: \n",
    "\n",
    "$$\n",
    "\\begin{eqnarray}\n",
    "F_0 & = & 0 \\\\\n",
    "F_1 & = & 1 \\\\\n",
    "F_n & = & F_{n − 1} + F_{n − 2} \\;\\;\\; \\text{para} \\; n > 1.\n",
    "\\end{eqnarray}\n",
    "$$\n",
    "La secuencia es entonces: 0 , 1 , 1 , 2 , 3 , 5 , 8 , 13 , 21 , 34 , 55 , 89 , 144 , $\\ldots$\n",
    "\n",
    "</div>"
   ]
  },
  {
   "cell_type": "code",
   "execution_count": null,
   "metadata": {},
   "outputs": [],
   "source": [
    "# La siguiente función calcula la secuencia de Fibonacci\n",
    "def fib(n):         # Se recibe 'n' como parámetro\n",
    "    a, b = 0, 1     # Se inicializan 'a' y 'b'\n",
    "    while a < n:    # Se inicia el ciclo 'while'\n",
    "        print(a, end=',')  # Se imprime el número de Fibonacci 'a'\n",
    "        a, b = b, a+b      # Se actualizan 'a' y 'b'"
   ]
  },
  {
   "cell_type": "markdown",
   "metadata": {},
   "source": [
    "Observa que esta función no regresa ningún valor, solo imprime en pantalla un valor conforme lo calcula."
   ]
  },
  {
   "cell_type": "code",
   "execution_count": null,
   "metadata": {},
   "outputs": [],
   "source": [
    "fib(50) # ejecutamos la función fib con el argumento 10"
   ]
  },
  {
   "cell_type": "markdown",
   "metadata": {},
   "source": [
    "Le podemos poner otro nombre a la función"
   ]
  },
  {
   "cell_type": "code",
   "execution_count": null,
   "metadata": {},
   "outputs": [],
   "source": [
    "Fibonacci = fib"
   ]
  },
  {
   "cell_type": "markdown",
   "metadata": {},
   "source": [
    "Ejecutar la función usando el nuevo nombre:"
   ]
  },
  {
   "cell_type": "code",
   "execution_count": null,
   "metadata": {},
   "outputs": [],
   "source": [
    "Fibonacci(200)"
   ]
  },
  {
   "cell_type": "markdown",
   "metadata": {},
   "source": [
    "Podemos ver el tipo de la función:"
   ]
  },
  {
   "cell_type": "code",
   "execution_count": null,
   "metadata": {},
   "outputs": [],
   "source": [
    "print(type(fib))\n",
    "print(type(Fibonacci))"
   ]
  },
  {
   "cell_type": "markdown",
   "metadata": {},
   "source": [
    "Incluso podemos ver el identificador en memoria de la función:"
   ]
  },
  {
   "cell_type": "code",
   "execution_count": null,
   "metadata": {},
   "outputs": [],
   "source": [
    "print(id(fib))\n",
    "print(id(Fibonacci))"
   ]
  },
  {
   "cell_type": "markdown",
   "metadata": {},
   "source": [
    "Observamos que se puede ejecutar la función `fib()` a través de `Fibonacci()` y que ambos nombres hacen referencia a la misma función."
   ]
  },
  {
   "cell_type": "code",
   "execution_count": null,
   "metadata": {},
   "outputs": [],
   "source": []
  }
 ],
 "metadata": {
  "kernelspec": {
   "display_name": "Python 3 (ipykernel)",
   "language": "python",
   "name": "python3"
  },
  "language_info": {
   "codemirror_mode": {
    "name": "ipython",
    "version": 3
   },
   "file_extension": ".py",
   "mimetype": "text/x-python",
   "name": "python",
   "nbconvert_exporter": "python",
   "pygments_lexer": "ipython3",
   "version": "3.11.6"
  }
 },
 "nbformat": 4,
 "nbformat_minor": 4
}
