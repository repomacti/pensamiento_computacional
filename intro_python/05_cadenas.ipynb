{
 "cells": [
  {
   "cell_type": "markdown",
   "metadata": {},
   "source": [
    "# Cadenas.\n",
    "\n",
    "**Objetivo.**\n",
    "Explicar el tipo de dato básico cadena y como se usa en diferentes contextos.\n",
    "\n",
    "<p xmlns:cc=\"http://creativecommons.org/ns#\" xmlns:dct=\"http://purl.org/dc/terms/\"><a property=\"dct:title\" rel=\"cc:attributionURL\" href=\"https://github.com/repomacti/pensamiento_computacional\">Pensamiento Computacional a Python</a> by <a rel=\"cc:attributionURL dct:creator\" property=\"cc:attributionName\" href=\"https://gmc.geofisica.unam.mx/luiggi\">Luis Miguel de la Cruz Salas</a> is licensed under <a href=\"https://creativecommons.org/licenses/by-sa/4.0/?ref=chooser-v1\" target=\"_blank\" rel=\"license noopener noreferrer\" style=\"display:inline-block;\">CC BY-SA 4.0<img style=\"height:22px!important;margin-left:3px;vertical-align:text-bottom;\" src=\"https://mirrors.creativecommons.org/presskit/icons/cc.svg?ref=chooser-v1\" alt=\"\"><img style=\"height:22px!important;margin-left:3px;vertical-align:text-bottom;\" src=\"https://mirrors.creativecommons.org/presskit/icons/by.svg?ref=chooser-v1\" alt=\"\"><img style=\"height:22px!important;margin-left:3px;vertical-align:text-bottom;\" src=\"https://mirrors.creativecommons.org/presskit/icons/sa.svg?ref=chooser-v1\" alt=\"\"></a></p> "
   ]
  },
  {
   "cell_type": "markdown",
   "metadata": {},
   "source": [
    "## Definición de cadenas.\n",
    "\n",
    "En Python, una cadena (string) es una secuencia de caracteres utilizada para representar texto. \n",
    "\n",
    "Las cadenas se pueden crear utilizando:\n",
    "\n",
    "* comillas simples (`'`),\n",
    "* dobles (`\"`) o\n",
    "* triples (`\"\"\"` o `'''`). \n",
    "\n",
    "Son inmutables, lo que significa que no se pueden cambiar una vez que se han creado. \n",
    "\n",
    "Sin embargo, se pueden crear nuevas cadenas basadas en operaciones realizadas en las cadenas originales.\n",
    "\n",
    "Veamos algunos ejemplos.\n",
    "\n",
    "* Definición de una cadena usando comillas simples `'`:"
   ]
  },
  {
   "cell_type": "code",
   "execution_count": null,
   "metadata": {},
   "outputs": [],
   "source": [
    "simples = 'Hay pocas cosas tan ensordecedoras como el silencio'\n",
    "print(simples)"
   ]
  },
  {
   "cell_type": "markdown",
   "metadata": {},
   "source": [
    "* Definición de una cadena usando comillas dobles `\"`:"
   ]
  },
  {
   "cell_type": "code",
   "execution_count": null,
   "metadata": {},
   "outputs": [],
   "source": [
    "dobles = \"Hay pocas cosas tan ensordecedoras como el silencio\"\n",
    "print(dobles)"
   ]
  },
  {
   "cell_type": "markdown",
   "metadata": {},
   "source": [
    "* Definición de una cadena usando comillas triples `\"\"\"` o `'''`:"
   ]
  },
  {
   "cell_type": "code",
   "execution_count": null,
   "metadata": {},
   "outputs": [],
   "source": [
    "triples1 = '''Hay pocas cosas tan ensordecedoras como el silencio'''\n",
    "print(triples1)\n",
    "\n",
    "triples2 = \"\"\"Hay pocas cosas tan ensordecedoras como el silencio\"\"\"\n",
    "print(triples2)"
   ]
  },
  {
   "cell_type": "code",
   "execution_count": null,
   "metadata": {},
   "outputs": [],
   "source": [
    "print(type(simples), type(dobles), type(triples1), type(triples2), sep=\"\\n\")"
   ]
  },
  {
   "cell_type": "markdown",
   "metadata": {},
   "source": [
    "## Caracteres especiales.\n",
    "\n",
    "* Las cadenas pueden contener caracteres especiales como cambio de línea, tabulador, entre otros. \n",
    "\n",
    "* Para que estos caracteres se puedan representar, se requiere del caracter de escape `\\`.\n",
    "\n",
    "* Algunos de estos caracteres se muestran en la siguiente tabla:\n",
    "\n",
    "|  Secuencia de escape | Significado |\n",
    "|---|---|\n",
    "| `\\<newline>` | Diagonal invertida y línea nueva ignoradas |\n",
    "| `\\\\` | Diagonal invertida (`\\`) |\n",
    "| `\\'` | Comilla simple (`'`) |\n",
    "| `\\\"` | Comilla doble (`\"`) |\n",
    "| `\\n` | Cambio de línea (ASCII Linefeed LF) | \n",
    "| `\\t` | Tabulador (ASCII Sangría horizontal TAB) |\n",
    "\n",
    "La documentación completa se puede encontrar en el siguiente enlace: [Escape sequences](https://docs.python.org/es/3/reference/lexical_analysis.html#escape-sequences)."
   ]
  },
  {
   "cell_type": "markdown",
   "metadata": {},
   "source": [
    "<div class=\"alert alert-block alert-success\">\n",
    "    \n",
    "### Ejemplo 1. \n",
    "\n",
    "1. Definir e imprimir las siguientes cadenas:\n",
    "    1.  ```Enjoy the moments now, because they don't last forever```\n",
    "    2. ```Python \"pythonico\"```\n",
    "\n",
    "</div>"
   ]
  },
  {
   "cell_type": "code",
   "execution_count": null,
   "metadata": {},
   "outputs": [],
   "source": [
    "# 1.A. Forma 1. Usamos el caracter de escape\n",
    "poema = 'Enjoy the moments now, because they don\\'t last forever'\n",
    "print(poema)"
   ]
  },
  {
   "cell_type": "code",
   "execution_count": null,
   "metadata": {},
   "outputs": [],
   "source": [
    "# 1.A. Forma 2. Definimos la cadena con \" \"\n",
    "poema = \"Enjoy the moments now, because they don't last forever\"\n",
    "print(poema)"
   ]
  },
  {
   "cell_type": "markdown",
   "metadata": {},
   "source": [
    "Observa que es posible imprimir `'` sin usar el caracter `\\` si la cadena se define con `\"` y viceversa, como se muestra a continuación:"
   ]
  },
  {
   "cell_type": "code",
   "execution_count": null,
   "metadata": {},
   "outputs": [],
   "source": [
    "# 1.B. La cadena puede tener \" dentro de ' ... '\n",
    "titulo = 'Python \"pythonico\"'\n",
    "print(titulo)"
   ]
  },
  {
   "cell_type": "code",
   "execution_count": null,
   "metadata": {},
   "outputs": [],
   "source": [
    "#1.B. Usando el caracter de escape\n",
    "titulo = \"Python \\\"pythonico\\\"\"\n",
    "print(titulo)"
   ]
  },
  {
   "cell_type": "markdown",
   "metadata": {},
   "source": [
    "<div class=\"alert alert-block alert-success\">\n",
    "    \n",
    "### Ejemplo 2. \n",
    "\n",
    "Definir e imprimir el siguiente texto:\n",
    "```\n",
    "Desde muy niño\n",
    "tuve que \"interrumpir\" 'mi' educación\n",
    "para ir a la escuela\n",
    "```\n",
    "</div>"
   ]
  },
  {
   "cell_type": "code",
   "execution_count": null,
   "metadata": {},
   "outputs": [],
   "source": [
    "# Forma 1. \n",
    "queja = \"Desde muy niño \\ntuve que \\\"interrumpir\\\" 'mi' educación \\npara ir a la escuela\"\n",
    "print(queja)"
   ]
  },
  {
   "cell_type": "markdown",
   "metadata": {},
   "source": [
    "En esta primera forma definimos la cadena usando comillas dobles. Para imprimir `\"` usamos el caracter de escape. De igual manera, para indicar el cambio de línea usamos `\\n`. Para imprimir `'` no es necesario realizar nada especial."
   ]
  },
  {
   "cell_type": "code",
   "execution_count": null,
   "metadata": {},
   "outputs": [],
   "source": [
    "#  Forma 2. Una cadena larga la definimos con triples comillas simples.\n",
    "queja = '''\n",
    "Desde muy niño\n",
    "tuve que \"interrumpir\" 'mi' educación\n",
    "para ir a la escuela\n",
    "'''\n",
    "print(queja)"
   ]
  },
  {
   "cell_type": "markdown",
   "metadata": {},
   "source": [
    "Observa que en el ejemplo anterior la cadena contiene `\"` y  `'` sin necesidad de usar el caracter de escape; de igual manera no fue necesario indicar los cambios de línea, estos se toman de manera implícita. Lo anterior fue posible por el uso de las triples comillas para definir la cadena."
   ]
  },
  {
   "cell_type": "code",
   "execution_count": null,
   "metadata": {},
   "outputs": [],
   "source": [
    "#  Forma 3. Una cadena larga la definimos con triples comillas dobles.\n",
    "queja = \"\"\"\n",
    "Desde muy niño\n",
    "tuve que \"interrumpir\" 'mi' educación\n",
    "para ir a la escuela\n",
    "\"\"\"\n",
    "print(queja)"
   ]
  },
  {
   "cell_type": "markdown",
   "metadata": {},
   "source": [
    "<div class=\"alert alert-block alert-success\">\n",
    "    \n",
    "### Ejemplo 3. \n",
    "\n",
    "Definir e imprimir el siguiente texto:\n",
    "```\n",
    "\n",
    "El siguiente es un ejemplo de función:\n",
    "--------------------------------------\n",
    "def funcion(N):\n",
    "        suma = 0\n",
    "        for i in range(N):\n",
    "                 suma += 1\n",
    "        return suma\n",
    "```\n",
    "</div>"
   ]
  },
  {
   "cell_type": "code",
   "execution_count": null,
   "metadata": {},
   "outputs": [],
   "source": [
    "codigo = \"\"\"\n",
    "El siguiente es un ejemplo de función:\n",
    "--------------------------------------\n",
    "def funcion(N):\n",
    "\\tsuma = 0\n",
    "\\tfor i in range(N):\n",
    "\\t\\tsuma += 1 \n",
    "\\treturn suma\n",
    "\"\"\"\n",
    "print(codigo)"
   ]
  },
  {
   "cell_type": "markdown",
   "metadata": {},
   "source": [
    "Observa que cuando el texto es largo y de varias líneas, conviene usar triples comillas. Para agregar la sangría al principio de algunas líneas usamos el tabulador `\\t`. "
   ]
  },
  {
   "cell_type": "markdown",
   "metadata": {},
   "source": [
    "<a href=\"indexado_cadenas\"></a>\n",
    "## Indexación de las cadenas.\n",
    "\n",
    "La indexación permite acceder a diferentes elementos o rangos de elementos de una cadena. \n",
    "\n",
    "* Los elementos de una cadena de `N` elementos, se numeran empezando en `0` y terminando en `N-1`, el cual representa el último elemento de la cadena.\n",
    "* También se pueden usar índices negativos donde `-1` representa el último elemento y `-N` el primer elemento.\n",
    "\n",
    "Veamos el siguiente ejemplo:"
   ]
  },
  {
   "cell_type": "markdown",
   "metadata": {},
   "source": [
    "|   ||||||||||||\n",
    "|--:|:-:|:-:|:-:|:-:|:-:|:-:|:-:|:-:|:-:|:-:|:-:|\n",
    "|`ejemplo` |`=`| `M` | `u` | `r` | `c` | `i` | `é` | `l` | `a` | `g` | `o` |\n",
    "|índice positivo |$\\rightarrow$| `0`|`1`|`2`|`3`|`4`|`5`|`6`|`7`|`8`|`9`|\n",
    "|índice negativo |$\\rightarrow$| `-10`|`-9`|`-8`|`-7`|`-6`|`-5`|`-4`|`-3`|`-2`|`-1`|\n",
    "\n",
    "* La cadena tiene `N = 10` elementos.\n",
    "* Sus índices positivos van de `0` a `9`.\n",
    "* Sus índices negativos van de `-1` a `-10`."
   ]
  },
  {
   "cell_type": "code",
   "execution_count": null,
   "metadata": {},
   "outputs": [],
   "source": [
    "# Definimos la cadena\n",
    "ejemplo = 'Murciélago'\n",
    "print(ejemplo)\n",
    "print(type(ejemplo))"
   ]
  },
  {
   "cell_type": "code",
   "execution_count": null,
   "metadata": {},
   "outputs": [],
   "source": [
    "# Primer elemento de la cadena\n",
    "print(ejemplo[0]) "
   ]
  },
  {
   "cell_type": "code",
   "execution_count": null,
   "metadata": {},
   "outputs": [],
   "source": [
    "# Elemento en la posición 5\n",
    "print(ejemplo[5]) "
   ]
  },
  {
   "cell_type": "code",
   "execution_count": null,
   "metadata": {},
   "outputs": [],
   "source": [
    "# Elemento en la posición 9 (en este caso es el último)\n",
    "print(ejemplo[9]) "
   ]
  },
  {
   "cell_type": "code",
   "execution_count": null,
   "metadata": {},
   "outputs": [],
   "source": [
    "# Último elemento de la cadena\n",
    "print(ejemplo[-1]) "
   ]
  },
  {
   "cell_type": "code",
   "execution_count": null,
   "metadata": {},
   "outputs": [],
   "source": [
    "# Elemento en la posición -6 o equivalentemente en la posición 4\n",
    "print(ejemplo[-6]) \n",
    "print(ejemplo[4])"
   ]
  },
  {
   "cell_type": "code",
   "execution_count": null,
   "metadata": {},
   "outputs": [],
   "source": [
    "# Elemento en la posición -10, el primero en este caso\n",
    "print(ejemplo[-10]) "
   ]
  },
  {
   "cell_type": "markdown",
   "metadata": {},
   "source": [
    "### Acceso a porciones de las cadenas (*slicing*)"
   ]
  },
  {
   "cell_type": "markdown",
   "metadata": {},
   "source": [
    "Se puede obtener una subcadena a partir de la cadena original, para ello usamos lo siguiente: `str[Start:End:Stride]`\n",
    "\n",
    "**Start** :Índice del primer caracter para formar la subcadena. **Se incluye** el elemento con este índice.\n",
    "\n",
    "**End** : Índice que indica el caracter final de la subcadena. **No se incluye** el elemento con este índice.\n",
    "\n",
    "**Stride**: Salto entre elementos.\n",
    "\n",
    "Si queremos obtener la subcadena `urcié` de la cadena original `Murciélago` podemos hacerlo como sigue: \n",
    "\n",
    "* con índices positivos:\n",
    "\n",
    "|   ||||||||||||\n",
    "|--:|:-:|:-:|:-:|:-:|:-:|:-:|:-:|:-:|:-:|:-:|:-:|\n",
    "|`ejemplo` |`=`| `M` | `u` | `r` | `c` | `i` | `é` | `l` | `a` | `g` | `o` |\n",
    "|índice positivo |$\\rightarrow$| `0`|`1`|`2`|`3`|`4`|`5`|`6`|`7`|`8`|`9`|\n",
    "|`ejemplo[1:6]`| `=` | | u | r | c | i | é | | | | |\n",
    "\n",
    "* con índices negativos:\n",
    "\n",
    "|   ||||||||||||\n",
    "|--:|:-:|:-:|:-:|:-:|:-:|:-:|:-:|:-:|:-:|:-:|:-:|\n",
    "|`ejemplo` |`=`| `M` | `u` | `r` | `c` | `i` | `é` | `l` | `a` | `g` | `o` |\n",
    "|índice negativo |$\\rightarrow$| `-10`|`-9`|`-8`|`-7`|`-6`|`-5`|`-4`|`-3`|`-2`|`-1`|\n",
    "|`ejemplo[-9:-4]`| `=` | | u | r | c | i | é | | | | |\n",
    "\n",
    "Veamos los siguientes ejemplos"
   ]
  },
  {
   "cell_type": "code",
   "execution_count": null,
   "metadata": {},
   "outputs": [],
   "source": [
    "print(ejemplo[1:6])"
   ]
  },
  {
   "cell_type": "code",
   "execution_count": null,
   "metadata": {},
   "outputs": [],
   "source": [
    "print(ejemplo[-9:-4])"
   ]
  },
  {
   "cell_type": "code",
   "execution_count": null,
   "metadata": {},
   "outputs": [],
   "source": [
    "print(ejemplo[:]) # Cadena completa"
   ]
  },
  {
   "cell_type": "code",
   "execution_count": null,
   "metadata": {},
   "outputs": [],
   "source": [
    "print(ejemplo[0:5]) # Elementos del 0 al 4 "
   ]
  },
  {
   "cell_type": "code",
   "execution_count": null,
   "metadata": {},
   "outputs": [],
   "source": [
    "print(ejemplo[::2]) # Todos los elementos, con saltos de 2"
   ]
  },
  {
   "cell_type": "code",
   "execution_count": null,
   "metadata": {},
   "outputs": [],
   "source": [
    "print(ejemplo[1:8:2]) # Los elementos de 1 a 7, con saltos de 2"
   ]
  },
  {
   "cell_type": "code",
   "execution_count": null,
   "metadata": {},
   "outputs": [],
   "source": [
    "print(ejemplo[::-1]) # La cadena en reversa"
   ]
  },
  {
   "cell_type": "markdown",
   "metadata": {},
   "source": [
    "## Métodos aplicables sobre las cadenas\n",
    "\n",
    "Las cadenas son objetos de la clase `<class 'str'>` y tienen definidos atributos y métodos. \n",
    "Véase [Common string operations](https://docs.python.org/3/library/string.html) para más información.\n",
    "\n",
    "Veamos algunos ejemplos:"
   ]
  },
  {
   "cell_type": "code",
   "execution_count": null,
   "metadata": {},
   "outputs": [],
   "source": [
    "# ¿Qué métodos tienen las cadenas?\n",
    "ejemplo."
   ]
  },
  {
   "cell_type": "code",
   "execution_count": null,
   "metadata": {},
   "outputs": [],
   "source": [
    "# Imprimimos la cadena original\n",
    "print(ejemplo)"
   ]
  },
  {
   "cell_type": "code",
   "execution_count": null,
   "metadata": {},
   "outputs": [],
   "source": [
    "# Centramos la cadena en 20 espacios\n",
    "print(ejemplo.center(20))"
   ]
  },
  {
   "cell_type": "code",
   "execution_count": null,
   "metadata": {},
   "outputs": [],
   "source": [
    "# Centramos la cadena en 20 espacios y usamos '-' en los espacios restantes\n",
    "print(ejemplo.center(20,'-')) "
   ]
  },
  {
   "cell_type": "code",
   "execution_count": null,
   "metadata": {},
   "outputs": [],
   "source": [
    "# Convertimos todos los caracteres a mayúsculas\n",
    "print(ejemplo.upper())"
   ]
  },
  {
   "cell_type": "code",
   "execution_count": null,
   "metadata": {},
   "outputs": [],
   "source": [
    "# Encontrar un caracter dentro de la cadena, \n",
    "# nos dá el índice (solo de la primera aparición):\n",
    "print(ejemplo.find('é'))"
   ]
  },
  {
   "cell_type": "code",
   "execution_count": null,
   "metadata": {},
   "outputs": [],
   "source": [
    "# Cuando el caracter no está en la cadena, regresa un -1\n",
    "print(ejemplo.find('e'))"
   ]
  },
  {
   "cell_type": "code",
   "execution_count": null,
   "metadata": {},
   "outputs": [],
   "source": [
    "# Cuenta el número de aparciones de un caracter dentro de la cadena\n",
    "print(ejemplo.count('g'))"
   ]
  },
  {
   "cell_type": "code",
   "execution_count": null,
   "metadata": {},
   "outputs": [],
   "source": [
    "# Pregunta si la cadena se puede imprimir\n",
    "print(ejemplo.isprintable())"
   ]
  },
  {
   "cell_type": "code",
   "execution_count": null,
   "metadata": {},
   "outputs": [],
   "source": [
    "# Reemplazamos un caracter o conjunto de caracteres por otro.\n",
    "print(ejemplo.replace('é', 'e'))"
   ]
  },
  {
   "cell_type": "markdown",
   "metadata": {},
   "source": [
    "## Funciones y operadores sobre cadenas.\n",
    "\n",
    "Veamos algunas funciones incorporadas y operadores que se pueden aplicar sobre las cadenas."
   ]
  },
  {
   "cell_type": "code",
   "execution_count": null,
   "metadata": {},
   "outputs": [],
   "source": [
    "# Definimos una cadena\n",
    "cadena = 'anita lava la tina'\n",
    "print(cadena)"
   ]
  },
  {
   "cell_type": "markdown",
   "metadata": {},
   "source": [
    "* Función `len()`  para obtener la longitud de la cadena."
   ]
  },
  {
   "cell_type": "code",
   "execution_count": null,
   "metadata": {},
   "outputs": [],
   "source": [
    "print(len(cadena))"
   ]
  },
  {
   "cell_type": "markdown",
   "metadata": {},
   "source": [
    "* Funciones `max()` y `min()` para obtener el máximo y mínimo de acuerdo con su código unicode."
   ]
  },
  {
   "cell_type": "code",
   "execution_count": null,
   "metadata": {},
   "outputs": [],
   "source": [
    "print(min(cadena)) # El mínimo es el espacio en blanco\n",
    "print(max(cadena))"
   ]
  },
  {
   "cell_type": "markdown",
   "metadata": {},
   "source": [
    "* Función `sorted()` regresa una lista de elementos de la cadena ordenados, de acuerdo con su código unicode."
   ]
  },
  {
   "cell_type": "code",
   "execution_count": null,
   "metadata": {},
   "outputs": [],
   "source": [
    "print(sorted(cadena))"
   ]
  },
  {
   "cell_type": "markdown",
   "metadata": {},
   "source": [
    "* Operador `==` para comparar cadenas"
   ]
  },
  {
   "cell_type": "code",
   "execution_count": null,
   "metadata": {},
   "outputs": [],
   "source": [
    "cadena_reversa = cadena[::-1]\n",
    "print('original  : ', cadena)\n",
    "print('invertida : ', cadena_reversa)\n",
    "print('¿Las cadenas son iguales? ', cadena == cadena_reversa)"
   ]
  },
  {
   "cell_type": "markdown",
   "metadata": {},
   "source": [
    "Para checar que el contenido de `cadena` es un palíndromo tendríamos que\n",
    "eliminar los espacios cuando hacemos la comparación de la cadena original con la cadena en reversa:"
   ]
  },
  {
   "cell_type": "code",
   "execution_count": null,
   "metadata": {},
   "outputs": [],
   "source": [
    "# Eliminamos los espacios\n",
    "cadena_or_noe = cadena.replace(' ','')\n",
    "cadena_re_noe = cadena_reversa.replace(' ','')\n",
    "\n",
    "# Imprimimos las cadenas\n",
    "print('original sin espacios: \"', cadena_or_noe, '\"', sep='')\n",
    "print('en reversa sin espacios: \"', cadena_re_noe, '\"', sep='')\n",
    "\n",
    "# Verificamos si es palíndromo o no\n",
    "print('¿Es palíndromo? :', cadena_or_noe == cadena_re_noe)"
   ]
  },
  {
   "cell_type": "markdown",
   "metadata": {},
   "source": [
    "El mismo algoritmo, pero con un código más reducido (*pythonico*):"
   ]
  },
  {
   "cell_type": "code",
   "execution_count": null,
   "metadata": {},
   "outputs": [],
   "source": [
    "print('¿\"', cadena, '\" es palíndromo? ', cadena.replace(' ','') == cadena[::-1].replace(' ',''), sep='')"
   ]
  },
  {
   "cell_type": "code",
   "execution_count": null,
   "metadata": {},
   "outputs": [],
   "source": [
    "# Usamos el caracter \\ para escribir una \n",
    "# sola instrucción en varias líneas\n",
    "print('¿\"', cadena, '\" es palíndromo? ', \\\n",
    "      cadena.replace(' ','') == cadena[::-1].replace(' ',''), \\\n",
    "      sep='')"
   ]
  },
  {
   "cell_type": "markdown",
   "metadata": {},
   "source": [
    "* Operador `in` para saber si un elemento está en la cadena."
   ]
  },
  {
   "cell_type": "code",
   "execution_count": null,
   "metadata": {},
   "outputs": [],
   "source": [
    "print('v' in cadena)"
   ]
  },
  {
   "cell_type": "markdown",
   "metadata": {},
   "source": [
    "* Operador `+` para concatenar cadenas."
   ]
  },
  {
   "cell_type": "code",
   "execution_count": null,
   "metadata": {},
   "outputs": [],
   "source": [
    "palabra = 'Palíndromo : '\n",
    "print(palabra + cadena)"
   ]
  },
  {
   "cell_type": "markdown",
   "metadata": {},
   "source": [
    "* Operador `*` para repetir la cadena."
   ]
  },
  {
   "cell_type": "code",
   "execution_count": null,
   "metadata": {},
   "outputs": [],
   "source": [
    "# Repetimos la cadena 'oh yeah ' 5 veces\n",
    "expresion = 'oh yeah ' * 5\n",
    "print(expresion)"
   ]
  },
  {
   "cell_type": "markdown",
   "metadata": {},
   "source": [
    "## Construcción de cadenas\n",
    "\n",
    "Existen varias maneras de construir cadenas, a continuación se revisan algunos ejemplos."
   ]
  },
  {
   "cell_type": "markdown",
   "metadata": {},
   "source": [
    "### Usando operaciones básicas.\n",
    "\n",
    "Los operadores: `+` y `*` están definidos para las cadenas.\n",
    "\n",
    "Veamos el siguiente ejemplo:"
   ]
  },
  {
   "cell_type": "code",
   "execution_count": null,
   "metadata": {},
   "outputs": [],
   "source": [
    "frase1 = \"Somos aquello en lo que creemos\"\n",
    "frase2 = \"aún sin darnos cuenta\"\n",
    "\n",
    "# Concatenación de cadenas\n",
    "frase_total = frase1 + ', ' + frase2 + '.'\n",
    "\n",
    "print(frase_total)"
   ]
  },
  {
   "cell_type": "markdown",
   "metadata": {},
   "source": [
    "En el siguiente ejemplo creamos una cadena de 60 guiones `-` usando el operador `*`:"
   ]
  },
  {
   "cell_type": "code",
   "execution_count": null,
   "metadata": {},
   "outputs": [],
   "source": [
    "print('-' * 60)"
   ]
  },
  {
   "cell_type": "markdown",
   "metadata": {},
   "source": [
    "Escribimos la `frase_total` centrada en 60 espacios y entre dos líneas:"
   ]
  },
  {
   "cell_type": "code",
   "execution_count": null,
   "metadata": {},
   "outputs": [],
   "source": [
    "print('-' * 60)\n",
    "print(frase_total.center(60))\n",
    "print('-' * 60)"
   ]
  },
  {
   "cell_type": "markdown",
   "metadata": {},
   "source": [
    "### Concatenación y casting\n",
    "\n",
    "Vamos a crear la siguiente cadena: `Pedro Páramo tiene 15 años y pesa 70.5 kg`.\n",
    "\n",
    "Usaremos el operador `+` y contruiremos la cadena usando algunas variables; convertiremos las variables a tipo `str`:"
   ]
  },
  {
   "cell_type": "code",
   "execution_count": null,
   "metadata": {},
   "outputs": [],
   "source": [
    "# Definimos las siguientes variables\n",
    "edad = 15\n",
    "nombre = 'Pedro'\n",
    "apellido = 'Páramo'\n",
    "peso = 70.5\n",
    "\n",
    "# Construimos la cadena usando el operador '+' y la función 'str()' \n",
    "datos = nombre + apellido + 'tiene' + str(15) + 'años y pesa' + str(70.5) + 'kg'\n",
    "\n",
    "print(datos)"
   ]
  },
  {
   "cell_type": "markdown",
   "metadata": {},
   "source": [
    "Para agregar espacios es necesario hacerlo de manera explícita como sigue:"
   ]
  },
  {
   "cell_type": "code",
   "execution_count": null,
   "metadata": {},
   "outputs": [],
   "source": [
    "datos = nombre + ' ' + apellido + ' tiene ' + str(15) + ' años y pesa ' + str(70.5) + ' kg'\n",
    "print(datos)"
   ]
  },
  {
   "cell_type": "markdown",
   "metadata": {},
   "source": [
    "### Método `str.format()`\n",
    "\n",
    "Este método permite sustituir variables en los lugares indicados por `{}`:"
   ]
  },
  {
   "cell_type": "code",
   "execution_count": null,
   "metadata": {},
   "outputs": [],
   "source": [
    "datos = '{} {} tiene {} años y pesa {} kg'.format(nombre, apellido, edad, peso)\n",
    "print(datos)"
   ]
  },
  {
   "cell_type": "markdown",
   "metadata": {},
   "source": [
    "### Cadenas formateadas (*f-string*, *formatted string literals*)\n",
    "\n",
    "Este tipo de cadenas permite sustituir variables en los lugares indicados:"
   ]
  },
  {
   "cell_type": "code",
   "execution_count": null,
   "metadata": {},
   "outputs": [],
   "source": [
    "datos = f'{nombre} {apellido} tiene {edad} años y pesa {peso} kg'\n",
    "print(datos)"
   ]
  },
  {
   "cell_type": "markdown",
   "metadata": {},
   "source": [
    "### Cadenas usando el método `str.join()`\n",
    "\n",
    "Dada una cadena que funciona como separador, este método recibe un iterador y junta todos sus elementos separados por la cadena inicial:"
   ]
  },
  {
   "cell_type": "code",
   "execution_count": null,
   "metadata": {},
   "outputs": [],
   "source": [
    "datos = \" \".join([nombre, apellido, 'tiene', str(15), 'años y pesa', str(70.5), 'kg'])\n",
    "print(datos)"
   ]
  },
  {
   "cell_type": "markdown",
   "metadata": {},
   "source": [
    "En el ejemplo anterior la cadena inicial es un espacio `\" \"` y junta todos los elementos que se dan entre corchetes `[]`. El uso de corchetes construye una lista, que es un tipo de dato que se describe en la notebook [08_listas.ipynb](./08_listas.ipynb)."
   ]
  },
  {
   "cell_type": "markdown",
   "metadata": {},
   "source": [
    "## Formato de la salida.\n",
    "### Texto."
   ]
  },
  {
   "cell_type": "code",
   "execution_count": null,
   "metadata": {},
   "outputs": [],
   "source": [
    "# Impresión del nombre en 30 espacios de texto\n",
    "sdef = f'{nombre:30s}'  # Alineación a la izq. por omisión\n",
    "sder = f'{nombre:>30s}' # Alineación a la der.\n",
    "sizq = f'{nombre:<30s}' # Alineación a la izq.\n",
    "scen = f'{nombre:^30s}' # Centrada"
   ]
  },
  {
   "cell_type": "code",
   "execution_count": null,
   "metadata": {},
   "outputs": [],
   "source": [
    "print(sdef)\n",
    "print(sder)\n",
    "print(sizq)\n",
    "print(scen)"
   ]
  },
  {
   "cell_type": "markdown",
   "metadata": {},
   "source": [
    "Ahora agregamos las cadenas `---|` y `|---` para delimitar los 30 espacios."
   ]
  },
  {
   "cell_type": "code",
   "execution_count": null,
   "metadata": {},
   "outputs": [],
   "source": [
    "# Impresión del nombre en 30 espacios de texto\n",
    "sdef = f'---|{nombre:30s}|---'  # Alineación a la izq. por omisión\n",
    "sder = f'---|{nombre:>30s}|---' # Alineación a la der.\n",
    "sizq = f'---|{nombre:<30s}|---' # Alineación a la izq.\n",
    "scen = f'---|{nombre:^30s}|---' # Centrada\n",
    "\n",
    "print(sdef)\n",
    "print(sder)\n",
    "print(sizq)\n",
    "print(scen)"
   ]
  },
  {
   "cell_type": "markdown",
   "metadata": {},
   "source": [
    "<div class=\"alert alert-block alert-info\">\n",
    "\n",
    "**Nota**.\n",
    "\n",
    "Observa que en el ejemplo anterior se usó una `s` al final del número `30`, esto es para indicar que la variable `nombre` es de tipo cadena. Para enteros en base diez se usa una `d` y para flotantes una `f`. Estas terminaciones no son necesarias aunque es conveniente agregarlas para hacer el código más claro y que no haya errores de formato.\n",
    "\n",
    "Más información la puedes consultar en: <a href=\"https://docs.python.org/3.7/library/string.html#formatspec\"> Format Specification Mini-Language </a>\n",
    "\n",
    "</div> "
   ]
  },
  {
   "cell_type": "markdown",
   "metadata": {},
   "source": [
    "### Enteros\n",
    "\n",
    "Para números enteros podemos definir el número de espacios y alinear la salida:"
   ]
  },
  {
   "cell_type": "code",
   "execution_count": null,
   "metadata": {},
   "outputs": [],
   "source": [
    "# Este es un formato de número entero que usa _ para separar los miles\n",
    "n1 = 5_521_345_678\n",
    "n2 = 7_712_932_143\n",
    "n3 = 8_123_535_098\n",
    "\n",
    "idef = f'---|{n1:15d}|---'  # alineación a la der. por omisión\n",
    "icen = f'---|{n1:^15d}|---' # centrado\n",
    "iizq = f'---|{n2:<15d}|---' # alineación a la izq.\n",
    "ider = f'---|{n3:>15d}|---' # alineación a la der.\n",
    "\n",
    "print(idef, icen, iizq, ider, sep='\\n')"
   ]
  },
  {
   "cell_type": "markdown",
   "metadata": {},
   "source": [
    "También es posible usar `,` como separador de los miles en la salida, veamos:"
   ]
  },
  {
   "cell_type": "code",
   "execution_count": null,
   "metadata": {},
   "outputs": [],
   "source": [
    "idef = f'---|{n1:15,d}|---'  # alineación a la der. por omisión\n",
    "icen = f'---|{n1:^15,d}|---' # centrado\n",
    "iizq = f'---|{n2:<15,d}|---' # alineación a la izq.\n",
    "ider = f'---|{n3:>15,d}|---' # alineación a la der.\n",
    "\n",
    "print(idef, icen, iizq, ider, sep='\\n')"
   ]
  },
  {
   "cell_type": "markdown",
   "metadata": {},
   "source": [
    "Y se puede completar con `0`'s los espacios en blanco:"
   ]
  },
  {
   "cell_type": "code",
   "execution_count": null,
   "metadata": {},
   "outputs": [],
   "source": [
    "idef = f'---|{n1:015,d}|---'  # alineación a la der. por omisión\n",
    "icen = f'---|{n1:^015,d}|---' # centrado\n",
    "iizq = f'---|{n2:<015,d}|---' # alineación a la izq.\n",
    "ider = f'---|{n3:>015,d}|---' # alineación a la der.\n",
    "\n",
    "print(idef, icen, iizq, ider, sep='\\n')"
   ]
  },
  {
   "cell_type": "markdown",
   "metadata": {},
   "source": [
    "Se puede generar la salida de un entero en las bases decimal, hexadecimal, octal o binaria usando `d`, `x`, `o` y `b` respectivamente."
   ]
  },
  {
   "cell_type": "code",
   "execution_count": null,
   "metadata": {},
   "outputs": [],
   "source": [
    "ejemplo = 16\n",
    "print(f'int: {ejemplo:d}')\n",
    "print(f'hex: {ejemplo:x}')\n",
    "print(f'oct: {ejemplo:o}')\n",
    "print(f'bin: {ejemplo:b}')"
   ]
  },
  {
   "cell_type": "markdown",
   "metadata": {},
   "source": [
    "### Flotantes\n",
    "\n",
    "En el caso de números flotantes se puede definir el número de decimales en la salida:"
   ]
  },
  {
   "cell_type": "code",
   "execution_count": null,
   "metadata": {},
   "outputs": [],
   "source": [
    "# Valor aproximado de pi\n",
    "pi = 3 + 1/7\n",
    "\n",
    "# Cadena con 5 decimales de pi:\n",
    "spi = f'{pi:.5f}'\n",
    "\n",
    "print('El valor de PI es aproximadamente', spi) "
   ]
  },
  {
   "cell_type": "markdown",
   "metadata": {},
   "source": [
    "Y también es posible definir el número total de espacios que incluyen la parte entera, el punto decimal y el número de decimales:"
   ]
  },
  {
   "cell_type": "code",
   "execution_count": null,
   "metadata": {},
   "outputs": [],
   "source": [
    "numero_flotante_grande = 213.2131255345435643\n",
    "\n",
    "# Cadena con 10 espacios totales y 3 decimales\n",
    "snumero = f'{numero_flotante_grande:15.3f}'\n",
    "\n",
    "print(f'---|{snumero}|---')"
   ]
  },
  {
   "cell_type": "markdown",
   "metadata": {},
   "source": [
    "Al igual que las cadenas y los enteros, también se puede usar una alineación en la salida y rellenar con ceros los espacios en blanco:"
   ]
  },
  {
   "cell_type": "code",
   "execution_count": null,
   "metadata": {},
   "outputs": [],
   "source": [
    "snum_cen = f'{numero_flotante_grande:^015.3f}'\n",
    "snum_izq = f'{numero_flotante_grande:<015.3f}'\n",
    "snum_der = f'{numero_flotante_grande:>015.3f}'\n",
    "\n",
    "print(snum_cen)\n",
    "print(snum_izq)\n",
    "print(snum_der)"
   ]
  },
  {
   "cell_type": "markdown",
   "metadata": {},
   "source": [
    "### Usando el método `format()`\n",
    "\n",
    "Usando el método `str.format()`, también podemos formatear la salida. Aplica exactamente lo mismo que con las *f-string*. Por ejemplo:"
   ]
  },
  {
   "cell_type": "code",
   "execution_count": null,
   "metadata": {},
   "outputs": [],
   "source": [
    "# Definimos dos número enteros\n",
    "votos_a_favor = 42_572_654   \n",
    "votos_en_contra = 43_132_495 \n",
    "\n",
    "# Realizamos algunas operaciones\n",
    "total_de_votos = votos_a_favor + votos_en_contra\n",
    "porcentaje = votos_a_favor / total_de_votos\n",
    "\n",
    "# Revisamos el contenido y tipo de los números\n",
    "print(votos_a_favor, type(votos_a_favor))\n",
    "print(votos_en_contra, type(votos_en_contra))\n",
    "print(total_de_votos, type(total_de_votos))\n",
    "print(porcentaje, type(porcentaje))\n",
    "\n",
    "# Realizamos la impresión usando un formato\n",
    "print('{:^20d} votos a favor ({:^10.2%})'.format(votos_a_favor, porcentaje))"
   ]
  },
  {
   "cell_type": "markdown",
   "metadata": {},
   "source": [
    "Observa que se imprime `votos_a_favor` en 20 espacios y alineado al centro. También se imprime `porcentaje`, que es un número flotante, usando 10 espacios que incluyen el punto, dos decimales y el símbolo `%`. El uso de `%` convierte el número flotante en un porcentaje (multiplica por 100) automáticamente e imprime el símbolo.\n",
    "\n",
    "Se pueden usar números para identificar los argumentos de `str.format()`:"
   ]
  },
  {
   "cell_type": "code",
   "execution_count": null,
   "metadata": {},
   "outputs": [],
   "source": [
    "ej1 = '{0} y {1}'.format('el huevo', 'la gallina')\n",
    "ej2 = '{1} y {0:^20s}'.format('el huevo', 'la gallina')\n",
    "\n",
    "print(ej1)\n",
    "print(ej2)"
   ]
  },
  {
   "cell_type": "markdown",
   "metadata": {},
   "source": [
    "Se le puede dar nombre a los argumentos para que sea más fácil entender la salida"
   ]
  },
  {
   "cell_type": "code",
   "execution_count": null,
   "metadata": {},
   "outputs": [],
   "source": [
    "ej3 = \"Look {sujeto}, there's an {objeto} up in the sky\".format(sujeto='mummy', objeto='aeroplane')\n",
    "\n",
    "print(ej3)"
   ]
  },
  {
   "cell_type": "markdown",
   "metadata": {},
   "source": [
    "Usar un nombre en los argumentos de `str.format()` permite ponerlos en cualquier orden:"
   ]
  },
  {
   "cell_type": "code",
   "execution_count": null,
   "metadata": {},
   "outputs": [],
   "source": [
    "ej4 = \"Look {sujeto}, there's an {objeto} up in the sky\".format(objeto='aeroplane', sujeto='mummy')\n",
    "\n",
    "print(ej4)"
   ]
  },
  {
   "cell_type": "markdown",
   "metadata": {},
   "source": [
    "Se pueden combinar números con nombres de argumento:"
   ]
  },
  {
   "cell_type": "code",
   "execution_count": null,
   "metadata": {},
   "outputs": [],
   "source": [
    "ej5 = 'El {0}, el {1}, y el {otro}.'.format('Bueno', 'Malo', otro='Feo')\n",
    "\n",
    "print(ej5)"
   ]
  },
  {
   "cell_type": "markdown",
   "metadata": {},
   "source": [
    "Otro ejemplo de alineación (la declaración `for` la revisaremos en la notebook [07_control_de_flujo.ipynb](07_control_de_flujo.ipynb)):"
   ]
  },
  {
   "cell_type": "code",
   "execution_count": null,
   "metadata": {},
   "outputs": [],
   "source": [
    "for x in range(1, 11):\n",
    "    print('{0:2d} {1:3d} {2:4d}'.format(x, x*x, x*x*x))"
   ]
  },
  {
   "cell_type": "markdown",
   "metadata": {},
   "source": [
    "Para más información véase <a href=\"https://docs.python.org/3.7/library/string.html#formatstrings\"> Format String Syntax </a>"
   ]
  },
  {
   "cell_type": "markdown",
   "metadata": {},
   "source": [
    "### Forma antigua de formatear la salida\n",
    "\n",
    "Se puede seguir usando la forma antigua de la salida:"
   ]
  },
  {
   "cell_type": "code",
   "execution_count": null,
   "metadata": {},
   "outputs": [],
   "source": [
    "viejo = 'El valor aproximado de pi es %10.6f.' % pi\n",
    "\n",
    "print(viejo)"
   ]
  },
  {
   "cell_type": "markdown",
   "metadata": {},
   "source": [
    "## Inmutabilidad de las cadenas\n",
    "\n",
    "Los elementos de las cadenas no se pueden modificar:"
   ]
  },
  {
   "cell_type": "code",
   "execution_count": null,
   "metadata": {},
   "outputs": [],
   "source": [
    "# Intentamos modificar el elemento 5 de la cadena\n",
    "ejemplo[5] = \"e\""
   ]
  },
  {
   "cell_type": "code",
   "execution_count": null,
   "metadata": {},
   "outputs": [],
   "source": [
    "cadena='''\n",
    "este es un \n",
    "texto muy\n",
    "largo\n",
    "'''"
   ]
  },
  {
   "cell_type": "code",
   "execution_count": null,
   "metadata": {},
   "outputs": [],
   "source": [
    "print(cadena)"
   ]
  },
  {
   "cell_type": "code",
   "execution_count": null,
   "metadata": {},
   "outputs": [],
   "source": [
    "print(type(cadena))"
   ]
  },
  {
   "cell_type": "code",
   "execution_count": null,
   "metadata": {},
   "outputs": [],
   "source": [
    "len(cadena)"
   ]
  },
  {
   "cell_type": "code",
   "execution_count": null,
   "metadata": {},
   "outputs": [],
   "source": [
    "cadena[0] # El primer elemento es un cambio de línea"
   ]
  },
  {
   "cell_type": "code",
   "execution_count": null,
   "metadata": {},
   "outputs": [],
   "source": [
    "cadena[-1] # El último elemento es un cambio de línea"
   ]
  },
  {
   "cell_type": "code",
   "execution_count": null,
   "metadata": {},
   "outputs": [],
   "source": [
    "print(cadena[6])"
   ]
  },
  {
   "cell_type": "code",
   "execution_count": null,
   "metadata": {},
   "outputs": [],
   "source": [
    "cadena[6] = 'h'"
   ]
  },
  {
   "cell_type": "code",
   "execution_count": null,
   "metadata": {},
   "outputs": [],
   "source": []
  }
 ],
 "metadata": {
  "kernelspec": {
   "display_name": "Python 3 (ipykernel)",
   "language": "python",
   "name": "python3"
  },
  "language_info": {
   "codemirror_mode": {
    "name": "ipython",
    "version": 3
   },
   "file_extension": ".py",
   "mimetype": "text/x-python",
   "name": "python",
   "nbconvert_exporter": "python",
   "pygments_lexer": "ipython3",
   "version": "3.11.6"
  }
 },
 "nbformat": 4,
 "nbformat_minor": 4
}
