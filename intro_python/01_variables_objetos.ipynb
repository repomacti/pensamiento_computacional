{
 "cells": [
  {
   "cell_type": "markdown",
   "metadata": {},
   "source": [
    "# Variables y objetos.\n",
    "\n",
    "**Objetivo.**\n",
    "Explicar los conceptos de variables y objetos, cómo es que se declaran y cómo se usan mediante algunos ejemplos.\n",
    "\n",
    " <p xmlns:cc=\"http://creativecommons.org/ns#\" xmlns:dct=\"http://purl.org/dc/terms/\"><a property=\"dct:title\" rel=\"cc:attributionURL\" href=\"https://github.com/repomacti/pensamiento_computacional\">Pensamiento Computacional a Python</a> by <a rel=\"cc:attributionURL dct:creator\" property=\"cc:attributionName\" href=\"https://gmc.geofisica.unam.mx/luiggi\">Luis Miguel de la Cruz Salas</a> is licensed under <a href=\"https://creativecommons.org/licenses/by-sa/4.0/?ref=chooser-v1\" target=\"_blank\" rel=\"license noopener noreferrer\" style=\"display:inline-block;\">CC BY-SA 4.0<img style=\"height:22px!important;margin-left:3px;vertical-align:text-bottom;\" src=\"https://mirrors.creativecommons.org/presskit/icons/cc.svg?ref=chooser-v1\" alt=\"\"><img style=\"height:22px!important;margin-left:3px;vertical-align:text-bottom;\" src=\"https://mirrors.creativecommons.org/presskit/icons/by.svg?ref=chooser-v1\" alt=\"\"><img style=\"height:22px!important;margin-left:3px;vertical-align:text-bottom;\" src=\"https://mirrors.creativecommons.org/presskit/icons/sa.svg?ref=chooser-v1\" alt=\"\"></a></p> "
   ]
  },
  {
   "cell_type": "markdown",
   "metadata": {},
   "source": [
    "En Python las variables:\n",
    "\n",
    "- son **símbolos** que permiten identificar la información que se almacena en la memoria de la computadora,\n",
    "- son **nombres** o **etiquetas** para los objetos que se crean en Python,\n",
    "- se crean con ayuda del operador de asignación `=`,\n",
    "- no se tiene que establecer explícitamente el tipo de dato de la variable, pues esto se realiza de manera dinámica (**tipado dinámico**)."
   ]
  },
  {
   "cell_type": "markdown",
   "metadata": {},
   "source": [
    "## Reglas para definir los nombres de las variables.\n",
    "\n",
    "Los nombres de las variables: \n",
    "\n",
    "* pueden contener **letras**, **números** y **guiones bajos** (`_`),\n",
    "* deben comenzar con una letra o un guion bajo,\n",
    "* se distingue entre mayúsculas y minúsculas, por ejemplo, `variable` y `Variable` serán nombres diferentes.\n",
    "* puede contener caracteres Unicode (véase [Unicode](#unicode))."
   ]
  },
  {
   "cell_type": "markdown",
   "metadata": {},
   "source": [
    "    \n",
    "## Variables básicas.\n",
    "\n",
    "Los siguientes ejemplos son definiciones de variables con nombres válidos:"
   ]
  },
  {
   "cell_type": "code",
   "execution_count": null,
   "metadata": {},
   "outputs": [],
   "source": [
    "# el nombre de la variable con minúsculas, \n",
    "# el valor es de tipo cadena (usamos comillas dobles para definir una cadena)\n",
    "gabo = \"Gabriel García Márquez\"   \n",
    "\n",
    "# el nombre de la variable contiene un número, \n",
    "# el valor es de tipo entero\n",
    "gabo25 = 25  \n",
    "\n",
    "# el nombre de la variable comienza con _,\n",
    "# el valor es de tipo flotante\n",
    "_gabo = 3.1416  \n",
    "\n",
    "# el nombre nombre de la variable contiene mayúsculas y minúsculas, \n",
    "# el valor es de tipo número complejo: parte real + parte imaginaria (con j)\n",
    "GaboComplejo = 3 + 2j  \n",
    "\n",
    "# el nombre de la variable contiene un _, \n",
    "# el valor es de tipo Lógico\n",
    "gabo_logico = True "
   ]
  },
  {
   "cell_type": "markdown",
   "metadata": {},
   "source": [
    "Para imprimir el contenido de las variables definidas en la celda anterior usamos la función `print()` como sigue:"
   ]
  },
  {
   "cell_type": "code",
   "execution_count": null,
   "metadata": {},
   "outputs": [],
   "source": [
    "print(gabo)\n",
    "print(gabo25)\n",
    "print(_gabo)\n",
    "print(GaboComplejo)\n",
    "print(gabo_logico)"
   ]
  },
  {
   "cell_type": "markdown",
   "metadata": {},
   "source": [
    "El tipo de cada variable se obtiene usando la función `type()`:"
   ]
  },
  {
   "cell_type": "code",
   "execution_count": null,
   "metadata": {},
   "outputs": [],
   "source": [
    "type(gabo)"
   ]
  },
  {
   "cell_type": "markdown",
   "metadata": {},
   "source": [
    "Observa que la variable gabo es de tipo `str`.\n",
    "\n",
    "Python proporciona los siguientes tipos de variables básicas:\n",
    "\n",
    "* numéricos: `int`, `float`, `complex`,\n",
    "* cadenas: `str` y\n",
    "* lógicos: `True` y `False`.\n",
    "\n",
    "En la notebook [02_tipos_basicos.ipynb](02_tipos_basicos.ipynb) se describen estos tipos básicos en detalle."
   ]
  },
  {
   "cell_type": "markdown",
   "metadata": {},
   "source": [
    "<a name='funciones_incorporadas'></a>\n",
    "## Funciones incorporadas (*Built-in functions*).\n",
    "\n",
    "La función `print()` y `type()` son dos ejemplos de **Funciones incorporadas** (*Built-in functions*) en Python, las cuales siempre están disponibles para usarse en cualquier código. Se puede consultar la lista de estas funciones en  https://docs.python.org/3/library/functions.html. \n",
    "\n",
    "A lo largo de estas notebooks se introducirán algunas de estas funciones con ejemplos sencillos. En esta notebook particularmente veremos el uso de las funciones: `print()`, `type()`, `id()`, `chr()`, `ord()`, `del()`.\n",
    "\n",
    "La función `print()` imprime el contenido de una variable y puede recibir varios argumentos a la vez:"
   ]
  },
  {
   "cell_type": "code",
   "execution_count": null,
   "metadata": {},
   "outputs": [],
   "source": [
    "print(gabo, gabo25)"
   ]
  },
  {
   "cell_type": "markdown",
   "metadata": {},
   "source": [
    "Se puede imprimir el resultado de una operación:"
   ]
  },
  {
   "cell_type": "code",
   "execution_count": null,
   "metadata": {},
   "outputs": [],
   "source": [
    "print(3 * 4)"
   ]
  },
  {
   "cell_type": "markdown",
   "metadata": {},
   "source": [
    "También imprime el resultado de otras funciones por ejemplo:"
   ]
  },
  {
   "cell_type": "code",
   "execution_count": null,
   "metadata": {},
   "outputs": [],
   "source": [
    "print(type(gabo))"
   ]
  },
  {
   "cell_type": "markdown",
   "metadata": {},
   "source": [
    "En este caso se imprime el tipo de la variable `gabo`. Observa que se obtiene más información, particulamente nos dice que `gabo` es un **objeto** de la clase  `'str'`. Hablaremos un poco más de objetos y clases en la sección [Objetos y sus nombres](#objetos)."
   ]
  },
  {
   "cell_type": "markdown",
   "metadata": {},
   "source": [
    "## Variables con mayúsculas y minúsculas.\n",
    "\n",
    "Python es sensitivo a mayúsculas y minúsculas en los nombres de las variables. En el ejemplo que sigue se definen tres variables distintas:"
   ]
  },
  {
   "cell_type": "code",
   "execution_count": null,
   "metadata": {},
   "outputs": [],
   "source": [
    "pi = 3.14     \n",
    "PI = 31416e-4 \n",
    "Pi = 3.141592"
   ]
  },
  {
   "cell_type": "markdown",
   "metadata": {},
   "source": [
    "* La variable `pi` identifica al número flotante $3.14$.\n",
    "* La variable `PI` identifica al número flotante $31416 \\times 10^{-4}$ (se usa notación científica `31416e-4`) que es equivalente a $3.1416$.\n",
    "* La variable `Pi` identifica al número flotante $3.141592$.\n",
    "\n",
    "Estas tres variables son diferentes y se almacenan en lugares diferentes en la memoria de la computadora. La siguiente tabla muestra de manera esquemática los conceptos de nombre, valor de la variable e identificador en memoria:\n",
    "\n",
    "|Nombre| | Valor | id en memoria |\n",
    "|--:|--|:--|:-:|\n",
    "|`pi` |$\\rightarrow$| 3.14 | 140425110809872|\n",
    "|`PI` |$\\rightarrow$| 3.1416 | 140425110112240|\n",
    "|`Pi` |$\\rightarrow$| 3.141592 | 140425110112016|\n",
    "\n",
    "El identificador en memoria de cada variable es un número entero, el cual puede cambiar en cada ejecución. La función `id()` permite conocer el identificador en la memoria de cada variable:"
   ]
  },
  {
   "cell_type": "code",
   "execution_count": null,
   "metadata": {},
   "outputs": [],
   "source": [
    "id(pi)"
   ]
  },
  {
   "cell_type": "code",
   "execution_count": null,
   "metadata": {},
   "outputs": [],
   "source": [
    "id(PI)"
   ]
  },
  {
   "cell_type": "code",
   "execution_count": null,
   "metadata": {},
   "outputs": [],
   "source": [
    "id(Pi)"
   ]
  },
  {
   "cell_type": "markdown",
   "metadata": {},
   "source": [
    "Observa que cada variable tiene un número de identificador diferente. \n",
    "\n",
    "Es posible imprimir el valor de la variable, su tipo y su identificador en una sola línea de código como sigue:"
   ]
  },
  {
   "cell_type": "code",
   "execution_count": null,
   "metadata": {},
   "outputs": [],
   "source": [
    "print(pi, type(pi), id(pi))\n",
    "print(PI, type(PI), id(PI))\n",
    "print(Pi, type(Pi), id(Pi))"
   ]
  },
  {
   "cell_type": "markdown",
   "metadata": {},
   "source": [
    "<a name=\"objetos\">\n",
    "\n",
    "## Objetos y sus nombres.\n",
    "</a>\n",
    "\n",
    "Python es un lenguaje **Orientado a Objetos**. \n",
    "\n",
    "* Todo lo que definimos será un objeto de una clase determinada.\n",
    "* Una clase define atributos y métodos para los objetos.\n",
    "* Python tiene definidas clases de las cuales es posible construir objetos.\n",
    "\n",
    "En los ejemplos anteriores, en donde se han definido algunas variables, lo que realmente está pasando es que se están creando objetos de diferente tipo (o clase) y se les da un nombre. Por ejemplo, la siguiente declaración:\n",
    "\n",
    "```python\n",
    "a = 1\n",
    "```\n",
    "crea el objeto `1` de tipo entero (`<class 'int'>`) cuyo nombre es `a`.\n",
    "\n",
    "Si hacemos lo siguiente:\n",
    "\n",
    "```python\n",
    "b = a\n",
    "```\n",
    "\n",
    "se crea otro nombre para el mismo objeto `1`,  **NO se crea otro objeto**. \n",
    "\n",
    "Veamos lo anterior en la siguiente celda de código:"
   ]
  },
  {
   "cell_type": "code",
   "execution_count": null,
   "metadata": {},
   "outputs": [],
   "source": [
    "a = 1\n",
    "b = a\n",
    "print(a, type(a), id(a))\n",
    "print(b, type(b), id(b))"
   ]
  },
  {
   "cell_type": "markdown",
   "metadata": {},
   "source": [
    "<div class=\"alert alert-block alert-info\">\n",
    "\n",
    "<b>Nota</b>. \n",
    "\n",
    "<font color=\"Black\">\n",
    "    \n",
    "**En otros lenguajes**, por ejemplo en **lenguaje C**, un código equivalente al del ejercicio 2 podría ser como sigue:\n",
    "\n",
    "```\n",
    "int a = 1;\n",
    "int b = a;\n",
    "```\n",
    "\n",
    "En este caso, se genera el valor `1` para `a` y luego se crea otro valor `1` para `b` que es copiado de `a`, de tal manera que estas dos variables, `a` y `b` hacen referencia a lugares diferentes en la memoria.\n",
    "</font>\n",
    "</div>"
   ]
  },
  {
   "cell_type": "markdown",
   "metadata": {},
   "source": [
    "Ahora observa y ejecuta el siguiente código:"
   ]
  },
  {
   "cell_type": "code",
   "execution_count": null,
   "metadata": {},
   "outputs": [],
   "source": [
    "a = 1\n",
    "b = a\n",
    "print(a, id(a), type(a))\n",
    "print(b, id(b), type(b))\n",
    "\n",
    "b = 5.0\n",
    "print(a, id(a), type(a))\n",
    "print(b, id(b), type(b))"
   ]
  },
  {
   "cell_type": "markdown",
   "metadata": {},
   "source": [
    "* Nota que inicialmente `a` y `b` tienen el mismo identificador en memoria, por lo que son dos nombres para el mismo objeto `1` que es de tipo entero.\n",
    "* Posteriormente, se crea el nuevo objeto `5.0`, un flotante, y se le da el nombre `b`; en ese momento `a` y `b` hacen referencia a dos objetos diferentes y sucede que:\n",
    "    * el contenido de `b` es `5.0`,\n",
    "    * `b` tiene un identificador diferente al de `a`\n",
    "    * y `b` ahora es de tipo flotante.\n",
    "\n",
    "Esta conceptualización de objetos y sus nombres es muy importante cuando se manejan estructuras de datos más complejas.\n",
    "\n",
    "<div class=\"alert alert-block alert-info\">\n",
    "\n",
    "<b>Nota</b>. \n",
    "\n",
    "<font color=\"Black\">\n",
    "    \n",
    "Usaremos el término **variable** para referirnos a los nombres de los **objetos**. Cuando sea conveniente usaremos el término **objeto**. \n",
    "</font>\n",
    "</div>"
   ]
  },
  {
   "cell_type": "markdown",
   "metadata": {},
   "source": [
    "## Definición de varios nombres a la vez.\n",
    "\n",
    "La siguiente declaración genera tres nombres para el mismo valor `25`."
   ]
  },
  {
   "cell_type": "code",
   "execution_count": null,
   "metadata": {},
   "outputs": [],
   "source": [
    "x = y = z = 25"
   ]
  },
  {
   "cell_type": "code",
   "execution_count": null,
   "metadata": {},
   "outputs": [],
   "source": [
    "print(x, type(x), id(x))\n",
    "print(y, type(y), id(y))\n",
    "print(z, type(z), id(z))"
   ]
  },
  {
   "cell_type": "markdown",
   "metadata": {},
   "source": [
    "Observa que se creó el objeto `25` de tipo `<class 'int'>` y los nombres `x`, `y` y `z` son nombres diferentes para el mismo objeto, lo cual se verifica observando que el identificador de cada variable es el mismo.\n",
    "\n",
    "Hagamos ahora lo siguiente:"
   ]
  },
  {
   "cell_type": "code",
   "execution_count": null,
   "metadata": {},
   "outputs": [],
   "source": [
    "y = 2.7182\n",
    "print(x, type(x), id(x))\n",
    "print(y, type(y), id(y))\n",
    "print(z, type(z), id(z))"
   ]
  },
  {
   "cell_type": "markdown",
   "metadata": {},
   "source": [
    "Observa que la variable `y` es de tipo flotante cuyo valor es `2.7182`.\n",
    "\n",
    "\n",
    "Podemos eliminar el nombre `x` con la función `del()`:"
   ]
  },
  {
   "cell_type": "code",
   "execution_count": null,
   "metadata": {},
   "outputs": [],
   "source": [
    "del(x)"
   ]
  },
  {
   "cell_type": "markdown",
   "metadata": {},
   "source": [
    "Ahora ya no es posible hacer referencia al objeto `25` usando el nombre `x`. Si intentamos imprimir `x` se generará un error indicando lo anterior:"
   ]
  },
  {
   "cell_type": "code",
   "execution_count": null,
   "metadata": {},
   "outputs": [],
   "source": [
    "print(x)"
   ]
  },
  {
   "cell_type": "markdown",
   "metadata": {},
   "source": [
    "Sin embargo, aún es posible hacer referencia al objeto `25` usando el nombre `z`:"
   ]
  },
  {
   "cell_type": "code",
   "execution_count": null,
   "metadata": {},
   "outputs": [],
   "source": [
    "print(z, type(z), id(z))"
   ]
  },
  {
   "cell_type": "markdown",
   "metadata": {},
   "source": [
    "El objeto `25` será eliminado de la memoria cuando ya no exista un nombre que haga referencia a él. Entonces es posible eliminar ese objeto como sigue:"
   ]
  },
  {
   "cell_type": "code",
   "execution_count": null,
   "metadata": {},
   "outputs": [],
   "source": [
    "del(z)"
   ]
  },
  {
   "cell_type": "code",
   "execution_count": null,
   "metadata": {},
   "outputs": [],
   "source": [
    "# Esto dará un error\n",
    "print(z, type(z), id(z))"
   ]
  },
  {
   "cell_type": "markdown",
   "metadata": {},
   "source": [
    "## Asignación múltiple\n",
    "\n",
    "Podemos hacer una asignación múltiple de objetos diferentes a variables diferentes, por ejemplo:"
   ]
  },
  {
   "cell_type": "code",
   "execution_count": null,
   "metadata": {},
   "outputs": [],
   "source": [
    "x, y, z = \"una cadena\", 3.141592, 50"
   ]
  },
  {
   "cell_type": "code",
   "execution_count": null,
   "metadata": {},
   "outputs": [],
   "source": [
    "print(x, type(x), id(x))\n",
    "print(y, type(y), id(y))\n",
    "print(z, type(z), id(z))"
   ]
  },
  {
   "cell_type": "markdown",
   "metadata": {},
   "source": [
    "Como se observa, las variables `x`, `y` y `z` hacen referencia a diferentes objetos de distinto tipo."
   ]
  },
  {
   "cell_type": "markdown",
   "metadata": {},
   "source": [
    "<a name=\"unicode\">\n",
    "    \n",
    "## Nombres de variables Unicode\n",
    "</a>\n",
    "\n",
    "<div class=\"alert alert-block alert-info\">\n",
    "\n",
    "<b>Unicode</b>. \n",
    "\n",
    "<font color=\"Black\">\n",
    "    \n",
    "Es un estándar para la codificación de caracteres, que permite el tratamiento informático, la transmisión y visualización de textos de muchos idiomas y disciplinas técnicas. Unicode intenta tener universalidad, uniformidad y unicidad.  \n",
    "\n",
    "Unicode define tres formas de codificación bajo el nombre UTF (Unicode transformation format): UTF8, UTF16, UTF32. Véase https://es.wikipedia.org/wiki/Unicode\n",
    "</font>\n",
    "</div>\n",
    "\n",
    "Python utiliza la codificación unicode, podemos saber el tipo de codificación como sigue:"
   ]
  },
  {
   "cell_type": "code",
   "execution_count": null,
   "metadata": {},
   "outputs": [],
   "source": [
    "# Importamos el módulo sys\n",
    "import sys\n",
    "\n",
    "# Imprimimos el tipo de codificación\n",
    "sys.stdout.encoding "
   ]
  },
  {
   "cell_type": "markdown",
   "metadata": {},
   "source": [
    "La compatibilidad con UTF-8 en Python significa que se puede leer, escribir y manipular archivos de datos provenientes de fuentes diversas como archivos binarios, bases de datos, APIs web, entre muchas otras; estas fuentes pueden contener texto en diferentes idiomas y codificaciones.\n",
    "\n",
    "A continuación se muestran algunos ejemplos."
   ]
  },
  {
   "cell_type": "code",
   "execution_count": null,
   "metadata": {},
   "outputs": [],
   "source": [
    "# Acentos y caracteres de idiomas en el nombre de variables\n",
    "México = \"en el ombligo de la luna\"\n",
    "español = \"lengua romance\"\n",
    "français = \"langues romanes\"\n",
    "Ελληνικά = \"Griego\"\n",
    "Русский = \"Ruso\"\n",
    "\n",
    "# Símbolos matemáticos\n",
    "𝜋 = 3.1416\n",
    "ℏ = 6.626e-34"
   ]
  },
  {
   "cell_type": "markdown",
   "metadata": {},
   "source": [
    "Estas variables se pueden usar como cualquier otra, por ejemplo podemos imprimir su contenido, determinar su tipo y su identificador en memoria, y las podemos usar en operaciones:"
   ]
  },
  {
   "cell_type": "code",
   "execution_count": null,
   "metadata": {},
   "outputs": [],
   "source": [
    "print(México, type(México), id(México))\n",
    "print(𝜋, type(𝜋), id(𝜋))\n",
    "print(2 * 𝜋)"
   ]
  },
  {
   "cell_type": "markdown",
   "metadata": {},
   "source": [
    "También es posible imprimir el caracter unicode y su valor como sigue:"
   ]
  },
  {
   "cell_type": "code",
   "execution_count": null,
   "metadata": {},
   "outputs": [],
   "source": [
    "# Imprimimos el valor de la variable Ελληνικά\n",
    "print(\"Ελληνικά = \", Ελληνικά)"
   ]
  },
  {
   "cell_type": "markdown",
   "metadata": {},
   "source": [
    "Los códigos Unicode de cada caracter se pueden dar en decimal o hexadecimal, por ejemplo para el símbolo $\\pi$ se tiene el código decimal `120587` y hexadecimal `0x1D70B`. La función `chr()` convierte el código Unicode en el caracter correspondiente:"
   ]
  },
  {
   "cell_type": "code",
   "execution_count": null,
   "metadata": {},
   "outputs": [],
   "source": [
    "# Código hexadecimal del caracter 𝜋\n",
    "chr(0x1D70B)"
   ]
  },
  {
   "cell_type": "code",
   "execution_count": null,
   "metadata": {},
   "outputs": [],
   "source": [
    "# Código decimal del caracter 𝜋\n",
    "chr(120587)"
   ]
  },
  {
   "cell_type": "markdown",
   "metadata": {},
   "source": [
    "La función `ord()` obtiene el código Unicode de un caracter y lo regresa en decimal:"
   ]
  },
  {
   "cell_type": "code",
   "execution_count": null,
   "metadata": {},
   "outputs": [],
   "source": [
    "ord(\"𝜋\")"
   ]
  },
  {
   "cell_type": "markdown",
   "metadata": {},
   "source": [
    "También es posible obtener más información de los códigos unicode como sigue:"
   ]
  },
  {
   "cell_type": "code",
   "execution_count": null,
   "metadata": {},
   "outputs": [],
   "source": [
    "# Importamos el módulo unicodedata\n",
    "import unicodedata \n",
    "\n",
    "print(\"𝜋\")\n",
    "print(ord(\"𝜋\"))\n",
    "print(unicodedata.category(\"𝜋\"))\n",
    "print(unicodedata.name(\"𝜋\"))"
   ]
  },
  {
   "cell_type": "markdown",
   "metadata": {},
   "source": [
    "Para más información véase: https://docs.python.org/3/howto/unicode.html\n",
    "\n",
    "También en los siguientes dos enlaces se pueden obtener los códigos UTF8 de diferentes caracteres especiales:\n",
    "* https://www.compart.com/en/unicode/html\n",
    "* https://www.unicode.org/charts/"
   ]
  },
  {
   "cell_type": "markdown",
   "metadata": {},
   "source": [
    "## Nombres inválidos para variables\n",
    "\n",
    "Los siguientes ejemplos **NO SON VÁLIDOS** para el nombre de variables. Al ejecutar las celdas se obtendrá un error en cada una de ellas."
   ]
  },
  {
   "cell_type": "code",
   "execution_count": null,
   "metadata": {},
   "outputs": [],
   "source": [
    "1luis = 20      # No se puede iniciar con un número"
   ]
  },
  {
   "cell_type": "code",
   "execution_count": null,
   "metadata": {},
   "outputs": [],
   "source": [
    "luis$ = 8.2323  # No puede contener caracteres especiales"
   ]
  },
  {
   "cell_type": "code",
   "execution_count": null,
   "metadata": {},
   "outputs": [],
   "source": [
    "for = 35        # Algunos nombres ya están reservados"
   ]
  },
  {
   "cell_type": "markdown",
   "metadata": {},
   "source": [
    "### Palabras reservadas.\n",
    "\n",
    "Como vimos en la celda anterior, no es posible usar las palabras reservadas de Python para nombrar variables. La lista de palabras reservadas se puede consultar con la siguiente expresión:"
   ]
  },
  {
   "cell_type": "code",
   "execution_count": null,
   "metadata": {},
   "outputs": [],
   "source": [
    "help(\"keywords\")"
   ]
  },
  {
   "cell_type": "code",
   "execution_count": null,
   "metadata": {},
   "outputs": [],
   "source": []
  }
 ],
 "metadata": {
  "kernelspec": {
   "display_name": "Python 3 (ipykernel)",
   "language": "python",
   "name": "python3"
  },
  "language_info": {
   "codemirror_mode": {
    "name": "ipython",
    "version": 3
   },
   "file_extension": ".py",
   "mimetype": "text/x-python",
   "name": "python",
   "nbconvert_exporter": "python",
   "pygments_lexer": "ipython3",
   "version": "3.11.6"
  }
 },
 "nbformat": 4,
 "nbformat_minor": 4
}
