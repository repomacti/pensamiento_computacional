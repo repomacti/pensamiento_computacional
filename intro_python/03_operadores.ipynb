{
 "cells": [
  {
   "cell_type": "markdown",
   "metadata": {},
   "source": [
    "# Operadores.\n",
    "\n",
    "**Objetivo.**\n",
    "Explicar los operadores aritméticos, relacionales y lógicos, así como mostrar su uso con varios ejemplos.\n",
    "\n",
    "<p xmlns:cc=\"http://creativecommons.org/ns#\" xmlns:dct=\"http://purl.org/dc/terms/\"><a property=\"dct:title\" rel=\"cc:attributionURL\" href=\"https://github.com/repomacti/pensamiento_computacional\">Pensamiento Computacional a Python</a> by <a rel=\"cc:attributionURL dct:creator\" property=\"cc:attributionName\" href=\"https://gmc.geofisica.unam.mx/luiggi\">Luis Miguel de la Cruz Salas</a> is licensed under <a href=\"https://creativecommons.org/licenses/by-sa/4.0/?ref=chooser-v1\" target=\"_blank\" rel=\"license noopener noreferrer\" style=\"display:inline-block;\">CC BY-SA 4.0<img style=\"height:22px!important;margin-left:3px;vertical-align:text-bottom;\" src=\"https://mirrors.creativecommons.org/presskit/icons/cc.svg?ref=chooser-v1\" alt=\"\"><img style=\"height:22px!important;margin-left:3px;vertical-align:text-bottom;\" src=\"https://mirrors.creativecommons.org/presskit/icons/by.svg?ref=chooser-v1\" alt=\"\"><img style=\"height:22px!important;margin-left:3px;vertical-align:text-bottom;\" src=\"https://mirrors.creativecommons.org/presskit/icons/sa.svg?ref=chooser-v1\" alt=\"\"></a></p> "
   ]
  },
  {
   "cell_type": "markdown",
   "metadata": {},
   "source": [
    "## Operadores aritméticos \n",
    "\n",
    "Para los tipos numéricos básicos, existen operaciones aritméticas que se pueden aplicar sobre ellos. Estas operaciones están organizadas como se muestra en la siguiente tabla:\n",
    "\n",
    "| Categoría | Operadores |\n",
    "|---|---|\n",
    "| Exponenciación | `**` | \n",
    "| Multiplicación | `*`,`/`,`//`,`%` | \n",
    "| Adición | `+`,`-` |\n",
    "\n",
    "Veamos algunos ejemplos:"
   ]
  },
  {
   "cell_type": "code",
   "execution_count": null,
   "metadata": {},
   "outputs": [],
   "source": [
    "# Suma\n",
    "suma = 1 + 2\n",
    "\n",
    "# Imprimimos el resultado y el tipo\n",
    "print(suma, type(suma))"
   ]
  },
  {
   "cell_type": "code",
   "execution_count": null,
   "metadata": {},
   "outputs": [],
   "source": [
    "# Resta\n",
    "resta = 5 - 32\n",
    "\n",
    "# Imprimimos el resultado y el tipo\n",
    "print(resta, type(resta))"
   ]
  },
  {
   "cell_type": "code",
   "execution_count": null,
   "metadata": {},
   "outputs": [],
   "source": [
    "# Multiplicación\n",
    "multiplicacion = 3 * 3\n",
    "\n",
    "# Imprimimos el resultado y el tipo\n",
    "print(multiplicacion, type(multiplicacion))"
   ]
  },
  {
   "cell_type": "code",
   "execution_count": null,
   "metadata": {},
   "outputs": [],
   "source": [
    "# División\n",
    "division = 3 / 2\n",
    "\n",
    "# Imprimimos el resultado y el tipo\n",
    "print(division, type(division))"
   ]
  },
  {
   "cell_type": "code",
   "execution_count": null,
   "metadata": {},
   "outputs": [],
   "source": [
    "# División entera: divide los números y elimina la parte decimal\n",
    "div_entera = 50 // 3\n",
    "\n",
    "# Imprimimos el resultado y el tipo\n",
    "print(div_entera, type(div_entera))"
   ]
  },
  {
   "cell_type": "code",
   "execution_count": null,
   "metadata": {},
   "outputs": [],
   "source": [
    "# Módulo: divide los números y regresa el residuo.\n",
    "modulo = 50 % 3\n",
    "\n",
    "# Imprimimos el resultado y el tipo\n",
    "print(modulo, type(modulo))"
   ]
  },
  {
   "cell_type": "code",
   "execution_count": null,
   "metadata": {},
   "outputs": [],
   "source": [
    "# Potencia usando un entero\n",
    "potencia = 9**2 # 9 al cuadrado\n",
    "\n",
    "# Imprimimos el resultado y el tipo\n",
    "print(potencia, type(potencia))"
   ]
  },
  {
   "cell_type": "code",
   "execution_count": null,
   "metadata": {},
   "outputs": [],
   "source": [
    "# Potencia usando un número decimal\n",
    "potencia = 81**0.5 # raíz cuadrada de 81\n",
    "\n",
    "# Imprimimos el resultado y el tipo\n",
    "print(potencia, type(potencia))"
   ]
  },
  {
   "cell_type": "code",
   "execution_count": null,
   "metadata": {},
   "outputs": [],
   "source": [
    "# Potencia usando un número decimal\n",
    "potencia = 2**(0.35) # 2 elevado a la potencia 0.35\n",
    "\n",
    "# Imprimimos el resultado y el tipo\n",
    "print(potencia, type(potencia))"
   ]
  },
  {
   "cell_type": "markdown",
   "metadata": {},
   "source": [
    "<a name=\"precedencia\">\n",
    "    \n",
    "## Precedencia.\n",
    "</a>\n",
    "La aplicación de los operadores tiene cierta precedencia que está definida en cada implementación del lenguaje de programación. La siguiente tabla muestra el orden en que se aplicarán los operadores. \n",
    "\n",
    "| Nivel | Categoría | Operadores|\n",
    "|---|---|---|\n",
    "| 7 | exponenciación | `**` |\n",
    "| 6 | multiplicación | `*`,`/`,`//`,`%` |\n",
    "| 5 | adición | `+`,`-`|\n",
    "| 4 | relacional | `==`,`!=`,`<=`,`>=`,`>`,`<`|\n",
    "| 3 | lógicos | `not` |\n",
    "| 2 | lógicos | `and` |\n",
    "| 1 | lógicos | `or` |\n",
    "\n",
    "Como se puede ver, siempre se aplican primero los operadores aritméticos (niveles 7, 6, y 5), luego los relacionales (nivel 4) y finalmente los lógicos (3, 2 y 1).\n",
    "\n",
    "Más acerca de este tema se puede ver aquí: <a href=\"https://docs.python.org/3/reference/expressions.html#operator-summary\">Operator precedence</a>.\n",
    "\n",
    "A continuación se muestran ejemplos de operaciones aritméticas en donde se resalta esta precedencia:"
   ]
  },
  {
   "cell_type": "code",
   "execution_count": null,
   "metadata": {},
   "outputs": [],
   "source": [
    "# Precedencia de operaciones: primero se realiza la multiplicación\n",
    "1 + 2 * 3 + 4"
   ]
  },
  {
   "cell_type": "code",
   "execution_count": null,
   "metadata": {},
   "outputs": [],
   "source": [
    "# Es posible usar paréntesis para modificar la precedencia: primero la suma\n",
    "(1 + 2) * (3 + 4)"
   ]
  },
  {
   "cell_type": "code",
   "execution_count": null,
   "metadata": {},
   "outputs": [],
   "source": [
    "# Primero se realiza la exponenciación\n",
    "3**2/2"
   ]
  },
  {
   "cell_type": "markdown",
   "metadata": {},
   "source": [
    "## Operaciones entre tipos diferentes\n",
    "\n",
    "Es posible combinar operaciones entre tipos de números diferentes. Lo que Python hará es promover cada número al tipo más sofisticado, siendo el orden de sofisticación, de menos a más, como sigue: `int`, `float`, `complex`."
   ]
  },
  {
   "cell_type": "code",
   "execution_count": null,
   "metadata": {},
   "outputs": [],
   "source": [
    "# Operación entre enteros\n",
    "a = 2 * 3\n",
    "print(a, type(a))"
   ]
  },
  {
   "cell_type": "code",
   "execution_count": null,
   "metadata": {},
   "outputs": [],
   "source": [
    "# Operación entre entero y flotante\n",
    "a = 2 * 3.0\n",
    "print(a, type(a))"
   ]
  },
  {
   "cell_type": "code",
   "execution_count": null,
   "metadata": {},
   "outputs": [],
   "source": [
    "# Operación entre entero y complejo\n",
    "a = 2 * (1 + 3j)\n",
    "print(a, type(a))"
   ]
  },
  {
   "cell_type": "code",
   "execution_count": null,
   "metadata": {},
   "outputs": [],
   "source": [
    "# Operación entre flotante y complejo\n",
    "a = 2.0 * (1 + 3j)\n",
    "print(a, type(a))"
   ]
  },
  {
   "cell_type": "code",
   "execution_count": null,
   "metadata": {},
   "outputs": [],
   "source": [
    "# División entre enteros que da como resultado un flotante\n",
    "a = 2/3\n",
    "print(a, type(a))"
   ]
  },
  {
   "cell_type": "markdown",
   "metadata": {},
   "source": [
    "## Operadores de asignación\n",
    "\n",
    "Existen varios operadores para realizar asignaciones:\n",
    "\n",
    "| Operador | Operación | Equivalencia|\n",
    "|---|---|---|\n",
    "| `+=` | `b += a` | `b = b + a` |\n",
    "| `-=` | `b -= a` | `b = b - a` |\n",
    "| `*=` | `b *= a` | `b = b * a` |\n",
    "| `/=` | `b /= a` | `b = b / a` |\n",
    "| `//=` | `b //= a` | `b = b // a` |\n",
    "| `%=` | `b %= a` | `b = b % a` |\n",
    "| `**=` | `b **= a` | `b = b ** a` |\n",
    "\n",
    "La forma de uso de estos operadores se muestra en los siguientes ejemplos:"
   ]
  },
  {
   "cell_type": "code",
   "execution_count": null,
   "metadata": {},
   "outputs": [],
   "source": [
    "a = 1.0 \n",
    "b = 1.0\n",
    "b += a  \n",
    "print(b)"
   ]
  },
  {
   "cell_type": "code",
   "execution_count": null,
   "metadata": {},
   "outputs": [],
   "source": [
    "a =  4\n",
    "b = 16\n",
    "b -= a  \n",
    "print(b)"
   ]
  },
  {
   "cell_type": "code",
   "execution_count": null,
   "metadata": {},
   "outputs": [],
   "source": [
    "a = 2\n",
    "b = 12\n",
    "b *= a  \n",
    "print(b)"
   ]
  },
  {
   "cell_type": "code",
   "execution_count": null,
   "metadata": {},
   "outputs": [],
   "source": [
    "a = 3\n",
    "b = 50\n",
    "b /= a \n",
    "print(b)"
   ]
  },
  {
   "cell_type": "code",
   "execution_count": null,
   "metadata": {},
   "outputs": [],
   "source": [
    "a = 3\n",
    "b = 50\n",
    "b //= a \n",
    "print(b)"
   ]
  },
  {
   "cell_type": "code",
   "execution_count": null,
   "metadata": {},
   "outputs": [],
   "source": [
    "a = 3\n",
    "b = 50\n",
    "b %= a\n",
    "print(b)"
   ]
  },
  {
   "cell_type": "code",
   "execution_count": null,
   "metadata": {},
   "outputs": [],
   "source": [
    "a = 2\n",
    "b = 3\n",
    "b **= a \n",
    "print(b)"
   ]
  },
  {
   "cell_type": "markdown",
   "metadata": {},
   "source": [
    "## Operadores relacionales\n",
    "\n",
    "Cuando se aplica un operador relacional a dos expresiones, se realiza una comparación entre dichas expresiones y se obtiene como resultado un tipo lógico (`bool`): `True` o `False`.\n",
    "\n",
    "Los operadores relacionales que están definidos son: \n",
    "\n",
    "| Operador | Operación | Significado|\n",
    "|---|---|---|\n",
    "| `==` | `A == B` | ¿Es A igual a B? |\n",
    "| `!=` | `A != B` | ¿Es A diferente de B? |\n",
    "| `>` | `A > B` | ¿Es A mayor que B? |\n",
    "| `>=` | `A >= B` | ¿Es A mayor o igual a B? |\n",
    "| `>` | `A < B` | ¿Es A menor que B? |\n",
    "| `<=` | `A >= B` | ¿Es A menor o igual a B? |\n",
    "\n",
    "A continuación se muestran algunos ejemplos:"
   ]
  },
  {
   "cell_type": "code",
   "execution_count": null,
   "metadata": {},
   "outputs": [],
   "source": [
    "# ¿Es 35 mayor que 562?\n",
    "35 > 562 "
   ]
  },
  {
   "cell_type": "code",
   "execution_count": null,
   "metadata": {},
   "outputs": [],
   "source": [
    "# ¿Es 32 mayor o igual que 21?\n",
    "32 >= 21 "
   ]
  },
  {
   "cell_type": "code",
   "execution_count": null,
   "metadata": {},
   "outputs": [],
   "source": [
    "# ¿Es 12 menor que 34?\n",
    "12 < 34 "
   ]
  },
  {
   "cell_type": "code",
   "execution_count": null,
   "metadata": {},
   "outputs": [],
   "source": [
    "# ¿Es 12 menor o igual que 25?\n",
    "12 <= 25 "
   ]
  },
  {
   "cell_type": "code",
   "execution_count": null,
   "metadata": {},
   "outputs": [],
   "source": [
    "# ¿Es 1 igual a 2?\n",
    "1 == 2 "
   ]
  },
  {
   "cell_type": "code",
   "execution_count": null,
   "metadata": {},
   "outputs": [],
   "source": [
    "# ¿Es 1 diferente de 2?\n",
    "1 != 2"
   ]
  },
  {
   "cell_type": "code",
   "execution_count": null,
   "metadata": {},
   "outputs": [],
   "source": [
    "# Se pueden comparar otros tipos de datos\n",
    "'aaa' == 'aaaA' "
   ]
  },
  {
   "cell_type": "code",
   "execution_count": null,
   "metadata": {},
   "outputs": [],
   "source": [
    "# La comparación se puede hacer con el resultado de expresiones\n",
    "5 > len('5')"
   ]
  },
  {
   "cell_type": "markdown",
   "metadata": {},
   "source": [
    "## Operaciones lógicas.\n",
    "\n",
    "Los operadores lógicos que se pueden usar son: \n",
    "\n",
    "| Operador | Uso | Resultado |\n",
    "|---|---|---|\n",
    "| `not` | `not A` | Invierte el resultado de `A`|\n",
    "| `and` | `A and B` | `True` si `A` y `B` son `True`; `False` en otro caso |\n",
    "| `or` | `A or B`| `False` si `A` y `B` son `False`; `True` en otro caso |\n",
    "\n",
    "Veamos algunos ejemplos.\n",
    "\n",
    "### `and`"
   ]
  },
  {
   "cell_type": "code",
   "execution_count": null,
   "metadata": {},
   "outputs": [],
   "source": [
    "# Para que el resultado sea verdadero, se deben cumplir las dos expresiones\n",
    "# que se encuentran a la derecha e izquierda del 'and'. Si una de ellas no se\n",
    "# cumple, el resultado será falso.\n",
    "(5 < 32) and (63 > 32) "
   ]
  },
  {
   "cell_type": "markdown",
   "metadata": {},
   "source": [
    "Debido a la precedencia de operadores (véase [Precedencia](#precedencia)), no son necesarios los paréntesis en la operaciones relacionales de la expresión anterior, por lo que es posible escribir: "
   ]
  },
  {
   "cell_type": "code",
   "execution_count": null,
   "metadata": {},
   "outputs": [],
   "source": [
    "5 < 32 and 63 > 32"
   ]
  },
  {
   "cell_type": "markdown",
   "metadata": {},
   "source": [
    "Aunque a veces el uso de paréntesis hace la lectura del código más clara: "
   ]
  },
  {
   "cell_type": "code",
   "execution_count": null,
   "metadata": {},
   "outputs": [],
   "source": [
    "(2.32 < 21) and (23 > 63)"
   ]
  },
  {
   "cell_type": "markdown",
   "metadata": {},
   "source": [
    "### `or`"
   ]
  },
  {
   "cell_type": "code",
   "execution_count": null,
   "metadata": {},
   "outputs": [],
   "source": [
    "# Para que el resultado sea verdadero, se deben cumplir una de las dos expresiones\n",
    "# que se encuentran a la derecha e izquierda del 'or'. Si una de ellas se cumple, \n",
    "# el resultado será verdadero.\n",
    "(32 == 21) or (5 < 31)"
   ]
  },
  {
   "cell_type": "code",
   "execution_count": null,
   "metadata": {},
   "outputs": [],
   "source": [
    "# Para que el resultado sea falso, ambas expresiones deben ser falsas.\n",
    "(32 == 21) or (31 < 5) "
   ]
  },
  {
   "cell_type": "markdown",
   "metadata": {},
   "source": [
    "### `not`\n",
    "\n",
    "Este operador es usado para obtener el valor Booleano opuesto al valor actual de una variable. Se conoce como el operador de *negación*."
   ]
  },
  {
   "cell_type": "code",
   "execution_count": null,
   "metadata": {},
   "outputs": [],
   "source": [
    "# Invierte el resultado de la expresión\n",
    "not True"
   ]
  },
  {
   "cell_type": "code",
   "execution_count": null,
   "metadata": {},
   "outputs": [],
   "source": [
    "a = 32 != 32\n",
    "print(a)\n",
    "print(not a)"
   ]
  },
  {
   "cell_type": "markdown",
   "metadata": {},
   "source": [
    "## Operador `is`\n",
    "\n",
    "Este operador permite comprobar si dos objetos son el mismo.  Por ejemplo:"
   ]
  },
  {
   "cell_type": "code",
   "execution_count": null,
   "metadata": {},
   "outputs": [],
   "source": [
    "a = 1\n",
    "b = a\n",
    "\n",
    "# Preguntamos si 'b' representa el mismo objeto que 'a'\n",
    "print('¿b es a?', b is a)\n",
    "\n",
    "# Imprimimos sus identificadores en memoria\n",
    "print('id(a) = ', id(a))\n",
    "print('id(b) = ', id(b))"
   ]
  },
  {
   "cell_type": "markdown",
   "metadata": {},
   "source": [
    "Podemos hacer la pregunta inversa agregando el operador `not`:"
   ]
  },
  {
   "cell_type": "code",
   "execution_count": null,
   "metadata": {},
   "outputs": [],
   "source": [
    "# Preguntamos si 'b' NO representa el mismo objeto que 'a'\n",
    "print('¿b NO es a?', b is not a)\n",
    "\n",
    "# Imprimimos sus identificadores en memoria\n",
    "print('id(a) = ', id(a))\n",
    "print('id(b) = ', id(b))"
   ]
  },
  {
   "cell_type": "markdown",
   "metadata": {},
   "source": [
    "Finalmente, si modificamos `b` tenemos:"
   ]
  },
  {
   "cell_type": "code",
   "execution_count": null,
   "metadata": {},
   "outputs": [],
   "source": [
    "b = 5.0\n",
    "print('¿b es a?', b is a)\n",
    "print('¿b NO es a?', b is not a)\n",
    "print('id(a) = ', id(a))\n",
    "print('id(b) = ', id(b))"
   ]
  },
  {
   "cell_type": "markdown",
   "metadata": {},
   "source": [
    "## Comparación entre números flotantes.\n",
    "La comparación entre números de tipo flotante debe realizarse con cuidado, veamos el siguiente ejemplo:"
   ]
  },
  {
   "cell_type": "code",
   "execution_count": null,
   "metadata": {},
   "outputs": [],
   "source": [
    "(0.4 - 0.3) == 0.1"
   ]
  },
  {
   "cell_type": "markdown",
   "metadata": {},
   "source": [
    "El cálculo a mano de `(0.4 - 0.3)` da como resultado `0.1`; pero en una computadora este cálculo es aproximado y depende de las características del hardware (exponente, mantisa, base, etcétera), véase [*Floating-Point Arithmetic*](https://docs.python.org/3/tutorial/floatingpoint.html) para más información. En Python el resultado de la operación `(0.4 - 0.3)` es diferente de `0.1`, veamos:"
   ]
  },
  {
   "cell_type": "code",
   "execution_count": null,
   "metadata": {},
   "outputs": [],
   "source": [
    "print(0.4 - 0.3)"
   ]
  },
  {
   "cell_type": "markdown",
   "metadata": {},
   "source": [
    "Python ofrece herramientas que permiten realizar una mejor comparación entre números de tipo flotante. Por ejemplo la biblioteca `math` contiene la función `isclose(a, b)` en donde se puede definir una tolerancia mínima para que las dos expresiones, `a` y `b` se consideren iguales (*cercanas*), por ejemplo:"
   ]
  },
  {
   "cell_type": "code",
   "execution_count": null,
   "metadata": {},
   "outputs": [],
   "source": [
    "# Importamos el módulo math\n",
    "import math\n",
    "\n",
    "# Utilizamos la función `isclose()` de math para comparar dos números flotantes\n",
    "math.isclose((0.4 - 0.3), 0.1)"
   ]
  },
  {
   "cell_type": "markdown",
   "metadata": {},
   "source": [
    "Se recomienda revisar el manual de [`math.isclose()`](https://docs.python.org/3/library/math.html) y el de [`numpy.isclose()`](https://numpy.org/doc/stable/reference/generated/numpy.isclose.html)para comparación de arreglos con elementos de tipo flotante."
   ]
  },
  {
   "cell_type": "markdown",
   "metadata": {},
   "source": [
    "## Fuertemente tipado.\n",
    "\n",
    "Python es fuertemente tipado, lo que significa que el tipo de un objeto no puede cambiar repentinamente; se debe realizar una conversión explícita si se desea cambiar el tipo de un objeto.\n",
    "\n",
    "Esta característica también impide que se realizen operaciones entre tipos no compatibles. \n",
    "\n",
    "Veamos unos ejemplos:"
   ]
  },
  {
   "cell_type": "code",
   "execution_count": null,
   "metadata": {},
   "outputs": [],
   "source": [
    "# Definimos tres números\n",
    "real   = 220.0  \n",
    "entero = 284\n",
    "complejo = 1+1j"
   ]
  },
  {
   "cell_type": "code",
   "execution_count": null,
   "metadata": {},
   "outputs": [],
   "source": [
    "entero + real # Los tipos son compatibles"
   ]
  },
  {
   "cell_type": "code",
   "execution_count": null,
   "metadata": {},
   "outputs": [],
   "source": [
    "real + complejo # Los tipos son compatibles"
   ]
  },
  {
   "cell_type": "code",
   "execution_count": null,
   "metadata": {},
   "outputs": [],
   "source": [
    "entero + complejo # Los tipos son compatibles"
   ]
  },
  {
   "cell_type": "markdown",
   "metadata": {},
   "source": [
    "Un tipo lógico se puede comportar como un entero, un flotante o un complejo, los tipos son compatibles. Para que un valor numérico sea considerado verdadero, debe ser equivalente al valor 1. Veamos los siguientes ejemplos:"
   ]
  },
  {
   "cell_type": "code",
   "execution_count": null,
   "metadata": {},
   "outputs": [],
   "source": [
    "lógico = True \n",
    "print(lógico == 1)\n",
    "print(lógico == 1.0)\n",
    "print(lógico == 1.0 + 0.0j)"
   ]
  },
  {
   "cell_type": "code",
   "execution_count": null,
   "metadata": {},
   "outputs": [],
   "source": [
    "print(lógico == 5)\n",
    "print(lógico == 1.1)\n",
    "print(lógico == 1.0 + 0.1j)"
   ]
  },
  {
   "cell_type": "markdown",
   "metadata": {},
   "source": [
    "Entonces podemos realizar operaciones aritméticas entre lógicos, enteros, flotantes y complejos:"
   ]
  },
  {
   "cell_type": "code",
   "execution_count": null,
   "metadata": {},
   "outputs": [],
   "source": [
    "lógico + entero # Los tipos son compatibles"
   ]
  },
  {
   "cell_type": "code",
   "execution_count": null,
   "metadata": {},
   "outputs": [],
   "source": [
    "lógico + real # Los tipos son compatibles"
   ]
  },
  {
   "cell_type": "code",
   "execution_count": null,
   "metadata": {},
   "outputs": [],
   "source": [
    "lógico + complejo # Los tipos son compatibles"
   ]
  },
  {
   "cell_type": "markdown",
   "metadata": {},
   "source": [
    "Pero hay tipos que no son compatibles, por ejemplo:"
   ]
  },
  {
   "cell_type": "code",
   "execution_count": null,
   "metadata": {},
   "outputs": [],
   "source": [
    "cadena = 'El resultado es igual a '\n",
    "cadena + real  # Los tipos no son compatibles"
   ]
  },
  {
   "cell_type": "markdown",
   "metadata": {},
   "source": [
    "Sin embargo es posible hacer una conversión explícita, por ejemplo:"
   ]
  },
  {
   "cell_type": "code",
   "execution_count": null,
   "metadata": {},
   "outputs": [],
   "source": [
    "cadena + str(real)"
   ]
  },
  {
   "cell_type": "code",
   "execution_count": null,
   "metadata": {},
   "outputs": [],
   "source": []
  }
 ],
 "metadata": {
  "kernelspec": {
   "display_name": "Python 3 (ipykernel)",
   "language": "python",
   "name": "python3"
  },
  "language_info": {
   "codemirror_mode": {
    "name": "ipython",
    "version": 3
   },
   "file_extension": ".py",
   "mimetype": "text/x-python",
   "name": "python",
   "nbconvert_exporter": "python",
   "pygments_lexer": "ipython3",
   "version": "3.11.6"
  }
 },
 "nbformat": 4,
 "nbformat_minor": 4
}
