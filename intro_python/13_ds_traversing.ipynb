{
 "cells": [
  {
   "cell_type": "markdown",
   "metadata": {},
   "source": [
    "# Recorriendo las estructuras de datos.\n",
    "\n",
    "**Objetivo.**\n",
    "Describir como recorrer las secuencias (`str`, `list`, `tuple`, `set`, `dict`) de una forma óptima.\n",
    "\n",
    "<p xmlns:cc=\"http://creativecommons.org/ns#\" xmlns:dct=\"http://purl.org/dc/terms/\"><a property=\"dct:title\" rel=\"cc:attributionURL\" href=\"https://github.com/repomacti/pensamiento_computacional\">Pensamiento Computacional a Python</a> by <a rel=\"cc:attributionURL dct:creator\" property=\"cc:attributionName\" href=\"https://gmc.geofisica.unam.mx/luiggi\">Luis Miguel de la Cruz Salas</a> is licensed under <a href=\"https://creativecommons.org/licenses/by-sa/4.0/?ref=chooser-v1\" target=\"_blank\" rel=\"license noopener noreferrer\" style=\"display:inline-block;\">CC BY-SA 4.0<img style=\"height:22px!important;margin-left:3px;vertical-align:text-bottom;\" src=\"https://mirrors.creativecommons.org/presskit/icons/cc.svg?ref=chooser-v1\" alt=\"\"><img style=\"height:22px!important;margin-left:3px;vertical-align:text-bottom;\" src=\"https://mirrors.creativecommons.org/presskit/icons/by.svg?ref=chooser-v1\" alt=\"\"><img style=\"height:22px!important;margin-left:3px;vertical-align:text-bottom;\" src=\"https://mirrors.creativecommons.org/presskit/icons/sa.svg?ref=chooser-v1\" alt=\"\"></a></p> "
   ]
  },
  {
   "cell_type": "markdown",
   "metadata": {},
   "source": [
    "# Iterables\n",
    "\n",
    "- En Python existen objetos que contienen secuencias de otros objetos.\n",
    "- Estos objetos pueden ser cadenas, listas, tuplas, diccionarios, conjuntos, archivos, entre otros.\n",
    "- Estos objetos se pueden recorrer usando ciclos `for` . <br>\n",
    "- A estos objetos se les conoce también como **iterables** (objetos iterables, secuencias iterables, contenedores iterables, conjunto iterable)."
   ]
  },
  {
   "cell_type": "markdown",
   "metadata": {},
   "source": [
    "<div class=\"alert alert-success\">\n",
    "\n",
    "## Ejemplo 1.\n",
    "    \n",
    "* Crear una cadena, una lista, una tupla, un diccionario, un conjunto y leer el archivo `mi_archivo.txt`.\n",
    "* Posteriormente recorrer cada uno de estos iterables usando un ciclo `for`:\n",
    "\n",
    "</div>"
   ]
  },
  {
   "cell_type": "markdown",
   "metadata": {},
   "source": [
    "* Creamos los iterables."
   ]
  },
  {
   "cell_type": "code",
   "execution_count": null,
   "metadata": {},
   "outputs": [],
   "source": [
    "mi_cadena = \"str: pythonico\"\n",
    "mi_lista = ['list: ', 'p','y','t','h','o','n','i','c','o']\n",
    "mi_tupla = ('tuple: ', 'p','y','t','h','o','n','i','c','o')\n",
    "mi_dict = {'p':1,'y':2,'t':3,'h':4,'o':5,'n':6,'i':7,'c':8,'o':9}\n",
    "mi_conj = {'p','y','t','h','o','n','i','c','o'}"
   ]
  },
  {
   "cell_type": "markdown",
   "metadata": {},
   "source": [
    "* Recorremos la cadena e imprimimos cada elemento."
   ]
  },
  {
   "cell_type": "code",
   "execution_count": null,
   "metadata": {},
   "outputs": [],
   "source": [
    "for c in mi_cadena:\n",
    "    print(c, end='')"
   ]
  },
  {
   "cell_type": "markdown",
   "metadata": {},
   "source": [
    "* Recorremos la lista e imprimimos cada elemento."
   ]
  },
  {
   "cell_type": "code",
   "execution_count": null,
   "metadata": {},
   "outputs": [],
   "source": [
    "for e in mi_lista:\n",
    "    print(e, end='')"
   ]
  },
  {
   "cell_type": "markdown",
   "metadata": {},
   "source": [
    "* Recorremos la tupla e imprimimos cada elemento."
   ]
  },
  {
   "cell_type": "code",
   "execution_count": null,
   "metadata": {},
   "outputs": [],
   "source": [
    "for e in mi_tupla:\n",
    "    print(e, end='')"
   ]
  },
  {
   "cell_type": "markdown",
   "metadata": {},
   "source": [
    "* Recorremos el diccionario e imprimimos cada elemento."
   ]
  },
  {
   "cell_type": "code",
   "execution_count": null,
   "metadata": {},
   "outputs": [],
   "source": [
    "for i in mi_dict.items():\n",
    "    print(i)"
   ]
  },
  {
   "cell_type": "markdown",
   "metadata": {},
   "source": [
    "Observa que en este caso solo aparece una vez el elemento con clave `o`. Su valor es el que se le asignó por última vez, en este caso `9`.\n",
    "\n",
    "* Recorremos el diccionario por claves."
   ]
  },
  {
   "cell_type": "code",
   "execution_count": null,
   "metadata": {},
   "outputs": [],
   "source": [
    "for key in mi_dict.keys():\n",
    "    print(key, end='')"
   ]
  },
  {
   "cell_type": "markdown",
   "metadata": {},
   "source": [
    "* Recorremos el diccionario por valores."
   ]
  },
  {
   "cell_type": "code",
   "execution_count": null,
   "metadata": {},
   "outputs": [],
   "source": [
    "for v in mi_dict.values():\n",
    "    print(v, end=' ')"
   ]
  },
  {
   "cell_type": "markdown",
   "metadata": {},
   "source": [
    "* Recorremos el conjunto."
   ]
  },
  {
   "cell_type": "code",
   "execution_count": null,
   "metadata": {},
   "outputs": [],
   "source": [
    "for s in mi_conj:\n",
    "    print(s, end = ' ')"
   ]
  },
  {
   "cell_type": "markdown",
   "metadata": {},
   "source": [
    "Observa que le conjunto no contiene elementos repetidos.\n",
    "\n",
    "* Recorremos el archivo. El archivo `mi_archivo.txt` contiene las siguientes tres líneas:\n",
    "```\n",
    "Hola mundo\n",
    "Pythonico\n",
    "Primermundista\n",
    "```"
   ]
  },
  {
   "cell_type": "code",
   "execution_count": null,
   "metadata": {},
   "outputs": [],
   "source": [
    "mi_archivo = open(\"mi_archivo.txt\") # Se abre un archivo\n",
    "for line in mi_archivo:\n",
    "    print(line, end = '')\n",
    "mi_archivo.close() # Se cierra el archivo."
   ]
  },
  {
   "cell_type": "markdown",
   "metadata": {},
   "source": [
    "# Recorriendo secuencias de una forma típica.\n",
    "\n",
    "Considera las siguientes dos listas de la misma longitud."
   ]
  },
  {
   "cell_type": "code",
   "execution_count": null,
   "metadata": {},
   "outputs": [],
   "source": [
    "gatos = ['Persa', 'Sphynx', 'Ragdoll','Siamés']\n",
    "origen = ['Irán', 'Toronto', 'California', 'Tailandia']\n",
    "print(gatos)\n",
    "print(origen)"
   ]
  },
  {
   "cell_type": "markdown",
   "metadata": {},
   "source": [
    "Dado que en las listas se puede usar el indexado para acceder a los elementos, podemos recorrer la lista como sigue:"
   ]
  },
  {
   "cell_type": "code",
   "execution_count": null,
   "metadata": {},
   "outputs": [],
   "source": [
    "N = len(gatos) # Longitud de la lista gatos\n",
    "\n",
    "for i in range(0, N):\n",
    "    print(i, gatos[i], origen[i])"
   ]
  },
  {
   "cell_type": "markdown",
   "metadata": {},
   "source": [
    "La anterior es una manera típica en cómo se recorren arreglos en otros lenguajes de programación. Python ofrece otras maneras que se muestran a continuación."
   ]
  },
  {
   "cell_type": "markdown",
   "metadata": {},
   "source": [
    "# Función `zip`\n",
    "\n",
    "La función `zip(s1, s2, ...)` permite combinar dos o más secuencias en una sola, genera tuplas con los elementos de las secuencias."
   ]
  },
  {
   "cell_type": "code",
   "execution_count": null,
   "metadata": {},
   "outputs": [],
   "source": [
    "# Combinamos las listas en una sola secuencia\n",
    "print('\\n(Raza, Origen)\\n'+'-'*20)\n",
    "for t in zip(gatos, origen):\n",
    "    print(t)"
   ]
  },
  {
   "cell_type": "code",
   "execution_count": null,
   "metadata": {},
   "outputs": [],
   "source": [
    "# Se puede extraer la información de cada secuencia:\n",
    "for g, o in zip(gatos, origen):\n",
    "    print('La raza {} proviene de {}'.format(g, o))"
   ]
  },
  {
   "cell_type": "markdown",
   "metadata": {},
   "source": [
    "## Conversión de `zip` a `list`, `tuple`, `set`, `dict`\n",
    "\n",
    "Estrictamente `zip` es una clase que define un tipo dentro de Python, por lo que es posible convertir del tipo `zip` a alguna otra secuencia básica de datos de Python."
   ]
  },
  {
   "cell_type": "code",
   "execution_count": null,
   "metadata": {},
   "outputs": [],
   "source": [
    "z = zip(gatos, origen)\n",
    "\n",
    "# Verificar el tipo de zip\n",
    "print(z, type(z))"
   ]
  },
  {
   "cell_type": "code",
   "execution_count": null,
   "metadata": {},
   "outputs": [],
   "source": [
    "lista = list(zip(gatos, origen))\n",
    "tupla = tuple(zip(gatos, origen))\n",
    "conj = set(zip(gatos, origen))\n",
    "dicc = dict(zip(gatos, origen)) # Solo funciona con dos secuencias\n",
    "\n",
    "print(lista)\n",
    "print(tupla)\n",
    "print(conj)\n",
    "print(dicc)"
   ]
  },
  {
   "cell_type": "markdown",
   "metadata": {},
   "source": [
    "# Función `enumerate`\n",
    "\n",
    "Permite enumerar los elementos de una secuencia. Genera tuplas con el número del elemento y el elemento de la secuencia.\n",
    "\n",
    "Por ejemplo:"
   ]
  },
  {
   "cell_type": "code",
   "execution_count": null,
   "metadata": {},
   "outputs": [],
   "source": [
    "print(gatos)\n",
    "\n",
    "# Enumeramos la secuencia\n",
    "print('\\n(Numero, Raza)\\n'+'-'*20)\n",
    "for t in enumerate(gatos):\n",
    "    print(t)"
   ]
  },
  {
   "cell_type": "code",
   "execution_count": null,
   "metadata": {},
   "outputs": [],
   "source": [
    "for i, g in enumerate(gatos):\n",
    "    print(i, g)"
   ]
  },
  {
   "cell_type": "markdown",
   "metadata": {},
   "source": [
    "Lo anterior permite usar el indexado para acceder a los elementos de una secuencia:"
   ]
  },
  {
   "cell_type": "code",
   "execution_count": null,
   "metadata": {},
   "outputs": [],
   "source": [
    "for i, g in enumerate(gatos):\n",
    "    print(i, gatos[i])"
   ]
  },
  {
   "cell_type": "markdown",
   "metadata": {},
   "source": [
    "## Conversión de `enumerate` a `list`, `tuple`, `set`, `dict`\n",
    "Estrictamente `enumerate` es una clase que define un tipo dentro de Python, por lo que es posible convertir del tipo `enumerate` a alguna otra secuencia básica de datos de Python:"
   ]
  },
  {
   "cell_type": "code",
   "execution_count": null,
   "metadata": {},
   "outputs": [],
   "source": [
    "e = enumerate(gatos)\n",
    "\n",
    "# Verificar el tipo de enumerate\n",
    "print(e, type(e))"
   ]
  },
  {
   "cell_type": "code",
   "execution_count": null,
   "metadata": {},
   "outputs": [],
   "source": [
    "lista = list(enumerate(gatos))\n",
    "tupla = tuple(enumerate(gatos))\n",
    "conj = set(enumerate(gatos))\n",
    "dicc = dict(enumerate(gatos))\n",
    "\n",
    "print(lista)\n",
    "print(tupla)\n",
    "print(conj)\n",
    "print(dicc)"
   ]
  },
  {
   "cell_type": "markdown",
   "metadata": {},
   "source": [
    "## Conversión de `range` a `list`, `tuple`, `set`\n",
    "Estrictamente `range` es una clase que define un tipo dentro de Python, por lo que es posible convertir del tipo `range` a alguna otra secuencia básica de datos de Python:"
   ]
  },
  {
   "cell_type": "code",
   "execution_count": null,
   "metadata": {},
   "outputs": [],
   "source": [
    "N = len(gatos) # Longitud de la lista gatos\n",
    "r = range(0,N)\n",
    "\n",
    "# Verificar el tipo de range\n",
    "print(r, type(r))"
   ]
  },
  {
   "cell_type": "code",
   "execution_count": null,
   "metadata": {},
   "outputs": [],
   "source": [
    "lista = list(range(0,N))\n",
    "tupla = tuple(range(0,N))\n",
    "conj = set(range(0,N))\n",
    "\n",
    "print(lista)\n",
    "print(tupla)\n",
    "print(conj)"
   ]
  },
  {
   "cell_type": "code",
   "execution_count": null,
   "metadata": {},
   "outputs": [],
   "source": []
  }
 ],
 "metadata": {
  "kernelspec": {
   "display_name": "Python 3 (ipykernel)",
   "language": "python",
   "name": "python3"
  },
  "language_info": {
   "codemirror_mode": {
    "name": "ipython",
    "version": 3
   },
   "file_extension": ".py",
   "mimetype": "text/x-python",
   "name": "python",
   "nbconvert_exporter": "python",
   "pygments_lexer": "ipython3",
   "version": "3.11.6"
  }
 },
 "nbformat": 4,
 "nbformat_minor": 4
}
