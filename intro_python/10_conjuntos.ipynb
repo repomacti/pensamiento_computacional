{
 "cells": [
  {
   "cell_type": "markdown",
   "metadata": {},
   "source": [
    "# Estructura de datos: conjuntos\n",
    "\n",
    "**Objetivo.**\n",
    "Describir la estructura de datos `set ` mediante la exposición de ejemplos.\n",
    "\n",
    "<p xmlns:cc=\"http://creativecommons.org/ns#\" xmlns:dct=\"http://purl.org/dc/terms/\"><a property=\"dct:title\" rel=\"cc:attributionURL\" href=\"https://github.com/repomacti/pensamiento_computacional\">Pensamiento Computacional a Python</a> by <a rel=\"cc:attributionURL dct:creator\" property=\"cc:attributionName\" href=\"https://gmc.geofisica.unam.mx/luiggi\">Luis Miguel de la Cruz Salas</a> is licensed under <a href=\"https://creativecommons.org/licenses/by-sa/4.0/?ref=chooser-v1\" target=\"_blank\" rel=\"license noopener noreferrer\" style=\"display:inline-block;\">CC BY-SA 4.0<img style=\"height:22px!important;margin-left:3px;vertical-align:text-bottom;\" src=\"https://mirrors.creativecommons.org/presskit/icons/cc.svg?ref=chooser-v1\" alt=\"\"><img style=\"height:22px!important;margin-left:3px;vertical-align:text-bottom;\" src=\"https://mirrors.creativecommons.org/presskit/icons/by.svg?ref=chooser-v1\" alt=\"\"><img style=\"height:22px!important;margin-left:3px;vertical-align:text-bottom;\" src=\"https://mirrors.creativecommons.org/presskit/icons/sa.svg?ref=chooser-v1\" alt=\"\"></a></p> "
   ]
  },
  {
   "cell_type": "markdown",
   "metadata": {},
   "source": [
    "# Introducción\n",
    "\n",
    "La siguiente tabla resume los cuatro tipos de *colecciones* que se tienen en Python:\n",
    "\n",
    "|Tipo|Ordenada|Inmutable|Indexable|Duplicidad|\n",
    "|-:|:-:|:-:|:-:|:-:|\n",
    "|List |SI|NO|SI|SI|\n",
    "|Tuple|SI|SI|SI|SI|\n",
    "|Sets |NO|NO|NO|NO|\n",
    "|Dict |NO|NO|SI|NO|\n"
   ]
  },
  {
   "cell_type": "markdown",
   "metadata": {},
   "source": [
    "# Conjuntos\n",
    "\n",
    "* Consisten en una secuencia **NO ordenada** y **mutable**.\n",
    "* **NO** permite miembros duplicados.\n",
    "* Los elementos de los conjuntos **NO** se pueden indexar.\n",
    "* Los conjuntos se definen usando llaves `{}` y `,` para separar sus elementos."
   ]
  },
  {
   "cell_type": "markdown",
   "metadata": {},
   "source": [
    "<div class=\"alert alert-success\">\n",
    "\n",
    "## Ejemplo 1.\n",
    "    \n",
    "Construiremos los siguientes conjuntos:\n",
    "\n",
    "```python\n",
    "c1 = {4, 1, 8, 0, 4, 20}\n",
    "c2 = {'z', 'x', 'g', 'a', 'k', 'x'}\n",
    "c3 = {'a', 1.5, 3, 5+4j, (1,2,3)}\n",
    "```\n",
    "</div>"
   ]
  },
  {
   "cell_type": "code",
   "execution_count": null,
   "metadata": {
    "tags": []
   },
   "outputs": [],
   "source": [
    "c1 = {4, 1, 8, 0, 4, 20}\n",
    "c2 = {'z', 'x', 'g', 'a', 'k', 'x'}\n",
    "c3 = {'a', 1.5, 3, 5+4j, (1,2,3)}"
   ]
  },
  {
   "cell_type": "code",
   "execution_count": null,
   "metadata": {
    "tags": []
   },
   "outputs": [],
   "source": [
    "print(type(c1), c1)\n",
    "print(type(c2), c2)\n",
    "print(type(c3), c3)"
   ]
  },
  {
   "cell_type": "markdown",
   "metadata": {},
   "source": [
    "Observa que los conjuntos `c1` y `c2` contienen en su definición elementos repetidos, pero posteriormente cuando se usa o se imprime el conjunto, ya no presenta elementos repetidos."
   ]
  },
  {
   "cell_type": "markdown",
   "metadata": {},
   "source": [
    "# Funciones incorporadas que operan sobre conjuntos.\n",
    "\n",
    "Prácticamente todas las funciones incorporadas que se aplican a las listas y tuplas, se pueden aplicar a los conjuntos, por ejemplo:"
   ]
  },
  {
   "cell_type": "code",
   "execution_count": null,
   "metadata": {},
   "outputs": [],
   "source": [
    "print(len(c1))\n",
    "print(max(c1))\n",
    "print(min(c1))\n",
    "print(all(c1))\n",
    "print(any(c1))\n",
    "print(sorted(c1))\n",
    "print(sum(c1))"
   ]
  },
  {
   "cell_type": "code",
   "execution_count": null,
   "metadata": {},
   "outputs": [],
   "source": [
    "list(enumerate(c1)) "
   ]
  },
  {
   "cell_type": "code",
   "execution_count": null,
   "metadata": {},
   "outputs": [],
   "source": [
    "list(zip(c1, c2)) "
   ]
  },
  {
   "cell_type": "markdown",
   "metadata": {},
   "source": [
    "# Métodos de los conjuntos (comportamiento).\n",
    "\n",
    "En términos de Programación Orientada a Objetos, la clase `<class 'set'>` define una serie de métodos que se pueden aplicar sobre los objetos del tipo `set`. Veamos algunos ejemplos:"
   ]
  },
  {
   "cell_type": "code",
   "execution_count": null,
   "metadata": {
    "tags": []
   },
   "outputs": [],
   "source": [
    "print(c1)  # Conjunto original\n",
    "c1.add(-8) # Adiccionar un elemento\n",
    "print(c1)  # Revisamo el estado del conjunto"
   ]
  },
  {
   "cell_type": "code",
   "execution_count": null,
   "metadata": {
    "tags": []
   },
   "outputs": [],
   "source": [
    "print(c1)    # Conjunto original\n",
    "c1.remove(4) # Eliminar un elemento del conjunto\n",
    "print(c1)    # Revisamo el estado del conjunto"
   ]
  },
  {
   "cell_type": "markdown",
   "metadata": {},
   "source": [
    "Si el elemento que se desea eliminar del conjunto no existe dentro del mismo, entonces se obtiene un error al tratar de eliminar dicho elemento:"
   ]
  },
  {
   "cell_type": "code",
   "execution_count": null,
   "metadata": {},
   "outputs": [],
   "source": [
    "c1.remove(4)"
   ]
  },
  {
   "cell_type": "markdown",
   "metadata": {},
   "source": [
    "A un conjunto que ya existe se le pueden eliminar todos sus elementos:"
   ]
  },
  {
   "cell_type": "code",
   "execution_count": null,
   "metadata": {
    "tags": []
   },
   "outputs": [],
   "source": [
    "# Estado inicial del conjunto\n",
    "print(c1, type(c1), id(c1))\n",
    "c1.clear() # Limpiar todos los elementos del conjunto\n",
    "print(c1, type(c1), id(c1))"
   ]
  },
  {
   "cell_type": "markdown",
   "metadata": {},
   "source": [
    "Observa que el identificador no ha cambiado, solo se eliminaron todos los elementos."
   ]
  },
  {
   "cell_type": "markdown",
   "metadata": {},
   "source": [
    "<div class=\"alert alert-success\">\n",
    "\n",
    "## Ejemplo 2.\n",
    "\n",
    "Escribe un algoritmo que, usando el operador `in`, verifique si un elemento está en un conjunto. Si el elemento está en el conjunto entonces eliminarlo con el métodos `set.remove()` e imprimir un mensaje de que dicho elemento ha sido removido. Si el elemento no está en el conjunto, entonces imprimir un mensaje avisando que no se encontró el elemento.\n",
    "\n",
    "Hacer una prueba con el siguiente conjunto: `test = {1,2,3,'a','b','c'}`.\n",
    "</div>"
   ]
  },
  {
   "cell_type": "markdown",
   "metadata": {},
   "source": [
    "Para saber si un elemento está en el conjunto podemos usar `in`:"
   ]
  },
  {
   "cell_type": "code",
   "execution_count": null,
   "metadata": {
    "tags": []
   },
   "outputs": [],
   "source": [
    "# Definimos el conjuntos\n",
    "test = {1,2,3,'a','b','c'}\n",
    "print('Conjunto original:', test)\n",
    "\n",
    "# elemento a eliminar\n",
    "elemento = -8\n",
    "\n",
    "print(f\"Elemento a eliminar: {elemento}\")\n",
    "# Algoritmo de verificación\n",
    "if elemento in test:\n",
    "    test.remove(elemento)\n",
    "    print(f\"El elemento '{elemento}' ha sido removido del conjunto\")\n",
    "else:\n",
    "    print(f\"El elemento '{elemento}' no está en el conjunto\")\n",
    "\n",
    "print('Resultado final:', test)"
   ]
  },
  {
   "cell_type": "markdown",
   "metadata": {},
   "source": [
    "# Operadores sobre conjuntos\n",
    "\n",
    "Se pueden realizar las operaciones de conjuntos definidas en matemáticas en los objetos de tipo `set`."
   ]
  },
  {
   "cell_type": "code",
   "execution_count": null,
   "metadata": {
    "tags": []
   },
   "outputs": [],
   "source": [
    "# Definimos dos conjuntos\n",
    "A = {'Taza', 'Vaso', 'Mesa'}\n",
    "B = {'Casa', 'Mesa', 'Silla'}\n",
    "print(A)\n",
    "print(B)"
   ]
  },
  {
   "cell_type": "markdown",
   "metadata": {},
   "source": [
    "## `in`: revisar si un elemento está en el conjunto."
   ]
  },
  {
   "cell_type": "code",
   "execution_count": null,
   "metadata": {},
   "outputs": [],
   "source": [
    "'Taza' in A"
   ]
  },
  {
   "cell_type": "markdown",
   "metadata": {},
   "source": [
    "## `-`: elementos en A, pero no en B."
   ]
  },
  {
   "cell_type": "code",
   "execution_count": null,
   "metadata": {
    "tags": []
   },
   "outputs": [],
   "source": [
    "A - B "
   ]
  },
  {
   "cell_type": "markdown",
   "metadata": {},
   "source": [
    "## `|`: elementos en A o en B o en ambos."
   ]
  },
  {
   "cell_type": "code",
   "execution_count": null,
   "metadata": {
    "tags": []
   },
   "outputs": [],
   "source": [
    "A | B "
   ]
  },
  {
   "cell_type": "markdown",
   "metadata": {},
   "source": [
    "## `&`: elementos en ambos conjuntos."
   ]
  },
  {
   "cell_type": "code",
   "execution_count": null,
   "metadata": {
    "tags": []
   },
   "outputs": [],
   "source": [
    "A & B "
   ]
  },
  {
   "cell_type": "markdown",
   "metadata": {},
   "source": [
    "## '^' : elementos en A o en B, pero no en ambos."
   ]
  },
  {
   "cell_type": "code",
   "execution_count": null,
   "metadata": {
    "tags": []
   },
   "outputs": [],
   "source": [
    "A ^ B "
   ]
  },
  {
   "cell_type": "markdown",
   "metadata": {},
   "source": [
    "# Copiando conjuntos\n",
    "\n",
    "Para crear un nuevo conjunto a partir de otro, usamos operaciones similares que para las listas:"
   ]
  },
  {
   "cell_type": "markdown",
   "metadata": {},
   "source": [
    "## Copiando con el método `copy()`"
   ]
  },
  {
   "cell_type": "code",
   "execution_count": null,
   "metadata": {
    "tags": []
   },
   "outputs": [],
   "source": [
    "c4 = c2.copy()\n",
    "\n",
    "print(c2, type(c2), id(c2))\n",
    "print(c4, type(c4), id(c4))"
   ]
  },
  {
   "cell_type": "markdown",
   "metadata": {},
   "source": [
    "## Copiando con la biblioteca `copy()`"
   ]
  },
  {
   "cell_type": "code",
   "execution_count": null,
   "metadata": {
    "tags": []
   },
   "outputs": [],
   "source": [
    "import copy\n",
    "c5 = copy.copy(c2)\n",
    "\n",
    "print(c2, type(c2), id(c2))\n",
    "print(c5, type(c5), id(c5))"
   ]
  },
  {
   "cell_type": "code",
   "execution_count": null,
   "metadata": {},
   "outputs": [],
   "source": []
  }
 ],
 "metadata": {
  "kernelspec": {
   "display_name": "Python 3 (ipykernel)",
   "language": "python",
   "name": "python3"
  },
  "language_info": {
   "codemirror_mode": {
    "name": "ipython",
    "version": 3
   },
   "file_extension": ".py",
   "mimetype": "text/x-python",
   "name": "python",
   "nbconvert_exporter": "python",
   "pygments_lexer": "ipython3",
   "version": "3.11.6"
  }
 },
 "nbformat": 4,
 "nbformat_minor": 4
}
