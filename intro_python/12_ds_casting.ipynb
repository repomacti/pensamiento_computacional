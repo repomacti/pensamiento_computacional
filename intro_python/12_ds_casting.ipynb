{
 "cells": [
  {
   "cell_type": "markdown",
   "metadata": {},
   "source": [
    "# Conversión entre estructura de datos.\n",
    "\n",
    "**Objetivo.**\n",
    "Describir cómo se pueden realizar conversiones entre estructuras de datos.\n",
    "\n",
    "<p xmlns:cc=\"http://creativecommons.org/ns#\" xmlns:dct=\"http://purl.org/dc/terms/\"><a property=\"dct:title\" rel=\"cc:attributionURL\" href=\"https://github.com/repomacti/pensamiento_computacional\">Pensamiento Computacional a Python</a> by <a rel=\"cc:attributionURL dct:creator\" property=\"cc:attributionName\" href=\"https://gmc.geofisica.unam.mx/luiggi\">Luis Miguel de la Cruz Salas</a> is licensed under <a href=\"https://creativecommons.org/licenses/by-sa/4.0/?ref=chooser-v1\" target=\"_blank\" rel=\"license noopener noreferrer\" style=\"display:inline-block;\">CC BY-SA 4.0<img style=\"height:22px!important;margin-left:3px;vertical-align:text-bottom;\" src=\"https://mirrors.creativecommons.org/presskit/icons/cc.svg?ref=chooser-v1\" alt=\"\"><img style=\"height:22px!important;margin-left:3px;vertical-align:text-bottom;\" src=\"https://mirrors.creativecommons.org/presskit/icons/by.svg?ref=chooser-v1\" alt=\"\"><img style=\"height:22px!important;margin-left:3px;vertical-align:text-bottom;\" src=\"https://mirrors.creativecommons.org/presskit/icons/sa.svg?ref=chooser-v1\" alt=\"\"></a></p> "
   ]
  },
  {
   "cell_type": "markdown",
   "metadata": {},
   "source": [
    "# Transformación entre colecciones\n",
    "\n",
    "Es posible convertir una estructura de datos en otra. Veamos varios ejemplos:"
   ]
  },
  {
   "cell_type": "markdown",
   "metadata": {},
   "source": [
    "### listas $\\to$ tuplas"
   ]
  },
  {
   "cell_type": "code",
   "execution_count": null,
   "metadata": {
    "tags": []
   },
   "outputs": [],
   "source": [
    "lista = ['a', 'b', 'c'] # Definición de una lista\n",
    "tupla_l = tuple(lista)  # Conversión a tupla\n",
    "\n",
    "print(lista, type(lista), id(lista))\n",
    "print(tupla_l, type(tupla_l), id(tupla_l))"
   ]
  },
  {
   "cell_type": "markdown",
   "metadata": {},
   "source": [
    "### listas $\\to$ conjuntos"
   ]
  },
  {
   "cell_type": "code",
   "execution_count": null,
   "metadata": {
    "tags": []
   },
   "outputs": [],
   "source": [
    "lista = ['a', 'b', 'c', 'a'] # Definición de una lista\n",
    "conj_l = set(lista)          # Conversión a conjunto\n",
    "\n",
    "print(lista, type(lista), id(lista))\n",
    "print(conj_l, type(conj_l), id(conj_l))"
   ]
  },
  {
   "cell_type": "markdown",
   "metadata": {
    "tags": []
   },
   "source": [
    "Observa que en esta transformación el conjunto elimina los elementos repetidos."
   ]
  },
  {
   "cell_type": "markdown",
   "metadata": {},
   "source": [
    "### listas $\\to$ diccionarios"
   ]
  },
  {
   "cell_type": "code",
   "execution_count": null,
   "metadata": {
    "tags": []
   },
   "outputs": [],
   "source": [
    "key_l = ['a','b','c','d', 'e'] # Lista de claves\n",
    "val_l = [1, 2, 3, 4, 5]        # Lista de valores\n",
    "dicc = dict(zip(key_l, val_l)) # Construcción de un diccionario\n",
    "\n",
    "print(key_l)\n",
    "print(val_l)\n",
    "print(dicc, type(dicc), id(dicc))"
   ]
  },
  {
   "cell_type": "markdown",
   "metadata": {},
   "source": [
    "### tuplas $\\to$ listas"
   ]
  },
  {
   "cell_type": "code",
   "execution_count": null,
   "metadata": {
    "tags": []
   },
   "outputs": [],
   "source": [
    "tupla = (1,2,3,4)     # Definición de una tupla\n",
    "lista_t = list(tupla) # Conversión a lista\n",
    "\n",
    "print(tupla, type(tupla), id(tupla))\n",
    "print(lista_t, type(lista_t), id(lista_t))"
   ]
  },
  {
   "cell_type": "markdown",
   "metadata": {},
   "source": [
    "### tuplas $\\to$ conjuntos"
   ]
  },
  {
   "cell_type": "code",
   "execution_count": null,
   "metadata": {
    "tags": []
   },
   "outputs": [],
   "source": [
    "tupla = (1,2,3,1,2) # Definición de una tupla\n",
    "conj_t = set(tupla) # Conversión a conjunto\n",
    "\n",
    "print(tupla, type(tupla), id(tupla))\n",
    "print(conj_t, type(conj_t), id(conj_t))"
   ]
  },
  {
   "cell_type": "markdown",
   "metadata": {},
   "source": [
    "Observa que en esta transformación el conjunto elimina los elementos repetidos."
   ]
  },
  {
   "cell_type": "markdown",
   "metadata": {},
   "source": [
    "### tuplas $\\to$ diccionarios"
   ]
  },
  {
   "cell_type": "code",
   "execution_count": null,
   "metadata": {
    "tags": []
   },
   "outputs": [],
   "source": [
    "key_t = ('a','b','c','d', 'e') # Una tupla de claves\n",
    "val_t = (1, 2, 3, 4, 5)        # Una tupla de valores\n",
    "dicc = dict(zip(key_t, val_t)) # Construcción de un diccionario\n",
    "\n",
    "print(key_t)\n",
    "print(val_t)\n",
    "print(dicc, type(dicc), id(dicc))"
   ]
  },
  {
   "cell_type": "markdown",
   "metadata": {},
   "source": [
    "### conjunto $\\to$ lista y tupla"
   ]
  },
  {
   "cell_type": "code",
   "execution_count": null,
   "metadata": {
    "tags": []
   },
   "outputs": [],
   "source": [
    "conj = {1,2,3,'a','b','c'} # Definición de un conjunto\n",
    "lista_s = list(conj)       # Conversión a lista\n",
    "tupla_s = tuple(conj)      # Conversińo a tupla\n",
    "\n",
    "print(conj, type(conj), id(conj))\n",
    "print(lista_s, type(lista_s), id(lista_s))\n",
    "print(tupla_s, type(tupla_s), id(tupla_s))"
   ]
  },
  {
   "cell_type": "markdown",
   "metadata": {},
   "source": [
    "### conjuntos $\\to$ diccionarios"
   ]
  },
  {
   "cell_type": "code",
   "execution_count": null,
   "metadata": {
    "tags": []
   },
   "outputs": [],
   "source": [
    "conj1 = {'a','b','c'} # Definición de un conjunto\n",
    "conj2 = {1,2,3}       # Definición de otro conjunto\n",
    "dicc = dict(zip(conj1, conj2)) # Construcción de un diccionario\n",
    "\n",
    "print(conj1)\n",
    "print(conj2)\n",
    "print(dicc, type(dicc), id(dicc))"
   ]
  },
  {
   "cell_type": "markdown",
   "metadata": {},
   "source": [
    "### diccionarios $\\to$ listas, tuplas y conjuntos"
   ]
  },
  {
   "cell_type": "code",
   "execution_count": null,
   "metadata": {
    "tags": []
   },
   "outputs": [],
   "source": [
    "dicc = {'x':3, 'y':4, 'z':5} # Definición de un diccionario"
   ]
  },
  {
   "cell_type": "markdown",
   "metadata": {},
   "source": [
    "Conversión directa:"
   ]
  },
  {
   "cell_type": "code",
   "execution_count": null,
   "metadata": {
    "tags": []
   },
   "outputs": [],
   "source": [
    "lista = list(dicc)   # Conversión a lista\n",
    "tupla = tuple(dicc)  # Conversión a tupla\n",
    "conj = set(dicc)     # Conversión a conjunto\n",
    "\n",
    "print(dicc, type(dicc), id(dicc))\n",
    "print(lista, type(lista), id(lista))\n",
    "print(tupla, type(tupla), id(tupla))\n",
    "print(conj, type(conj), id(conj))"
   ]
  },
  {
   "cell_type": "markdown",
   "metadata": {
    "tags": []
   },
   "source": [
    "Conversión desde las claves:"
   ]
  },
  {
   "cell_type": "code",
   "execution_count": null,
   "metadata": {
    "tags": []
   },
   "outputs": [],
   "source": [
    "lista = list(dicc.keys())  # Conversión a lista\n",
    "tupla = tuple(dicc.keys()) # Conversión a tupla\n",
    "conj = set(dicc.keys())    # Conversión a conjunto\n",
    "\n",
    "print(dicc, type(dicc), id(dicc))\n",
    "print(lista, type(lista), id(lista))\n",
    "print(tupla, type(tupla), id(tupla))\n",
    "print(conj, type(conj), id(conj))"
   ]
  },
  {
   "cell_type": "markdown",
   "metadata": {},
   "source": [
    "Conversión desde las valores:"
   ]
  },
  {
   "cell_type": "code",
   "execution_count": null,
   "metadata": {
    "tags": []
   },
   "outputs": [],
   "source": [
    "lista = list(dicc.values())  # Conversión a lista\n",
    "tupla = tuple(dicc.values()) # Conversión a tupla\n",
    "conj = set(dicc.values())    # Conversión a conjunto\n",
    "\n",
    "print(dicc, type(dicc), id(dicc))\n",
    "print(lista, type(lista), id(lista))\n",
    "print(tupla, type(tupla), id(tupla))\n",
    "print(conj, type(conj), id(conj))"
   ]
  }
 ],
 "metadata": {
  "kernelspec": {
   "display_name": "Python 3 (ipykernel)",
   "language": "python",
   "name": "python3"
  },
  "language_info": {
   "codemirror_mode": {
    "name": "ipython",
    "version": 3
   },
   "file_extension": ".py",
   "mimetype": "text/x-python",
   "name": "python",
   "nbconvert_exporter": "python",
   "pygments_lexer": "ipython3",
   "version": "3.11.6"
  }
 },
 "nbformat": 4,
 "nbformat_minor": 4
}
