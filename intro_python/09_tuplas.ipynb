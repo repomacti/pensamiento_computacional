{
 "cells": [
  {
   "cell_type": "markdown",
   "metadata": {},
   "source": [
    "# Estructura de datos: tuplas\n",
    "\n",
    "**Objetivo.**\n",
    "Describir la estructura de datos `tuple ` mediante la exposición de ejemplos.\n",
    "\n",
    "<p xmlns:cc=\"http://creativecommons.org/ns#\" xmlns:dct=\"http://purl.org/dc/terms/\"><a property=\"dct:title\" rel=\"cc:attributionURL\" href=\"https://github.com/repomacti/pensamiento_computacional\">Pensamiento Computacional a Python</a> by <a rel=\"cc:attributionURL dct:creator\" property=\"cc:attributionName\" href=\"https://gmc.geofisica.unam.mx/luiggi\">Luis Miguel de la Cruz Salas</a> is licensed under <a href=\"https://creativecommons.org/licenses/by-sa/4.0/?ref=chooser-v1\" target=\"_blank\" rel=\"license noopener noreferrer\" style=\"display:inline-block;\">CC BY-SA 4.0<img style=\"height:22px!important;margin-left:3px;vertical-align:text-bottom;\" src=\"https://mirrors.creativecommons.org/presskit/icons/cc.svg?ref=chooser-v1\" alt=\"\"><img style=\"height:22px!important;margin-left:3px;vertical-align:text-bottom;\" src=\"https://mirrors.creativecommons.org/presskit/icons/by.svg?ref=chooser-v1\" alt=\"\"><img style=\"height:22px!important;margin-left:3px;vertical-align:text-bottom;\" src=\"https://mirrors.creativecommons.org/presskit/icons/sa.svg?ref=chooser-v1\" alt=\"\"></a></p> "
   ]
  },
  {
   "cell_type": "markdown",
   "metadata": {},
   "source": [
    "# Introducción\n",
    "\n",
    "La siguiente tabla resume los cuatro tipos de *colecciones* que se tienen en Python:\n",
    "\n",
    "|Tipo|Ordenada|Inmutable|Indexable|Duplicidad|\n",
    "|-:|:-:|:-:|:-:|:-:|\n",
    "|List |SI|NO|SI|SI|\n",
    "|Tuple|SI|SI|SI|SI|\n",
    "|Sets |NO|NO|NO|NO|\n",
    "|Dict |NO|NO|SI|NO|\n"
   ]
  },
  {
   "cell_type": "markdown",
   "metadata": {},
   "source": [
    "# Tuplas\n",
    "\n",
    "* Consisten en una secuencia **ordenada** e **inmutable** de elementos. \n",
    "    - **Ordenadas** significa que cada elemento dentro de la tupla está indexado y mantiene su orden definido en su creación.\n",
    "    - **Inmutable** significa que los elementos de la tupla **NO se pueden modificar**, tampoco que se pueden agregar o eliminar elementos.\n",
    "* Las tuplas pueden tener elementos **duplicados**, es decir, **elementos del mismo tipo y con el mismo contenido**.\n",
    "* Las tuplas se definen usando paréntesis `()` y `,` para separar sus elementos.\n"
   ]
  },
  {
   "cell_type": "markdown",
   "metadata": {},
   "source": [
    "<div class=\"alert alert-success\">\n",
    "\n",
    "## Ejemplo 1.\n",
    "    \n",
    "Construiremos las siguientes tuplas:\n",
    "\n",
    "```python\n",
    "t1 = ('a', 'b', 'c', 'b', 'd', 'e', 'f', 'z')\n",
    "t2 = (1, 2, 3, 4, 5, 6, 7, 8)\n",
    "t3 = ('gatos', ['Persa', 'Sphynx'], [2.3, 3,5])\n",
    "```\n",
    "</div>"
   ]
  },
  {
   "cell_type": "code",
   "execution_count": null,
   "metadata": {
    "tags": []
   },
   "outputs": [],
   "source": [
    "t1 = ('a', 'b', 'c', 'b', 'd', 'e', 'f', 'z')\n",
    "t2 = (1, 2, 3, 4, 5, 6, 7, 8)\n",
    "t3 = ('gatos', ['Persa', 'Sphynx'], (2.3, 3.5))"
   ]
  },
  {
   "cell_type": "code",
   "execution_count": null,
   "metadata": {},
   "outputs": [],
   "source": [
    "print(type(t1), t1)\n",
    "print(type(t2), t2)\n",
    "print(type(t3), t3)     "
   ]
  },
  {
   "cell_type": "markdown",
   "metadata": {},
   "source": [
    "* Observa que la tupla `t1` y `t2` contienen elementos del mismo tipo (`str` e `int`).\n",
    "* Las tuplas pueden tener elementos repetidos como en `t1`.\n",
    "* La tupla `t3` contiene tres elementos, cada uno de distinto tipo: `str`, `list` y `tuple`."
   ]
  },
  {
   "cell_type": "markdown",
   "metadata": {},
   "source": [
    "# Tuplas de un solo elemento.\n",
    "Si deseamos una tupla de un solo elemento debemos realizar lo siguiente:"
   ]
  },
  {
   "cell_type": "code",
   "execution_count": null,
   "metadata": {
    "tags": []
   },
   "outputs": [],
   "source": [
    "tupla_un_elemento = (1,)\n",
    "print(tupla_un_elemento, type(tupla_un_elemento))"
   ]
  },
  {
   "cell_type": "markdown",
   "metadata": {
    "tags": []
   },
   "source": [
    "La siguiente expresión no construye una tupla, si no un entero:"
   ]
  },
  {
   "cell_type": "code",
   "execution_count": null,
   "metadata": {
    "tags": []
   },
   "outputs": [],
   "source": [
    "tupla_un_elemento = (1)\n",
    "print(tupla_un_elemento, type(tupla_un_elemento))"
   ]
  },
  {
   "cell_type": "markdown",
   "metadata": {},
   "source": [
    "# Indexado.\n",
    "\n",
    "El indexado de las tuplas es similar al de las listas. Por ejemplo, usando la tupla `t1`:"
   ]
  },
  {
   "cell_type": "code",
   "execution_count": null,
   "metadata": {
    "tags": []
   },
   "outputs": [],
   "source": [
    "print(t1)"
   ]
  },
  {
   "cell_type": "code",
   "execution_count": null,
   "metadata": {
    "tags": []
   },
   "outputs": [],
   "source": [
    "t1[0]  # Primer elemento"
   ]
  },
  {
   "cell_type": "code",
   "execution_count": null,
   "metadata": {
    "tags": []
   },
   "outputs": [],
   "source": [
    "t1[-1] # Último elemento"
   ]
  },
  {
   "cell_type": "code",
   "execution_count": null,
   "metadata": {
    "tags": []
   },
   "outputs": [],
   "source": [
    "t1[2:5] # Todos los elementos, desde el 2 hasta el 4"
   ]
  },
  {
   "cell_type": "code",
   "execution_count": null,
   "metadata": {
    "tags": []
   },
   "outputs": [],
   "source": [
    "t1[::-1] # Todos los elementos en reversa"
   ]
  },
  {
   "cell_type": "markdown",
   "metadata": {},
   "source": [
    "Usando el indexado, podemos ver el contenido y tipo de los elementos, por ejemplo:"
   ]
  },
  {
   "cell_type": "code",
   "execution_count": null,
   "metadata": {},
   "outputs": [],
   "source": [
    "print(type(t3[0]), t3[0]) # Elemento 1\n",
    "print(type(t3[1]), t3[1]) # Elemento 2\n",
    "print(type(t3[2]), t3[2]) # Elemento 3"
   ]
  },
  {
   "cell_type": "markdown",
   "metadata": {},
   "source": [
    "* Observa que los elementos 2 y 3 son una lista y una tupla respectivamente. \n",
    "* La lista contiene cadenas, mientras que la tupla contiene flotantes.\n",
    "* Podemos acceder a los elementos individuales de la lista y la tupla como sigue:"
   ]
  },
  {
   "cell_type": "code",
   "execution_count": null,
   "metadata": {},
   "outputs": [],
   "source": [
    "# Primer elemento de la lista t3[1]\n",
    "print(type(t3[1][0]), t3[1][0], )\n",
    "\n",
    "# Segundo elemento de la tupla t3[2]\n",
    "print(type(t3[2][1]), t3[2][1])"
   ]
  },
  {
   "cell_type": "markdown",
   "metadata": {},
   "source": [
    "Las tuplas son usadas, entre otras cosas, en funciones para regresar valores o enviar argumentos. Más acerca de esto se verá en la notebook [14_funciones.ipynb](./14_funciones.ipynb). "
   ]
  },
  {
   "cell_type": "markdown",
   "metadata": {},
   "source": [
    "# Inmutabilidad\n",
    "\n",
    "Los elementos de las tuplas no se pueden modificar. Por ejemplo, si intentamos modificar el elemento tres de la tupla `t1` obtendremos un error:"
   ]
  },
  {
   "cell_type": "code",
   "execution_count": null,
   "metadata": {
    "tags": []
   },
   "outputs": [],
   "source": [
    "t1[2] = 'h'"
   ]
  },
  {
   "cell_type": "markdown",
   "metadata": {},
   "source": [
    "# Funciones incorporadas que operan sobre las tuplas.\n",
    "\n",
    "Prácticamente todas las funciones incorporadas que se aplican a las listas, se pueden aplicar a las tuplas, por ejemplo:"
   ]
  },
  {
   "cell_type": "code",
   "execution_count": null,
   "metadata": {},
   "outputs": [],
   "source": [
    "print(len(t1))\n",
    "print(max(t1))\n",
    "print(min(t1))\n",
    "print(all(t2))\n",
    "print(any(t2))\n",
    "print(sorted(t1))\n",
    "print(sum(t2))"
   ]
  },
  {
   "cell_type": "code",
   "execution_count": null,
   "metadata": {},
   "outputs": [],
   "source": [
    "# Enumera los elementos de una tupla regresando tuplas (i, elemento)\n",
    "list(enumerate(t1)) "
   ]
  },
  {
   "cell_type": "code",
   "execution_count": null,
   "metadata": {},
   "outputs": [],
   "source": [
    "# Agrupa los elementos de dos tuplas regresando tuplas: (t1[i], t2[i])\n",
    "tuple(zip(t1, t2)) "
   ]
  },
  {
   "cell_type": "markdown",
   "metadata": {},
   "source": [
    "Observa que para el caso de `enumerate` y  `zip` el resultado se debe convertir a un tipo que se pueda desplegar. Podemos elegir convertir a una lista o a una tupla para desplegar el resultado.\n",
    "\n",
    "Se pueden agrupar dos tuplas con `zip` aunque sean de distinto tamaño:"
   ]
  },
  {
   "cell_type": "code",
   "execution_count": null,
   "metadata": {},
   "outputs": [],
   "source": [
    "list(zip(t3, t2))"
   ]
  },
  {
   "cell_type": "markdown",
   "metadata": {},
   "source": [
    "Se puede agrupar una tupla y una lista:"
   ]
  },
  {
   "cell_type": "code",
   "execution_count": null,
   "metadata": {},
   "outputs": [],
   "source": [
    "list(zip((1,2,3,4,5),['a','b','c','d','e']))"
   ]
  },
  {
   "cell_type": "markdown",
   "metadata": {},
   "source": [
    "# Operadores sobre tuplas\n",
    "\n",
    "Se pueden usar los operadores `+`, `*` e `in` sobre las tuplas."
   ]
  },
  {
   "cell_type": "code",
   "execution_count": null,
   "metadata": {},
   "outputs": [],
   "source": [
    "t1 + t2"
   ]
  },
  {
   "cell_type": "code",
   "execution_count": null,
   "metadata": {},
   "outputs": [],
   "source": [
    "t3 * 2"
   ]
  },
  {
   "cell_type": "code",
   "execution_count": null,
   "metadata": {},
   "outputs": [],
   "source": [
    "'Persa' in t3"
   ]
  },
  {
   "cell_type": "code",
   "execution_count": null,
   "metadata": {},
   "outputs": [],
   "source": [
    "'Persa' in t3[1]"
   ]
  },
  {
   "cell_type": "markdown",
   "metadata": {},
   "source": [
    "# Métodos de las listas (comportamiento)\n",
    "\n",
    "La clase `<class 'tuple'>` define dos métodos que se pueden aplicar sobre los objetos del tipo `tuple`:\n",
    "\n",
    "* `tuple.index(o)`: regresa el índice donde está el objeto `o` dentro de la tupla\n",
    "* `tuple.count(o)`: cuenta las veces que aparece el objeto `o` en la tupla.\n",
    "\n",
    "Por ejemplo:"
   ]
  },
  {
   "cell_type": "code",
   "execution_count": null,
   "metadata": {
    "tags": []
   },
   "outputs": [],
   "source": [
    "t1.index('z')"
   ]
  },
  {
   "cell_type": "code",
   "execution_count": null,
   "metadata": {
    "tags": []
   },
   "outputs": [],
   "source": [
    "t1.count('b')"
   ]
  },
  {
   "cell_type": "markdown",
   "metadata": {},
   "source": [
    "# ¿Copiando tuplas?\n",
    "\n",
    "No es posible crear una copia de una tupla en otra. Lo que se recomienda es transformar la tupla en otra estructura de datos compatible (por ejemplo `list` o `set`).\n",
    "\n",
    "Si intentamos realizar una copia obtendremos el mismo objeto:"
   ]
  },
  {
   "cell_type": "code",
   "execution_count": null,
   "metadata": {},
   "outputs": [],
   "source": [
    "# nueva tupla\n",
    "t1 =(1,3) \n",
    "\n",
    "# copiando todos los elementos de t1 en t2\n",
    "t2 = t1[:] \n",
    "\n",
    "# copiando usando el módulo copy\n",
    "import copy\n",
    "t3 = copy.copy(t1)"
   ]
  },
  {
   "cell_type": "code",
   "execution_count": null,
   "metadata": {},
   "outputs": [],
   "source": [
    "print(t1, type(t1), id(t1))\n",
    "print(t2, type(t2), id(t2))\n",
    "print(t3, type(t3), id(t3))"
   ]
  },
  {
   "cell_type": "markdown",
   "metadata": {},
   "source": [
    "Observa que las tres tuplas tienen el mismo identificador en memoria."
   ]
  },
  {
   "cell_type": "code",
   "execution_count": null,
   "metadata": {},
   "outputs": [],
   "source": []
  }
 ],
 "metadata": {
  "kernelspec": {
   "display_name": "Python 3 (ipykernel)",
   "language": "python",
   "name": "python3"
  },
  "language_info": {
   "codemirror_mode": {
    "name": "ipython",
    "version": 3
   },
   "file_extension": ".py",
   "mimetype": "text/x-python",
   "name": "python",
   "nbconvert_exporter": "python",
   "pygments_lexer": "ipython3",
   "version": "3.11.6"
  }
 },
 "nbformat": 4,
 "nbformat_minor": 4
}
