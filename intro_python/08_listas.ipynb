{
 "cells": [
  {
   "cell_type": "markdown",
   "metadata": {},
   "source": [
    "# Estructura de datos: listas\n",
    "\n",
    "**Objetivo.**\n",
    "Describir la estructura de datos `list ` mediante la exposición de ejemplos.\n",
    "\n",
    "<p xmlns:cc=\"http://creativecommons.org/ns#\" xmlns:dct=\"http://purl.org/dc/terms/\"><a property=\"dct:title\" rel=\"cc:attributionURL\" href=\"https://github.com/repomacti/pensamiento_computacional\">Pensamiento Computacional a Python</a> by <a rel=\"cc:attributionURL dct:creator\" property=\"cc:attributionName\" href=\"https://gmc.geofisica.unam.mx/luiggi\">Luis Miguel de la Cruz Salas</a> is licensed under <a href=\"https://creativecommons.org/licenses/by-sa/4.0/?ref=chooser-v1\" target=\"_blank\" rel=\"license noopener noreferrer\" style=\"display:inline-block;\">CC BY-SA 4.0<img style=\"height:22px!important;margin-left:3px;vertical-align:text-bottom;\" src=\"https://mirrors.creativecommons.org/presskit/icons/cc.svg?ref=chooser-v1\" alt=\"\"><img style=\"height:22px!important;margin-left:3px;vertical-align:text-bottom;\" src=\"https://mirrors.creativecommons.org/presskit/icons/by.svg?ref=chooser-v1\" alt=\"\"><img style=\"height:22px!important;margin-left:3px;vertical-align:text-bottom;\" src=\"https://mirrors.creativecommons.org/presskit/icons/sa.svg?ref=chooser-v1\" alt=\"\"></a></p> "
   ]
  },
  {
   "cell_type": "markdown",
   "metadata": {},
   "source": [
    "# Introducción\n",
    "\n",
    "Hay cuatro tipos de estructuras de datos, también conocidas como *colecciones*. Cuando se selecciona un tipo de colección, es importante conocer sus propiedades para incrementar la eficiencia y/o la seguridad de los datos. La siguiente tabla resume estos cuatro tipos:\n",
    "\n",
    "|Tipo|Ordenada|Inmutable|Indexable|Duplicidad|\n",
    "|-:|:-:|:-:|:-:|:-:|\n",
    "|List |SI|NO|SI|SI|\n",
    "|Tuple|SI|SI|SI|SI|\n",
    "|Sets |NO|NO|NO|NO|\n",
    "|Dict |NO|NO|SI|NO|\n"
   ]
  },
  {
   "cell_type": "markdown",
   "metadata": {},
   "source": [
    "# Listas\n",
    "\n",
    "* Consisten en una secuencia **ordenada** y **mutable** de elementos. \n",
    "    - **Ordenadas** significa que cada elemento dentro de la lista está indexado y mantiene su orden definido en su creación.\n",
    "    - **Mutable** significa que los elementos de la lista se pueden modificar, y además que se pueden agregar o eliminar elementos.\n",
    "* Las listas pueden tener elementos **duplicados**, es decir, **elementos del mismo tipo y con el mismo contenido**.\n",
    "* Las listas se definen usando corchetes `[]` y `,` para separar sus elementos.\n",
    "\n",
    "<div class=\"alert alert-success\">\n",
    "\n",
    "## Ejemplo 1.\n",
    "    \n",
    "Vamos a crear las siguientes listas:\n",
    "\n",
    "* `gatos` : Razas de gatos.\n",
    "* `origen` : Origen de cada raza de gatos.\n",
    "* `pelo_largo`: Si tienen pelo largo o no.\n",
    "* `pelo_corto`: Si tienen pelo corto o no.\n",
    "* `peso_minimo`: El peso mínimo que pueden tener.\n",
    "* `peso_maximo`: El peso máximo que pueden tener.\n",
    "\n",
    "</div>"
   ]
  },
  {
   "cell_type": "code",
   "execution_count": null,
   "metadata": {
    "tags": []
   },
   "outputs": [],
   "source": [
    "# Listas con elementos de tipo cadena (str)\n",
    "gatos = ['Persa', 'Sphynx', 'Ragdoll','Siamés']\n",
    "origen = ['Irán', 'Toronto', 'California', 'Tailandia']\n",
    "\n",
    "# Listas con elementos de tipo lógico (bool)\n",
    "pelo_largo = [True, False, True, False]\n",
    "pelo_corto = [False, False, False, True]\n",
    "\n",
    "# Listas con elementos de tipo flotante\n",
    "peso_minimo = [2.3, 3.5, 5.4, 2.5]\n",
    "peso_maximo = [6.8, 7.0, 9.1, 4.5]"
   ]
  },
  {
   "cell_type": "code",
   "execution_count": null,
   "metadata": {},
   "outputs": [],
   "source": [
    "# Revisamos el tipo y contenido de cada lista\n",
    "print(type(gatos), gatos)\n",
    "print(type(origen), origen)\n",
    "print(type(pelo_largo), pelo_largo)\n",
    "print(type(pelo_corto), pelo_corto)\n",
    "print(type(peso_minimo), peso_minimo)\n",
    "print(type(peso_maximo), peso_maximo)"
   ]
  },
  {
   "cell_type": "markdown",
   "metadata": {},
   "source": [
    "**Observaciones**:\n",
    "* Cada lista contiene 4 elementos. \n",
    "* Los elementos de cada lista son del mismo tipo. Aunque es posible que los elementos sean de tipos diferentes.\n",
    "* Los elementos son cadenas, flotantes y tipos lógicos."
   ]
  },
  {
   "cell_type": "markdown",
   "metadata": {},
   "source": [
    "# Indexado\n",
    "\n",
    "Se puede acceder a cada elemento de las listas de manera similar a como se hace con las cadenas, veáse el tema **Indexación de las cadenas** en la notebook [05_cadenas.ipynb](./05_cadenas.ipynb).\n",
    "\n",
    "Por ejemplo:"
   ]
  },
  {
   "cell_type": "code",
   "execution_count": null,
   "metadata": {
    "tags": []
   },
   "outputs": [],
   "source": [
    "gatos[0] # Primer elemento"
   ]
  },
  {
   "cell_type": "code",
   "execution_count": null,
   "metadata": {
    "tags": []
   },
   "outputs": [],
   "source": [
    "gatos[1:4] # Todos los elementos, desde el 1 hasta el 3"
   ]
  },
  {
   "cell_type": "code",
   "execution_count": null,
   "metadata": {
    "tags": []
   },
   "outputs": [],
   "source": [
    "gatos[-1] # Último elemento"
   ]
  },
  {
   "cell_type": "code",
   "execution_count": null,
   "metadata": {},
   "outputs": [],
   "source": [
    "gatos[::2] # Todos los elementos en saltos de dos en dos"
   ]
  },
  {
   "cell_type": "code",
   "execution_count": null,
   "metadata": {
    "tags": []
   },
   "outputs": [],
   "source": [
    "gatos[::-1] # Todos los elementos en reversa"
   ]
  },
  {
   "cell_type": "markdown",
   "metadata": {},
   "source": [
    "Para conocer el contenido y tipo de alguno de los elementos podemos hacer lo siguiente:"
   ]
  },
  {
   "cell_type": "code",
   "execution_count": null,
   "metadata": {
    "tags": []
   },
   "outputs": [],
   "source": [
    "print(type(gatos[0]), gatos[0])\n",
    "print(type(pelo_largo[2]), pelo_largo[2])\n",
    "print(type(peso_maximo[-1]), peso_maximo[-1])"
   ]
  },
  {
   "cell_type": "markdown",
   "metadata": {},
   "source": [
    "# Mutabilidad de las listas.\n",
    "\n",
    "Usando el indexado es posible cambiar el contenido de los elementos de una lista. \n",
    "\n",
    "Veamos los siguientes ejemplos:\n",
    "\n",
    "* Modificamos el elemento 1 de la lista `peso_maximo`."
   ]
  },
  {
   "cell_type": "code",
   "execution_count": null,
   "metadata": {},
   "outputs": [],
   "source": [
    "print('Original  :', peso_maximo) # Antes\n",
    "peso_maximo[1] = 100.5 \n",
    "print('Modificado:', peso_maximo) # Después"
   ]
  },
  {
   "cell_type": "markdown",
   "metadata": {},
   "source": [
    "* El tipo de los elementos puede ser diferente del original."
   ]
  },
  {
   "cell_type": "code",
   "execution_count": null,
   "metadata": {},
   "outputs": [],
   "source": [
    "print('Original  :', peso_maximo) # Antes\n",
    "peso_maximo[1] = \"una cadena\" \n",
    "print('Modificado:', peso_maximo) # Después"
   ]
  },
  {
   "cell_type": "markdown",
   "metadata": {},
   "source": [
    "* Incluso es posible agegar otra lista en uno de los elementos:"
   ]
  },
  {
   "cell_type": "code",
   "execution_count": null,
   "metadata": {},
   "outputs": [],
   "source": [
    "print('Original  :', peso_maximo) # Antes\n",
    "peso_maximo[1] = [1,2,'a','b','c'] \n",
    "print('Modificado:', peso_maximo) # Después"
   ]
  },
  {
   "cell_type": "markdown",
   "metadata": {},
   "source": [
    "* Se pueden usar rangos para modificar varios elementos a la vez."
   ]
  },
  {
   "cell_type": "code",
   "execution_count": null,
   "metadata": {},
   "outputs": [],
   "source": [
    "print('Original  :', peso_maximo) # Antes\n",
    "peso_maximo[1:3] = ['a', 'b'] \n",
    "print('Modificado:', peso_maximo) # Después"
   ]
  },
  {
   "cell_type": "markdown",
   "metadata": {},
   "source": [
    "* Se pueden modificar elementos en saltos diferentes a uno."
   ]
  },
  {
   "cell_type": "code",
   "execution_count": null,
   "metadata": {},
   "outputs": [],
   "source": [
    "print('Original  :', peso_maximo) # Antes\n",
    "peso_maximo[::2] = [0.0, 0.0] \n",
    "print('Modificado:', peso_maximo) # Después"
   ]
  },
  {
   "cell_type": "code",
   "execution_count": null,
   "metadata": {},
   "outputs": [],
   "source": [
    "# Regresamos a los valores originales de la lista peso_maximo\n",
    "peso_maximo[0:3] = [6.8, 7.0, 9.1]\n",
    "print(peso_maximo)"
   ]
  },
  {
   "cell_type": "markdown",
   "metadata": {},
   "source": [
    "# Nombres e identificadores\n",
    "\n",
    "Es importante entender la forma en como están almacenados los elementos de la lista en memoria. Veamos el siguiente ejemplo.\n",
    "\n",
    "Generamos otro nombre para la lista (no se crea una copia):"
   ]
  },
  {
   "cell_type": "code",
   "execution_count": null,
   "metadata": {},
   "outputs": [],
   "source": [
    "p_min = peso_minimo"
   ]
  },
  {
   "cell_type": "markdown",
   "metadata": {},
   "source": [
    "Verificamos que sea la misma lista:"
   ]
  },
  {
   "cell_type": "code",
   "execution_count": null,
   "metadata": {},
   "outputs": [],
   "source": [
    "print(id(p_min), p_min)\n",
    "print(id(peso_minimo), peso_minimo)"
   ]
  },
  {
   "cell_type": "markdown",
   "metadata": {},
   "source": [
    "Podemos acceder a un elemento de la lista usando el indexado y ver su contenido y su identificador en memoria. Por ejemplo, para ver el elemento con índice `2` de la lista `p_min` hacemos lo siguiente:"
   ]
  },
  {
   "cell_type": "code",
   "execution_count": null,
   "metadata": {},
   "outputs": [],
   "source": [
    "print(id(p_min[2]), p_min[2])\n",
    "print(id(peso_minimo[2]), peso_minimo[2])"
   ]
  },
  {
   "cell_type": "markdown",
   "metadata": {},
   "source": [
    "Observa que la lista completa tiene su propio identificador, y cada elemento de la lista tiene un identificador diferente. \n",
    "\n",
    "Eliminamos el nombre `peso_minimo`:"
   ]
  },
  {
   "cell_type": "code",
   "execution_count": null,
   "metadata": {},
   "outputs": [],
   "source": [
    "del peso_minimo "
   ]
  },
  {
   "cell_type": "markdown",
   "metadata": {},
   "source": [
    "Ya no existe el nombre `peso_minimo`, por lo que la siguiente declaración dará un error:"
   ]
  },
  {
   "cell_type": "code",
   "execution_count": null,
   "metadata": {},
   "outputs": [],
   "source": [
    "print(peso_minimo) "
   ]
  },
  {
   "cell_type": "markdown",
   "metadata": {},
   "source": [
    "Pero aún se puede acceder a la lista original a través del nombre `p_min`:"
   ]
  },
  {
   "cell_type": "code",
   "execution_count": null,
   "metadata": {},
   "outputs": [],
   "source": [
    "print(id(p_min), p_min) "
   ]
  },
  {
   "cell_type": "markdown",
   "metadata": {},
   "source": [
    "Se puede eliminar un elemento de la lista:"
   ]
  },
  {
   "cell_type": "code",
   "execution_count": null,
   "metadata": {},
   "outputs": [],
   "source": [
    "del p_min[2] "
   ]
  },
  {
   "cell_type": "markdown",
   "metadata": {},
   "source": [
    "Veamos el estado actual de la lista:"
   ]
  },
  {
   "cell_type": "code",
   "execution_count": null,
   "metadata": {},
   "outputs": [],
   "source": [
    "print(id(p_min), p_min) "
   ]
  },
  {
   "cell_type": "markdown",
   "metadata": {},
   "source": [
    "# Funciones incorporadas que operan sobre las listas.\n",
    "\n",
    "Existen muchas operaciones que se pueden realizar sobre las listas usando funciones incorporadas (*built-in functions*).\n",
    "\n",
    "## `len()`: determina la longitud de la lista."
   ]
  },
  {
   "cell_type": "code",
   "execution_count": null,
   "metadata": {
    "tags": []
   },
   "outputs": [],
   "source": [
    "len(gatos) "
   ]
  },
  {
   "cell_type": "markdown",
   "metadata": {},
   "source": [
    "## `max()`: determina el máximo elemento de la lista."
   ]
  },
  {
   "cell_type": "code",
   "execution_count": null,
   "metadata": {
    "tags": []
   },
   "outputs": [],
   "source": [
    "max(peso_maximo) "
   ]
  },
  {
   "cell_type": "markdown",
   "metadata": {},
   "source": [
    "## `min()`: determina el mínimo elemento de la lista."
   ]
  },
  {
   "cell_type": "code",
   "execution_count": null,
   "metadata": {
    "tags": []
   },
   "outputs": [],
   "source": [
    "min(peso_maximo) "
   ]
  },
  {
   "cell_type": "markdown",
   "metadata": {},
   "source": [
    "## `any()`: revisa si ALGÚN elemento es `True`."
   ]
  },
  {
   "cell_type": "code",
   "execution_count": null,
   "metadata": {},
   "outputs": [],
   "source": [
    "any(pelo_largo) "
   ]
  },
  {
   "cell_type": "markdown",
   "metadata": {},
   "source": [
    "## `all()`: revisa si TODOS los elementos son `True`."
   ]
  },
  {
   "cell_type": "code",
   "execution_count": null,
   "metadata": {},
   "outputs": [],
   "source": [
    "all(pelo_corto)"
   ]
  },
  {
   "cell_type": "markdown",
   "metadata": {},
   "source": [
    "## `sorted()`: ordena los elementos de la lista."
   ]
  },
  {
   "cell_type": "code",
   "execution_count": null,
   "metadata": {},
   "outputs": [],
   "source": [
    "print(peso_maximo) # Lista original antes del ordenamiento\n",
    "sorted(peso_maximo) "
   ]
  },
  {
   "cell_type": "markdown",
   "metadata": {},
   "source": [
    "La función `sorted()` genera una nueva lista ordenada, pero no modifica la lista original. Si se imprime la lista `peso_maximo` veremos que no ha cambiado:"
   ]
  },
  {
   "cell_type": "code",
   "execution_count": null,
   "metadata": {},
   "outputs": [],
   "source": [
    "print(peso_maximo)"
   ]
  },
  {
   "cell_type": "markdown",
   "metadata": {},
   "source": [
    "## `sum()`: suma los elementos de la lista. "
   ]
  },
  {
   "cell_type": "code",
   "execution_count": null,
   "metadata": {},
   "outputs": [],
   "source": [
    "# El operador suma debe estar definido para el tipo de los elementos de la lista\n",
    "sum(peso_maximo) "
   ]
  },
  {
   "cell_type": "markdown",
   "metadata": {},
   "source": [
    "## `enumerate()`: enumera los elementos de una lista.\n",
    "\n",
    "Genera tuplas del tipo `(i, elemento)`.\n"
   ]
  },
  {
   "cell_type": "code",
   "execution_count": null,
   "metadata": {},
   "outputs": [],
   "source": [
    "list(enumerate(origen)) "
   ]
  },
  {
   "cell_type": "markdown",
   "metadata": {},
   "source": [
    "Observa que para el caso de `enumerate()` el resultado se debe convertir a un tipo que se pueda desplegar, en este se convierte a una lista usando `list()`."
   ]
  },
  {
   "cell_type": "markdown",
   "metadata": {},
   "source": [
    "## `zip()`: agrupa los elementos de dos listas.\n",
    "\n",
    "Genera tuplas del tipo `(gatos[i], origen[i])`."
   ]
  },
  {
   "cell_type": "code",
   "execution_count": null,
   "metadata": {},
   "outputs": [],
   "source": [
    "list(zip(gatos, origen)) "
   ]
  },
  {
   "cell_type": "markdown",
   "metadata": {},
   "source": [
    "Observa que para el caso de `zip()` el resultado se debe convertir a un tipo que se pueda desplegar, en este se convierte a una lista usando `list()`."
   ]
  },
  {
   "cell_type": "markdown",
   "metadata": {},
   "source": [
    "# Operadores sobre listas\n",
    "\n",
    "Se pueden usar los operadores `+`, `*` e `in` sobre las listas.\n",
    "\n",
    "## `+`: concatena listas."
   ]
  },
  {
   "cell_type": "code",
   "execution_count": null,
   "metadata": {
    "tags": []
   },
   "outputs": [],
   "source": [
    "gatos + peso_maximo # Concatenación de dos listas"
   ]
  },
  {
   "cell_type": "markdown",
   "metadata": {},
   "source": [
    "## `*`: replica listas."
   ]
  },
  {
   "cell_type": "code",
   "execution_count": null,
   "metadata": {
    "tags": []
   },
   "outputs": [],
   "source": [
    "origen * 2 # Duplicación de la lista"
   ]
  },
  {
   "cell_type": "markdown",
   "metadata": {},
   "source": [
    "## `in`: revisa si un elemento está en la lista."
   ]
  },
  {
   "cell_type": "code",
   "execution_count": null,
   "metadata": {
    "tags": []
   },
   "outputs": [],
   "source": [
    "'Siamés' in gatos # ¿Está el elemento `Siamés` en la lista gatos?"
   ]
  },
  {
   "cell_type": "markdown",
   "metadata": {},
   "source": [
    "# Métodos de las listas (comportamiento)\n",
    "\n",
    "En términos de Programación Orientada a Objetos, la clase `<class 'list'>` define una serie de métodos que se pueden aplicar sobre los objetos del tipo `list`. Veamos algunos ejemplos:"
   ]
  },
  {
   "cell_type": "code",
   "execution_count": null,
   "metadata": {
    "tags": []
   },
   "outputs": [],
   "source": [
    "print(gatos) # Imprimimos la lista original"
   ]
  },
  {
   "cell_type": "code",
   "execution_count": null,
   "metadata": {
    "tags": []
   },
   "outputs": [],
   "source": [
    "gatos.append('Siberiano') # Se agrega un elemento al final de la lista"
   ]
  },
  {
   "cell_type": "code",
   "execution_count": null,
   "metadata": {
    "tags": []
   },
   "outputs": [],
   "source": [
    "print(gatos)"
   ]
  },
  {
   "cell_type": "code",
   "execution_count": null,
   "metadata": {
    "tags": []
   },
   "outputs": [],
   "source": [
    "gatos.append('Persa') # Se agrega otro elemento al final de la lista, repetido"
   ]
  },
  {
   "cell_type": "code",
   "execution_count": null,
   "metadata": {
    "tags": []
   },
   "outputs": [],
   "source": [
    "print(gatos)"
   ]
  },
  {
   "cell_type": "code",
   "execution_count": null,
   "metadata": {
    "tags": []
   },
   "outputs": [],
   "source": [
    "gatos.remove('Persa') # Eliminamos el elemento 'Persa' de la lista"
   ]
  },
  {
   "cell_type": "code",
   "execution_count": null,
   "metadata": {
    "tags": []
   },
   "outputs": [],
   "source": [
    "print(gatos) "
   ]
  },
  {
   "cell_type": "markdown",
   "metadata": {},
   "source": [
    "Observa que solo se elimina el primer elemento `Persa` que encuentra."
   ]
  },
  {
   "cell_type": "code",
   "execution_count": null,
   "metadata": {
    "tags": []
   },
   "outputs": [],
   "source": [
    "gatos.insert(0,'Persa') # Podemos insertar un elemento en un lugar específico de la lista"
   ]
  },
  {
   "cell_type": "code",
   "execution_count": null,
   "metadata": {
    "tags": []
   },
   "outputs": [],
   "source": [
    "print(gatos)"
   ]
  },
  {
   "cell_type": "code",
   "execution_count": null,
   "metadata": {
    "tags": []
   },
   "outputs": [],
   "source": [
    "gatos.pop() # Extrae el último elemento de la lista"
   ]
  },
  {
   "cell_type": "code",
   "execution_count": null,
   "metadata": {
    "tags": []
   },
   "outputs": [],
   "source": [
    "print(gatos)"
   ]
  },
  {
   "cell_type": "code",
   "execution_count": null,
   "metadata": {
    "tags": []
   },
   "outputs": [],
   "source": [
    "gatos.sort() # Ordena la lista"
   ]
  },
  {
   "cell_type": "code",
   "execution_count": null,
   "metadata": {
    "tags": []
   },
   "outputs": [],
   "source": [
    "print(gatos)"
   ]
  },
  {
   "cell_type": "code",
   "execution_count": null,
   "metadata": {
    "tags": []
   },
   "outputs": [],
   "source": [
    "gatos.reverse() # Modifca la lista con los elementos en reversa"
   ]
  },
  {
   "cell_type": "code",
   "execution_count": null,
   "metadata": {
    "tags": []
   },
   "outputs": [],
   "source": [
    "print(gatos)"
   ]
  },
  {
   "cell_type": "code",
   "execution_count": null,
   "metadata": {},
   "outputs": [],
   "source": [
    "pelo_corto.extend(pelo_largo) # Concatena dos listas"
   ]
  },
  {
   "cell_type": "code",
   "execution_count": null,
   "metadata": {},
   "outputs": [],
   "source": [
    "print(pelo_corto)"
   ]
  },
  {
   "cell_type": "code",
   "execution_count": null,
   "metadata": {},
   "outputs": [],
   "source": [
    "pelo_corto.count(False) # Contar los elementos que tengan el valor 'False'"
   ]
  },
  {
   "cell_type": "code",
   "execution_count": null,
   "metadata": {},
   "outputs": [],
   "source": [
    "pelo_corto.count(True) # Contar los elementos que tengan el valor 'True'"
   ]
  },
  {
   "cell_type": "markdown",
   "metadata": {},
   "source": [
    "<div class=\"alert alert-success\">\n",
    "\n",
    "## Ejemplo 2.\n",
    "    \n",
    "Considera la lista original `peso_minimo = [2.3, 3.5, 5.4, 2.5]`. El nombre fue eliminado en un ejemplo anterior. Vamos a recuperar la lista a través del nombre `p_min` que aún existe:\n",
    "</div>"
   ]
  },
  {
   "cell_type": "markdown",
   "metadata": {},
   "source": [
    "Veamos el identificador y contenido  de `p_min`"
   ]
  },
  {
   "cell_type": "code",
   "execution_count": null,
   "metadata": {},
   "outputs": [],
   "source": [
    "print(id(p_min), p_min)"
   ]
  },
  {
   "cell_type": "markdown",
   "metadata": {},
   "source": [
    "Necesitamos insertar el valor 5.4 en el lugar 2 de la lista:"
   ]
  },
  {
   "cell_type": "code",
   "execution_count": null,
   "metadata": {},
   "outputs": [],
   "source": [
    "p_min.insert(2, 5.4)"
   ]
  },
  {
   "cell_type": "markdown",
   "metadata": {},
   "source": [
    "Revisamos el identificador y contenido  de `p_min`"
   ]
  },
  {
   "cell_type": "code",
   "execution_count": null,
   "metadata": {},
   "outputs": [],
   "source": [
    "print(id(p_min), p_min)"
   ]
  },
  {
   "cell_type": "markdown",
   "metadata": {},
   "source": [
    "Recuperamos el nombre original:"
   ]
  },
  {
   "cell_type": "code",
   "execution_count": null,
   "metadata": {},
   "outputs": [],
   "source": [
    "peso_minimo = p_min"
   ]
  },
  {
   "cell_type": "markdown",
   "metadata": {},
   "source": [
    "Revisamos el identificador y contenido  de `peso_minimo`"
   ]
  },
  {
   "cell_type": "code",
   "execution_count": null,
   "metadata": {},
   "outputs": [],
   "source": [
    "print(id(peso_minimo), peso_minimo)"
   ]
  },
  {
   "cell_type": "markdown",
   "metadata": {},
   "source": [
    "Eliminamos `p_min`"
   ]
  },
  {
   "cell_type": "code",
   "execution_count": null,
   "metadata": {},
   "outputs": [],
   "source": [
    "del p_min"
   ]
  },
  {
   "cell_type": "markdown",
   "metadata": {},
   "source": [
    "Una descripción detallada de los métodos de la listas se puede ver en [More on Lists](https://docs.python.org/3/tutorial/datastructures.html#more-on-lists)."
   ]
  },
  {
   "cell_type": "markdown",
   "metadata": {},
   "source": [
    "# Copiando listas\n",
    "\n",
    "* Una lista es un objeto que contiene varios elementos.\n",
    "* Para crear una copia de una lista, se debe generar un espacio de memoria en donde se copien todos los elementos de la lista original y asignar un nuevo nombre para esta nueva lista.\n",
    "* Lo anterior no se puede hacer simplemente con el operador de asignación `=`.\n",
    "\n",
    "Veamos un ejemplo:"
   ]
  },
  {
   "cell_type": "code",
   "execution_count": null,
   "metadata": {
    "tags": []
   },
   "outputs": [],
   "source": [
    "gatitos = gatos"
   ]
  },
  {
   "cell_type": "code",
   "execution_count": null,
   "metadata": {
    "tags": []
   },
   "outputs": [],
   "source": [
    "print(gatos)\n",
    "print(gatitos)"
   ]
  },
  {
   "cell_type": "markdown",
   "metadata": {
    "tags": []
   },
   "source": [
    "Podemos observar que al imprimir la lista mediante los nombres `gatos` y `gatitos` obtenemos el mismo resultado. Ahora, modifiquemos el primer elemento usando el nombre `gatitos`: "
   ]
  },
  {
   "cell_type": "code",
   "execution_count": null,
   "metadata": {
    "tags": []
   },
   "outputs": [],
   "source": [
    "gatitos[0] = 'Singapur'"
   ]
  },
  {
   "cell_type": "code",
   "execution_count": null,
   "metadata": {
    "tags": []
   },
   "outputs": [],
   "source": [
    "print(gatos)\n",
    "print(gatitos)"
   ]
  },
  {
   "cell_type": "markdown",
   "metadata": {},
   "source": [
    "Observamos que al imprimir la lista usando `gatos` y `gatitos` volvemos a obtener el mismo resultado. Lo anterior significa que el operador de asignación solamente creó un nuevo nombre para el mismo objeto en memoria, por lo que en realidad no hizo una copia de la lista. Lo anterior lo podemos verificar usando la función `id()` para ver la dirección en memoria del objeto:"
   ]
  },
  {
   "cell_type": "code",
   "execution_count": null,
   "metadata": {
    "tags": []
   },
   "outputs": [],
   "source": [
    "print(id(gatitos))\n",
    "print(id(gatos))"
   ]
  },
  {
   "cell_type": "markdown",
   "metadata": {
    "tags": []
   },
   "source": [
    "## Copiando con `[:]`\n",
    "\n",
    "Para crear una nueva lista copiando todos los elementos podemos hacer lo siguiente:"
   ]
  },
  {
   "cell_type": "code",
   "execution_count": null,
   "metadata": {
    "tags": []
   },
   "outputs": [],
   "source": [
    "gatitos = gatos[:]"
   ]
  },
  {
   "cell_type": "code",
   "execution_count": null,
   "metadata": {
    "tags": []
   },
   "outputs": [],
   "source": [
    "print(type(gatitos))\n",
    "print(id(gatitos))\n",
    "print(gatitos)\n",
    "\n",
    "print(type(gatos))\n",
    "print(id(gatos))\n",
    "print(gatos)"
   ]
  },
  {
   "cell_type": "markdown",
   "metadata": {},
   "source": [
    "Observa que el identificador en memoria de cada lista es diferente por lo que se trata de listas diferentes."
   ]
  },
  {
   "cell_type": "markdown",
   "metadata": {},
   "source": [
    "## Copiando con el método `copy()`\n",
    "\n",
    "La clase `<class 'list'>` contiene un método llamado `copy()` que efectivamente realiza una copia de la lista:"
   ]
  },
  {
   "cell_type": "code",
   "execution_count": null,
   "metadata": {
    "tags": []
   },
   "outputs": [],
   "source": [
    "gatitos = gatos.copy()"
   ]
  },
  {
   "cell_type": "code",
   "execution_count": null,
   "metadata": {
    "tags": []
   },
   "outputs": [],
   "source": [
    "print(type(gatitos))\n",
    "print(id(gatitos))\n",
    "print(gatitos)\n",
    "\n",
    "print(type(gatos))\n",
    "print(id(gatos))\n",
    "print(gatos)"
   ]
  },
  {
   "cell_type": "markdown",
   "metadata": {},
   "source": [
    "Observa que el identificador en memoria de cada lista es diferente por lo que se trata de listas diferentes."
   ]
  },
  {
   "cell_type": "markdown",
   "metadata": {},
   "source": [
    "## Copiando con el constructor\n",
    "\n",
    "La función `list()` transforma un objeto *iterable* en una lista. La podemos usar para copiar una lista como sigue:"
   ]
  },
  {
   "cell_type": "code",
   "execution_count": null,
   "metadata": {
    "tags": []
   },
   "outputs": [],
   "source": [
    "gatitos = list(gatos)"
   ]
  },
  {
   "cell_type": "code",
   "execution_count": null,
   "metadata": {
    "tags": []
   },
   "outputs": [],
   "source": [
    "print(type(gatitos))\n",
    "print(id(gatitos))\n",
    "print(gatitos)\n",
    "\n",
    "print(type(gatos))\n",
    "print(id(gatos))\n",
    "print(gatos)"
   ]
  },
  {
   "cell_type": "markdown",
   "metadata": {},
   "source": [
    "Observa que el identificador en memoria de cada lista es diferente por lo que se trata de listas diferentes.\n",
    "\n",
    "<div class=\"alert alert-info\">\n",
    "\n",
    "**Nota**.\n",
    "\n",
    "<font color=\"Black\">\n",
    "    \n",
    "Lo que sucede en este último caso, es que se ejecuta el constructor de la clase `<class 'list'>`, el cual recibe un objeto iterable (lista, tupla, diccionario, entre otros), copia todos los elementos de ese iterable y los pone en una lista que se almacena en un espacio en memoria diferente al iterable original.\n",
    "</font>\n",
    "</div>\n",
    "\n"
   ]
  },
  {
   "cell_type": "markdown",
   "metadata": {},
   "source": [
    "## Copiando con la biblioteca `copy`\n",
    "\n",
    "La biblioteca **copy** de Python ofrece herramientas para copiado de objetos. Veamos un ejemplo:"
   ]
  },
  {
   "cell_type": "code",
   "execution_count": null,
   "metadata": {
    "tags": []
   },
   "outputs": [],
   "source": [
    "# Importamos la biblioteca copy\n",
    "import copy\n",
    "\n",
    "# Usamos la función copy()\n",
    "gatitos = copy.copy(gatos)"
   ]
  },
  {
   "cell_type": "code",
   "execution_count": null,
   "metadata": {
    "tags": []
   },
   "outputs": [],
   "source": [
    "print(type(gatitos))\n",
    "print(id(gatitos))\n",
    "print(gatitos)\n",
    "\n",
    "print(type(gatos))\n",
    "print(id(gatos))\n",
    "print(gatos)"
   ]
  },
  {
   "cell_type": "markdown",
   "metadata": {},
   "source": [
    "Observa que el identificador en memoria de cada lista es diferente por lo que se trata de listas diferentes.\n",
    "\n",
    "Más información sobre el uso de esta biblioteca se puede ver en [Shallow and deep copy operations](https://docs.python.org/3/library/copy.html)."
   ]
  },
  {
   "cell_type": "markdown",
   "metadata": {},
   "source": [
    "# Listas mas complejas.\n",
    "\n",
    "Las listas pueden contener cualquier tipo de dato de Python e incluso tipos construidos por el usuario. Veamos el siguiente ejemplo:"
   ]
  },
  {
   "cell_type": "code",
   "execution_count": null,
   "metadata": {},
   "outputs": [],
   "source": [
    "lst = ['a', 'b', 'c', [1, 2, 3], 5+1j, 'lista muy compleja']"
   ]
  },
  {
   "cell_type": "markdown",
   "metadata": {},
   "source": [
    "Observa que:\n",
    "* los primeros tres elementos, `lst[0]`, `lst[1]` y `lst[2]` son de tipo `str`,\n",
    "* el cuarto elemento, `lst[3]`, es una lista,\n",
    "* el quinto elemento, `lst[4]`, es un número complejo,\n",
    "* y el último elemento, `lst[5]`, es una cadena.\n",
    "\n",
    "Podemos usar los nombres `lst[i]`, con `i` =0,1,2,3,4,5, como nombres de variables. \n",
    "\n",
    "El contenido y tipo de cada elemento se puede conocer usando esos nombres:"
   ]
  },
  {
   "cell_type": "code",
   "execution_count": null,
   "metadata": {},
   "outputs": [],
   "source": [
    "print(lst[0], type(lst[0]))\n",
    "print(lst[1], type(lst[1]))\n",
    "print(lst[2], type(lst[2]))\n",
    "print(lst[3], type(lst[3]))\n",
    "print(lst[4], type(lst[4]))\n",
    "print(lst[5], type(lst[5]))"
   ]
  },
  {
   "cell_type": "markdown",
   "metadata": {},
   "source": [
    "Podemos acceder a los elementos individuales de los objetos que son más complejos. Por ejemplo, para `lst[3]` y `lst[5]` que son una lista y una cadena respectivamente, hacemos lo siguiente:"
   ]
  },
  {
   "cell_type": "code",
   "execution_count": null,
   "metadata": {},
   "outputs": [],
   "source": [
    "# Segundo elemento de la lista 'lst[3]'\n",
    "print(lst[3][1], type(lst[3][1]))\n",
    "\n",
    "# Cuarto elemento de la cadena 'lst[5]'\n",
    "print(lst[5][3], type(lst[5][3]))"
   ]
  },
  {
   "cell_type": "markdown",
   "metadata": {},
   "source": [
    "Otro ejemplo:"
   ]
  },
  {
   "cell_type": "code",
   "execution_count": null,
   "metadata": {
    "tags": []
   },
   "outputs": [],
   "source": [
    "superlista = ['México', 3.141592, 20, 1j, [1,2,3,'lista']]"
   ]
  },
  {
   "cell_type": "code",
   "execution_count": null,
   "metadata": {
    "tags": []
   },
   "outputs": [],
   "source": [
    "superlista"
   ]
  },
  {
   "cell_type": "code",
   "execution_count": null,
   "metadata": {
    "tags": []
   },
   "outputs": [],
   "source": [
    "superlista[0] # El elemento 0 de la lista"
   ]
  },
  {
   "cell_type": "code",
   "execution_count": null,
   "metadata": {
    "tags": []
   },
   "outputs": [],
   "source": [
    "superlista[4] # El elemento 4 de la lista (este elemento es otra lista)"
   ]
  },
  {
   "cell_type": "code",
   "execution_count": null,
   "metadata": {
    "tags": []
   },
   "outputs": [],
   "source": [
    "superlista[4][2] # El elemento 2 del elemento 4 de la lista original"
   ]
  },
  {
   "cell_type": "code",
   "execution_count": null,
   "metadata": {},
   "outputs": [],
   "source": []
  }
 ],
 "metadata": {
  "kernelspec": {
   "display_name": "Python 3 (ipykernel)",
   "language": "python",
   "name": "python3"
  },
  "language_info": {
   "codemirror_mode": {
    "name": "ipython",
    "version": 3
   },
   "file_extension": ".py",
   "mimetype": "text/x-python",
   "name": "python",
   "nbconvert_exporter": "python",
   "pygments_lexer": "ipython3",
   "version": "3.11.6"
  }
 },
 "nbformat": 4,
 "nbformat_minor": 4
}
