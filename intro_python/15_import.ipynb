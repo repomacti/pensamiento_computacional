{
 "cells": [
  {
   "cell_type": "markdown",
   "metadata": {},
   "source": [
    "# Importando bibliotecas.\n",
    "\n",
    "**Objetivo.**\n",
    "Mostrar como importar módulos de la biblioteca estándar y algunos ejemplos de su uso.\n",
    "\n",
    "<p xmlns:cc=\"http://creativecommons.org/ns#\" xmlns:dct=\"http://purl.org/dc/terms/\"><a property=\"dct:title\" rel=\"cc:attributionURL\" href=\"https://github.com/repomacti/pensamiento_computacional\">Pensamiento Computacional a Python</a> by <a rel=\"cc:attributionURL dct:creator\" property=\"cc:attributionName\" href=\"https://gmc.geofisica.unam.mx/luiggi\">Luis Miguel de la Cruz Salas</a> is licensed under <a href=\"https://creativecommons.org/licenses/by-sa/4.0/?ref=chooser-v1\" target=\"_blank\" rel=\"license noopener noreferrer\" style=\"display:inline-block;\">CC BY-SA 4.0<img style=\"height:22px!important;margin-left:3px;vertical-align:text-bottom;\" src=\"https://mirrors.creativecommons.org/presskit/icons/cc.svg?ref=chooser-v1\" alt=\"\"><img style=\"height:22px!important;margin-left:3px;vertical-align:text-bottom;\" src=\"https://mirrors.creativecommons.org/presskit/icons/by.svg?ref=chooser-v1\" alt=\"\"><img style=\"height:22px!important;margin-left:3px;vertical-align:text-bottom;\" src=\"https://mirrors.creativecommons.org/presskit/icons/sa.svg?ref=chooser-v1\" alt=\"\"></a></p> "
   ]
  },
  {
   "cell_type": "markdown",
   "metadata": {},
   "source": [
    "# La biblioteca estándar de Python\n",
    "\n",
    "La **biblioteca estándar** de Python está compuesta por módulos con funcionalidades adicionales y que se distribuyen con la instalación de básica del lenguaje, por lo que no es necesaria una instalación adicional. El conjunto de funciones y herramientas de esta biblioteca es muy extensa y ofrece una amplia gama de aplicaciones.\n",
    "\n",
    "Estos módulos o bibliotecas permiten, entre otras cosas, tener una interfaz con el sistema operativo, manejo de archivos, medición de tiempos, fechas, matemáticas y pruebas unitarias.\n",
    "\n",
    "La forma de incorporar y usar de estas herramientas es simple y estándar. En esta notebook veremos algunos ejemplos."
   ]
  },
  {
   "cell_type": "markdown",
   "metadata": {},
   "source": [
    "# Importando las bibliotecas.\n",
    "\n",
    "Las bibliotecas se pueden importar varias formas:\n",
    "\n",
    "**1. Importando usando el nombre:**\n",
    "```python\n",
    "import nombre_de_la_biblioteca\n",
    "```\n",
    "En este caso, para usar una función se debe anteponer el nombre completo de la biblioteca:\n",
    "\n",
    "```python\n",
    "nombre_de_la_biblioteca.funcion_x()\n",
    "```\n",
    "\n",
    "**2. Importando usando el nombre y un alias:**\n",
    "\n",
    "```python\n",
    "import nombre_de_la_biblioteca as nb\n",
    "```\n",
    "\n",
    "En este caso, para usar una función se debe anteponer el alias de la biblioteca:\n",
    "\n",
    "```python\n",
    "nb.funcion_x()\n",
    "```\n",
    "\n",
    "**3. Importando todas las funciones de la biblioteca con `*`:**\n",
    "\n",
    "```python\n",
    "from nombre_de_la_biblioteca import *\n",
    "```\n",
    "\n",
    "En este caso, para usar una función se puede usar el nombre de la misma sin anteponer nada:\n",
    "\n",
    "```python\n",
    "funcion_x()\n",
    "```\n",
    "\n",
    "**4. Importando solo una función de la biblioteca :**\n",
    "\n",
    "```python\n",
    "from nombre_de_la_biblioteca import funcion_x\n",
    "```\n",
    "En este caso, para usar la función solo es necesario el nombre de la misma:\n",
    "\n",
    "```python\n",
    "funcion_x()\n",
    "```\n",
    "\n",
    "Por cada función que se requiera, se debe agregar el nombre en la importación separada por coma:\n",
    "\n",
    "```python\n",
    "from nombre_de_la_biblioteca import funcion_x, funcion_y\n",
    "```\n",
    "\n",
    "**5. Importando solo una función de la biblioteca y un alias:**\n",
    "\n",
    "```python\n",
    "from nombre_de_la_biblioteca import funcion_x as fx\n",
    "```\n",
    "\n",
    "En este caso, para usar la función se usa el alias:\n",
    "\n",
    "```python\n",
    "fx()\n",
    "```"
   ]
  },
  {
   "cell_type": "markdown",
   "metadata": {},
   "source": [
    "# Funciones matemáticas\n",
    "\n",
    "## `math` y `cmath` \n",
    "\n",
    "- El módulo `math` provee de las funciones matemáticas definida en la biblioteca estándar de C para números **reales**. Más información: https://docs.python.org/3.0/library/math.html.\n",
    "\n",
    "- El módulo `cmath` provee de las funciones matemáticas para números **complejos**. Más información: https://docs.python.org/3.0/library/cmath.html <br>"
   ]
  },
  {
   "cell_type": "code",
   "execution_count": null,
   "metadata": {},
   "outputs": [],
   "source": [
    "import math\n",
    "print(math.sqrt(4))\n",
    "print(math.pi)\n",
    "print(math.sin(math.pi / 2))\n",
    "print(math.cos(0))"
   ]
  },
  {
   "cell_type": "code",
   "execution_count": null,
   "metadata": {},
   "outputs": [],
   "source": [
    "import cmath\n",
    "\n",
    "complejo = 1 + 4j\n",
    "print(complejo)\n",
    "print(cmath.sin(complejo))"
   ]
  },
  {
   "cell_type": "markdown",
   "metadata": {},
   "source": [
    "## `random`\n",
    "\n",
    "Este módulo implementa generadores de números pseudoaleatorios para varias distribuciones. Más información: https://docs.python.org/3/library/random.html"
   ]
  },
  {
   "cell_type": "code",
   "execution_count": null,
   "metadata": {},
   "outputs": [],
   "source": [
    "import random\n",
    "\n",
    "# randint(): Elige un número entre 0 y 5\n",
    "print(random.randint(0, 5))\n",
    "\n",
    "# random(): Genera un número entre 0 y 1\n",
    "print(random.random())\n",
    "\n",
    "# choice(): Selecciona entre varios elementos de una secuencia\n",
    "myList = [2, 109, False, 10, \"Lorem\", 482, \"Ipsum\"]\n",
    "print(random.choice(myList))\n",
    "\n",
    "# suffle(): Ordena una lista de manera pseudoaleatoria\n",
    "x = [[i] for i in range(10)]\n",
    "random.shuffle(x)\n",
    "print(x)\n",
    "\n",
    "# randrange(): Elige un valor en un rango\n",
    "for i in range(3):\n",
    "    print(random.randrange(0, 101, 5))"
   ]
  },
  {
   "cell_type": "markdown",
   "metadata": {},
   "source": [
    "## `statistics`\n",
    "\n",
    "Este módulo proporciona funciones para calcular estadísticas matemáticas de datos numéricos (valores reales). Más información: https://docs.python.org/3/library/statistics.html"
   ]
  },
  {
   "cell_type": "code",
   "execution_count": null,
   "metadata": {},
   "outputs": [],
   "source": [
    "import statistics\n",
    "\n",
    "example_list = [5,2,5,6,1,2,6,7,2,6,3,5,5]\n",
    "\n",
    "x = statistics.mean(example_list)\n",
    "print(x)\n",
    "\n",
    "y = statistics.median(example_list)\n",
    "print(y)\n",
    "\n",
    "z = statistics.mode(example_list)\n",
    "print(z)\n",
    "\n",
    "a = statistics.stdev(example_list)\n",
    "print(a)\n",
    "\n",
    "b = statistics.variance(example_list)\n",
    "print(b)"
   ]
  },
  {
   "cell_type": "markdown",
   "metadata": {},
   "source": [
    "# Sistema operativo.\n",
    "\n",
    "## `os`\n",
    "\n",
    "Este módulo provee una manera portable de interactuar con el sistema operativo. Más información: https://docs.python.org/3/library/os.html.\n",
    " \n",
    "Se puede por ejemplo, crear, eliminar y mover carpetas/archivos, cambiarse de directorio, acceder a los nombres de archivos dentro de una ruta, etc. "
   ]
  },
  {
   "cell_type": "code",
   "execution_count": null,
   "metadata": {},
   "outputs": [],
   "source": [
    "import os\n",
    "\n",
    "directorio_actual = os.getcwd()\n",
    "print(directorio_actual)"
   ]
  },
  {
   "cell_type": "code",
   "execution_count": null,
   "metadata": {},
   "outputs": [],
   "source": [
    "os.mkdir('nueva_carpeta')"
   ]
  },
  {
   "cell_type": "code",
   "execution_count": null,
   "metadata": {},
   "outputs": [],
   "source": [
    "os.chdir('nueva_carpeta')"
   ]
  },
  {
   "cell_type": "code",
   "execution_count": null,
   "metadata": {},
   "outputs": [],
   "source": [
    "print(os.getcwd())"
   ]
  },
  {
   "cell_type": "code",
   "execution_count": null,
   "metadata": {},
   "outputs": [],
   "source": [
    "os.chdir('../')"
   ]
  },
  {
   "cell_type": "code",
   "execution_count": null,
   "metadata": {},
   "outputs": [],
   "source": [
    "print(os.getcwd())"
   ]
  },
  {
   "cell_type": "code",
   "execution_count": null,
   "metadata": {},
   "outputs": [],
   "source": [
    "os.rename('nueva_carpeta','nueva')"
   ]
  },
  {
   "cell_type": "code",
   "execution_count": null,
   "metadata": {},
   "outputs": [],
   "source": [
    "os.listdir()"
   ]
  },
  {
   "cell_type": "code",
   "execution_count": null,
   "metadata": {},
   "outputs": [],
   "source": [
    "os.rmdir('nueva')"
   ]
  },
  {
   "cell_type": "code",
   "execution_count": null,
   "metadata": {},
   "outputs": [],
   "source": [
    "os.listdir()"
   ]
  },
  {
   "cell_type": "code",
   "execution_count": null,
   "metadata": {},
   "outputs": [],
   "source": [
    "import os\n",
    "\n",
    "def child():\n",
    "    print('\\nA new child ',  os.getpid())\n",
    "    os._exit(0)  \n",
    "\n",
    "def parent():\n",
    "    while True:\n",
    "        newpid = os.fork()\n",
    "        if newpid == 0:\n",
    "            child()\n",
    "        else:\n",
    "            pids = (os.getpid(), newpid)\n",
    "            print(\"parent: %d, child: %d\\n\" % pids)\n",
    "        reply = input(\"q for quit / c for new fork\")\n",
    "        if reply == 'c': \n",
    "            continue\n",
    "        else:\n",
    "            break\n",
    "\n",
    "parent()"
   ]
  },
  {
   "cell_type": "markdown",
   "metadata": {},
   "source": [
    "## `platform` \n",
    "\n",
    "Para acceso a los datos identificativos de la plataforma subyacente. Más información: https://docs.python.org/3/library/platform.html."
   ]
  },
  {
   "cell_type": "code",
   "execution_count": null,
   "metadata": {},
   "outputs": [],
   "source": [
    "import platform\n",
    "\n",
    "SO = platform.system()\n",
    "\n",
    "if SO == \"Windows\":\n",
    "    print(\"Sistema operativo : Windows 11\")\n",
    "elif SO == \"Linux\":\n",
    "    print(\"Sistema operativo : Linux 11\")\n",
    "elif SO == \"Darwin\":\n",
    "    print(\"Sistema operativo : MacOS\")"
   ]
  },
  {
   "cell_type": "markdown",
   "metadata": {},
   "source": [
    "## `shutil`\n",
    "\n",
    "El módulo `shutil` ofrece una serie de operaciones de alto nivel en archivos y colecciones de archivos. En particular, se proporcionan funciones que admiten la copia y eliminación de archivos. Más información: https://docs.python.org/3/library/shutil.html."
   ]
  },
  {
   "cell_type": "code",
   "execution_count": null,
   "metadata": {},
   "outputs": [],
   "source": [
    "import os, shutil\n",
    "\n",
    "# Obtenemos el directorio original\n",
    "dir_original = os.getcwd()\n",
    "\n",
    "# Obtenemos la lista de archivos\n",
    "lista_archivos = os.listdir(dir_original)\n",
    "\n",
    "# Creamos una carpeta\n",
    "os.mkdir('BORRAME')\n",
    "\n",
    "# Creamos una cadena con la ruta a la nueva carpeta\n",
    "dir_destino = dir_original + '/BORRAME'\n",
    "print(dir_destino)\n",
    "\n",
    "# Recorremos la lista de archivos\n",
    "for files in lista_archivos:\n",
    "    # Si el nombre termina con \".txt\" lo copiamos a la carpeta\n",
    "    if files.endswith(\".txt\"):\n",
    "        shutil.copy(files, dir_destino)\n",
    "        \n",
    "# Listamos los archivos en la carpeta\n",
    "os.listdir('./BORRAME/')"
   ]
  },
  {
   "cell_type": "code",
   "execution_count": null,
   "metadata": {},
   "outputs": [],
   "source": [
    "# Eliminamos la carpeta\n",
    "shutil.rmtree(\"./BORRAME/\")"
   ]
  },
  {
   "cell_type": "markdown",
   "metadata": {},
   "source": [
    "## `sys`\n",
    "\n",
    "Provee información acerca de las constantes, funciones y métodos del interprete de Python. Más información: https://docs.python.org/3/library/sys.html."
   ]
  },
  {
   "cell_type": "code",
   "execution_count": null,
   "metadata": {},
   "outputs": [],
   "source": [
    "import sys"
   ]
  },
  {
   "cell_type": "code",
   "execution_count": null,
   "metadata": {},
   "outputs": [],
   "source": [
    "sys.version"
   ]
  },
  {
   "cell_type": "code",
   "execution_count": null,
   "metadata": {},
   "outputs": [],
   "source": [
    "sys.float_info"
   ]
  },
  {
   "cell_type": "code",
   "execution_count": null,
   "metadata": {},
   "outputs": [],
   "source": [
    "sys.path"
   ]
  },
  {
   "cell_type": "code",
   "execution_count": null,
   "metadata": {},
   "outputs": [],
   "source": [
    "print(\"Impresión a la salida estándar\")\n",
    "\n",
    "# Salvamos la salida estándar \n",
    "save_stdout = sys.stdout\n",
    "\n",
    "fh = open(\"test_salida_estandar.txt\",\"w\")\n",
    "\n",
    "# Cambiamos la salida estándar\n",
    "sys.stdout = fh\n",
    "print(\"Esta línea va hacia el archivo test_salida_estandar.txt\")\n",
    "\n",
    "# Regresamos la salida estandar a la normalidad\n",
    "sys.stdout = save_stdout\n",
    "\n",
    "# Cerramos el archivo\n",
    "fh.close()"
   ]
  },
  {
   "cell_type": "code",
   "execution_count": null,
   "metadata": {},
   "outputs": [],
   "source": [
    "# Eliminamos el archivo\n",
    "os.remove(\"test_salida_estandar.txt\")"
   ]
  },
  {
   "cell_type": "code",
   "execution_count": null,
   "metadata": {},
   "outputs": [],
   "source": [
    "sys.stderr"
   ]
  },
  {
   "cell_type": "markdown",
   "metadata": {},
   "source": [
    "## `time` y `datetime`\n",
    "\n",
    "- `time` : Acceso al tiempo del sistema y conversiones. Más información: https://docs.python.org/3/library/time.html.\n",
    "\n",
    "- `datetime` Tipos básicos para el tiempo y la fecha. Más información: https://docs.python.org/3/library/datetime.html."
   ]
  },
  {
   "cell_type": "code",
   "execution_count": null,
   "metadata": {},
   "outputs": [],
   "source": [
    "import time\n",
    "import datetime\n",
    "\n",
    "print(\"Time in seconds since the epoch: %s\" %time.time())\n",
    "print(\"Current date and time: \" , datetime.datetime.now())\n",
    "print(\"Or like this: \" ,datetime.datetime.now().strftime(\"%y-%m-%d-%H-%M\"))\n",
    "\n",
    "\n",
    "print(\"Current year: \", datetime.date.today().strftime(\"%Y\"))\n",
    "print(\"Month of year: \", datetime.date.today().strftime(\"%B\"))\n",
    "print(\"Week number of the year: \", datetime.date.today().strftime(\"%W\"))\n",
    "print(\"Weekday of the week: \", datetime.date.today().strftime(\"%w\"))\n",
    "print(\"Day of year: \", datetime.date.today().strftime(\"%j\"))\n",
    "print(\"Day of the month : \", datetime.date.today().strftime(\"%d\"))\n",
    "print(\"Day of week: \", datetime.date.today().strftime(\"%A\"))"
   ]
  },
  {
   "cell_type": "code",
   "execution_count": null,
   "metadata": {},
   "outputs": [],
   "source": [
    "hoy = datetime.date.today()\n",
    "nacimiento = datetime.date(1970, 8, 13)\n",
    "edad = hoy - nacimiento\n",
    "edad.days"
   ]
  },
  {
   "cell_type": "code",
   "execution_count": null,
   "metadata": {},
   "outputs": [],
   "source": [
    "from timeit import Timer\n",
    "print(Timer('t=a; a=b; b=t', 'a=1; b=2').timeit())\n",
    "print(Timer('a,b = b,a', 'a=1; b=2').timeit())"
   ]
  },
  {
   "cell_type": "markdown",
   "metadata": {},
   "source": [
    "## `glob`\n",
    "\n",
    "El módulo `glob` encuentra todos los nombres de ruta que coinciden con un patrón específico de acuerdo con las reglas utilizadas por el shell de Unix, aunque los resultados se devuelven en orden arbitrario. Más información: https://docs.python.org/3/library/glob.html."
   ]
  },
  {
   "cell_type": "code",
   "execution_count": null,
   "metadata": {},
   "outputs": [],
   "source": [
    "import os, glob\n",
    "metadata = [(f) for f in glob.glob('*.ipynb')]\n",
    "\n",
    "metadata"
   ]
  },
  {
   "cell_type": "code",
   "execution_count": null,
   "metadata": {},
   "outputs": [],
   "source": [
    "metadata_dict = {f:os.stat(f) for f in glob.glob('*.ipynb')}"
   ]
  },
  {
   "cell_type": "code",
   "execution_count": null,
   "metadata": {},
   "outputs": [],
   "source": [
    "metadata_dict.keys()"
   ]
  },
  {
   "cell_type": "code",
   "execution_count": null,
   "metadata": {},
   "outputs": [],
   "source": [
    "metadata_dict.values()"
   ]
  },
  {
   "cell_type": "code",
   "execution_count": null,
   "metadata": {},
   "outputs": [],
   "source": [
    "metadata_dict['15_import.ipynb'].st_size"
   ]
  },
  {
   "cell_type": "markdown",
   "metadata": {},
   "source": [
    "## `urllib`\n",
    "\n",
    "Recopila varios módulos para trabajar con URL. Más información: https://docs.python.org/3/library/urllib.html."
   ]
  },
  {
   "cell_type": "code",
   "execution_count": null,
   "metadata": {},
   "outputs": [],
   "source": [
    "import urllib.request\n",
    "\n",
    "x = urllib.request.urlopen('https://www.macti.unam.mx/')\n",
    "\n",
    "print(x.read())"
   ]
  },
  {
   "cell_type": "markdown",
   "metadata": {},
   "source": [
    "# Misceláneos.\n",
    "\n",
    "## `doctest`\n",
    "\n",
    "El módulo `doctest` busca fragmentos de texto que parecen sesiones interactivas de Python y luego ejecuta esas sesiones para verificar que funcionan exactamente como se muestra. Hay varias formas comunes de utilizar doctest:\n",
    "\n",
    "Más información: https://docs.python.org/3/library/doctest.html."
   ]
  },
  {
   "cell_type": "code",
   "execution_count": null,
   "metadata": {},
   "outputs": [],
   "source": [
    "def promedio(valores):\n",
    "    \"\"\"Calcula la media aritmética de una lista de números.\n",
    "\n",
    "    >>> print(promedio([20, 30, 70]))\n",
    "    40.0\n",
    "\n",
    "    >>> print(promedio([1.0, 3.0, 2.0]))\n",
    "    10.0    \n",
    "    \"\"\"\n",
    "    return sum(valores) / len(valores)\n",
    "\n",
    "import doctest\n",
    "doctest.testmod()   # valida automáticamente las pruebas integradas"
   ]
  },
  {
   "cell_type": "code",
   "execution_count": null,
   "metadata": {},
   "outputs": [],
   "source": [
    "def fib(n):\n",
    "    \"\"\" \n",
    "    Calculates the n-th Fibonacci number iteratively  \n",
    "\n",
    "    >>> fib(0)\n",
    "    0\n",
    "    >>> fib(1)\n",
    "    1\n",
    "    >>> fib(10) \n",
    "    55\n",
    "    >>> fib(15)\n",
    "    610\n",
    "    \"\"\"\n",
    "    a, b = 0, 1\n",
    "    for i in range(n):\n",
    "        a, b = b, a + b\n",
    "    return a"
   ]
  },
  {
   "cell_type": "code",
   "execution_count": null,
   "metadata": {},
   "outputs": [],
   "source": [
    "doctest.testmod()"
   ]
  },
  {
   "cell_type": "markdown",
   "metadata": {},
   "source": [
    "## `zlib`\n",
    "\n",
    "Las funciones de este módulo permiten la compresión y descompresión utilizando la biblioteca `zlib`. Más información: https://docs.python.org/3/library/zlib.html."
   ]
  },
  {
   "cell_type": "code",
   "execution_count": null,
   "metadata": {},
   "outputs": [],
   "source": [
    "import zlib\n",
    "s = b'witch which has which witches wrist watch'\n",
    "len(s)"
   ]
  },
  {
   "cell_type": "code",
   "execution_count": null,
   "metadata": {},
   "outputs": [],
   "source": [
    "t = zlib.compress(s)\n",
    "len(t)"
   ]
  },
  {
   "cell_type": "code",
   "execution_count": null,
   "metadata": {},
   "outputs": [],
   "source": [
    "zlib.decompress(t)"
   ]
  },
  {
   "cell_type": "code",
   "execution_count": null,
   "metadata": {},
   "outputs": [],
   "source": [
    "# Abrimos el archivo \n",
    "f = open('./poema20.txt', 'rb')\n",
    "\n",
    "# Leemos el archivo\n",
    "original_data = f.read()\n",
    "\n",
    "# Cerramos el archivo\n",
    "f.close()\n",
    "\n",
    "# Imprimimos el contenido del archivo\n",
    "print(original_data)\n",
    "\n",
    "# Comprimimos el contenido\n",
    "compressed_data = zlib.compress(original_data, zlib.Z_BEST_COMPRESSION)\n",
    "\n",
    "# Calculamos la razón de compresión\n",
    "compress_ratio = (float(len(original_data)) - float(len(compressed_data))) / float(len(original_data))\n",
    "\n",
    "# Imprimimos los resultados\n",
    "print('\\nCompressed: {:3.1f}%'.format(100.0 * compress_ratio))\n",
    "\n",
    "# Guardamos el contenido comprimido en un archivo\n",
    "f = open('poema20.zip','wb')\n",
    "f.write(compressed_data)\n",
    "f.close()"
   ]
  },
  {
   "cell_type": "code",
   "execution_count": null,
   "metadata": {},
   "outputs": [],
   "source": [
    "# Abrimos el archivo comprimido\n",
    "f = open('./poema20.zip', 'rb')\n",
    "\n",
    "# Leemos el contenido\n",
    "original_data = f.read()\n",
    "\n",
    "# Cerramos y eliminamos el archivo comprimido\n",
    "f.close()\n",
    "os.remove(\"poema20.zip\")\n",
    "\n",
    "# Descomprimimos el contenido\n",
    "decompressed_data = zlib.decompress(original_data)\n",
    "\n",
    "# Imprimimos el contenido\n",
    "print(decompressed_data)"
   ]
  },
  {
   "cell_type": "code",
   "execution_count": null,
   "metadata": {},
   "outputs": [],
   "source": []
  }
 ],
 "metadata": {
  "kernelspec": {
   "display_name": "Python 3 (ipykernel)",
   "language": "python",
   "name": "python3"
  },
  "language_info": {
   "codemirror_mode": {
    "name": "ipython",
    "version": 3
   },
   "file_extension": ".py",
   "mimetype": "text/x-python",
   "name": "python",
   "nbconvert_exporter": "python",
   "pygments_lexer": "ipython3",
   "version": "3.11.6"
  }
 },
 "nbformat": 4,
 "nbformat_minor": 4
}
