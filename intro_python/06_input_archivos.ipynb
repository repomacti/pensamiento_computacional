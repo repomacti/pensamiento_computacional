{
 "cells": [
  {
   "cell_type": "markdown",
   "metadata": {
    "editable": true,
    "slideshow": {
     "slide_type": ""
    },
    "tags": []
   },
   "source": [
    "# Entrada estándar `input` y gestión de archivos.\n",
    "\n",
    "**Objetivo.**\n",
    "Revisar el uso de la función `input()` para la entrada estándar y como se gestionan archivos.\n",
    " \n",
    "<p xmlns:cc=\"http://creativecommons.org/ns#\" xmlns:dct=\"http://purl.org/dc/terms/\"><a property=\"dct:title\" rel=\"cc:attributionURL\" href=\"https://github.com/repomacti/pensamiento_computacional\">Pensamiento Computacional a Python</a> by <a rel=\"cc:attributionURL dct:creator\" property=\"cc:attributionName\" href=\"https://gmc.geofisica.unam.mx/luiggi\">Luis Miguel de la Cruz Salas</a> is licensed under <a href=\"https://creativecommons.org/licenses/by-sa/4.0/?ref=chooser-v1\" target=\"_blank\" rel=\"license noopener noreferrer\" style=\"display:inline-block;\">CC BY-SA 4.0<img style=\"height:22px!important;margin-left:3px;vertical-align:text-bottom;\" src=\"https://mirrors.creativecommons.org/presskit/icons/cc.svg?ref=chooser-v1\" alt=\"\"><img style=\"height:22px!important;margin-left:3px;vertical-align:text-bottom;\" src=\"https://mirrors.creativecommons.org/presskit/icons/by.svg?ref=chooser-v1\" alt=\"\"><img style=\"height:22px!important;margin-left:3px;vertical-align:text-bottom;\" src=\"https://mirrors.creativecommons.org/presskit/icons/sa.svg?ref=chooser-v1\" alt=\"\"></a></p> "
   ]
  },
  {
   "cell_type": "markdown",
   "metadata": {},
   "source": [
    "# Entrada estándar con `input()`\n",
    "\n",
    "En Python es posible que el usuario proporcione información a un código durante su ejecución, para que, con base en esta información, realice una acción.\n",
    "\n",
    "Para ello se usa la función `input()`. Por ejemplo:"
   ]
  },
  {
   "cell_type": "code",
   "execution_count": null,
   "metadata": {},
   "outputs": [],
   "source": [
    "# Cuando se ejecuta, se espera a que el usuario \n",
    "# teclee la información y luego <enter>\n",
    "input(\"Escribe tu nombre:\") "
   ]
  },
  {
   "cell_type": "markdown",
   "metadata": {},
   "source": [
    "**Observaciones.**\n",
    "* La cadena entre los paréntesis proporciona información para saber lo que se debe teclear. Esta cadena se conoce como (*prompt*).\n",
    "* Esta cadena se imprime cuando se ejecuta la función `input()` y luego se espera a que teclees alguna información.\n",
    "* Cuando se teclea `<enter>` la función `input()` lee la información proporcionada.\n",
    "* Input lee toda la información en una cadena (`str`).\n",
    "\n",
    "La información que se teclea se puede almacenar en una variable:"
   ]
  },
  {
   "cell_type": "code",
   "execution_count": null,
   "metadata": {},
   "outputs": [],
   "source": [
    "numero = input('Teclea un número entero:')"
   ]
  },
  {
   "cell_type": "markdown",
   "metadata": {},
   "source": [
    "Posteriormente, se puede ver el contenido y el tipo de la variable `numero`:"
   ]
  },
  {
   "cell_type": "code",
   "execution_count": null,
   "metadata": {},
   "outputs": [],
   "source": [
    "print(numero, type(numero)) "
   ]
  },
  {
   "cell_type": "markdown",
   "metadata": {},
   "source": [
    "Observa que el tipo de la variable es `str`. Entonces, si queremos usar el valor de un número para realizar un cálculo, lo debemos convertir al tipo numérico requerido. Por ejemplo:"
   ]
  },
  {
   "cell_type": "code",
   "execution_count": null,
   "metadata": {},
   "outputs": [],
   "source": [
    "numero = int(input('Teclea un número entero:'))"
   ]
  },
  {
   "cell_type": "code",
   "execution_count": null,
   "metadata": {},
   "outputs": [],
   "source": [
    "# Checamos el contenido y el tipo\n",
    "print(numero, type(numero)) "
   ]
  },
  {
   "cell_type": "markdown",
   "metadata": {},
   "source": [
    "Observa que ahora el tipo corresponde a un entero debido a que hicimos la conversión (*casting*) con la función `int()`.\n",
    "\n",
    "También podemos convertir a tiplo flotante:"
   ]
  },
  {
   "cell_type": "code",
   "execution_count": null,
   "metadata": {},
   "outputs": [],
   "source": [
    "numero_f = float(input('Teclea un número flotante:'))"
   ]
  },
  {
   "cell_type": "code",
   "execution_count": null,
   "metadata": {},
   "outputs": [],
   "source": [
    "print(numero_f, type(numero_f)) "
   ]
  },
  {
   "cell_type": "markdown",
   "metadata": {},
   "source": [
    "<div class=\"alert alert-block alert-success\">\n",
    "\n",
    "## Ejemplo 1.\n",
    "\n",
    "Calcular el área de un triángulo cuyos datos de la base y la altura son proporcionados por el usuario.\n",
    "</div>\n",
    "\n",
    "**Primer intento**."
   ]
  },
  {
   "cell_type": "code",
   "execution_count": null,
   "metadata": {},
   "outputs": [],
   "source": [
    "base = input('Escribe la base del triángulo:')\n",
    "altura = input('Escribe la altura del triángulo:')\n",
    "\n",
    "Area = base * altura / 2"
   ]
  },
  {
   "cell_type": "markdown",
   "metadata": {},
   "source": [
    "Como puedes observar, hay un error de tipo `TypeError`: dado que la función `input()` transforma lo que lee en `str`, entonces no es posible multiplicar dos cadenas. \n",
    "\n",
    "Por lo tanto debemos realizar una conversión antes de usar la información obtenida por `input()`:\n",
    "\n",
    "**Segundo intento**."
   ]
  },
  {
   "cell_type": "code",
   "execution_count": null,
   "metadata": {},
   "outputs": [],
   "source": [
    "base = int(input('Escribe la base del triángulo:'))\n",
    "altura = int(input('Escribe la altura del triángulo:'))\n",
    "area = base * altura / 2\n",
    "\n",
    "print(f\"El área del triángulo de base {base} y altura {altura} es {area}\")"
   ]
  },
  {
   "cell_type": "markdown",
   "metadata": {},
   "source": [
    "Observa que aunque los datos de la base y la altura se transforman a tipo `int` el resultado del cálculo del área es de tipo flotante. \n",
    "\n",
    "Sin embargo, se obtiene un error de tipo `ValueError` cuando se dan datos de tipo flotante por ejemplo `base = 3.5` y `altura = 2.3`.\n",
    "\n",
    "Entonces, una implementación más robusta sería la siguiente:\n",
    "\n",
    "**Tercer intento**."
   ]
  },
  {
   "cell_type": "code",
   "execution_count": null,
   "metadata": {},
   "outputs": [],
   "source": [
    "base = float(input('Escribe la base del triángulo:'))\n",
    "altura = float(input('Escribe la altura del triángulo:'))\n",
    "area = base * altura / 2\n",
    "\n",
    "print(f\"El área del triángulo de base {base} y altura {altura} es {area}\")"
   ]
  },
  {
   "cell_type": "markdown",
   "metadata": {},
   "source": [
    "**Cuarto intento**.\n",
    "\n",
    "En esta versión solo cambiaremos la manera en que imprimimos la salida usando la función `str.format()`:"
   ]
  },
  {
   "cell_type": "code",
   "execution_count": null,
   "metadata": {},
   "outputs": [],
   "source": [
    "base = float(input('Escribe la base del triángulo:'))\n",
    "altura = float(input('Escribe la altura del triángulo:'))\n",
    "area = base * altura / 2\n",
    "\n",
    "print(\"El área del triángulo de base {b:^10.3f} y altura {a:^10.3f} es {area:^10.3f}\".format(b = base, a = altura, area = area))"
   ]
  },
  {
   "cell_type": "markdown",
   "metadata": {},
   "source": [
    "# Gestión de archivos\n",
    "\n",
    "La función incorporada para gestionar archivos es `open()`. Esta función toma dos parámetros: el nombre del archivo y el modo. Existen cuatro diferentes modos:\n",
    "\n",
    "- `\"r\"` - Read - Default value. Abre el archivo para lectura. Se produce un error si el archvio no existe.\n",
    "- `\"a\"` - Append - Abre el archivo para agregar información. Si el archivo no existe, lo crea.\n",
    "- `\"w\"` - Write - Abre el archivo para escritura. Si el archivo no existe, lo crea. Si el archivo existe, lo sobreescribe.\n",
    "- `\"x\"` - Create - Crea el archivo, regresa un error si el archivo existe.\n",
    "\n",
    "Adicionalmente se puede especificar si el archivo se abre en modo texto o binario:\n",
    "\n",
    "- `\"t\"` - Text - Valor por omisión. \n",
    "- `\"b\"` - Binary\n",
    "\n"
   ]
  },
  {
   "cell_type": "markdown",
   "metadata": {},
   "source": [
    "### Abrir un archivo para lectura."
   ]
  },
  {
   "cell_type": "code",
   "execution_count": null,
   "metadata": {},
   "outputs": [],
   "source": [
    "f = open('gatos.txt')"
   ]
  },
  {
   "cell_type": "code",
   "execution_count": null,
   "metadata": {},
   "outputs": [],
   "source": [
    "print(f)\n",
    "print(type(f))"
   ]
  },
  {
   "cell_type": "markdown",
   "metadata": {},
   "source": [
    "### Leer una línea del archivo."
   ]
  },
  {
   "cell_type": "code",
   "execution_count": null,
   "metadata": {},
   "outputs": [],
   "source": [
    "f.readline()"
   ]
  },
  {
   "cell_type": "code",
   "execution_count": null,
   "metadata": {},
   "outputs": [],
   "source": [
    "f.readline()"
   ]
  },
  {
   "cell_type": "code",
   "execution_count": null,
   "metadata": {},
   "outputs": [],
   "source": [
    "l1 = f.readline()\n",
    "print(l1)"
   ]
  },
  {
   "cell_type": "code",
   "execution_count": null,
   "metadata": {},
   "outputs": [],
   "source": [
    "f.readline()"
   ]
  },
  {
   "cell_type": "code",
   "execution_count": null,
   "metadata": {},
   "outputs": [],
   "source": [
    "f.readline()"
   ]
  },
  {
   "cell_type": "code",
   "execution_count": null,
   "metadata": {},
   "outputs": [],
   "source": [
    "f.close()"
   ]
  },
  {
   "cell_type": "markdown",
   "metadata": {},
   "source": [
    "### Leer todas las líneas del archivo."
   ]
  },
  {
   "cell_type": "code",
   "execution_count": null,
   "metadata": {},
   "outputs": [],
   "source": [
    "f = open('gatos.txt')\n",
    "lines = f.readlines()\n",
    "print(lines)\n",
    "f.close()"
   ]
  },
  {
   "cell_type": "markdown",
   "metadata": {},
   "source": [
    "### Abrir un archivo para escritura."
   ]
  },
  {
   "cell_type": "code",
   "execution_count": null,
   "metadata": {},
   "outputs": [],
   "source": [
    "f1 = open('gatos.txt','r')\n",
    "lineas = f1.readlines()\n",
    "print(lineas)\n",
    "f1.close()"
   ]
  },
  {
   "cell_type": "code",
   "execution_count": null,
   "metadata": {},
   "outputs": [],
   "source": [
    "f2 = open('gatitos.txt','w')\n",
    "f2.writelines(lineas)"
   ]
  },
  {
   "cell_type": "code",
   "execution_count": null,
   "metadata": {},
   "outputs": [],
   "source": [
    "f2.close()"
   ]
  },
  {
   "cell_type": "markdown",
   "metadata": {},
   "source": [
    "### Abrir un archivo para agregar información."
   ]
  },
  {
   "cell_type": "code",
   "execution_count": null,
   "metadata": {},
   "outputs": [],
   "source": [
    "f3 = open('gatitos.txt', 'a')\n",
    "linea_nueva = \"\\n{:>10s}{:>10.1f}\".format(\"Eléctrico\", 3.7)\n",
    "f3.write(linea_nueva)\n",
    "f3.close()"
   ]
  },
  {
   "cell_type": "code",
   "execution_count": null,
   "metadata": {},
   "outputs": [],
   "source": [
    "# insertar a la mitad del archivo.\n",
    "file = open('gatitos.txt', \"r+\")\n",
    "\n",
    "contenido = file.readlines()\n",
    "indice = len(contenido) // 2\n",
    "linea_nueva = \"{:>10s}{:>10.1f}\\n\".format(\"Birmano\", 3.2)\n",
    "contenido.insert(indice, linea_nueva)\n",
    "file.seek(0)\n",
    "file.writelines(contenido)\n",
    "\n",
    "file.close()"
   ]
  },
  {
   "cell_type": "code",
   "execution_count": null,
   "metadata": {},
   "outputs": [],
   "source": []
  }
 ],
 "metadata": {
  "kernelspec": {
   "display_name": "Python 3 (ipykernel)",
   "language": "python",
   "name": "python3"
  },
  "language_info": {
   "codemirror_mode": {
    "name": "ipython",
    "version": 3
   },
   "file_extension": ".py",
   "mimetype": "text/x-python",
   "name": "python",
   "nbconvert_exporter": "python",
   "pygments_lexer": "ipython3",
   "version": "3.11.6"
  }
 },
 "nbformat": 4,
 "nbformat_minor": 4
}
